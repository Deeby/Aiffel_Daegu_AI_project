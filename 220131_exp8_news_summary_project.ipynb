{
  "nbformat": 4,
  "nbformat_minor": 0,
  "metadata": {
    "colab": {
      "name": "220131_exp8_news_summary_project.ipynb",
      "provenance": [],
      "collapsed_sections": [],
      "mount_file_id": "1zGjYYKVIB1bpi8_bv6y7CcmAacQOcgad",
      "authorship_tag": "ABX9TyMmYJx0UOs+iSxJDg5mjayr",
      "include_colab_link": true
    },
    "kernelspec": {
      "name": "python3",
      "display_name": "Python 3"
    },
    "language_info": {
      "name": "python"
    },
    "accelerator": "GPU"
  },
  "cells": [
    {
      "cell_type": "markdown",
      "metadata": {
        "id": "view-in-github",
        "colab_type": "text"
      },
      "source": [
        "<a href=\"https://colab.research.google.com/github/Yeonsu-Hong/Aiffel_Daegu_AI_project/blob/master/220131_exp8_news_summary_project.ipynb\" target=\"_parent\"><img src=\"https://colab.research.google.com/assets/colab-badge.svg\" alt=\"Open In Colab\"/></a>"
      ]
    },
    {
      "cell_type": "code",
      "execution_count": 1,
      "metadata": {
        "id": "2eLybOAkkqJb"
      },
      "outputs": [],
      "source": [
        "# 8-13. 프로젝트: 뉴스기사 요약해보기\n",
        "# 추상적 요약과 추출적 요약하기"
      ]
    },
    {
      "cell_type": "markdown",
      "source": [
        "# Step1. 데이터 수집하기\n",
        "\n",
        "https://github.com/sunnysai12345/News_Summary\n",
        "\n"
      ],
      "metadata": {
        "id": "5tL6KYv6lSoB"
      }
    },
    {
      "cell_type": "code",
      "source": [
        "import numpy as np\n",
        "import pandas as pd\n",
        "\n",
        "import urllib.request\n",
        "\n",
        "urllib.request.urlretrieve(\"https://raw.githubusercontent.com/sunnysai12345/News_Summary/master/news_summary_more.csv\", filename=\"news_summary_more.csv\")\n",
        "data = pd.read_csv('news_summary_more.csv', encoding='iso-8859-1')"
      ],
      "metadata": {
        "id": "0lfA4Y1ZlZLV"
      },
      "execution_count": 62,
      "outputs": []
    },
    {
      "cell_type": "code",
      "source": [
        "data.sample(10)"
      ],
      "metadata": {
        "colab": {
          "base_uri": "https://localhost:8080/",
          "height": 363
        },
        "id": "P2tvK9qPlbLs",
        "outputId": "838924bf-c5b9-44fe-b9d0-d38ebbc1ca8f"
      },
      "execution_count": 63,
      "outputs": [
        {
          "output_type": "execute_result",
          "data": {
            "text/html": [
              "\n",
              "  <div id=\"df-23372abd-72c0-42a6-9ac8-f4fbb4208045\">\n",
              "    <div class=\"colab-df-container\">\n",
              "      <div>\n",
              "<style scoped>\n",
              "    .dataframe tbody tr th:only-of-type {\n",
              "        vertical-align: middle;\n",
              "    }\n",
              "\n",
              "    .dataframe tbody tr th {\n",
              "        vertical-align: top;\n",
              "    }\n",
              "\n",
              "    .dataframe thead th {\n",
              "        text-align: right;\n",
              "    }\n",
              "</style>\n",
              "<table border=\"1\" class=\"dataframe\">\n",
              "  <thead>\n",
              "    <tr style=\"text-align: right;\">\n",
              "      <th></th>\n",
              "      <th>headlines</th>\n",
              "      <th>text</th>\n",
              "    </tr>\n",
              "  </thead>\n",
              "  <tbody>\n",
              "    <tr>\n",
              "      <th>96302</th>\n",
              "      <td>Can't stop govt from linking bank accounts wit...</td>\n",
              "      <td>The Supreme Court has said the government cann...</td>\n",
              "    </tr>\n",
              "    <tr>\n",
              "      <th>32816</th>\n",
              "      <td>Prez repaid attorney for payment to pornstar: ...</td>\n",
              "      <td>Contradicting claims by Donald Trump, his new ...</td>\n",
              "    </tr>\n",
              "    <tr>\n",
              "      <th>30629</th>\n",
              "      <td>BJP offered money to MLAs after security withd...</td>\n",
              "      <td>Congress leader Ramalinga Reddy on Thursday sa...</td>\n",
              "    </tr>\n",
              "    <tr>\n",
              "      <th>70427</th>\n",
              "      <td>Will never go with DMK; they are political ene...</td>\n",
              "      <td>Sidelined AIADMK Deputy General Secretary TTV ...</td>\n",
              "    </tr>\n",
              "    <tr>\n",
              "      <th>19426</th>\n",
              "      <td>Big Bazaar, IndiaÃ¢ÂÂs 1st brand to explore ...</td>\n",
              "      <td>For the first time, you can use voice search t...</td>\n",
              "    </tr>\n",
              "    <tr>\n",
              "      <th>62957</th>\n",
              "      <td>Nasty comments on Aishwarya's weight gain upse...</td>\n",
              "      <td>Abhishek Bachchan has said that nasty things w...</td>\n",
              "    </tr>\n",
              "    <tr>\n",
              "      <th>15897</th>\n",
              "      <td>6 hours on ground, no result is not fair: Shah...</td>\n",
              "      <td>Afghanistan wicketkeeper-batsman Mohammad Shah...</td>\n",
              "    </tr>\n",
              "    <tr>\n",
              "      <th>33287</th>\n",
              "      <td>Trump slams WH press dinner, calls it an embar...</td>\n",
              "      <td>Slamming this year's White House Correspondent...</td>\n",
              "    </tr>\n",
              "    <tr>\n",
              "      <th>76521</th>\n",
              "      <td>Pilotless planes could save airlines Ã¢ÂÂ¹2 l...</td>\n",
              "      <td>Pilotless planes would save airlines $35 billi...</td>\n",
              "    </tr>\n",
              "    <tr>\n",
              "      <th>5688</th>\n",
              "      <td>J&amp;J announces $5 bn share buyback after losing...</td>\n",
              "      <td>Johnson &amp; Johnson (J&amp;J) on Monday said it plan...</td>\n",
              "    </tr>\n",
              "  </tbody>\n",
              "</table>\n",
              "</div>\n",
              "      <button class=\"colab-df-convert\" onclick=\"convertToInteractive('df-23372abd-72c0-42a6-9ac8-f4fbb4208045')\"\n",
              "              title=\"Convert this dataframe to an interactive table.\"\n",
              "              style=\"display:none;\">\n",
              "        \n",
              "  <svg xmlns=\"http://www.w3.org/2000/svg\" height=\"24px\"viewBox=\"0 0 24 24\"\n",
              "       width=\"24px\">\n",
              "    <path d=\"M0 0h24v24H0V0z\" fill=\"none\"/>\n",
              "    <path d=\"M18.56 5.44l.94 2.06.94-2.06 2.06-.94-2.06-.94-.94-2.06-.94 2.06-2.06.94zm-11 1L8.5 8.5l.94-2.06 2.06-.94-2.06-.94L8.5 2.5l-.94 2.06-2.06.94zm10 10l.94 2.06.94-2.06 2.06-.94-2.06-.94-.94-2.06-.94 2.06-2.06.94z\"/><path d=\"M17.41 7.96l-1.37-1.37c-.4-.4-.92-.59-1.43-.59-.52 0-1.04.2-1.43.59L10.3 9.45l-7.72 7.72c-.78.78-.78 2.05 0 2.83L4 21.41c.39.39.9.59 1.41.59.51 0 1.02-.2 1.41-.59l7.78-7.78 2.81-2.81c.8-.78.8-2.07 0-2.86zM5.41 20L4 18.59l7.72-7.72 1.47 1.35L5.41 20z\"/>\n",
              "  </svg>\n",
              "      </button>\n",
              "      \n",
              "  <style>\n",
              "    .colab-df-container {\n",
              "      display:flex;\n",
              "      flex-wrap:wrap;\n",
              "      gap: 12px;\n",
              "    }\n",
              "\n",
              "    .colab-df-convert {\n",
              "      background-color: #E8F0FE;\n",
              "      border: none;\n",
              "      border-radius: 50%;\n",
              "      cursor: pointer;\n",
              "      display: none;\n",
              "      fill: #1967D2;\n",
              "      height: 32px;\n",
              "      padding: 0 0 0 0;\n",
              "      width: 32px;\n",
              "    }\n",
              "\n",
              "    .colab-df-convert:hover {\n",
              "      background-color: #E2EBFA;\n",
              "      box-shadow: 0px 1px 2px rgba(60, 64, 67, 0.3), 0px 1px 3px 1px rgba(60, 64, 67, 0.15);\n",
              "      fill: #174EA6;\n",
              "    }\n",
              "\n",
              "    [theme=dark] .colab-df-convert {\n",
              "      background-color: #3B4455;\n",
              "      fill: #D2E3FC;\n",
              "    }\n",
              "\n",
              "    [theme=dark] .colab-df-convert:hover {\n",
              "      background-color: #434B5C;\n",
              "      box-shadow: 0px 1px 3px 1px rgba(0, 0, 0, 0.15);\n",
              "      filter: drop-shadow(0px 1px 2px rgba(0, 0, 0, 0.3));\n",
              "      fill: #FFFFFF;\n",
              "    }\n",
              "  </style>\n",
              "\n",
              "      <script>\n",
              "        const buttonEl =\n",
              "          document.querySelector('#df-23372abd-72c0-42a6-9ac8-f4fbb4208045 button.colab-df-convert');\n",
              "        buttonEl.style.display =\n",
              "          google.colab.kernel.accessAllowed ? 'block' : 'none';\n",
              "\n",
              "        async function convertToInteractive(key) {\n",
              "          const element = document.querySelector('#df-23372abd-72c0-42a6-9ac8-f4fbb4208045');\n",
              "          const dataTable =\n",
              "            await google.colab.kernel.invokeFunction('convertToInteractive',\n",
              "                                                     [key], {});\n",
              "          if (!dataTable) return;\n",
              "\n",
              "          const docLinkHtml = 'Like what you see? Visit the ' +\n",
              "            '<a target=\"_blank\" href=https://colab.research.google.com/notebooks/data_table.ipynb>data table notebook</a>'\n",
              "            + ' to learn more about interactive tables.';\n",
              "          element.innerHTML = '';\n",
              "          dataTable['output_type'] = 'display_data';\n",
              "          await google.colab.output.renderOutput(dataTable, element);\n",
              "          const docLink = document.createElement('div');\n",
              "          docLink.innerHTML = docLinkHtml;\n",
              "          element.appendChild(docLink);\n",
              "        }\n",
              "      </script>\n",
              "    </div>\n",
              "  </div>\n",
              "  "
            ],
            "text/plain": [
              "                                               headlines                                               text\n",
              "96302  Can't stop govt from linking bank accounts wit...  The Supreme Court has said the government cann...\n",
              "32816  Prez repaid attorney for payment to pornstar: ...  Contradicting claims by Donald Trump, his new ...\n",
              "30629  BJP offered money to MLAs after security withd...  Congress leader Ramalinga Reddy on Thursday sa...\n",
              "70427  Will never go with DMK; they are political ene...  Sidelined AIADMK Deputy General Secretary TTV ...\n",
              "19426  Big Bazaar, IndiaÃ¢ÂÂs 1st brand to explore ...  For the first time, you can use voice search t...\n",
              "62957  Nasty comments on Aishwarya's weight gain upse...  Abhishek Bachchan has said that nasty things w...\n",
              "15897  6 hours on ground, no result is not fair: Shah...  Afghanistan wicketkeeper-batsman Mohammad Shah...\n",
              "33287  Trump slams WH press dinner, calls it an embar...  Slamming this year's White House Correspondent...\n",
              "76521  Pilotless planes could save airlines Ã¢ÂÂ¹2 l...  Pilotless planes would save airlines $35 billi...\n",
              "5688   J&J announces $5 bn share buyback after losing...  Johnson & Johnson (J&J) on Monday said it plan..."
            ]
          },
          "metadata": {},
          "execution_count": 63
        }
      ]
    },
    {
      "cell_type": "code",
      "source": [
        "!mkdir -p ~/aiffel/news_summarization/data"
      ],
      "metadata": {
        "id": "_HmXwHNapj0C"
      },
      "execution_count": 64,
      "outputs": []
    },
    {
      "cell_type": "code",
      "source": [
        "# 수동으로 파일 옮김\n",
        "# csv 파일 같은 경우 깃허브에서 다운로드를 누르면, raw_data가 혼재되어서 눈앞에 나타나는데 \n",
        "# Ctrl + S를 눌러서 디렉토리를 지정해서 저장을 하면 csv 파일을 다운 받을수 있다."
      ],
      "metadata": {
        "id": "IuEyLm5KpuCu"
      },
      "execution_count": 8,
      "outputs": []
    },
    {
      "cell_type": "markdown",
      "source": [
        "![image.png](data:image/png;base64,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)"
      ],
      "metadata": {
        "id": "imi7NohLloRa"
      }
    },
    {
      "cell_type": "code",
      "source": [
        "import nltk # nltk import\n",
        "nltk.download('stopwords')\n",
        "\n",
        "# 필요한 것들 import 하기\n",
        "import numpy as np\n",
        "import pandas as pd\n",
        "import os\n",
        "import re\n",
        "import matplotlib.pyplot as plt\n",
        "from nltk.corpus import stopwords\n",
        "from bs4 import BeautifulSoup \n",
        "from tensorflow.keras.preprocessing.text import Tokenizer \n",
        "from tensorflow.keras.preprocessing.sequence import pad_sequences\n",
        "import warnings\n",
        "warnings.filterwarnings(\"ignore\", category=UserWarning, module='bs4')\n"
      ],
      "metadata": {
        "colab": {
          "base_uri": "https://localhost:8080/"
        },
        "id": "jyLWkaI2rmpD",
        "outputId": "94a660c4-7860-4eca-985d-1814f8c8b030"
      },
      "execution_count": 65,
      "outputs": [
        {
          "output_type": "stream",
          "name": "stdout",
          "text": [
            "[nltk_data] Downloading package stopwords to /root/nltk_data...\n",
            "[nltk_data]   Package stopwords is already up-to-date!\n"
          ]
        }
      ]
    },
    {
      "cell_type": "code",
      "source": [
        "data = pd.read_csv(os.getenv(\"HOME\")+\"/aiffel/news_summarization/data/news_summary_more.csv\")\n",
        "print('전체 샘플수 :', (len(data)))"
      ],
      "metadata": {
        "colab": {
          "base_uri": "https://localhost:8080/"
        },
        "id": "hWeevYDIrmZI",
        "outputId": "4a2a90d9-815a-4102-8d53-9158202cc39e"
      },
      "execution_count": 66,
      "outputs": [
        {
          "output_type": "stream",
          "name": "stdout",
          "text": [
            "전체 샘플수 : 98401\n"
          ]
        }
      ]
    },
    {
      "cell_type": "code",
      "source": [
        "# Total 샘플수는 98401개이다."
      ],
      "metadata": {
        "id": "B6FM5T2_sKll"
      },
      "execution_count": 6,
      "outputs": []
    },
    {
      "cell_type": "code",
      "source": [
        "data.head()"
      ],
      "metadata": {
        "colab": {
          "base_uri": "https://localhost:8080/",
          "height": 206
        },
        "id": "_uVXo1c1sRRT",
        "outputId": "8f91dd5e-2d77-4b73-8d5e-c53887a82523"
      },
      "execution_count": 67,
      "outputs": [
        {
          "output_type": "execute_result",
          "data": {
            "text/html": [
              "\n",
              "  <div id=\"df-12732047-849d-43a4-8445-d50a2783f6fb\">\n",
              "    <div class=\"colab-df-container\">\n",
              "      <div>\n",
              "<style scoped>\n",
              "    .dataframe tbody tr th:only-of-type {\n",
              "        vertical-align: middle;\n",
              "    }\n",
              "\n",
              "    .dataframe tbody tr th {\n",
              "        vertical-align: top;\n",
              "    }\n",
              "\n",
              "    .dataframe thead th {\n",
              "        text-align: right;\n",
              "    }\n",
              "</style>\n",
              "<table border=\"1\" class=\"dataframe\">\n",
              "  <thead>\n",
              "    <tr style=\"text-align: right;\">\n",
              "      <th></th>\n",
              "      <th>headlines</th>\n",
              "      <th>text</th>\n",
              "    </tr>\n",
              "  </thead>\n",
              "  <tbody>\n",
              "    <tr>\n",
              "      <th>0</th>\n",
              "      <td>upGrad learner switches to career in ML &amp; Al w...</td>\n",
              "      <td>Saurav Kant, an alumnus of upGrad and IIIT-B's...</td>\n",
              "    </tr>\n",
              "    <tr>\n",
              "      <th>1</th>\n",
              "      <td>Delhi techie wins free food from Swiggy for on...</td>\n",
              "      <td>Kunal Shah's credit card bill payment platform...</td>\n",
              "    </tr>\n",
              "    <tr>\n",
              "      <th>2</th>\n",
              "      <td>New Zealand end Rohit Sharma-led India's 12-ma...</td>\n",
              "      <td>New Zealand defeated India by 8 wickets in the...</td>\n",
              "    </tr>\n",
              "    <tr>\n",
              "      <th>3</th>\n",
              "      <td>Aegon life iTerm insurance plan helps customer...</td>\n",
              "      <td>With Aegon Life iTerm Insurance plan, customer...</td>\n",
              "    </tr>\n",
              "    <tr>\n",
              "      <th>4</th>\n",
              "      <td>Have known Hirani for yrs, what if MeToo claim...</td>\n",
              "      <td>Speaking about the sexual harassment allegatio...</td>\n",
              "    </tr>\n",
              "  </tbody>\n",
              "</table>\n",
              "</div>\n",
              "      <button class=\"colab-df-convert\" onclick=\"convertToInteractive('df-12732047-849d-43a4-8445-d50a2783f6fb')\"\n",
              "              title=\"Convert this dataframe to an interactive table.\"\n",
              "              style=\"display:none;\">\n",
              "        \n",
              "  <svg xmlns=\"http://www.w3.org/2000/svg\" height=\"24px\"viewBox=\"0 0 24 24\"\n",
              "       width=\"24px\">\n",
              "    <path d=\"M0 0h24v24H0V0z\" fill=\"none\"/>\n",
              "    <path d=\"M18.56 5.44l.94 2.06.94-2.06 2.06-.94-2.06-.94-.94-2.06-.94 2.06-2.06.94zm-11 1L8.5 8.5l.94-2.06 2.06-.94-2.06-.94L8.5 2.5l-.94 2.06-2.06.94zm10 10l.94 2.06.94-2.06 2.06-.94-2.06-.94-.94-2.06-.94 2.06-2.06.94z\"/><path d=\"M17.41 7.96l-1.37-1.37c-.4-.4-.92-.59-1.43-.59-.52 0-1.04.2-1.43.59L10.3 9.45l-7.72 7.72c-.78.78-.78 2.05 0 2.83L4 21.41c.39.39.9.59 1.41.59.51 0 1.02-.2 1.41-.59l7.78-7.78 2.81-2.81c.8-.78.8-2.07 0-2.86zM5.41 20L4 18.59l7.72-7.72 1.47 1.35L5.41 20z\"/>\n",
              "  </svg>\n",
              "      </button>\n",
              "      \n",
              "  <style>\n",
              "    .colab-df-container {\n",
              "      display:flex;\n",
              "      flex-wrap:wrap;\n",
              "      gap: 12px;\n",
              "    }\n",
              "\n",
              "    .colab-df-convert {\n",
              "      background-color: #E8F0FE;\n",
              "      border: none;\n",
              "      border-radius: 50%;\n",
              "      cursor: pointer;\n",
              "      display: none;\n",
              "      fill: #1967D2;\n",
              "      height: 32px;\n",
              "      padding: 0 0 0 0;\n",
              "      width: 32px;\n",
              "    }\n",
              "\n",
              "    .colab-df-convert:hover {\n",
              "      background-color: #E2EBFA;\n",
              "      box-shadow: 0px 1px 2px rgba(60, 64, 67, 0.3), 0px 1px 3px 1px rgba(60, 64, 67, 0.15);\n",
              "      fill: #174EA6;\n",
              "    }\n",
              "\n",
              "    [theme=dark] .colab-df-convert {\n",
              "      background-color: #3B4455;\n",
              "      fill: #D2E3FC;\n",
              "    }\n",
              "\n",
              "    [theme=dark] .colab-df-convert:hover {\n",
              "      background-color: #434B5C;\n",
              "      box-shadow: 0px 1px 3px 1px rgba(0, 0, 0, 0.15);\n",
              "      filter: drop-shadow(0px 1px 2px rgba(0, 0, 0, 0.3));\n",
              "      fill: #FFFFFF;\n",
              "    }\n",
              "  </style>\n",
              "\n",
              "      <script>\n",
              "        const buttonEl =\n",
              "          document.querySelector('#df-12732047-849d-43a4-8445-d50a2783f6fb button.colab-df-convert');\n",
              "        buttonEl.style.display =\n",
              "          google.colab.kernel.accessAllowed ? 'block' : 'none';\n",
              "\n",
              "        async function convertToInteractive(key) {\n",
              "          const element = document.querySelector('#df-12732047-849d-43a4-8445-d50a2783f6fb');\n",
              "          const dataTable =\n",
              "            await google.colab.kernel.invokeFunction('convertToInteractive',\n",
              "                                                     [key], {});\n",
              "          if (!dataTable) return;\n",
              "\n",
              "          const docLinkHtml = 'Like what you see? Visit the ' +\n",
              "            '<a target=\"_blank\" href=https://colab.research.google.com/notebooks/data_table.ipynb>data table notebook</a>'\n",
              "            + ' to learn more about interactive tables.';\n",
              "          element.innerHTML = '';\n",
              "          dataTable['output_type'] = 'display_data';\n",
              "          await google.colab.output.renderOutput(dataTable, element);\n",
              "          const docLink = document.createElement('div');\n",
              "          docLink.innerHTML = docLinkHtml;\n",
              "          element.appendChild(docLink);\n",
              "        }\n",
              "      </script>\n",
              "    </div>\n",
              "  </div>\n",
              "  "
            ],
            "text/plain": [
              "                                           headlines                                               text\n",
              "0  upGrad learner switches to career in ML & Al w...  Saurav Kant, an alumnus of upGrad and IIIT-B's...\n",
              "1  Delhi techie wins free food from Swiggy for on...  Kunal Shah's credit card bill payment platform...\n",
              "2  New Zealand end Rohit Sharma-led India's 12-ma...  New Zealand defeated India by 8 wickets in the...\n",
              "3  Aegon life iTerm insurance plan helps customer...  With Aegon Life iTerm Insurance plan, customer...\n",
              "4  Have known Hirani for yrs, what if MeToo claim...  Speaking about the sexual harassment allegatio..."
            ]
          },
          "metadata": {},
          "execution_count": 67
        }
      ]
    },
    {
      "cell_type": "code",
      "source": [
        "data.tail()"
      ],
      "metadata": {
        "colab": {
          "base_uri": "https://localhost:8080/",
          "height": 206
        },
        "id": "yWW3TtyasTJB",
        "outputId": "0a14510e-7a75-4716-f1cf-c132ba921807"
      },
      "execution_count": 68,
      "outputs": [
        {
          "output_type": "execute_result",
          "data": {
            "text/html": [
              "\n",
              "  <div id=\"df-9341eb57-3ac1-4772-aa9e-873351536cd1\">\n",
              "    <div class=\"colab-df-container\">\n",
              "      <div>\n",
              "<style scoped>\n",
              "    .dataframe tbody tr th:only-of-type {\n",
              "        vertical-align: middle;\n",
              "    }\n",
              "\n",
              "    .dataframe tbody tr th {\n",
              "        vertical-align: top;\n",
              "    }\n",
              "\n",
              "    .dataframe thead th {\n",
              "        text-align: right;\n",
              "    }\n",
              "</style>\n",
              "<table border=\"1\" class=\"dataframe\">\n",
              "  <thead>\n",
              "    <tr style=\"text-align: right;\">\n",
              "      <th></th>\n",
              "      <th>headlines</th>\n",
              "      <th>text</th>\n",
              "    </tr>\n",
              "  </thead>\n",
              "  <tbody>\n",
              "    <tr>\n",
              "      <th>98396</th>\n",
              "      <td>CRPF jawan axed to death by Maoists in Chhatti...</td>\n",
              "      <td>A CRPF jawan was on Tuesday axed to death with...</td>\n",
              "    </tr>\n",
              "    <tr>\n",
              "      <th>98397</th>\n",
              "      <td>First song from Sonakshi Sinha's 'Noor' titled...</td>\n",
              "      <td>'Uff Yeh', the first song from the Sonakshi Si...</td>\n",
              "    </tr>\n",
              "    <tr>\n",
              "      <th>98398</th>\n",
              "      <td>'The Matrix' film to get a reboot: Reports</td>\n",
              "      <td>According to reports, a new version of the 199...</td>\n",
              "    </tr>\n",
              "    <tr>\n",
              "      <th>98399</th>\n",
              "      <td>Snoop Dogg aims gun at clown dressed as Trump ...</td>\n",
              "      <td>A new music video shows rapper Snoop Dogg aimi...</td>\n",
              "    </tr>\n",
              "    <tr>\n",
              "      <th>98400</th>\n",
              "      <td>Madhesi Morcha withdraws support to Nepalese g...</td>\n",
              "      <td>Madhesi Morcha, an alliance of seven political...</td>\n",
              "    </tr>\n",
              "  </tbody>\n",
              "</table>\n",
              "</div>\n",
              "      <button class=\"colab-df-convert\" onclick=\"convertToInteractive('df-9341eb57-3ac1-4772-aa9e-873351536cd1')\"\n",
              "              title=\"Convert this dataframe to an interactive table.\"\n",
              "              style=\"display:none;\">\n",
              "        \n",
              "  <svg xmlns=\"http://www.w3.org/2000/svg\" height=\"24px\"viewBox=\"0 0 24 24\"\n",
              "       width=\"24px\">\n",
              "    <path d=\"M0 0h24v24H0V0z\" fill=\"none\"/>\n",
              "    <path d=\"M18.56 5.44l.94 2.06.94-2.06 2.06-.94-2.06-.94-.94-2.06-.94 2.06-2.06.94zm-11 1L8.5 8.5l.94-2.06 2.06-.94-2.06-.94L8.5 2.5l-.94 2.06-2.06.94zm10 10l.94 2.06.94-2.06 2.06-.94-2.06-.94-.94-2.06-.94 2.06-2.06.94z\"/><path d=\"M17.41 7.96l-1.37-1.37c-.4-.4-.92-.59-1.43-.59-.52 0-1.04.2-1.43.59L10.3 9.45l-7.72 7.72c-.78.78-.78 2.05 0 2.83L4 21.41c.39.39.9.59 1.41.59.51 0 1.02-.2 1.41-.59l7.78-7.78 2.81-2.81c.8-.78.8-2.07 0-2.86zM5.41 20L4 18.59l7.72-7.72 1.47 1.35L5.41 20z\"/>\n",
              "  </svg>\n",
              "      </button>\n",
              "      \n",
              "  <style>\n",
              "    .colab-df-container {\n",
              "      display:flex;\n",
              "      flex-wrap:wrap;\n",
              "      gap: 12px;\n",
              "    }\n",
              "\n",
              "    .colab-df-convert {\n",
              "      background-color: #E8F0FE;\n",
              "      border: none;\n",
              "      border-radius: 50%;\n",
              "      cursor: pointer;\n",
              "      display: none;\n",
              "      fill: #1967D2;\n",
              "      height: 32px;\n",
              "      padding: 0 0 0 0;\n",
              "      width: 32px;\n",
              "    }\n",
              "\n",
              "    .colab-df-convert:hover {\n",
              "      background-color: #E2EBFA;\n",
              "      box-shadow: 0px 1px 2px rgba(60, 64, 67, 0.3), 0px 1px 3px 1px rgba(60, 64, 67, 0.15);\n",
              "      fill: #174EA6;\n",
              "    }\n",
              "\n",
              "    [theme=dark] .colab-df-convert {\n",
              "      background-color: #3B4455;\n",
              "      fill: #D2E3FC;\n",
              "    }\n",
              "\n",
              "    [theme=dark] .colab-df-convert:hover {\n",
              "      background-color: #434B5C;\n",
              "      box-shadow: 0px 1px 3px 1px rgba(0, 0, 0, 0.15);\n",
              "      filter: drop-shadow(0px 1px 2px rgba(0, 0, 0, 0.3));\n",
              "      fill: #FFFFFF;\n",
              "    }\n",
              "  </style>\n",
              "\n",
              "      <script>\n",
              "        const buttonEl =\n",
              "          document.querySelector('#df-9341eb57-3ac1-4772-aa9e-873351536cd1 button.colab-df-convert');\n",
              "        buttonEl.style.display =\n",
              "          google.colab.kernel.accessAllowed ? 'block' : 'none';\n",
              "\n",
              "        async function convertToInteractive(key) {\n",
              "          const element = document.querySelector('#df-9341eb57-3ac1-4772-aa9e-873351536cd1');\n",
              "          const dataTable =\n",
              "            await google.colab.kernel.invokeFunction('convertToInteractive',\n",
              "                                                     [key], {});\n",
              "          if (!dataTable) return;\n",
              "\n",
              "          const docLinkHtml = 'Like what you see? Visit the ' +\n",
              "            '<a target=\"_blank\" href=https://colab.research.google.com/notebooks/data_table.ipynb>data table notebook</a>'\n",
              "            + ' to learn more about interactive tables.';\n",
              "          element.innerHTML = '';\n",
              "          dataTable['output_type'] = 'display_data';\n",
              "          await google.colab.output.renderOutput(dataTable, element);\n",
              "          const docLink = document.createElement('div');\n",
              "          docLink.innerHTML = docLinkHtml;\n",
              "          element.appendChild(docLink);\n",
              "        }\n",
              "      </script>\n",
              "    </div>\n",
              "  </div>\n",
              "  "
            ],
            "text/plain": [
              "                                               headlines                                               text\n",
              "98396  CRPF jawan axed to death by Maoists in Chhatti...  A CRPF jawan was on Tuesday axed to death with...\n",
              "98397  First song from Sonakshi Sinha's 'Noor' titled...  'Uff Yeh', the first song from the Sonakshi Si...\n",
              "98398         'The Matrix' film to get a reboot: Reports  According to reports, a new version of the 199...\n",
              "98399  Snoop Dogg aims gun at clown dressed as Trump ...  A new music video shows rapper Snoop Dogg aimi...\n",
              "98400  Madhesi Morcha withdraws support to Nepalese g...  Madhesi Morcha, an alliance of seven political..."
            ]
          },
          "metadata": {},
          "execution_count": 68
        }
      ]
    },
    {
      "cell_type": "markdown",
      "source": [
        "앞서 학습했던 본문 내용과는 다르게 2개의 열로만 구성이 되어있다. 앞서 학습에서는 Text열과 Summary열을 사용하려고 했었는데, 여기에서 headlines이 Summary열의 역할을 하는 것으로 보인다."
      ],
      "metadata": {
        "id": "kshJYjRBslnp"
      }
    },
    {
      "cell_type": "markdown",
      "source": [
        "![image.png](data:image/png;base64,iVBORw0KGgoAAAANSUhEUgAAAmcAAACgCAYAAABJwMs0AAAgAElEQVR4nO2de3hTVdb/v6VegkUhDFCEgBrRsS04lrTDWKfxVqbVqrUw9VI6Y8Vpx7lkJKKjo7VIJziKgxkn6gPF4QWn1EvVvFGLrTI6FKdeSiyvpY06/R2ZEtBSNMhQGlTI748++3iSnGty0gZcn+fJ87TJueyz99prr73W2vukhEKhEAiCIAiCIIikYMxoF4AgCIIgCIL4FjLOCIIgCIIgkggyzgiCIAiCIJIIMs4IgiAIgiCSCDLOCIIgCIIgkggyzgiCIAiCIJIIMs4IgiAIgiCSCDLOCIIgCIIgkggyzgiCIAiCIJIIMs4IgiAIgiCSCDLOCIIgCIIgkggyzgiCIAiCIJKIE0a7AARBfHcIhULYuHEjgsEgSktL8b3vfW+0iyRKMBjE0NAQAOCEE07AuHHjkJKSMsqlOnY4ePAgPB4PDhw4gOrqaqSmpo52kQjimII8Z0nOoUOHsHHjRqxevRobN27EoUOH4PF4YDabYTab4fF4dLmP1+vlr1lTU4NgMKjLdQFgw4YNuOmmm3DTTTfh9ddf1+26YuzYsYO/1yOPPILDhw/rct3BwUFs27YN77zzDjo7O/HVV1/pcl1hW6qpdzV1uXPnTqxevRqrV6/Gyy+/jK+//lqXsgLhclJZWYlAIKDp/E8++QRPP/00HnjgAbz00ksIhUKqzuvt7cU777yDd955B7t3746l6JpobW2FxWKBxWLBQw89pJscAcDXX3+NQCCAQCCA//73v6rrIFk4fPgwHnnkEVk5fPvtt/Hggw+isbERPT09o1BKgji2Ic9ZknP48GG8/vrraGtrg9VqxZVXXqnqvFAohM7OTjz11FNoa2sDAMyfPx+VlZU477zzRtQLcODAAWzduhUAsGDBgoTe6/Dhw/y9ZsyYoTjweTwe2O12AIDdbofNZhM9rr+/H8uWLYPP54PVaoXT6cRJJ52kb+FVoKYuP//8c6xcuRIAUF5ejvnz5+PEE08csTJKceTIEbS2tsLn8+HCCy/EFVdcoVoOX331VTidTgCA0+nE9OnTYyrD4cOH8fjjj+P//u//AAAVFRWYP3++5usEg0E4HA40NjaqOp7JjNFoxAcffICysjIAw+1TU1MDg8GguQyfffYZ/vGPf2DLli3w+Xy80ZqVlYWMjAxccsklsFqtGDdunOZryxEKhfDFF1/IyuEPf/hD/PjHP0Zrayvcbje+//3vj0p/IYhjFdXG2cGDB/HGG2/A7XZj27ZtGBwcRFZWFi699FJcddVVmDVrFsaMOfYdcaFQCB9++CGamprQ1tYGjuMwffp0XHTRRbjuuutwwQUXJP1zHjlyBBs3bsTDDz+MwcFB/vumpiZs2rQJK1aswNVXX63JQOM4DjabDT6fT/a4jIwMuFwumM3mmMsfz8A3WgiNPDmSoayjxZ49e3gvy2WXXYb09PQRL4MawyLZ2b9/P+rr6/H3v/89rH8zuru70d3djeeffx4TJkyA3W7H9ddfL2scHTp0CJs3b47S74WFhViwYAGmTZumqYzjx4/HpZdeitbWVrz++usoLS3FnDlzND8rQXxXUWWcdXZ2Yvny5fjggw/CvmdK4LHHHkNZWRnuuusuTJw4Mey8d999FwAwb948ZGdn61h0/Tly5Aj+9re/weVyhSm93bt347nnnkNzczN++ctf4he/+EVMM12GGuNDzoujRHt7e5RhxhgcHMTDDz+M6dOnw2KxxHR9YmRwuVy8t0gMu90eZRA2NTWpurbX6+W9N0o0NTXpIitvv/02tm/fjilTpmDevHlRkwO1EwCx5wb0mRioxWAwwOFwwOFw8N81NjaipqYGAPCrX/0Kt99+u+65Vvv27cO9997LG7nXXHMNKioqMHv2bBgMBoRCIRw4cADvv/8+Hn30UXzwwQdYtmwZdu7ciaVLl+KUU06JuuaOHTuwfPlyeL3esO+Zfl+3bh3uv/9+XHXVVaITU2F7CGXlwgsvxAUXXIDt27fjvffew+zZsylvjyBUougC2rlzJ/74xz9GGWaRNDU14dVXX8XRo0f57zo7O7Fy5UqsXLkSfX198Zc2gYRCITQ3N0cZZkIGBwfxyCOPoKWlJWnzRL788ks8++yzGBwcRFpaGu677z709PRgx44duO222wAMG5vPPvssDh06FNM9rFYrvF4vOI6L+jQ3N8c9OLKBT3hdoZFit9vDflu/fr0qT1QgEEBlZSWfM2U2m8MGeafTGfablpyqkpIS0frgOE61wXQ8c+jQIWzbtg0AYLFYcMYZZ4xKOY4cOcIn+rP/9bquMBdu586dMfcvuXusX7+eN8zuvPNOrFy5Ejk5OfxkMSUlhfdarV+/Hj/96U8BAP/zP/8jmhv22Wef4U9/+hO8Xi+mT5+ORx55BD09Pejt7cXmzZtx6aWXYv/+/bj33nvxr3/9S1N509PTccEFFwAA3nrrLezfvz+exyeI7xSynrNQKIRXXnkF27dvBzA8M7377ruRl5eH1NRUfPnll3j99dexevVq5OXlobS0lJ9ZhUIh/Pe//038E+jE7t27w8IEt912G2655RakpaVh165deOSRR/DSSy8BGA5hXXzxxbqFpvTyTADDidNbtmwBMGww3HjjjbzivuWWW7Br1y68+OKLfMh29uzZutw30QiN+/7+fgSDwbi8l8cCNpstJu9ppAdEDIvFAo7jRH/773//i7vvvhuvvvoqMjIydJHzzz77DN3d3QCG9YhYHpTZbEZzc3PU95Ge5srKStx9990x5TDt378/TJZ27NiBq666SvZajY2N/L2lPNqff/552ASWTV5+8IMfaC6jFH6/n88fveiii7Bw4ULZck+YMAGLFi1CW1sb9u7di9deew2XXXYZTj31VP6YtrY2vP322wCG67WkpIT3bpnNZtx5553YtWsXent78fLLL8NisUR5z5xOJ0pKSqLuf9JJJ/H6Zdu2bdi5c+d3MpxPELEg6zk7fPgwPvvsM/7/n/zkJ/jxj3/Mu+rHjx+Pn/70p3jhhRdw1113hbnMDx8+jIGBgQQVW38+/PBDflBbsGABbrnlFn75/MyZM3HzzTdjypQpAIC9e/dqXqU2Unz00Ue8gXnJJZeEGTDjxo1DXl4egOFn+Pjjj0eljFoZHBzEzp07+f85jsOXX34JYHjgrqmp4b1dcqE6o9GI9evX6+6RO944cOAA9u7dCwCYOHEiJkyYEPc1OY7jw5VaF6R0dnZi8+bN/P+vv/46Ojs7YyrHjh07wozXt956S9JIVUsoFMIbb7wR5lnau3cvXnjhBd57xsKtSjIqx759+7Bjxw4AwBlnnIHTTjtN8ZyZM2fivPPOAwDs2rULX3zxBf/b4cOH+esBwAUXXBDVLjNmzOBzxT755BPNeu+ss85CWloaBgcHFcPVBEF8i6xxFgqFwtz+/f39YSEBxvjx45GWlgbg29BRZmZmWE6V3W6X3DIgFArB5/Nh+fLlyM/Ph9lsRkFBAVasWAG/3x91P47jUFxcHHYtv98Ph8OB/Px8zJkzBzfffDP++c9/qg5bHDx4ELm5uUhLS0NeXl7UzP7UU0/l92T6+uuvdQuH6IkwtDJlyhRMnTo16hhhOGkktiTQg97e3rCB75133sGbb76pS2hZKoSdbLAtVW688UaYzWZexjdt2qTrtifAsJfrww8/BACYTCaMHTs27mv++9//BiAtl2KEQiFs2bIF9913H28sAsNye++992LLli2aZGBgYADPPfdc2He9vb1obGyUDUGWl5ejp6eHz4mL5L333sPjjz8OAJg1axbvBW9oaMBTTz2VlLpipJg4cSLOOussAMPt9l2uC4LQgmxY02AwhC1Zf+aZZ/DVV1/hd7/7HWbMmKFLcmcwGMSTTz6JNWvWhA2UzHvR0tKCmpoa/OQnPxG93yeffIINGzZgzZo1YTkNW7ZswZYtW/DrX/8av/71r0UTYYVce+21uPbaa3H06FF88803Ub8fOnQIn3/+OYDhXIrx48fH+siyaF2pKOTrr7/mPUrf+973FJ85Vtra2iTDsE1NTfD7/apWLqrh4MGD+Pvf/x42OAPAc889h7lz5+Lcc88NS8zWkugeCoXCvLsDAwM4fPgwTj75ZM3lVLtaMxY4jsNdd90V5vEZHBzkZfzKK6/E/fffj0mTJsV9r1AohO3bt/N98ZxzzonbOPv666/5vjNlypSwsJoYR48e5Y2mF154gS8Lq1+n0wmO4/Db3/4WCxcuRGVlJWbOnCm7inr//v1wOp148803AQC/+MUv0N/fj5dffhkNDQ345ptvcMcdd4QtaFLi6NGj2LJlC1asWMFPdG688UZYLBb85je/we7du7Fy5Urs2bMHv/3tb3nDTouMCjEajcjIyIDP58O///1v7N+/X9HQ7evr4w3tGTNmhD3fySefHJbWsH37dsydOzdMz+7atQtdXV0Ahr1gYp5kqQUBAHDaaafx9/ziiy/w1Vdf6WLsE8TxjqznLCUlBUVFRXxSJwC8+OKLuOSSS3DDDTfgpZdeiivplSW4PvLII5IejN27d+Ovf/0rPvnkE9Hf3377bTz00EOSyaZPPPGEpo1Px4wZE5XHceTIEWzdupU3EC655BJMnjxZ9TWTlaNHjybtwgZg2ABZtWoVXnzxRQDADTfcwK+G2759O+x2O7xeb8zPcOjQobD8o97eXl6OhN5Z5skdjbDMF198gYcffphP2F67di3+/e9/o6enBw888ADS0tKwadMmPPbYY6IetMbGRmRmZqpe4NDf34833ngDwLAh9cMf/jDuZzhy5AhftokTJ4qG47755hu89tprePDBB1FSUoKioiI89dRT/MKWu+66C7/85S9RVVWF22+/nQ+VPfXUU7jssstQUlKCBx98EK+99lrY5CoUCmHHjh2444478MwzzwAYzrf7+c9/DpvNxuu2Z555Btdddx02bNigmCvLDNjbb78dt9xyCx8WraiowPXXX485c+bgzjvv5KMJDQ0NKCoqwiuvvBJXPZ5xxhm49NJLAQAdHR1wu92ymyHv378fGzduxN69e5GWloaioqIowzgvL483ptavXw+Px4NgMIijR4+C4zg8/PDD6O3tRVpaGq6++mrNEz6DwYDTTz8dAPDpp5/q7uUliOMVxdWas2bNQk1NDTIyMsK+7+jowJIlS1BYWIgnn3ySV2gsr8fr9cJqtfLHs9kux3FwOBwwGAzo6enBxo0bAYBfKbRjxw5wHIfOzk5+daHP58M///lPyTKef/752LBhAz766CP09vbihRdeCDMoX3vttbgWJ2zbto33ZFksFhQWFiZsSXjkSsXIepTjxBNP5D16fX19vBdNijFjxsT0HHKrNS0WS9TKRa0epaNHj6Krqwu33XYbNmzYAGA4H2bx4sW44YYbUFFRAWBYLiorK7F8+fKY8oZ27doVlrv0zjvv8Itf4kEYBov8aM1je//999Ha2gpgOGH7sssuQ2pqKgwGAxYsWMB7YFpaWtDb2xtXuUOhEF599VU+QbygoACzZs2K65rAtzviy5Gamordu3ejvr6eXzgADO+H9vTTT6O6uhonnXQSDAYDfvOb3+DJJ58M6xfd3d2or6/H/v37ccIJwwGBr776CitXrsQ111zDG5zTp0/HHXfcAZPJFKXbOI7DRx99pLj9RUpKClJTU8M8maWlpViyZAlOOeUUpKSk4Oqrr8Zjjz3Gr1yeN28en+8ZK6mpqaisrOQ3on744Yfx+9//Htu2beONnlAohC+//BJvvvkmKisr8fzzzwMAbrrpJlx++eVR1zSZTFi2bBksFgt2796N22+/HZmZmZg1axYKCgrw5ptvYsKECVixYgUuuugi0XIJdXukR53VFUEQ2lC1z9ncuXPx7LPPwuPxoKGhAR999BH/2+7du/HAAw9g69atWL58Oc4880xVN2b5JCwcELlSaPz48ViwYAG2bNmC7du3g+M4yRV699xzT9gMPzs7GzfccAM/0HIch7179yqGU8T4+OOP8dBDD2H37t1hij0ZSU1N5cPQg4ODUaFAAPjPf/7D/x3rLuuJ5OjRo2hqasIf/vAH/rvp06fjrrvu4g2FJUuWYHBwEG63G4ODg/jHP/6BhQsXarrPkSNH8Oqrr4YtNACAl19+GT/60Y+iVg6q3YNLb4T3i0zYFq6G27t3L/7f//t/UatvtexA/95772HdunUAhr1m11xzjS4rYr/55hvF3L6UlBQUFBRg06ZNOPnkk5Gfn4/LL78cZrM5KlyZkpKCefPmITc3F729vWhtbcW7776LlJSUMIPtpJNOwsKFC9HW1gafzweLxYJly5aF1dHcuXPx97//HevWrcNbb72FxYsXq/IOZWZm4mc/+xmee+45/O53v0NRUVGYxz0lJQUXX3wxzj//fGzatAnnnXeeppCpFJMmTcJDDz2EU089Fc8++yxeeuklfhW5FPfccw9+/vOfS67snD17NjZs2KDrJrQEQcSH6jcEjBs3DosWLcLChQvxzjvvoKGhgZ+NAsDWrVvx5JNPqh4IIleCrlixAitWrJA83u/3Y2hoSPTaYjOzs88+m//7o48+immPnY8//hh33303tm/fjrS0NNx55526hHkSSVZWFqZMmYK9e/di69atuPjii/k6O3jwINrb2wEAZ555JjIzM0ezqKKMGTMGRUVF2Lp1KzZt2iQ6oE6cOBF/+tOfcPHFF+Ovf/0rrrvuOs3Psn37dj5cumDBAkyfPh0ulwubNm3C7NmzUVVV9Z2a8QsnIcBwiE6v7V1OOOEEPsQnx4wZMzTtCTdmzBice+65OPfccyW3HDn77LNx2223IRgMoqCgQNTwmjhxIu644w4sWbKEb/OcnBzeW37aaadFvf4qNTUVt9xyC2655RZZOTEajVi0aJHqZ1JDWlpamLH0/e9/HwcPHgx7fdPQ0BDvTZ48ebLitiOnnHIKrrnmGlxzzTWK909JScHEiRORn5/Pn0sQhL5ofremwWDg39nW3d2NP//5z/yrULxeL3bv3h1mGEkxNDQkuhJTitNPP31E97XasWMHamtrwwyz4uLipN/h+swzz0ROTg42bdoEj8eDs88+GzfeeCOOHj2Kv/3tb7xBkpOTg5kzZ45yacUZP3487HY7brjhBvzwhz8UHVhOOukkXHPNNbjiiisAiBvoUuzevRtPPPEEdu/ejbS0NJSUlGDGjBnYunUrtm/fjscffxxTp07FNddcM+qv6hKmE0QmbH/11Vf8VghTpkxR1e8iCYVCeP/991FbW8t76ebPn48bbrhBN+P0xBNPlA3lBgIB2O12fg+veBG+IislJQU/+clPVJ3HwqHAsLdWybMca/2YzWZZw08rt956a9Q+Y0pvl4iHk08+GbfffruqYyNX/BMEoY6YX3w+ZswYzJkzB1VVVbxxpsVDJUwUBQCHw4Hy8vJYixOFUCGkpaVpGmTff/993HffffD5fLxhtmjRooR7UoLBIIaGhnDw4EH85z//wVlnnaV5Vjp+/Hhcf/312LJlCwYHB/HHP/4Rf/zjH8OOmT59Oq6//nrdZrxff/01Dh48iFAoBL/fjy+++AJZWVlxLZo4++yzeWOjt7cX+/btAzDsXREOmloHtp6eHjz00EO8zC5cuBC5ubk4+eSTUVlZiXvvvReDg4O477778PHHH+MXv/hF3OGoQ4cO4fDhwzh8+DB27dqFTz/9FAMDAygtLVU8d+7cuSgsLERrayvWr1+PM888E5dccgm+/vpr/O///i/vaSoqKtKcH3bo0CE888wzeOyxx/h+e+mll6K2tlaXlZ8MliMHDC9wOHDgwKjuH/f555+jvb0dW7duhc/nC8txy8rKgtlsxuWXX46LLrqI3z5HjlhXXwLfhp1H20sbzzNIbUILDOu0Tz/9FMDIT7AJ4lhG0Tjbt28fNm7ciPLyctHBVujVmDJliuptCCK36ejp6dFt1/cjR46EJeued955/AaySrz33nu45557wHEc//qjhQsXyirPnTt3wuFw4KOPPsLSpUtx9dVXa1K2UkrR6XSqXgwgJC8vD3feeafo+zWZsTl37lzN12XIbaUBDMvBk08+qduK1ldffZX3AjidTlmPBstXAobDVczLdOTIEbjdbjzwwAO8ITJ//nz89re/5WWuuLgYe/bswcqVKzE4OIjVq1djwoQJuOWWWzSVV7ijvBRnnnmmZIK1kIkTJ+LOO+/Evn374PV6UVVVFXXMlVdeGfYcShw5cgRvv/02/vznP4ftan/llVeipqZG9T5kajnxxBP5MNzevXujFuewRURyCD1BcsaAHEeOHMEzzzyDVatWSU4i2fskX375ZdUvDSekOXDgAL/x7cSJE6keCUIlssbZoUOH8Ne//hUNDQ14+eWX8bOf/QxXXnklJk2ahFAohI8//hhr1qzhj8/IyJAcOP/1r38hPz8fEyZMwOHDhzF27Fjk5+ejoaEBe/fuxebNm1FcXIwLL7xQ80M8/fTT+N73voeZM2fiq6++wssvv4y1a9fyv+fl5SkOOMINL1m4S41h9tVXX+Gpp57i8++eeOIJZGVl4ZxzztH8HMDwYoZx48YhPT0d6enpMV0jNTUVP/vZzzB79mw89dRTfLho/vz5qKys1LxDuxJpaWnIzMyEwWDACSecgMzMTNHX84wELLk5ktTUVFx88cV49dVX8eabbyI/Px9/+MMfwjxEqampqKqqwuTJk7FixQrMmzcPP/3pT+P2amRlZfHetwkTJuD73/8+Jk2ahPT09LDFNVKYzWZs2LABbrcbr7zyCt59912kpaUhJycHZWVluOyyyzRNaj755BM88sgjvGGWlpaGm266Cb/61a9U5YbFwrnnngtg2Dj77LPPRuW1YZs2bcKDDz6IwcFBnH/++bjtttswd+5cnHbaaUhJSeFfGt7d3Y01a9Zg69atWLZsGU488URcf/31kn1G7lVYYsTjpUoUWp5By16MX3zxBb8N0tlnnz3qHkKCOFaQNc7eeustuN1uAMOr1ZYvX47ly5eLHpuWloYFCxbw4Ypx48Zh1qxZvGHw/PPP88u6Fy9ejLvuuguzZ89GZWUlVq5cib1798LhcOD3v/898vLycOKJJ/Lv7jzllFNwxRVXSCrHF198kc+liuSCCy5Q9GSFQiG89tprcDgcfFLtiSeeiEcffRR333236Dls9j44OBim1Hp7e3HgwAHJewHfbpfBNk6VI9bXRKWkpGDu3LlxeciESL338Fhi8uTJqK6uhtVqRVlZmWhYNzU1FQsXLsSFF17IJz6roaSkJCZvjlpOOeUULFq0SJfk8lmzZuHmm2/GPffcg3nz5mHJkiXIyspKaD7ltGnT+A1Uu7u7cfnll49o/mYwGMS7776LwcFBTJkyBcuXL4967yV7aXheXh7Gjx+PXbt2YefOndi6dSuKi4tjWu2tB0orhYWbwKr5XcsK3njx+Xx8nTMDnSAIZWSNs4KCAqxevRoPP/xwWPgjkgkTJuDee+/l998Bho2ba6+9Fv/85z+jZmSffPIJDh06hPHjx6OyshLffPMN1qxZA5/Ph5tvvjnq+hkZGTj33HMlc2p+9KMfoaurKyqEZzabcffddyvm4vT19eHxxx8Pe53R/v37VeXPpaWlwWw280borFmzVL3zjhgd5s2bh3nz5iked7xvHTB//nycc845OOecc0bEmzF16lRkZWXB5/Ph448/xsGDB0fU2KHE9JEnGAyip6cHwHBEYMaMGaNcIoI4dpA1zsaMGYOLLroIFosFHR0deP3119He3s7nY/3gBz9Afn4+rr76atHBbPbs2aivr8ff/vY3tLW1Yffu3cjKysIPfvADHD16FAD4TSWLiorw7LPP4p133kF3dzcfKps3bx6uuuoqfjNHMex2O7755hts2LAB//rXv5Ceno5rr71W9f48R44ciVlxn3TSSfj5z3+Ovr4+fPTRR/j1r38tW1YiPpS8BJFEvk6GGMZgMPAvxB4JTjnlFFx00UV4/vnn+Q2MIz1XiWTs2LHIy8vDK6+8gr1792LZsmWSYc3Ozk7U19fze+Dl5+ePWpgeOHa91gMDA7xxlpOTQ5NWgtCAqtWaBoMB+fn5fKK1Fsxms+z+ZcBwOGHWrFm49957NV8fGDYiL7zwwpjy1YD4ld+ZZ56JJ598Mubz5UhLS8Ntt92GW2+9FSeffHLCcoIIItHMnTsXF1xwAbZv346tW7fi/PPPH9HQ5pVXXokDBw5g1apV+OCDDxQXerAFAQsWLEj6LXSSkbfffhvbt2/HrFmzYLVaqQ4JQgMxb6VBjAwnnXQSsrOzR7sYcXHaaafFtWGlzWaT3GSUiEZqxepoYzKZUFxcjO3bt+ONN97g95dTwxVXXIHc3FwAiDk8lpqaikWLFqGoqEjXrTS0ovc+ZyNNamoq5s2bx78pRWy/RPYKKWD4XcRnnHHGiJaRII51UkLJ/OZrCSITZCl0FT9srzJgeDPOcePGJc2gngwcOXIEBw8exNGjRzFmzBiceuqpumxQy/a2A74b9b5r1y7cdttt2L59O+677z5UVlYe18/7XcXj8cBut2P69Ol44oknMGfOnNEuEkEcU5DnjACgvIv7d53U1FT+pfJ6YjAYvlMbc5pMJtx0001YtGgRCgsLyTA7Tpk/fz7+8pe/4MCBA0n5mjiCSHbIOCMIYsRISUlJ6JYjRHLA3tVJEERsHJNhTYIgCIIgiOOV0X2rM0EQBEEQBBEGGWcEQRAEQRBJBBlnBEEQBEEQSQQZZwRBEARBEEkEGWcEQRAEQRBJBBlnBEEQBEEQSQQZZwRBEARBEEkEGWcEQRAEQRBJBBlnBEEQBEEQSQQZZwRBEARBEEkEGWcEQRAEQRBJBBlnBEEQBEEQSQQZZwRBEARBEEkEGWcEQRAEQRBJBBlnBEEQBEEQSQQZZwRBEARBEEkEGWcEQRAEQRBJBBlnBEEQBLOb01YAACAASURBVEEQSQQZZwRBEARBEEkEGWcEQRAEQRBJBBlnBEEQBEEQSQQZZwRBEARBEEkEGWcEQRAEQRBJBBlnBEEQBEEQSQQZZwRBEARBEEkEGWcEQRAEQRBJBBlnBEEQBEEQSQQZZwRBEARBEEkEGWcEQRAEQRBJhGrjLBgMoqamBi6XS/R3l8sl+ZsQjuNQXFwMr9ervpQS17npppvAcVzY37FcR4/yBAIBVFZWwuPxKB5jNpujPnrWR7zEWyculws1NTUIBoMx3VvsOeTqLta6lGszr9eL4uJiXepTKx6PB5WVlQgEAjGdr5dMK/V5JeJ9jkRfbyTuq0YvJBqv18uXn5UnFtmIp1+PVtuJEW+b6CEPkfWfCP0mRCgD8RKvXtB6LXaMWF3E06/0eI5EyvWoec78fr/iMcJGiWeg1HOg9Xg8MSkol8sFi8UCm83GG5Ts4/V6JRWfnGBq6ahK14nlWlo6hsfjkbyvms5hNBqxfv36qLoTfjZv3oyMjAzVZYoFNfXIPnKdNtZBMvL+8RhOUuUeSUNCzaCkto6YURqLfMXSHi6XK6469Hq9quRIS5vEMgjLlUOLfMUq03oZDnLtoVWu1TobGHJ1qGa8SBb9lihibWOPx4PMzEzk5uZG1UdPTw86OjoUrxvrvSP1SbyTXa2cMJI3CwaDWLduHXw+H9xuN6xWK4xGo+Txa9euRW5uLhwOBziOw6OPPor7779f9pxkhOM4tLS0oKmpCRaLJep3o9EIp9MJu92O7u5u0WOcTidKSkpiLoPBYIDD4YDD4QAA3iB0Op0jUp8lJSVR5Q8Gg3x5Rgqv14uysrKw79ra2mC32wEA5eXlqKmpkTw/sh6l8Hg8cLvd8RdYQCAQgN1uR2lpKRwOB/+/y+WCzWbTdC2x9uA4DjabDSaTSfZcj8fD15cYSnUohA1KrL6YPHo8HnR0dKCmpgYGg0HxOkyWxfoYG7Sl+l88sGdVU8ZILBaL4oSRtXEiESsHu+/MmTMTem89sdlsfD/gOA7Lly/HsmXLYDabE35vqbZ0uVzo7+9P+P2FsH7s8/mifouU/0j5FdOPDLvdrlnPxEMgEOB1gtjYZzAYUFNTA4fDgba2trjGx0i8Xi9qa2t53cHqJRE6RArVxtmePXvQ2dmJyZMnIxAIaB7Q2UDs9/vh9XrR0NCAiooK/uEj4TgO27ZtQ3FxMQDAbDZj1qxZujdCsuH3+0es8QcGBlS3pVinbWxsjDJqYhmk1MAGi7a2triuI1SiQmMn0TLF5L+xsTHse+HzZGRkyM7W29raYDKZUFhYCGDYsLHZbCgrK4PT6Yy7jF1dXZg8ebLiYCY07Fgd2my2EZPbSDweD1paWrB582bRsttsNsycOTNsMqJHexzPcByHgYEBzJkzR/KYZK/Dffv2qfaWSBk0rF9ZrdaETmT10m/A8FjZ3Nwc9l3k5EcKOSMzmenr6+P/lmpLoX4qLy/H0qVLRa8VDAbhdrtRXV3N6xOLxQK73S5quFqtVj0eIQrVxllzczPy8/Nx8OBBNDQ0qLaghRVVXl6O1atXw2Aw8AqzoKAAAKIs0kAggBkzZmDatGn8dzNnzgxrhGOFadOmITs7W9LyFs6OE9XQkbS3t8Pn86Grqwtms1l2tgWEd1qmlHNzc0fcUNZz5hIIBDAwMCApUz6fT1I+taLW4wYMG0mRBINBdHR0IDc3N8wANpvNsFqtYQYma0stsFlqaWlplPJ2Op1wOp0JN8Bjpa+vD0VFRbJGpdVqhdvtBsdxsFgscbdHstLe3o62tjb+ORltbW1h/8vJBxucxOq0sbERjY2NvLGSrHXY1dUFn8+H9vZ2WCwWUeOntLSU/zvSoGHGyEh6igB99RuD9e22traYnBuBQABer3fE68JoNPJGEQDJyEtnZ2eY8ShmnIohFWres2cPdu3ahcWLF4d9n5eXh5aWljCHUiIiJAxVOWculwstLS247rrrsHjxYr6ASng8HhQUFKCoqAgcx8HhcIQp9pKSEnAch6amJpSVlYVd0+/3Iz09Pex4k8mE/v5+zflekfltwtyEgoICSYMkEjZA+v1+DA0Nqb4/GwiY5R2Zk2CxWGAymbB69WrJWY3dbtctP4h5Jaurq+F2uxEIBHiBTvbcBrH6i7VOmpubMWnSJLS0tIjmE2RkZGDz5s1RA51aTCYTxo4dG/V9ZH6Kmr40NDQEv98fFXIcO3asYhhSCTZwCb1yQux2u2j/FaImhzSe8kn1+WAwGHfYKJb2GGnUtDHr1/n5+XC73WF1ZrVa4fV64fV6ZSeAwghHRUVF1O/l5eXo6enB+vXrw3RVvHXIjMdYcziFMGPEbrejpaUFHMeF5XQp1cFooqd+A8L79iuvvIL6+nrNY0YgEEAoFIrLa9je3s5HarRgs9n4lJ/IesjMzITf70dDQ4PkxCwyD1FN3lggEEBKSkrU8xqNRkyaNElT+eNB1jhjCXFCa9FsNqOhoYHvjHINzYwvJYubeWXUWOaNjY3IzMxEQUEB9u3bp3g8MDyzZl4iAGFJ+VoMETZAspmpGEyIxBRJXl4erySFiY12uz3KEGUww06oVJxOJ3+u1lkQq+ecnBwsWbIEJpMJdrtdU6dh9cA8TpFJ6mIhNrGE2czMzKiQiBRqEma11AkLhS1btgzV1dUoKyvTNeFTyhvHchmY0dfT04P+/v6opGHhYCXXxwwGA9LT02P2KHs8Hn5yEItXjOM4tLW1oaOjQ9SAUnoOJhfMq8GOtdvtfF+///77sX//ftH7GwwGlJaW8oOwFCwknJWVFXV/PdtDCjm9IAfz7qo5rq6uDjk5OfjLX/4Cv98Ph8OhaSLr9Xr5AU9LCC/eOmT6X+kTaRBK1QMzRqqqqlBUVMTre7Uwg1/oCBCOf2I5gFKLUdSmG+it35hOFvbtzMxMuFwu1NfXa57ERkaxgGGPuhqZZvUpHIMjYdcSW7g3Z84c5Ofn8/LFPk6nU3ICDHyb79fT08OP9bW1tVHPLXdvIUajESkpKSO24lg2rNnc3MwLtxAmSHLIJRbKoZT4zkIre/bswfLlyxWvx2aTK1asULUIQQ6m4Nm1srKyogazeBP3EwlL5BYmdrKESuY+VmMgswEZAJ+zJgxvSCXBxpK3IZXXooTUvYSTAKHCBYZnrVpzZOTy1iINbrFcBoPBgMWLF8Nms4UtBoksv5RCYIovNzdXc5lZG8YaSmHPU1NTg7a2NtHFLEptriYpXgmLxYLq6moUFBREPYvQE+R0OnVrD62o0QtSeUGTJk2SvS/TteXl5aiqqoLBYOC9DbfeeisWLVokeW5k/9Kqv0ayDpUQ1gObaLC+XlBQoHqhCsuvZn+bzeawxQZSoaxJkyZJ5j1Kobd+A75dHMMcAcJjWISE1ZXdbpft/2wxW11dXdRYp3a86O7uht/vx5o1a7Bx40bRMVjvxQZs3F+2bBlfbrPZzEeLrFYrb9RF3ltqkq6HB1ELssaZlsqKPDZepWsymfjZOKtcsVCnEszqv/TSS9Ha2hrzggKO41BfX4+6ujqYzWa0trZi7dq1irkbYh1PqiNEJp8GAgHRPDDh6kJgWLjYwgml8kd2ROaZW7p0qeQMJJL29nZUV1fj4MGDCV+goSU3SAm2WlhswsGS3D/99FOcfvrpcXnRpAwm5nEU5roAw5OdyZMny16ThS8jF4ywawoXZyjx6aefwmQyRSlurXR3d6OzsxOLFy/G4OBgwlf/iq0wFf7W19cnOSFsamqKKlc87TFSSIVYhBiNRrzyyivIzMwM+45NoOVkmXkktRoVjHjqUM8JfCAQ4OUv8jebzYaqqioMDQ3BYDAopqR0dXUhOzsb48aNQ3Nzc0JzrfTUbwyhISmF2pXCdXV1KCoqijkPjrVLaWkp8vPzsWXLFqxatUrRS8/aUgjL/42Eja9sYm02myX7jZr0AKPRiFAoFLVYLhAIYOvWrVHlGNUFAUrJ4gwx61fNknix5Euj0Yhdu3bxMxdhQrRaWOjK5XJh6tSp/Mo2k8mkSdiYkGZnZ/PeMnatmTNnSg4Y8XY8o9GoKrERgGJHU0qS1BLCYHUaCARQW1uLOXPmJHy5uloZBKQ9Qaw95Dj99NMBDCsvtXUvxtKlS6PqVMrAUhO6MhgMyM3NRUdHBwoLC/m+xHEcTCYTenp6wr6TU86ZmZmqZFKuvjiOQ21tLe8xqaiogNfrVaV4xVC7Wk3J+xKpg+S2ooinPdTw6aefxr14Ytq0aYpRCqW+Z7FYwq4h/Hvq1Kmq9ZOYTMVTh3p4TRlK0RyDwaCqLYSTcLYaOi8vL+ErkfXQb4DyNjdiCI0aRmR4OBaCwSBWrVoFYLjfCj2qSo4NNQamHFIGlprc2GnTpmHGjBn8YjlGe3t7lPE/6gsChMniUh+99+Ixm83IycnhB0jmGlVrpTIhjVwO63Q6oxYfyOH1evmOsHTpUr6DWywWNDU18ftMqb2WVJLnSCYhx7qrMZvpsjq1WCwoKipCQUGBLrvR9/T0SP6uRga1JPrKbcLKPrFuXGwwGESNB5YfVV9fH7bydd26dbzhLwdL1l+7di2A8FlpLEaA2k1QI2XT6/XyC32YomJ79fn9fmRmZmqWBzU5N3psFyIk3vYAvs2BFau3xx9/HIcPH46rjGyyoAW5jX2l9IxUzlTkJzKPTI861JtYNx1nBhLzFLEwWFlZmS4bM8v1Cb30G8vzjvw0NTWJ5jtzHIfm5uYwI4SNebHmoQLDdblw4UJ0dnaitraW14dMBltaWlBTU6NqYZ2cbEpt8Mvsh3Xr1vG/M8NbbEW6EGZE1tfX822mZjGN3ujuORODLb/Wem5VVRUcDgfMZjNv3avx8LBGEHNxl5SUYM6cOdixY4cq48RoNGLNmjWYP39+1G+Re2ZJEbnHW+QzsN8rKytl8wgA6VCz2WzGhg0bFJ9HDWJeNuZmjqxTVh6215ZciDNyOX8kTqdTdl8lvZHbGoIlOeuNxWJBXV1dmGtcbb6FcNNFpkydTmfMs3olz4XYJsHMIBQrMzOwmHLXsoJTi+dMT+JpDzWz+9F41RTLIxLzJLlcLlE9o+RZZ+eK5ZLGU4eszFo2HI4XMS+bWD4u8O32DXa7HX19fbLPtG/fPsnQG7tGoiMM8SDsg/HmgBmNRlRXV4d5+RlCWVNasMIMOan9UF0uFxYuXCj6u81mg8vlCgv3q82vZUYks3u02B96oekNAbEmDivtjyQ1m4s1LKikaIRJ4ErKU3hsrLAEU+Yqj0To7o1124ZEU1VVhYqKCtHy65Xj8Omnn0rOpLS4/ROVIyKXIxOZBygk0miNJ5yTiBwVLahZDBSP/GrRMVIGnZiHTXhMpD7SM7ymBqUkcKnnVwrpstQPOYOdhZ/11jMjXYd6U1hYKJmDKZfryFBj3AYCAUlPajLoN6PRiGXLlmHChAlxGyFGozHuXGS2v5ow+hUJk+fIECQjnvComjZNJCP6+qbvKmwTWqmEaRYGULM7+2ihNmcjHk4//XRFBT+Sr8+I5FgfgI431BiKyUiiDGyWl8hyhcT6SUNDAwDlPLXvGiOh34xGo6IzYDT1GwCcddZZo3bvSNgmtPX19ZJ5zQ0NDYpvsjhW0WScKa2sEUssBGIPa8ohDOMl+4DJlLEwfy0Su92uqKxZWFEOte5opRCjlmuNJGpWd6ndyV5JLpN1I97jGTXtm8zb1Yw2JSUlsFqtkiFiu92elAatmjFCy1Ycwrd7SJGMb7zQU78dD9hsNhQXF0t6FcvLy/HCCy8cl3WREgqFQqNdCIIgkg8WfktPT086I50YeVjO2XfFMCCI0YSMM4IgCIIgiCRC1VYaBEEQBEEQxMhAxhlBEARBEEQSQcYZQRAEQRBEEkHGGUEQBEEQRBJBxhlBEARBEEQSQcYZQRAEQRBEEkHGGUEQBEEQRBJBxhlBEARBEEQSQcYZQRAEQRBEEkHGGUEQBEEQRBJBxhlBEARBEEQSQcYZQRAEQRBEEkHGGUEQBEEQRBIRl3HGcRxuuukmcBwX9ney4PF4YDabFT81NTUIBoNx34/jOBQXF8Pr9epQ+mi8Xi+Ki4uTqo4TjcfjQWVlJQKBQEznu1wuuFwunUs18ng8Ht3kVE9cLlfM5Up0f5EjEAigsrJSVB/EWx69nyseGZZqn5HWjay+PR6PprKz51YaX6T0RDAYRE1NTcz1F6/+0VMWYulrWupQjtHsq3oSr50Sa1+MRf5ljTPWIJEdNp7BTksjyylQNQq1pKSENxylPna7XbYMrHNrvXcszxGr4RVLw8cCq4t47yMlV+wTjzIE1HcgseOERpCajqym7pXqTeoaWgwyl8ulmzyxe0u1j9r2j7yGXgO9mgFTTgZcLhcsFgtsNluUPvB6vbKDYKQ+SFSfS/SkQg/dGInWyaOUHhiJSYicDlKjf+T6RzwGjNfrjVv/qUWPsU2ImA5Seha9Jgly7am2H0WO04keT5U4Qc1BTU1NsFgsiS6LJE6nEyUlJaNyb4PBAIfDAYfDAQC88nY6nTAajaquYTQasX79etljOI7D8uXLo76z2Wzw+Xxh3xcUFPB/W61WLFu2TFU5AoEA7HY72traos5fvnx52PdA4trdbDajubmZ/591HpvNpniu2DMwrFYrnE6nfgU9BmAykp2djZ6eHhgMBtHfampqwn5TQ3l5edh5wWCQ7wdKuFwueL1eeL1evp+4XC7ceuutUX2nrKwMgLZ+3tbWpiibYsYFx3FoaWmRlG2j0Qin0wm73Y7u7u6wY5jslZaWwuFw8P8D0KSf4pVhKb0ARLfZsUAsekaqDoTXKS8vx9KlS3W/t/D6wroWysNIIVUPavqSHmMbO6+srAx2uz3KMPd4PLBYLJLlKSkpUSynx+NBR0eH7DGRYwrwrb6aOXOm4jOweqyursb69es19W2PxyPZ7vHYLqqMMz0JBALw+Xzw+/0JN/jkKk1IeXm56mv6/X4MDAwgEAhoEmAlAoEA9u3bF/admMBJnauFSIXEzh8NIzgYDKK/v5//W2lQERq6zKBdtmwZzGazqns5HA40NjaGfc8Gw/LycmRlZcXyGKNCIBBAXV0dioqKRA1bs9mMhoYG2O12tLa2jljbchyHbdu2YdmyZWF9pKKiAl6vF21tbWFliWWAZEaMVB/Uw+sUqaPa2tpgMplQWFgIYFgWbTYbXC4XrFZrTJM1rTIMSOsF9sxqDLNE6MaRRK1uHI00ADbZiIVYxpdJkyZh8+bNquVHz3sHAgG4XC7JPlxSUoI5c+bAZrPBZDKNqJNnz5492LVrFxYvXqx4bHNzM4qKini9pKVvixmYWiayUqgyzoTClpGRgSVLluAvf/kLfD4fMjIyVN8sGAzC7Xbjqquugtvt1qTQYkXvmWRfXx98Ph+6urpgNptlZ7F6IWZU2O12VZ6mZGdoaIhXCnv27OHdycKBw2q16nKvyJmiGLG6su12u+Jgl5ubG9O1pQgEAgiFQiguLpY8xmg0orS0FB0dHSgsLBwRj0ogEEBKSkpU3x47dixMJhP6+vrivkesnrNp06YhOzsbZWVlogOKcMYslLtgMIiOjg7k5uaG1SEbEDmOG9XoApvkpKenqz5Hb93o9/vDdCPzqAgpLS2NOi/yGKFuczqd/ORJbKwR80KOtm4UyhUbH9TAZExYh5E0NjaisbExIVGCyLFNzsPLYJ4yOcPQbDajqKgI7e3tI9ZHgsEg1q1bh5ycHEWjNRAIwOv1RrVTPH1bi2EohaoFAU1NTXweQnNzM+bPn4/m5mZs3rwZkyZNUn2ztWvXwu/345577oHJZMKqVatUzWzsdrtsPFourt3Y2IjMzMyYzxfi9XrR0tKCFStWoL6+HhzH8TM4juOwefNmTcZqJJMnT44a0Jhhlp6ezrdBT08P+vv7Ry3RXak9tMTrGxoaYDKZkJ+fj3Xr1iEYDIblwygpoH379sWUnyHMj9Ajx8XpdErm7vT09CTEAyHmbR0NWB9j/choNGJgYCAqxMEMcTVhBjnU5EtJDYrMQLfb7SgrK4uSW4vFApPJhNWrV4f1RVZ2k8kUdj1mcPr9/pifJ1YZFsLKl5eXp/ocPXVjIBCA2+2G3W6H2+1GIBCAxWIJy+WTmmQJx5fIdmOhMrGxhuM4VFRUoLS0NOw+LDwnxOl0jlg+W6y0trbC7/djzZo1sNvtovle5eXl6Onpwfr163V1bIiNbczDKze2xSP3gLqcM62h4kAggFtvvRUAUFVVper4UCgkOZmM5RmlJqhaGJGwJjMwOjs74XK5MHXqVCxduhR2u100ByWSWMNtauLZauE4DrW1taiurkZJSQn27dvHuz3jdScD0kIuZoEbDAaUlpbC5XKNSOKo8L5KnicteDwetLS0wOVywWg0wm63w+FwqJ7NC0PkzA3NPJhyHVq4eon9v3bt2lGbbQcCAQwMDKCvry9qtipn1GVlZSE7OxvNzc2SZWeDps1mS5jXLNIDYzQaUVRUFJW/0tDQACDaExpLzlm85OXlwev1RukeLaFBdlx6eroqz6kYscpwJELvRnFxcZgnX0yG9NSNwLeTrIqKCvT392PVqlUJz30LBAKYPHlymDwJPcVCIyweb5rQS6tGRmMJa3q9Xtjtdt7r5nQ6UVZWpkufUPI+xjO2Wa1WuN1uWe8Sy/Osq6sT/V0vD65Qd+rpPdXq6WcRQovFEmXXMD2h5plVec7EZphqPCNs9UNmZiYA4IUXXuAb22g0YvXq1XwcWs8tIrxer6oVIGqfyeVyoaCgICwmbbPZUFRUhIKCAl08WH19fTCZTBg7dmzUb2IzazaLFx7PPFpKs8PI9ty2bVvY+YlercLkwm63o66uDmazmU/E9vv9yMzMVLVKqL29HQDQ0dGBadOm8R5MuUGN5UMJQ4HFxcXYtm0bL3/Mo1BQUDAinqmuri5MmjQJvb29AMDPVpW8hgaDAUuXLoXX6xVtc6/XC4vFgtLS0pjCCZGelczMzKh8PSlsNht/X3Z+f39/lEcK+NZzojQIKa3yjdeLGwssnCj0nGrxoMciw5EwA5zVN7uG2HX01o1sxV9LSwsWL14Mo9GIpUuXwu/3Y+HChap0eqzjC/PQCg1TVhfp6em6GYZWqxVerzdKRiP7h8ViQVtbW5gnUEkWmEwzQ4z105KSEjQ1NcFut8c9vkh5H1nbxTO2sQlFWVmZ6LEejwcFBQWorq5OWEiTjSfM693T06PrRFurp7+7uxudnZ2i6SZMTzgcDkX5lPWcKSVdKnU8NlMWrtgSwjwxNTU1cDgcWLdunag1qWZWKpxhMHe6Hsit7rLZbLJCIJWALocwn8BoNMJsNqO6ulp0NtbU1ASDwYChoSEAyrM6uVWj8+fP1/U5AOmkbaZMI+VCzapWBjOy1qxZg4aGBj5fTQ0TJkyIum9KSgpvALNZzZ49e6JW0EoRa84ZG0yqqqrQ0tISlSyvhNFoRG1tLWw2Gz8JElJeXs4nsGtBD8+K3t4ZKX3EZsw2m01yAJCSYanjmWHMZFgY4hCew8KJYrlUSsQjw4xgMIhVq1bxZVVCT90ozM9raGjg+xTrxy6Xi9fpYiiNL0qGgdn87YIXYd8bCQ+sXrJtNpvx8MMPw2w2R417eraVGPv37wcA0cUESmObEFZOMU8bM2zlImMsj06OjIwMSU+elnHDbDZjw4YNUecL9T8jlr4t9ELGG1GLK6wZ+aCRD622cZmRFomWSheDhVWUkHMxKikQuWMjw4BiK7PUDCxMEXi9XtTW1uoWSlV7f73DmVoUm9Sxzc3NmDFjBvLz8/Hhhx9KGvZi7N+/P2xFkjDnQGt+gZiMejweuN1uVUvSWTgoJycHY8eORVlZWUyrmsRWbKlZgj6aaOlbQqT6dWTisrBf6yHDubm5UQsrOI7DwMBATLkl8cgwEJ0uoqUMeuhGJf0s1P9sAqkF4flig6qaMsRKMBiMqcyxIDapEkPvtIupU6eq7g9q+qoWg44Rqd9ZzmFdXV1MnjY1ch1p6BmNRlgslqgFC2oWOwhhZRd6IeNBlXGmdkWinHU7GqgRFq0DmFxdjPYqoWMVuWX9Yh5LYa6awWBARUVFWL6aHGazGTk5OWEDYXNzM7+qp6urS7fnUsLlcoU9R2SuyWgjXIwSi1yrNQC0bqWhpl+7XC5+ixYxxFYSMqT6cWFhITo6Ovj8RLaNQCyz5HhkGPh2UjUwMBCTztVbN8a6RxYwuuOLXH5YU1OT4vmsjvTKr5OSS7ln37dvX9jelww15Qe0RUZGe89TJZTkWmw/UQB8//N4PCgpKeH7dmlpqSp5ZmOYnjaAKuNMjdXMvDrHM6wBxASUCXhxcbFuCkTKaInsiGvWrIn7XmpQ42XTAqszv98v6voW20RV2AbCmQ/bOLS1tVXxvizZlc1YmXdgJGHJ6MLnAIZnkueccw7MZrOqZxlt5BSRGkU50pMZJZljv1dWVkYZGgaDgU/BYG0WSwgtHhkWDqTl5eVYvXr1MbXhrBjxjC/CjYHF2kEqKqPWaxvvakS191GrCyP3NFS6PstplEONV3k0+mosqPWcRSLsf2zMVdO3hRMLvcPpCVutKTczlcPpdKKwsFCXHCctrnsl2B40drtd1DBhydl2u123FZRqw3+BQAAbN26UPUZpdiq1l00ivYF79uxBZ2cn6urqRGcnZrMZdXV1cLlcGBoagsFgkKwTYXhDTQJtLC74SJTkS0xO2AxYLp9ETZhDzHAXmz0DCOtHTU1NyMrKCguHJYunG5AehITEs4GqkswZDAYsXryYf7VTZBvqER6NR4aZgbh06dK4lunrqRvVkKjw4/GCGl1YXV3Nb1OS6P1BlYg3D5njOFn7QOo3NQZQrKs/Y5FRuZzBeEmYcRZvMqNeOU56LdM1GAzIzc2F3W5HXl6eqOds1apVMeefJJpY83sSCdsQVCocwpIrs7OzRVexjjZ6GHixEk9CciAQ4DcMS0x7uQAAELpJREFUHcmtWNTAyiO3sS4Qe79Wkjm2eeXkyZOTymgVwnLo4uVYfNXT8YoaXVhfX4+ioqKkGF/inaQkerHDSKI2Z1ArI/76ppFGzUoQQF0sXfgqCqmcs2QzgBKBGo+olne7sfeviZHsOQ7HIlpniMJ9kqTQq53a29uRnZ2NadOmyR4X6wovJnNsmxExWO7X8Y6euhFQ99aGRBmESqulE5kPraYelSIQSnIZa/mPhVCk3qhpj2NhYpISCoVCo10IIj6U8i6I2IjlvYcEQRAEES9knBEEQRAEQSQRqt4QQBAEQRAEQYwMZJwRBEEQBEEkEWScEQRBEARBJBFknBEEQRAEQSQRZJwRBEEQBEEkEWScEQRBEARBJBFknBEEQRAEQSQRZJwRBEEQBEEkEWScEQRBEARBJBFknBEEQRAEQSQRZJwRBEEQBEEkEWScEQRBEARBJBG6GGeBQACVlZXwer16XG7U8Hq9KC4uBsdxulwvnnqJt05dLhdqamoQDAY1neNyuaL+1kpk2T0ej+ay6AHHcSguLj4m5NLr9cJsNkd9KisrEQgE4rq2x+MRvY7H4xG9Z+RHz7aLRxaknkOJYDCImpqamOVZb2J9DmBkdS27l5hMxFuXyTRmjJZ+0ptkqlMifmSNs8gBo6amBk8//XTUd4cPH1a8kcvl0k3xSw1kHo9HUxkSoazVdhDhM6g1COWUpVplL7xvMgxWYorR6/Xyz6NUn7EY1HL1GPlRakc1A7/cM7DfXC4XvF4vOI4L+9hsNlgsFknZZgaoFjlilJSURN0v8mO321VfT4qRGvyEcqMW1n5KukMNUjpOS7vEohciYc+kRr6lZNzj8cBisaC0tDRKJnp6etDf36/rRFYKqTpVqmOlOlBrwIj13UiZUSPfaiaKSrpOzKjXYpAJdUWix0Eifk6Q+9FisYDjOHg8HnR0dKCmpgYGgwHnnnsuXC4XnE4njEajrDJkA0x2djZ6enpgMBjCfvd4PMjMzERTUxMsFotsYYPBIBwOBzo7O7F582aYzeao3+rr6/kOHfkbAL4M7Luamhr+uQDA5/OhoKAAAETLFAgEYLfb0dbWFva93W6HzWaTLb/wmevr6/ln8Hq9sNlsUeWWQk1dicFxHJ566il4vV4YjUa4XC54PB6UlJRovpbH44kauDMyMuByuWA0GjVfbzSItR7FcDqdcDqdsseIyQeTI9aXIrFYLGhqaoLL5YLVag07xuv1ora2lpcbrXKkB6wfNTY2Rv3G5EEOqf4EAFarVbJekhGbzRbVxl6vV3WfiFcvMAwGAxwOB6/zWDncbjcAYOnSpbLlCQQCcLvdcDqdorrBYDCgpqYGDocDzc3NYc/MxgUpysvLUVNTo/pZxOo0EtYPxIh8BiZv3zVYu4jpPCZfeupDIn5kjTOtlJWVAQgf9Jqbm5GdnR1mAAlhHcftdiMrK0v0GMbatWvh9/vR0NAQpVyYQnK5XFi3bl3Y/bq7u+H3++F0OvnvDAYDFi9eDJvNhu7ubr68bEBRUoaxCjJTfHV1dfw9LBYLioqKohSd3jQ3N2PWrFl83RUXF+PRRx+NGvTVwhRtZJspeS7EFDgb3K1WKxYtWqS5LKONnHGux4AwMDCAQCDAt1MwGITb7UZ1dXXMciRmYItRXl4u+ZvQEGDPybx9jK6uLsnzjUYj1q9fL1q2jo4OjB07VvJcNvHz+Xxh3wvvXV5ejqVLl0peI9G0t7fDZDLJPgeQOL3g9XpRVlYGu90e1kYmk0lSJ8eD0JiSkgcAGBoa0vW+eiImV8LJw4oVK0ajWDHj8XjQ0tIS5dBg2Gw2zJw5M8zhQow+isZZMBhER0cHOjs7sWfPHpjNZrS3t6OtrQ0cx4V1ungsb7/fj6GhIUllEQwG0d/fj9LSUlnhKS4uxvLly/mysmuLKUij0YjJkyfD7/eP2IyBud4jO0leXh5cLlfYAKwnwvpjsPsk6p5SKM2Gj8WciVg9Z3PmzEF9fT3sdruoYhQOrkKZ2bNnD3bt2oXFixeHHa9VjqQM7NGmr69P8Riz2Yzm5mbF40Yrl4jjOLS0tKCurg5r164Nkw+r1Rp1LKCPXmAyAwxPGjiO48NfpaWlWL9+PTiOw8KFC+Hz+aI8lEajEaWlpbzhHuk9E0YwjseQmJJcBYNBdHd3x3Rt1i5y6D1B7+vrQ1FRkazDwWq1wu12R43pxOihaJy1trbC7/cjOzsbXV1dMBqN6O3tRXV1Ne/tkqO4uBg2m40PIYqFNe12O5qammSVz9DQEPx+P3Jzc1U+2reYTCbU19eHGWzAsFEyMDAAk8mk+ZqxImcohkKhhBlKQ0ND+O9//xt27bFjx+LUU0+NO+E8VoSem1hDWH6/P+x/pbCK3oiFkLRgNpvR0NAAu90uqRTFwkuBQAApKSlR9aVVjhobG0VDkkK0tk28kx02kcjNzVVtNEa2u9aJot1uV/QiSoX5xAgEAqirq0NRUREsFgssFgs/6Ho8Hj7EyNBTL7B0FDmUDJCSkhKUlJRIRhGampoUZZ7p15Fg8uTJuuvNyJC7lvaXQk4uExFyZX0pPT1d1+sSiUd2QQAbPG02GxYvXoz6+npYLBbMmjULS5YsAQDceuut2L9/v+Q1mBJIT09HZmZmVDJiR0cHenp6FBUpm8253W5ZY6K5uRk5OTlhCiUrKwvZ2dlYt24dP4sOBoNYt24dsrOzwwxMlnOmJWlUmMRrsVhE82fUsG/fPlWGUllZmWiCqzB5VouBwq6nt1HDriumcFjYqqenBxzHobS0FKtWrdLs5ejr64PP5+NDZzabjU9c3rx5MzIyMnR5lkRiNBphsVh4Lwf7eL1eWK1WTZMHo9GIlJQUXoal6h9QtyCA4zisX79e1cDHBuO+vr6wRRdaB5zu7m50dnbCZDKFLdyQuo7L5UJ/fz8vS5s3b0ZtbW1Ukr/T6YxKHmfGtZp6UDswe71eWCwWmEwmVFVVaXp2MdTqBUA66ZvpJeaBVZsULuxPwo8awzcQCMDn80VNoPQmEdcXhmRZX3S73aPq1e/r6+PTG9hKa6XxxmAwoLS0FC0tLbIGe1tbG0wmk6KzhRg5JD1nwWAQQ0NDYXHquro6uN1uVFVV8Urt6aefxu7duxVvpCaxU4mSkhL09fWhoqIiakYXmUshRJiPlpmZyX8vliekNudMiHCmGs/sZ9KkSaoGQanZl3B2zgYsNbDr6R2iYNdlhhiD5dfYbDbeM8Lc6ixc0NbWFvaMYrLDcRy2bduGFStWwO12a86dUxNikJstq83ZEhKLfGkhEAggFAqF9dtIT40w7KUFJc9BV1cXfD4fJk+ejIqKCj6XLLL95WC5dMzjJMxHE/M4MRlYtmwZL0tms5n37FutVt4bpWXRTiwI61UPLwtDrV4A1Id6pYjF8ywl0+3t7QCAjo4OFBYWxh06Z+HU9PT0qHaUyuuT8ogqyUGksSJ0DrDnFF5bLi9TDwKBAHp7ezFp0iR0dXXxnk01443FYkF1dTUKCgqixg5Wp5E52cToI2mcGQwG3HDDDWHfMfe8kBtvvBEA8OMf/zjs+0QNAFVVVejv7+dXVArJyMhAbW2tpIDpYSDGi8lkgtvtjsqvkwpT6YVYCFMs1DlSjB8/PirEajKZ+PAOC6UBkFQ+zc3NmDFjBi699FK0traira1N1YAoloQeuSJZDUxBRsK8mHKhQKlkdrGBUTgzZgaGVLhLjRypCXtphRnca9aswcaNG2POXVm7dq2mXCap51XyNsqtMpVDKsQrzA2MRceMll6IRC8dyfLtmDy0trbqZqxG0tfXh/T09LB6izfdAEDUNVkbsa2j2FilZfIRa85ZW1sbTj31VJSVleHJJ5/UPBFljg2p+yulFREjj2LOmdggYrfbMXPmTH4wAwCHw4HS0lJeISdiABASacRxHIfly5fHdU2LxRLXrFMNbNYVOXi1t7fDYrEkrIMYDAakp6fz92Fl+PLLL0elU3755ZdRhqLf7w9bsCAHW4HkcrkwdepU2Gw2lJWVwWQyjWhCq9xWEJHlEMpsvB6OadOmYcaMGejq6grzWKhdHQio95KoWTTAnj8nJweHDh2KaeWXcLm/Ws+ilJGqFOrSY/AWIqfvmBdbrg4TrReYnJaWlioaSXIyHYnYZFqYMpKfn49Dhw6hvr4ec+bM0d1jHAwGUVFRkRAd1t/fj2AwyLcZmziefPLJmq8l1t/VyAUwLBP19fWoq6tDVlYWWlpasGrVKk1bkjAiJw/f1a1FjgUU3xDAhErPTSlHA7UbMyZ6Y0Wj0QibzYba2lr+Pl6vFy0tLSguLk7YfYHhxRnbtm0Dx3F8+Ehp9ascjY2NUXmElZWVsjmIwLchArYKDdCW88DCiZHbSDidTpSVlY3oCjLmhZPLVWK5Y3LIbbYplufCtoKpr6/nf2dytHjxYlXeP6l8IuFHjfHm9XrDPHqFhYUwmUyw2+2qcqVY35Tah0kOs9mMnJycsHxSNpjFI9uJpKSkJCqPT0+9IKbr5HLOIuUrXplm3k8mhyUlJSgqKkJBQYHuOVsGg0G2jWPdZNhqtcLv96O1tRXAt57h0tJSVRMfvWDOERbmNxgMWLp0Kfx+v2K+N3FsE7PnDIhe6SXm9YglXJQI1MyU5TYzjETMPWy321FRUaF4rsViQV1dHR+a1ZqHJOWaVlpVZzab8bvf/Y6/r91ujznUIBXSA5T3OWPnA996l1jZlWSEDbxiM/aSkhLMmTMHO3bsGLUVqFoRKl+xSYHw98hwB0vkZv0z0flsYrBwntPp5NtSuElpQ0MDZs6cKXk+85ZZrVZ+c2StsI1ahfmkao08ub249ICF93w+X1hkQYx49QJDqOukvKNy19YS8hXqfCarAKKuzb4vKyvT5BkdCcR0mdFohNPpDMsrYzI+UluzCD2QwoUlrGz79+/HhAkTRqQsxMijehPaSGXn8XjCdnvWKzwghpiB2NjYKOrFE+aiJSIBWGrTTIZaoyCWsK/SvdkiDr3vmyjkDDwplMKBzBsAiLeFUihPbqd7PQcyRldXF59AL4YwuV1sO4V4wqNawppSSMkTMxAAyHotqqqqdAlLJUM+aSRCw7q6ujrsbQ5S6Nk/hatYIyc9Xq9XNEFciNZFDWxbmLFjx4pOsiI3qJVDKidTWDYx9NT5SvpWDWr0g9hvbLIqNa4ajUbFt/NIhaeV8lrZuL5nzx7+7T6j7Vz5LqLrGwISRbz5Od8VDAYDdSAFEjWIx7o6j21C29DQILkitb6+HkVFRQkJ0Y32JrTHq8wywzfSWCgoKBiROmf7W400esno8aLz9c5t1EK8xiXbCmXy5MmyG8QTiUG1cSYMpWVkZCA/P19VWBNIzEaXhP4k04zzWEPNJqZigzIbhOQ8Kol8552avpnoMiQD8W6rwpAL05aUlKCwsBAOhwOZmZkJNdKktg9iZGRkSL7OhxGrTCcjap7leJdxrSRTlOW7SEooFAqNdiEIQopE5wQRBEHEQ7LkVRPHF2ScEQRBEARBJBGKW2kQBEEQBEEQIwcZZwRBEARBEEkEGWcEQRAEQRBJBBlnBEEQBEEQSQQZZwRBEARBEEkEGWcEQRAEQRBJBBlnBEEQBEEQSQQZZwRBEARBEEkEGWcEQRAEQRBJBBlnBEEQBEEQSQQZZwRBEARBEEkEGWcEQRAEQRBJBBlnBEEQBEEQSQQZZwRBEARBEEkEGWcEQRAEQRBJxP8HbZJQuBkdAsIAAAAASUVORK5CYII=)"
      ],
      "metadata": {
        "id": "vDpwisRqlurw"
      }
    },
    {
      "cell_type": "markdown",
      "source": [
        "데이터 전처리에서는 \n",
        "\n",
        "1. 불필요한 데이터를 없애고 \n",
        "2. 모델을 훈련하기위한 데이터 스플릿 (training set과 test set 나누기)\n",
        "3. 정수 인코딩으로 텍스트들을 숫자로 만들어 모델에 input을 하여야 한다."
      ],
      "metadata": {
        "id": "RivRFJVGtFir"
      }
    },
    {
      "cell_type": "markdown",
      "source": [
        "## 1. 불필요한 데이터 트리밍"
      ],
      "metadata": {
        "id": "Tx1Mppgb7-0z"
      }
    },
    {
      "cell_type": "markdown",
      "source": [
        "중복 데이터 소거"
      ],
      "metadata": {
        "id": "p22bdF-Cvq4A"
      }
    },
    {
      "cell_type": "code",
      "source": [
        "print('Text 열에서 중복을 배제한 유일한 샘플의 수 :', data['text'].nunique())\n",
        "print('headlines 열에서 중복을 배제한 유일한 샘플의 수 :', data['headlines'].nunique())"
      ],
      "metadata": {
        "colab": {
          "base_uri": "https://localhost:8080/"
        },
        "id": "8br6cHRinf8U",
        "outputId": "d1f3a4e8-131b-4860-b6fe-a8ccdf4c88e0"
      },
      "execution_count": 69,
      "outputs": [
        {
          "output_type": "stream",
          "name": "stdout",
          "text": [
            "Text 열에서 중복을 배제한 유일한 샘플의 수 : 98360\n",
            "headlines 열에서 중복을 배제한 유일한 샘플의 수 : 98280\n"
          ]
        }
      ]
    },
    {
      "cell_type": "code",
      "source": [
        "# 각각 중복을 배제한다면, Text에는 98360, headlines에서는 98280의 데이터가 존재한다."
      ],
      "metadata": {
        "id": "wl0OCtEStz9E"
      },
      "execution_count": 10,
      "outputs": []
    },
    {
      "cell_type": "code",
      "source": [
        "# inplace=True 를 설정하면 DataFrame 타입 값을 return 하지 않고 data 내부를 직접적으로 바꾸기\n",
        "data.drop_duplicates(subset = ['text'], inplace=True)\n",
        "print('전체 샘플수 :', (len(data)))"
      ],
      "metadata": {
        "colab": {
          "base_uri": "https://localhost:8080/"
        },
        "id": "tWoriC1xngab",
        "outputId": "e1782bd8-ada0-48fc-c16a-8cc8492b2566"
      },
      "execution_count": 70,
      "outputs": [
        {
          "output_type": "stream",
          "name": "stdout",
          "text": [
            "전체 샘플수 : 98360\n"
          ]
        }
      ]
    },
    {
      "cell_type": "code",
      "source": [
        "# 중복 data가 존재하지 않는다."
      ],
      "metadata": {
        "id": "9J1wntNVvTV5"
      },
      "execution_count": null,
      "outputs": []
    },
    {
      "cell_type": "markdown",
      "source": [
        "Null값 (결측치 데이터) 확인후 제거하기 "
      ],
      "metadata": {
        "id": "lG7-smBcvtWz"
      }
    },
    {
      "cell_type": "code",
      "source": [
        "print(data.isnull().sum())"
      ],
      "metadata": {
        "colab": {
          "base_uri": "https://localhost:8080/"
        },
        "id": "5kl09pNovx26",
        "outputId": "cb19146b-b4da-4bcd-c9e9-87c3eacc15af"
      },
      "execution_count": 71,
      "outputs": [
        {
          "output_type": "stream",
          "name": "stdout",
          "text": [
            "headlines    0\n",
            "text         0\n",
            "dtype: int64\n"
          ]
        }
      ]
    },
    {
      "cell_type": "code",
      "source": [
        "# 다행히 Null값은 존재하지 않는다."
      ],
      "metadata": {
        "id": "ObZ9UeP1v2jv"
      },
      "execution_count": 19,
      "outputs": []
    },
    {
      "cell_type": "markdown",
      "source": [
        "텍스트 정규화와 불용어 제거"
      ],
      "metadata": {
        "id": "rZ_kHcOFwC9O"
      }
    },
    {
      "cell_type": "code",
      "source": [
        "contractions = {\"ain't\": \"is not\", \"aren't\": \"are not\",\"can't\": \"cannot\", \"'cause\": \"because\", \"could've\": \"could have\", \"couldn't\": \"could not\",\n",
        "                           \"didn't\": \"did not\",  \"doesn't\": \"does not\", \"don't\": \"do not\", \"hadn't\": \"had not\", \"hasn't\": \"has not\", \"haven't\": \"have not\",\n",
        "                           \"he'd\": \"he would\",\"he'll\": \"he will\", \"he's\": \"he is\", \"how'd\": \"how did\", \"how'd'y\": \"how do you\", \"how'll\": \"how will\", \"how's\": \"how is\",\n",
        "                           \"I'd\": \"I would\", \"I'd've\": \"I would have\", \"I'll\": \"I will\", \"I'll've\": \"I will have\",\"I'm\": \"I am\", \"I've\": \"I have\", \"i'd\": \"i would\",\n",
        "                           \"i'd've\": \"i would have\", \"i'll\": \"i will\",  \"i'll've\": \"i will have\",\"i'm\": \"i am\", \"i've\": \"i have\", \"isn't\": \"is not\", \"it'd\": \"it would\",\n",
        "                           \"it'd've\": \"it would have\", \"it'll\": \"it will\", \"it'll've\": \"it will have\",\"it's\": \"it is\", \"let's\": \"let us\", \"ma'am\": \"madam\",\n",
        "                           \"mayn't\": \"may not\", \"might've\": \"might have\",\"mightn't\": \"might not\",\"mightn't've\": \"might not have\", \"must've\": \"must have\",\n",
        "                           \"mustn't\": \"must not\", \"mustn't've\": \"must not have\", \"needn't\": \"need not\", \"needn't've\": \"need not have\",\"o'clock\": \"of the clock\",\n",
        "                           \"oughtn't\": \"ought not\", \"oughtn't've\": \"ought not have\", \"shan't\": \"shall not\", \"sha'n't\": \"shall not\", \"shan't've\": \"shall not have\",\n",
        "                           \"she'd\": \"she would\", \"she'd've\": \"she would have\", \"she'll\": \"she will\", \"she'll've\": \"she will have\", \"she's\": \"she is\",\n",
        "                           \"should've\": \"should have\", \"shouldn't\": \"should not\", \"shouldn't've\": \"should not have\", \"so've\": \"so have\",\"so's\": \"so as\",\n",
        "                           \"this's\": \"this is\",\"that'd\": \"that would\", \"that'd've\": \"that would have\", \"that's\": \"that is\", \"there'd\": \"there would\",\n",
        "                           \"there'd've\": \"there would have\", \"there's\": \"there is\", \"here's\": \"here is\",\"they'd\": \"they would\", \"they'd've\": \"they would have\",\n",
        "                           \"they'll\": \"they will\", \"they'll've\": \"they will have\", \"they're\": \"they are\", \"they've\": \"they have\", \"to've\": \"to have\",\n",
        "                           \"wasn't\": \"was not\", \"we'd\": \"we would\", \"we'd've\": \"we would have\", \"we'll\": \"we will\", \"we'll've\": \"we will have\", \"we're\": \"we are\",\n",
        "                           \"we've\": \"we have\", \"weren't\": \"were not\", \"what'll\": \"what will\", \"what'll've\": \"what will have\", \"what're\": \"what are\",\n",
        "                           \"what's\": \"what is\", \"what've\": \"what have\", \"when's\": \"when is\", \"when've\": \"when have\", \"where'd\": \"where did\", \"where's\": \"where is\",\n",
        "                           \"where've\": \"where have\", \"who'll\": \"who will\", \"who'll've\": \"who will have\", \"who's\": \"who is\", \"who've\": \"who have\",\n",
        "                           \"why's\": \"why is\", \"why've\": \"why have\", \"will've\": \"will have\", \"won't\": \"will not\", \"won't've\": \"will not have\",\n",
        "                           \"would've\": \"would have\", \"wouldn't\": \"would not\", \"wouldn't've\": \"would not have\", \"y'all\": \"you all\",\n",
        "                           \"y'all'd\": \"you all would\",\"y'all'd've\": \"you all would have\",\"y'all're\": \"you all are\",\"y'all've\": \"you all have\",\n",
        "                           \"you'd\": \"you would\", \"you'd've\": \"you would have\", \"you'll\": \"you will\", \"you'll've\": \"you will have\",\n",
        "                           \"you're\": \"you are\", \"you've\": \"you have\"}\n",
        "\n",
        "print(\"정규화 사전의 수: \", len(contractions))"
      ],
      "metadata": {
        "colab": {
          "base_uri": "https://localhost:8080/"
        },
        "id": "Rg9AFKx9v5k3",
        "outputId": "db39d059-69c5-4835-d63d-525f125cb766"
      },
      "execution_count": 72,
      "outputs": [
        {
          "output_type": "stream",
          "name": "stdout",
          "text": [
            "정규화 사전의 수:  120\n"
          ]
        }
      ]
    },
    {
      "cell_type": "code",
      "source": [
        "# 축약어들의 정규화는 완료하였다."
      ],
      "metadata": {
        "id": "k3eJQIy8welz"
      },
      "execution_count": 14,
      "outputs": []
    },
    {
      "cell_type": "code",
      "source": [
        "print('불용어 개수 :', len(stopwords.words('english') ))\n",
        "print(stopwords.words('english'))"
      ],
      "metadata": {
        "colab": {
          "base_uri": "https://localhost:8080/"
        },
        "id": "KxM2JB2_wliX",
        "outputId": "4a53f79c-66ea-403a-b889-3523744f662e"
      },
      "execution_count": 73,
      "outputs": [
        {
          "output_type": "stream",
          "name": "stdout",
          "text": [
            "불용어 개수 : 179\n",
            "['i', 'me', 'my', 'myself', 'we', 'our', 'ours', 'ourselves', 'you', \"you're\", \"you've\", \"you'll\", \"you'd\", 'your', 'yours', 'yourself', 'yourselves', 'he', 'him', 'his', 'himself', 'she', \"she's\", 'her', 'hers', 'herself', 'it', \"it's\", 'its', 'itself', 'they', 'them', 'their', 'theirs', 'themselves', 'what', 'which', 'who', 'whom', 'this', 'that', \"that'll\", 'these', 'those', 'am', 'is', 'are', 'was', 'were', 'be', 'been', 'being', 'have', 'has', 'had', 'having', 'do', 'does', 'did', 'doing', 'a', 'an', 'the', 'and', 'but', 'if', 'or', 'because', 'as', 'until', 'while', 'of', 'at', 'by', 'for', 'with', 'about', 'against', 'between', 'into', 'through', 'during', 'before', 'after', 'above', 'below', 'to', 'from', 'up', 'down', 'in', 'out', 'on', 'off', 'over', 'under', 'again', 'further', 'then', 'once', 'here', 'there', 'when', 'where', 'why', 'how', 'all', 'any', 'both', 'each', 'few', 'more', 'most', 'other', 'some', 'such', 'no', 'nor', 'not', 'only', 'own', 'same', 'so', 'than', 'too', 'very', 's', 't', 'can', 'will', 'just', 'don', \"don't\", 'should', \"should've\", 'now', 'd', 'll', 'm', 'o', 're', 've', 'y', 'ain', 'aren', \"aren't\", 'couldn', \"couldn't\", 'didn', \"didn't\", 'doesn', \"doesn't\", 'hadn', \"hadn't\", 'hasn', \"hasn't\", 'haven', \"haven't\", 'isn', \"isn't\", 'ma', 'mightn', \"mightn't\", 'mustn', \"mustn't\", 'needn', \"needn't\", 'shan', \"shan't\", 'shouldn', \"shouldn't\", 'wasn', \"wasn't\", 'weren', \"weren't\", 'won', \"won't\", 'wouldn', \"wouldn't\"]\n"
          ]
        }
      ]
    },
    {
      "cell_type": "markdown",
      "source": [
        "기본적으로 영어는 소문자로 만들고, html tag 제거, 정규 표현식(import re)을 통하여 각종 특수문자를 제거하는 과정이 필요하다.\n",
        "\n",
        "아래 코드를 사실상 따와서 사용하는 것이지만, 자연어를 하기 위해서는 외우다시피 해야하는 것 아닐까? 라는 생각이 들었다.\n",
        "\n",
        "문법적으로 어려운 부분은 없지만, re module의 활용을 잘해야 한다."
      ],
      "metadata": {
        "id": "pX0eFJcCwvAx"
      }
    },
    {
      "cell_type": "code",
      "source": [
        "# 데이터 전처리 함수\n",
        "def preprocess_sentence(sentence, remove_stopwords=True):\n",
        "    sentence = sentence.lower() # 텍스트 소문자화\n",
        "    sentence = BeautifulSoup(sentence, \"lxml\").text # <br />, <a href = ...> 등의 html 태그 제거\n",
        "    sentence = re.sub(r'\\([^)]*\\)', '', sentence) # 괄호로 닫힌 문자열 (...) 제거 Ex) my husband (and myself!) for => my husband for\n",
        "    sentence = re.sub('\"','', sentence) # 쌍따옴표 \" 제거\n",
        "    sentence = ' '.join([contractions[t] if t in contractions else t for t in sentence.split(\" \")]) # 약어 정규화\n",
        "    sentence = re.sub(r\"'s\\b\",\"\", sentence) # 소유격 제거. Ex) roland's -> roland\n",
        "    sentence = re.sub(\"[^a-zA-Z]\", \" \", sentence) # 영어 외 문자(숫자, 특수문자 등) 공백으로 변환\n",
        "    sentence = re.sub('[m]{2,}', 'mm', sentence) # m이 3개 이상이면 2개로 변경. Ex) ummmmmmm yeah -> umm yeah\n",
        "    \n",
        "    # 불용어 제거 (Text)\n",
        "    if remove_stopwords:\n",
        "        tokens = ' '.join(word for word in sentence.split() if not word in stopwords.words('english') if len(word) > 1)\n",
        "    # 불용어 미제거 (Summary)\n",
        "    else:\n",
        "        tokens = ' '.join(word for word in sentence.split() if len(word) > 1)\n",
        "    return tokens\n"
      ],
      "metadata": {
        "id": "9ch3Rh7Bw4Wn"
      },
      "execution_count": 74,
      "outputs": []
    },
    {
      "cell_type": "markdown",
      "source": [
        "데이터 전처리 전과 후를 비교해보기"
      ],
      "metadata": {
        "id": "KgGRs3erxjoa"
      }
    },
    {
      "cell_type": "code",
      "source": [
        "temp_text = 'Everything I bought was great, infact I ordered twice and the third ordered was<br />for my mother and father.'\n",
        "temp_headlines = 'Great way to start (or finish) the day!!!'\n",
        "\n",
        "print(\"text: \", preprocess_sentence(temp_text))\n",
        "print(\"headlines:\", preprocess_sentence(temp_headlines, False))  # 불용어를 제거하지 않습니다."
      ],
      "metadata": {
        "colab": {
          "base_uri": "https://localhost:8080/"
        },
        "id": "st-O0-03x3Fw",
        "outputId": "d69be6bb-1bfd-4831-8020-246e796f41e4"
      },
      "execution_count": 75,
      "outputs": [
        {
          "output_type": "stream",
          "name": "stdout",
          "text": [
            "text:  everything bought great infact ordered twice third ordered wasfor mother father\n",
            "headlines: great way to start the day\n"
          ]
        }
      ]
    },
    {
      "cell_type": "markdown",
      "source": [
        "lms에서 처럼 headlines은 한문장으로 요약하는 의미의 글이다.\n",
        "그만큼 중심 단어가 담겨야하며, 추상적 요약으로 문장이 만들어질때 문법적으로나 어감으로 자연스러워야 한다.\n",
        "\n",
        "불용어를 제거하고 할수도 있지만, 그대로 진행할 예정이다."
      ],
      "metadata": {
        "id": "AqkpIExLzoFl"
      }
    },
    {
      "cell_type": "code",
      "source": [
        "clean_text = []\n",
        "# 전체 Text 데이터에 대한 전처리 : GPU 런 상태에서 시간이 30분 정도 소요되었다. \n",
        "for s in data['text']:\n",
        "    clean_text.append(preprocess_sentence(s))\n",
        "\n",
        "# 전처리 후 출력\n",
        "print(\"text 전처리 후 결과: \", clean_text[:5])"
      ],
      "metadata": {
        "colab": {
          "base_uri": "https://localhost:8080/"
        },
        "id": "8gBw7tNv0LwW",
        "outputId": "d3eb47f6-4684-453e-ae31-0fdfee6a1c95"
      },
      "execution_count": 76,
      "outputs": [
        {
          "output_type": "stream",
          "name": "stdout",
          "text": [
            "text 전처리 후 결과:  ['saurav kant alumnus upgrad iiit pg program machine learning artificial intelligence sr systems engineer infosys almost years work experience program upgrad degree career support helped transition data scientist tech mahindra salary hike upgrad online power learning powered lakh careers', 'kunal shah credit card bill payment platform cred gave users chance win free food swiggy one year pranav kaushik delhi techie bagged reward spending cred coins users get one cred coin per rupee bill paid used avail rewards brands like ixigo bookmyshow ubereats cult fit', 'new zealand defeated india wickets fourth odi hamilton thursday win first match five match odi series india lost international match rohit sharma captaincy consecutive victories dating back march match witnessed india getting seventh lowest total odi cricket history', 'aegon life iterm insurance plan customers enjoy tax benefits premiums paid save taxes plan provides life cover age years also customers options insure critical illnesses disability accidental death benefit rider life cover age years', 'speaking sexual harassment allegations rajkumar hirani sonam kapoor said known hirani many years true metoo movement get derailed metoo movement always believe woman case need reserve judgment added hirani accused assistant worked sanju']\n"
          ]
        }
      ]
    },
    {
      "cell_type": "markdown",
      "source": [
        "Headlines에 대해서 진행"
      ],
      "metadata": {
        "id": "G59KkNz26R7i"
      }
    },
    {
      "cell_type": "code",
      "source": [
        "clean_headlines = []\n",
        "\n",
        "for s in data['headlines']: # 위와 다르게 3분만에 끝남\n",
        "    clean_summary.append(preprocess_sentence(s, False))\n",
        "\n",
        "print(\"headlines 전처리 후 결과: \", clean_headlines[:5])"
      ],
      "metadata": {
        "colab": {
          "base_uri": "https://localhost:8080/"
        },
        "id": "Ix93YsF36V0c",
        "outputId": "e0d79244-b4bd-494c-b530-9ba779161e1a"
      },
      "execution_count": 77,
      "outputs": [
        {
          "output_type": "stream",
          "name": "stdout",
          "text": [
            "headlines 전처리 후 결과:  []\n"
          ]
        }
      ]
    },
    {
      "cell_type": "code",
      "source": [
        "data.isnull().sum()"
      ],
      "metadata": {
        "colab": {
          "base_uri": "https://localhost:8080/"
        },
        "id": "Aop3ltn_61ye",
        "outputId": "b4a1b81e-9c17-4771-87e7-e0c26114adea"
      },
      "execution_count": 21,
      "outputs": [
        {
          "output_type": "execute_result",
          "data": {
            "text/plain": [
              "headlines    0\n",
              "text         0\n",
              "dtype: int64"
            ]
          },
          "metadata": {},
          "execution_count": 21
        }
      ]
    },
    {
      "cell_type": "code",
      "source": [
        "# 결과적으로 null값이 없다 - 다행이다"
      ],
      "metadata": {
        "id": "1_opvz4U64Mc"
      },
      "execution_count": 22,
      "outputs": []
    },
    {
      "cell_type": "code",
      "source": [
        "# 만약 결측치가 있으면 아래 code로 제거를 한다.\n",
        "\n",
        "# 열로 구성되어 있기에 axis=0을 넣고, 길게 행으로 된 데이터에서 한다면 axis=1로 해야한다. \n",
        "\n",
        "# data.dropna(axis=0, inplace=True)\n",
        "# print('전체 샘플수 :', (len(data)))"
      ],
      "metadata": {
        "id": "7a8zjblH69Pn"
      },
      "execution_count": 23,
      "outputs": []
    },
    {
      "cell_type": "markdown",
      "source": [
        "## 2. 훈련 데이터와 테스트 데이터 나누기"
      ],
      "metadata": {
        "id": "eVqOzPrc8E26"
      }
    },
    {
      "cell_type": "markdown",
      "source": [
        "샘플의 최대 길이 정하기"
      ],
      "metadata": {
        "id": "wnMz0V_m8r1p"
      }
    },
    {
      "cell_type": "code",
      "source": [
        "# 길이 분포 출력\n",
        "import matplotlib.pyplot as plt\n",
        "\n",
        "text_len = [len(s.split()) for s in data['text']]\n",
        "headlines_len = [len(s.split()) for s in data['headlines']]\n",
        "\n",
        "print('텍스트의 최소 길이 : {}'.format(np.min(text_len)))\n",
        "print('텍스트의 최대 길이 : {}'.format(np.max(text_len)))\n",
        "print('텍스트의 평균 길이 : {}'.format(np.mean(text_len)))\n",
        "print('헤드라인의 최소 길이 : {}'.format(np.min(headlines_len)))\n",
        "print('헤드라인의 최대 길이 : {}'.format(np.max(headlines_len)))\n",
        "print('헤드라인의 평균 길이 : {}'.format(np.mean(headlines_len)))\n",
        "\n",
        "plt.subplot(1,2,1)\n",
        "plt.boxplot(text_len)\n",
        "plt.title('text')\n",
        "plt.subplot(1,2,2)\n",
        "plt.boxplot(headlines_len)\n",
        "plt.title('headlines')\n",
        "plt.tight_layout()\n",
        "plt.show()\n",
        "\n",
        "plt.title('text')\n",
        "plt.hist(text_len, bins = 40)\n",
        "plt.xlabel('length of samples')\n",
        "plt.ylabel('number of samples')\n",
        "plt.show()\n",
        "\n",
        "plt.title('headlines')\n",
        "plt.hist(headlines_len, bins = 40)\n",
        "plt.xlabel('length of samples')\n",
        "plt.ylabel('number of samples')\n",
        "plt.show()"
      ],
      "metadata": {
        "colab": {
          "base_uri": "https://localhost:8080/",
          "height": 963
        },
        "id": "-01VAXbu8yAD",
        "outputId": "252143ba-3d12-44ce-d973-fdf045c8b96c"
      },
      "execution_count": 78,
      "outputs": [
        {
          "output_type": "stream",
          "name": "stdout",
          "text": [
            "텍스트의 최소 길이 : 1\n",
            "텍스트의 최대 길이 : 66\n",
            "텍스트의 평균 길이 : 58.23730174867833\n",
            "헤드라인의 최소 길이 : 1\n",
            "헤드라인의 최대 길이 : 18\n",
            "헤드라인의 평균 길이 : 9.553629524196827\n"
          ]
        },
        {
          "output_type": "display_data",
          "data": {
            "image/png": "[encoded data removed]",
            "text/plain": [
              "<Figure size 432x288 with 2 Axes>"
            ]
          },
          "metadata": {
            "needs_background": "light"
          }
        },
        {
          "output_type": "display_data",
          "data": {
            "image/png": "[encoded data removed]",
            "text/plain": [
              "<Figure size 432x288 with 1 Axes>"
            ]
          },
          "metadata": {
            "needs_background": "light"
          }
        },
        {
          "output_type": "display_data",
          "data": {
            "image/png": "[encoded data removed]",
            "text/plain": [
              "<Figure size 432x288 with 1 Axes>"
            ]
          },
          "metadata": {
            "needs_background": "light"
          }
        }
      ]
    },
    {
      "cell_type": "code",
      "source": [
        "# 그래프를 보면 text는 주로 60개 내외의 길이를 가지고 있고, headlines의 분포는 비교적 정규분포의 느낌으로 분포되어 있다.\n",
        "# 우선은 text와 summary의 최대 길이를 정해야 한다.\n",
        "\n",
        "# 통계적으로 정확하게 접근하기 직전에 임의의 값을 지정해서 해보려고 한다."
      ],
      "metadata": {
        "id": "lxyt1CDI-TnS"
      },
      "execution_count": null,
      "outputs": []
    },
    {
      "cell_type": "code",
      "source": [
        "text_max_len = 60\n",
        "headlines_max_len = 10"
      ],
      "metadata": {
        "id": "gGo43erA_FJ2"
      },
      "execution_count": 79,
      "outputs": []
    },
    {
      "cell_type": "code",
      "source": [
        "def below_threshold_len(max_len, nested_list):\n",
        "  cnt = 0\n",
        "  for s in nested_list:\n",
        "    if(len(s.split()) <= max_len):\n",
        "        cnt += 1\n",
        "  print('전체 샘플 중 길이가 %s 이하인 샘플의 비율: %s'%(max_len, (cnt / len(nested_list))))"
      ],
      "metadata": {
        "id": "9JMcRykPAuEd"
      },
      "execution_count": 80,
      "outputs": []
    },
    {
      "cell_type": "code",
      "source": [
        "below_threshold_len(text_max_len, data['text'])\n",
        "below_threshold_len(headlines_max_len,  data['headlines'])"
      ],
      "metadata": {
        "colab": {
          "base_uri": "https://localhost:8080/"
        },
        "id": "KAsv0z5WA5Gj",
        "outputId": "792155ae-32af-4816-a04e-d82163d7297d"
      },
      "execution_count": 81,
      "outputs": [
        {
          "output_type": "stream",
          "name": "stdout",
          "text": [
            "전체 샘플 중 길이가 60 이하인 샘플의 비율: 0.9976311508743392\n",
            "전체 샘플 중 길이가 10 이하인 샘플의 비율: 0.7527043513623424\n"
          ]
        }
      ]
    },
    {
      "cell_type": "code",
      "source": [
        "# 비율로 보자면 60이하의 text 샘플은 99프로에 육박하고 headlines 같은 경우에는 75프로이다."
      ],
      "metadata": {
        "id": "7FTYM9rsCAkQ"
      },
      "execution_count": 82,
      "outputs": []
    },
    {
      "cell_type": "code",
      "source": [
        "# 정해진 길이보다 길면 제외하는 방법을 사용한다\n",
        "\n",
        "data = data[data['text'].apply(lambda x: len(x.split()) <= text_max_len)]\n",
        "data = data[data['headlines'].apply(lambda x: len(x.split()) <= headlines_max_len)]\n",
        "print('전체 샘플수 :', (len(data)))"
      ],
      "metadata": {
        "colab": {
          "base_uri": "https://localhost:8080/"
        },
        "id": "Vw6n7sKGCcvg",
        "outputId": "8ba11087-1a31-4e66-cfb4-351e7e889035"
      },
      "execution_count": 83,
      "outputs": [
        {
          "output_type": "stream",
          "name": "stdout",
          "text": [
            "전체 샘플수 : 73879\n"
          ]
        }
      ]
    },
    {
      "cell_type": "code",
      "source": [
        "# 헤드라인 데이터에는 시작 토큰과 종료 토큰을 추가한다.\n",
        "data['decoder_input'] = data['headlines'].apply(lambda x : 'sostoken '+ x)\n",
        "data['decoder_target'] = data['headlines'].apply(lambda x : x + ' eostoken')\n",
        "data.head()"
      ],
      "metadata": {
        "colab": {
          "base_uri": "https://localhost:8080/",
          "height": 337
        },
        "id": "v5OETAoGCrXU",
        "outputId": "9a3cf7f4-3b18-4bfe-a684-c99d72ab53de"
      },
      "execution_count": 84,
      "outputs": [
        {
          "output_type": "execute_result",
          "data": {
            "text/html": [
              "\n",
              "  <div id=\"df-480b1cf6-be6e-48f3-8ed9-6d57c0cc206b\">\n",
              "    <div class=\"colab-df-container\">\n",
              "      <div>\n",
              "<style scoped>\n",
              "    .dataframe tbody tr th:only-of-type {\n",
              "        vertical-align: middle;\n",
              "    }\n",
              "\n",
              "    .dataframe tbody tr th {\n",
              "        vertical-align: top;\n",
              "    }\n",
              "\n",
              "    .dataframe thead th {\n",
              "        text-align: right;\n",
              "    }\n",
              "</style>\n",
              "<table border=\"1\" class=\"dataframe\">\n",
              "  <thead>\n",
              "    <tr style=\"text-align: right;\">\n",
              "      <th></th>\n",
              "      <th>headlines</th>\n",
              "      <th>text</th>\n",
              "      <th>decoder_input</th>\n",
              "      <th>decoder_target</th>\n",
              "    </tr>\n",
              "  </thead>\n",
              "  <tbody>\n",
              "    <tr>\n",
              "      <th>2</th>\n",
              "      <td>New Zealand end Rohit Sharma-led India's 12-ma...</td>\n",
              "      <td>New Zealand defeated India by 8 wickets in the...</td>\n",
              "      <td>sostoken New Zealand end Rohit Sharma-led Indi...</td>\n",
              "      <td>New Zealand end Rohit Sharma-led India's 12-ma...</td>\n",
              "    </tr>\n",
              "    <tr>\n",
              "      <th>3</th>\n",
              "      <td>Aegon life iTerm insurance plan helps customer...</td>\n",
              "      <td>With Aegon Life iTerm Insurance plan, customer...</td>\n",
              "      <td>sostoken Aegon life iTerm insurance plan helps...</td>\n",
              "      <td>Aegon life iTerm insurance plan helps customer...</td>\n",
              "    </tr>\n",
              "    <tr>\n",
              "      <th>5</th>\n",
              "      <td>Rahat Fateh Ali Khan denies getting notice for...</td>\n",
              "      <td>Pakistani singer Rahat Fateh Ali Khan has deni...</td>\n",
              "      <td>sostoken Rahat Fateh Ali Khan denies getting n...</td>\n",
              "      <td>Rahat Fateh Ali Khan denies getting notice for...</td>\n",
              "    </tr>\n",
              "    <tr>\n",
              "      <th>10</th>\n",
              "      <td>UP cousins fed human excreta for friendship wi...</td>\n",
              "      <td>Two minor cousins in Uttar Pradesh's Gorakhpur...</td>\n",
              "      <td>sostoken UP cousins fed human excreta for frie...</td>\n",
              "      <td>UP cousins fed human excreta for friendship wi...</td>\n",
              "    </tr>\n",
              "    <tr>\n",
              "      <th>11</th>\n",
              "      <td>81-yr-old woman conducts physical training in ...</td>\n",
              "      <td>Isha Ghosh, an 81-year-old member of Bharat Sc...</td>\n",
              "      <td>sostoken 81-yr-old woman conducts physical tra...</td>\n",
              "      <td>81-yr-old woman conducts physical training in ...</td>\n",
              "    </tr>\n",
              "  </tbody>\n",
              "</table>\n",
              "</div>\n",
              "      <button class=\"colab-df-convert\" onclick=\"convertToInteractive('df-480b1cf6-be6e-48f3-8ed9-6d57c0cc206b')\"\n",
              "              title=\"Convert this dataframe to an interactive table.\"\n",
              "              style=\"display:none;\">\n",
              "        \n",
              "  <svg xmlns=\"http://www.w3.org/2000/svg\" height=\"24px\"viewBox=\"0 0 24 24\"\n",
              "       width=\"24px\">\n",
              "    <path d=\"M0 0h24v24H0V0z\" fill=\"none\"/>\n",
              "    <path d=\"M18.56 5.44l.94 2.06.94-2.06 2.06-.94-2.06-.94-.94-2.06-.94 2.06-2.06.94zm-11 1L8.5 8.5l.94-2.06 2.06-.94-2.06-.94L8.5 2.5l-.94 2.06-2.06.94zm10 10l.94 2.06.94-2.06 2.06-.94-2.06-.94-.94-2.06-.94 2.06-2.06.94z\"/><path d=\"M17.41 7.96l-1.37-1.37c-.4-.4-.92-.59-1.43-.59-.52 0-1.04.2-1.43.59L10.3 9.45l-7.72 7.72c-.78.78-.78 2.05 0 2.83L4 21.41c.39.39.9.59 1.41.59.51 0 1.02-.2 1.41-.59l7.78-7.78 2.81-2.81c.8-.78.8-2.07 0-2.86zM5.41 20L4 18.59l7.72-7.72 1.47 1.35L5.41 20z\"/>\n",
              "  </svg>\n",
              "      </button>\n",
              "      \n",
              "  <style>\n",
              "    .colab-df-container {\n",
              "      display:flex;\n",
              "      flex-wrap:wrap;\n",
              "      gap: 12px;\n",
              "    }\n",
              "\n",
              "    .colab-df-convert {\n",
              "      background-color: #E8F0FE;\n",
              "      border: none;\n",
              "      border-radius: 50%;\n",
              "      cursor: pointer;\n",
              "      display: none;\n",
              "      fill: #1967D2;\n",
              "      height: 32px;\n",
              "      padding: 0 0 0 0;\n",
              "      width: 32px;\n",
              "    }\n",
              "\n",
              "    .colab-df-convert:hover {\n",
              "      background-color: #E2EBFA;\n",
              "      box-shadow: 0px 1px 2px rgba(60, 64, 67, 0.3), 0px 1px 3px 1px rgba(60, 64, 67, 0.15);\n",
              "      fill: #174EA6;\n",
              "    }\n",
              "\n",
              "    [theme=dark] .colab-df-convert {\n",
              "      background-color: #3B4455;\n",
              "      fill: #D2E3FC;\n",
              "    }\n",
              "\n",
              "    [theme=dark] .colab-df-convert:hover {\n",
              "      background-color: #434B5C;\n",
              "      box-shadow: 0px 1px 3px 1px rgba(0, 0, 0, 0.15);\n",
              "      filter: drop-shadow(0px 1px 2px rgba(0, 0, 0, 0.3));\n",
              "      fill: #FFFFFF;\n",
              "    }\n",
              "  </style>\n",
              "\n",
              "      <script>\n",
              "        const buttonEl =\n",
              "          document.querySelector('#df-480b1cf6-be6e-48f3-8ed9-6d57c0cc206b button.colab-df-convert');\n",
              "        buttonEl.style.display =\n",
              "          google.colab.kernel.accessAllowed ? 'block' : 'none';\n",
              "\n",
              "        async function convertToInteractive(key) {\n",
              "          const element = document.querySelector('#df-480b1cf6-be6e-48f3-8ed9-6d57c0cc206b');\n",
              "          const dataTable =\n",
              "            await google.colab.kernel.invokeFunction('convertToInteractive',\n",
              "                                                     [key], {});\n",
              "          if (!dataTable) return;\n",
              "\n",
              "          const docLinkHtml = 'Like what you see? Visit the ' +\n",
              "            '<a target=\"_blank\" href=https://colab.research.google.com/notebooks/data_table.ipynb>data table notebook</a>'\n",
              "            + ' to learn more about interactive tables.';\n",
              "          element.innerHTML = '';\n",
              "          dataTable['output_type'] = 'display_data';\n",
              "          await google.colab.output.renderOutput(dataTable, element);\n",
              "          const docLink = document.createElement('div');\n",
              "          docLink.innerHTML = docLinkHtml;\n",
              "          element.appendChild(docLink);\n",
              "        }\n",
              "      </script>\n",
              "    </div>\n",
              "  </div>\n",
              "  "
            ],
            "text/plain": [
              "                                            headlines  ...                                     decoder_target\n",
              "2   New Zealand end Rohit Sharma-led India's 12-ma...  ...  New Zealand end Rohit Sharma-led India's 12-ma...\n",
              "3   Aegon life iTerm insurance plan helps customer...  ...  Aegon life iTerm insurance plan helps customer...\n",
              "5   Rahat Fateh Ali Khan denies getting notice for...  ...  Rahat Fateh Ali Khan denies getting notice for...\n",
              "10  UP cousins fed human excreta for friendship wi...  ...  UP cousins fed human excreta for friendship wi...\n",
              "11  81-yr-old woman conducts physical training in ...  ...  81-yr-old woman conducts physical training in ...\n",
              "\n",
              "[5 rows x 4 columns]"
            ]
          },
          "metadata": {},
          "execution_count": 84
        }
      ]
    },
    {
      "cell_type": "code",
      "source": [
        "# Numpy 타입으로 저장!\n",
        "\n",
        "encoder_input = np.array(data['text']) # 인코더의 입력\n",
        "decoder_input = np.array(data['decoder_input']) # 디코더의 입력\n",
        "decoder_target = np.array(data['decoder_target']) # 디코더의 레이블"
      ],
      "metadata": {
        "id": "XtrzA9ZhC3xW"
      },
      "execution_count": 85,
      "outputs": []
    },
    {
      "cell_type": "code",
      "source": [
        "indices = np.arange(encoder_input.shape[0])\n",
        "np.random.shuffle(indices)\n",
        "print(indices)"
      ],
      "metadata": {
        "colab": {
          "base_uri": "https://localhost:8080/"
        },
        "id": "nnSLH2uiC7wz",
        "outputId": "c54b6f34-739d-40d6-cbf7-48bfb709d5be"
      },
      "execution_count": 86,
      "outputs": [
        {
          "output_type": "stream",
          "name": "stdout",
          "text": [
            "[59358 66660 19209 ... 27629 27468 54643]\n"
          ]
        }
      ]
    },
    {
      "cell_type": "code",
      "source": [
        "encoder_input = encoder_input[indices]\n",
        "decoder_input = decoder_input[indices]\n",
        "decoder_target = decoder_target[indices]"
      ],
      "metadata": {
        "id": "k5zTSFjTC_Dv"
      },
      "execution_count": 87,
      "outputs": []
    },
    {
      "cell_type": "code",
      "source": [
        "n_of_val = int(len(encoder_input)*0.2) # 테스트 데이터는 20프로\n",
        "print('테스트 데이터의 수 :', n_of_val)"
      ],
      "metadata": {
        "colab": {
          "base_uri": "https://localhost:8080/"
        },
        "id": "SVI69ND5DC8d",
        "outputId": "6ddfa7c2-2b37-4871-b8d3-f7dfb3dc8805"
      },
      "execution_count": 88,
      "outputs": [
        {
          "output_type": "stream",
          "name": "stdout",
          "text": [
            "테스트 데이터의 수 : 14775\n"
          ]
        }
      ]
    },
    {
      "cell_type": "code",
      "source": [
        "encoder_input_train = encoder_input[:-n_of_val]\n",
        "decoder_input_train = decoder_input[:-n_of_val]\n",
        "decoder_target_train = decoder_target[:-n_of_val]\n",
        "\n",
        "encoder_input_test = encoder_input[-n_of_val:]\n",
        "decoder_input_test = decoder_input[-n_of_val:]\n",
        "decoder_target_test = decoder_target[-n_of_val:]\n",
        "\n",
        "print('훈련 데이터의 개수 :', len(encoder_input_train))\n",
        "print('훈련 레이블의 개수 :', len(decoder_input_train))\n",
        "print('테스트 데이터의 개수 :', len(encoder_input_test))\n",
        "print('테스트 레이블의 개수 :', len(decoder_input_test))"
      ],
      "metadata": {
        "colab": {
          "base_uri": "https://localhost:8080/"
        },
        "id": "w-iZguomDJ8K",
        "outputId": "b9df9851-8762-48f4-cfed-878398926f56"
      },
      "execution_count": 89,
      "outputs": [
        {
          "output_type": "stream",
          "name": "stdout",
          "text": [
            "훈련 데이터의 개수 : 59104\n",
            "훈련 레이블의 개수 : 59104\n",
            "테스트 데이터의 개수 : 14775\n",
            "테스트 레이블의 개수 : 14775\n"
          ]
        }
      ]
    },
    {
      "cell_type": "markdown",
      "source": [
        "## 3. 정수 인코딩"
      ],
      "metadata": {
        "id": "--YkrzbdFCmg"
      }
    },
    {
      "cell_type": "code",
      "source": [
        "src_tokenizer = Tokenizer() # 토크나이저 정의\n",
        "src_tokenizer.fit_on_texts(encoder_input_train) # 입력된 데이터로부터 단어 집합 생성"
      ],
      "metadata": {
        "id": "lE5ZobxMFdN3"
      },
      "execution_count": 90,
      "outputs": []
    },
    {
      "cell_type": "code",
      "source": [
        "threshold = 7\n",
        "total_cnt = len(src_tokenizer.word_index) # 단어의 수\n",
        "rare_cnt = 0 # 등장 빈도수가 threshold보다 작은 단어의 개수를 카운트\n",
        "total_freq = 0 # 훈련 데이터의 전체 단어 빈도수 총 합\n",
        "rare_freq = 0 # 등장 빈도수가 threshold보다 작은 단어의 등장 빈도수의 총 합\n",
        "\n",
        "# 단어와 빈도수의 쌍(pair)을 key와 value로 받는다.\n",
        "for key, value in src_tokenizer.word_counts.items():\n",
        "    total_freq = total_freq + value\n",
        "\n",
        "    # 단어의 등장 빈도수가 threshold보다 작으면\n",
        "    if(value < threshold):\n",
        "        rare_cnt = rare_cnt + 1\n",
        "        rare_freq = rare_freq + value\n",
        "\n",
        "print('단어 집합(vocabulary)의 크기 :', total_cnt)\n",
        "print('등장 빈도가 %s번 이하인 희귀 단어의 수: %s'%(threshold - 1, rare_cnt))\n",
        "print('단어 집합에서 희귀 단어를 제외시킬 경우의 단어 집합의 크기 %s'%(total_cnt - rare_cnt))\n",
        "print(\"단어 집합에서 희귀 단어의 비율:\", (rare_cnt / total_cnt)*100)\n",
        "print(\"전체 등장 빈도에서 희귀 단어 등장 빈도 비율:\", (rare_freq / total_freq)*100)"
      ],
      "metadata": {
        "colab": {
          "base_uri": "https://localhost:8080/"
        },
        "id": "bGN8EUaFFjUM",
        "outputId": "6bcd86a6-f789-4e41-88fe-8e1b4d1bba02"
      },
      "execution_count": 91,
      "outputs": [
        {
          "output_type": "stream",
          "name": "stdout",
          "text": [
            "단어 집합(vocabulary)의 크기 : 81868\n",
            "등장 빈도가 6번 이하인 희귀 단어의 수: 60102\n",
            "단어 집합에서 희귀 단어를 제외시킬 경우의 단어 집합의 크기 21766\n",
            "단어 집합에서 희귀 단어의 비율: 73.41329945766356\n",
            "전체 등장 빈도에서 희귀 단어 등장 빈도 비율: 3.2921295322497137\n"
          ]
        }
      ]
    },
    {
      "cell_type": "code",
      "source": [
        "# 등장 빈도가 6회 이하인 단어들은 정수 인코딩 과정에서 빼고, 훈련 데이터에서 제거!\n",
        "# 단어 집합의 크기는 21746에서 어립잡아 20000개로 제한.\n",
        "\n",
        "src_vocab = 8000\n",
        "src_tokenizer = Tokenizer(num_words=src_vocab) # 단어 집합의 크기를 8,000으로 제한\n",
        "src_tokenizer.fit_on_texts(encoder_input_train) # 단어 집합 재생성"
      ],
      "metadata": {
        "id": "z8wjdDcaFsNR"
      },
      "execution_count": 92,
      "outputs": []
    },
    {
      "cell_type": "code",
      "source": [
        "# 텍스트 시퀀스를 정수 시퀀스로 변환\n",
        "encoder_input_train = src_tokenizer.texts_to_sequences(encoder_input_train) \n",
        "encoder_input_test = src_tokenizer.texts_to_sequences(encoder_input_test)\n",
        "\n",
        "# 잘 진행되었는지 샘플 출력\n",
        "print(encoder_input_train[:3])"
      ],
      "metadata": {
        "colab": {
          "base_uri": "https://localhost:8080/"
        },
        "id": "E7M6J_oTGVqd",
        "outputId": "78e13e7d-3024-41fc-f1f3-4511c12797b7"
      },
      "execution_count": 93,
      "outputs": [
        {
          "output_type": "stream",
          "name": "stdout",
          "text": [
            "[[19, 39, 2120, 2263, 5034, 832, 32, 6096, 3, 111, 2015, 694, 32, 334, 3, 3665, 7011, 233, 65, 1, 717, 1, 28, 1688, 4042, 13, 189, 77, 2481, 2, 19, 1, 1206, 2469, 4182, 14, 1, 1206, 880, 1, 111, 38, 309, 3, 1206, 1504, 29, 8, 253, 246, 64, 37, 3175, 259, 120], [409, 1018, 8, 1354, 20, 3, 2183, 10, 3, 3579, 1472, 18, 2275, 293, 16, 12, 4348, 43, 5684, 4, 1, 54, 1334, 3914, 1, 3579, 4580, 2, 2121, 32, 176, 1751, 5310, 2, 5089, 18, 2275, 293, 16, 545, 26, 152, 1475, 2, 1, 3579, 79, 25, 1644, 3751, 1, 833, 11, 1056, 11, 13, 2777, 40], [245, 229, 55, 2404, 109, 7, 147, 10, 16, 13, 40, 1512, 2, 1265, 11, 1875, 4, 621, 6, 481, 41, 1036, 16, 38, 2456, 11, 16, 652, 40, 1265, 481, 87, 41, 173, 7012, 1, 3176, 794, 12, 2, 2601, 502, 47, 51, 85, 1875, 3340, 1, 1195, 16, 35]]\n"
          ]
        }
      ]
    },
    {
      "cell_type": "code",
      "source": [
        "tar_tokenizer = Tokenizer()\n",
        "tar_tokenizer.fit_on_texts(decoder_input_train) # decoder_input_train을 입력하여 전체 단어 집합과 각 단어에 대한 빈도수를 계산"
      ],
      "metadata": {
        "id": "m76bhYfyGZou"
      },
      "execution_count": 94,
      "outputs": []
    },
    {
      "cell_type": "code",
      "source": [
        "threshold = 6\n",
        "total_cnt = len(tar_tokenizer.word_index) # 단어의 수\n",
        "rare_cnt = 0 # 등장 빈도수가 threshold보다 작은 단어의 개수를 카운트\n",
        "total_freq = 0 # 훈련 데이터의 전체 단어 빈도수 총 합\n",
        "rare_freq = 0 # 등장 빈도수가 threshold보다 작은 단어의 등장 빈도수의 총 합\n",
        "\n",
        "# 단어와 빈도수의 쌍(pair)을 key와 value로 받는다.\n",
        "for key, value in tar_tokenizer.word_counts.items():\n",
        "    total_freq = total_freq + value\n",
        "\n",
        "    # 단어의 등장 빈도수가 threshold보다 작으면\n",
        "    if(value < threshold):\n",
        "        rare_cnt = rare_cnt + 1\n",
        "        rare_freq = rare_freq + value\n",
        "\n",
        "print('단어 집합(vocabulary)의 크기 :', total_cnt)\n",
        "print('등장 빈도가 %s번 이하인 희귀 단어의 수: %s'%(threshold - 1, rare_cnt))\n",
        "print('단어 집합에서 희귀 단어를 제외시킬 경우의 단어 집합의 크기 %s'%(total_cnt - rare_cnt))\n",
        "print(\"단어 집합에서 희귀 단어의 비율:\", (rare_cnt / total_cnt)*100)\n",
        "print(\"전체 등장 빈도에서 희귀 단어 등장 빈도 비율:\", (rare_freq / total_freq)*100)"
      ],
      "metadata": {
        "colab": {
          "base_uri": "https://localhost:8080/"
        },
        "id": "LcmcskZ5OxRK",
        "outputId": "6f49d36f-8dd2-4668-f3ed-295ed0a5f462"
      },
      "execution_count": 95,
      "outputs": [
        {
          "output_type": "stream",
          "name": "stdout",
          "text": [
            "단어 집합(vocabulary)의 크기 : 36900\n",
            "등장 빈도가 5번 이하인 희귀 단어의 수: 27142\n",
            "단어 집합에서 희귀 단어를 제외시킬 경우의 단어 집합의 크기 9758\n",
            "단어 집합에서 희귀 단어의 비율: 73.55555555555556\n",
            "전체 등장 빈도에서 희귀 단어 등장 빈도 비율: 7.938687519358916\n"
          ]
        }
      ]
    },
    {
      "cell_type": "code",
      "source": [
        "# 위 결과로 보아 실제로 희귀단어 등장 비율을 계산하여 제한해야 한다.\n",
        "\n",
        "# 37018 * 0.08 = 2961 정도 ------> 크게 어림잡아 3000으로 제한."
      ],
      "metadata": {
        "id": "KhakwqNrPNOF"
      },
      "execution_count": null,
      "outputs": []
    },
    {
      "cell_type": "code",
      "source": [
        "tar_vocab = 3000\n",
        "tar_tokenizer = Tokenizer(num_words=tar_vocab) \n",
        "tar_tokenizer.fit_on_texts(decoder_input_train)\n",
        "tar_tokenizer.fit_on_texts(decoder_target_train)\n",
        "\n",
        "# 텍스트 시퀀스를 정수 시퀀스로 변환\n",
        "decoder_input_train = tar_tokenizer.texts_to_sequences(decoder_input_train) \n",
        "decoder_target_train = tar_tokenizer.texts_to_sequences(decoder_target_train)\n",
        "decoder_input_test = tar_tokenizer.texts_to_sequences(decoder_input_test)\n",
        "decoder_target_test = tar_tokenizer.texts_to_sequences(decoder_target_test)\n",
        "\n",
        "# 잘 변환되었는지 확인\n",
        "print('input')\n",
        "print('input ',decoder_input_train[:5])\n",
        "print('target')\n",
        "print('decoder ',decoder_target_train[:5])"
      ],
      "metadata": {
        "colab": {
          "base_uri": "https://localhost:8080/"
        },
        "id": "Toc4ELadQjl1",
        "outputId": "548c951a-a14e-40db-b51c-64caa8d14393"
      },
      "execution_count": 96,
      "outputs": [
        {
          "output_type": "stream",
          "name": "stdout",
          "text": [
            "input\n",
            "input  [[1, 1064, 54, 105, 2588, 126, 87], [1, 1052, 1030, 1459, 1388, 5, 278, 1223], [1, 22, 1041, 3, 2430, 1434, 93, 672, 923], [1, 13, 517, 180, 83, 5], [1, 246, 2159, 4, 436, 8, 1656, 613, 263]]\n",
            "target\n",
            "decoder  [[1064, 54, 105, 2588, 126, 87, 2], [1052, 1030, 1459, 1388, 5, 278, 1223, 2], [22, 1041, 3, 2430, 1434, 93, 672, 923, 2], [13, 517, 180, 83, 5, 2], [246, 2159, 4, 436, 8, 1656, 613, 263, 2]]\n"
          ]
        }
      ]
    },
    {
      "cell_type": "code",
      "source": [
        "drop_train = [index for index, sentence in enumerate(decoder_input_train) if len(sentence) == 1]\n",
        "drop_test = [index for index, sentence in enumerate(decoder_input_test) if len(sentence) == 1]\n",
        "\n",
        "print('삭제할 훈련 데이터의 개수 :', len(drop_train))\n",
        "print('삭제할 테스트 데이터의 개수 :', len(drop_test))\n",
        "\n",
        "encoder_input_train = [sentence for index, sentence in enumerate(encoder_input_train) if index not in drop_train]\n",
        "decoder_input_train = [sentence for index, sentence in enumerate(decoder_input_train) if index not in drop_train]\n",
        "decoder_target_train = [sentence for index, sentence in enumerate(decoder_target_train) if index not in drop_train]\n",
        "\n",
        "encoder_input_test = [sentence for index, sentence in enumerate(encoder_input_test) if index not in drop_test]\n",
        "decoder_input_test = [sentence for index, sentence in enumerate(decoder_input_test) if index not in drop_test]\n",
        "decoder_target_test = [sentence for index, sentence in enumerate(decoder_target_test) if index not in drop_test]\n",
        "\n",
        "print('훈련 데이터의 개수 :', len(encoder_input_train))\n",
        "print('훈련 레이블의 개수 :', len(decoder_input_train))\n",
        "print('테스트 데이터의 개수 :', len(encoder_input_test))\n",
        "print('테스트 레이블의 개수 :', len(decoder_input_test))"
      ],
      "metadata": {
        "colab": {
          "base_uri": "https://localhost:8080/"
        },
        "id": "84YczGNYVlBj",
        "outputId": "6cec6dc0-4920-4a02-98c9-21e4b827e527"
      },
      "execution_count": 97,
      "outputs": [
        {
          "output_type": "stream",
          "name": "stdout",
          "text": [
            "삭제할 훈련 데이터의 개수 : 5\n",
            "삭제할 테스트 데이터의 개수 : 2\n",
            "훈련 데이터의 개수 : 59099\n",
            "훈련 레이블의 개수 : 59099\n",
            "테스트 데이터의 개수 : 14773\n",
            "테스트 레이블의 개수 : 14773\n"
          ]
        }
      ]
    },
    {
      "cell_type": "code",
      "source": [
        "# 패딩하기\n",
        "\n",
        "# 병렬 처리를 위해 같은 길이로 맞춰주는 패딩 작업"
      ],
      "metadata": {
        "id": "nekxtcO2Vvzi"
      },
      "execution_count": null,
      "outputs": []
    },
    {
      "cell_type": "code",
      "source": [
        "encoder_input_train = pad_sequences(encoder_input_train, maxlen=text_max_len, padding='post')\n",
        "encoder_input_test = pad_sequences(encoder_input_test, maxlen=text_max_len, padding='post')\n",
        "decoder_input_train = pad_sequences(decoder_input_train, maxlen=summary_max_len, padding='post')\n",
        "decoder_target_train = pad_sequences(decoder_target_train, maxlen=summary_max_len, padding='post')\n",
        "decoder_input_test = pad_sequences(decoder_input_test, maxlen=summary_max_len, padding='post')\n",
        "decoder_target_test = pad_sequences(decoder_target_test, maxlen=summary_max_len, padding='post')"
      ],
      "metadata": {
        "id": "TGprT8DhVtbh"
      },
      "execution_count": 98,
      "outputs": []
    },
    {
      "cell_type": "code",
      "source": [
        "from tensorflow.keras.layers import Input, LSTM, Embedding, Dense, Concatenate, TimeDistributed\n",
        "from tensorflow.keras.models import Model\n",
        "from tensorflow.keras.callbacks import EarlyStopping, ModelCheckpoint\n",
        "\n",
        "\n",
        "# 인코더 설계 시작\n",
        "embedding_dim = 128\n",
        "hidden_size = 256\n",
        "\n",
        "# 인코더\n",
        "encoder_inputs = Input(shape=(text_max_len,))\n",
        "\n",
        "# 인코더의 임베딩 층\n",
        "enc_emb = Embedding(src_vocab, embedding_dim)(encoder_inputs)\n",
        "\n",
        "# 인코더의 LSTM 1\n",
        "encoder_lstm1 = LSTM(hidden_size, return_sequences=True, return_state=True ,dropout = 0.4, recurrent_dropout = 0.4)\n",
        "encoder_output1, state_h1, state_c1 = encoder_lstm1(enc_emb)\n",
        "\n",
        "# 인코더의 LSTM 2\n",
        "encoder_lstm2 = LSTM(hidden_size, return_sequences=True, return_state=True, dropout=0.4, recurrent_dropout=0.4)\n",
        "encoder_output2, state_h2, state_c2 = encoder_lstm2(encoder_output1)\n",
        "\n",
        "# 인코더의 LSTM 3\n",
        "encoder_lstm3 = LSTM(hidden_size, return_state=True, return_sequences=True, dropout=0.4, recurrent_dropout=0.4)\n",
        "encoder_outputs, state_h, state_c= encoder_lstm3(encoder_output2)"
      ],
      "metadata": {
        "colab": {
          "base_uri": "https://localhost:8080/"
        },
        "id": "acjDaFP-V8QW",
        "outputId": "c61e6360-db6f-46bd-e250-84a011b71c30"
      },
      "execution_count": 99,
      "outputs": [
        {
          "output_type": "stream",
          "name": "stdout",
          "text": [
            "WARNING:tensorflow:Layer lstm will not use cuDNN kernels since it doesn't meet the criteria. It will use a generic GPU kernel as fallback when running on GPU.\n",
            "WARNING:tensorflow:Layer lstm_1 will not use cuDNN kernels since it doesn't meet the criteria. It will use a generic GPU kernel as fallback when running on GPU.\n",
            "WARNING:tensorflow:Layer lstm_2 will not use cuDNN kernels since it doesn't meet the criteria. It will use a generic GPU kernel as fallback when running on GPU.\n"
          ]
        }
      ]
    },
    {
      "cell_type": "code",
      "source": [
        "# 디코더 설계\n",
        "decoder_inputs = Input(shape=(None,))\n",
        "\n",
        "# 디코더의 임베딩 층\n",
        "dec_emb_layer = Embedding(tar_vocab, embedding_dim)\n",
        "dec_emb = dec_emb_layer(decoder_inputs)\n",
        "\n",
        "# 디코더의 LSTM\n",
        "decoder_lstm = LSTM(hidden_size, return_sequences=True, return_state=True, dropout=0.4, recurrent_dropout=0.2)\n",
        "decoder_outputs, _, _ = decoder_lstm(dec_emb, initial_state=[state_h, state_c])"
      ],
      "metadata": {
        "colab": {
          "base_uri": "https://localhost:8080/"
        },
        "id": "mTuE6OH1V_8U",
        "outputId": "f7fb6595-b276-4eff-a97c-39122e164f78"
      },
      "execution_count": 100,
      "outputs": [
        {
          "output_type": "stream",
          "name": "stdout",
          "text": [
            "WARNING:tensorflow:Layer lstm_3 will not use cuDNN kernels since it doesn't meet the criteria. It will use a generic GPU kernel as fallback when running on GPU.\n"
          ]
        }
      ]
    },
    {
      "cell_type": "code",
      "source": [
        "# 디코더의 출력층\n",
        "decoder_softmax_layer = Dense(tar_vocab, activation='softmax')\n",
        "decoder_softmax_outputs = decoder_softmax_layer(decoder_outputs) \n",
        "\n",
        "# 모델 정의\n",
        "model = Model([encoder_inputs, decoder_inputs], decoder_softmax_outputs)\n",
        "model.summary()"
      ],
      "metadata": {
        "colab": {
          "base_uri": "https://localhost:8080/"
        },
        "id": "aQZrSssyWBeT",
        "outputId": "435f2e78-494c-4c4e-8c47-a9fb860e267e"
      },
      "execution_count": 101,
      "outputs": [
        {
          "output_type": "stream",
          "name": "stdout",
          "text": [
            "Model: \"model\"\n",
            "__________________________________________________________________________________________________\n",
            " Layer (type)                   Output Shape         Param #     Connected to                     \n",
            "==================================================================================================\n",
            " input_1 (InputLayer)           [(None, 60)]         0           []                               \n",
            "                                                                                                  \n",
            " embedding (Embedding)          (None, 60, 128)      1024000     ['input_1[0][0]']                \n",
            "                                                                                                  \n",
            " lstm (LSTM)                    [(None, 60, 256),    394240      ['embedding[0][0]']              \n",
            "                                 (None, 256),                                                     \n",
            "                                 (None, 256)]                                                     \n",
            "                                                                                                  \n",
            " input_2 (InputLayer)           [(None, None)]       0           []                               \n",
            "                                                                                                  \n",
            " lstm_1 (LSTM)                  [(None, 60, 256),    525312      ['lstm[0][0]']                   \n",
            "                                 (None, 256),                                                     \n",
            "                                 (None, 256)]                                                     \n",
            "                                                                                                  \n",
            " embedding_1 (Embedding)        (None, None, 128)    384000      ['input_2[0][0]']                \n",
            "                                                                                                  \n",
            " lstm_2 (LSTM)                  [(None, 60, 256),    525312      ['lstm_1[0][0]']                 \n",
            "                                 (None, 256),                                                     \n",
            "                                 (None, 256)]                                                     \n",
            "                                                                                                  \n",
            " lstm_3 (LSTM)                  [(None, None, 256),  394240      ['embedding_1[0][0]',            \n",
            "                                 (None, 256),                     'lstm_2[0][1]',                 \n",
            "                                 (None, 256)]                     'lstm_2[0][2]']                 \n",
            "                                                                                                  \n",
            " dense (Dense)                  (None, None, 3000)   771000      ['lstm_3[0][0]']                 \n",
            "                                                                                                  \n",
            "==================================================================================================\n",
            "Total params: 4,018,104\n",
            "Trainable params: 4,018,104\n",
            "Non-trainable params: 0\n",
            "__________________________________________________________________________________________________\n"
          ]
        }
      ]
    },
    {
      "cell_type": "markdown",
      "source": [
        "![image.png](data:image/png;base64,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)"
      ],
      "metadata": {
        "id": "wfhExMLFlx_R"
      }
    },
    {
      "cell_type": "code",
      "source": [
        "from tensorflow.keras.layers import AdditiveAttention\n",
        "\n",
        "# 어텐션 층(어텐션 함수)\n",
        "attn_layer = AdditiveAttention(name='attention_layer')\n",
        "\n",
        "# 인코더와 디코더의 모든 time step의 hidden state를 어텐션 층에 전달하고 결과를 리턴\n",
        "attn_out = attn_layer([decoder_outputs, encoder_outputs])\n",
        "\n",
        "\n",
        "# 어텐션의 결과와 디코더의 hidden state들을 연결\n",
        "decoder_concat_input = Concatenate(axis=-1, name='concat_layer')([decoder_outputs, attn_out])\n",
        "\n",
        "# 디코더의 출력층\n",
        "decoder_softmax_layer = Dense(tar_vocab, activation='softmax')\n",
        "decoder_softmax_outputs = decoder_softmax_layer(decoder_concat_input)\n",
        "\n",
        "# 모델 정의\n",
        "model = Model([encoder_inputs, decoder_inputs], decoder_softmax_outputs)\n",
        "model.summary()"
      ],
      "metadata": {
        "colab": {
          "base_uri": "https://localhost:8080/"
        },
        "id": "NJpcJ9uaWEQN",
        "outputId": "6aad7c52-6f2e-4cfb-f771-0719c4c76c9e"
      },
      "execution_count": 102,
      "outputs": [
        {
          "output_type": "stream",
          "name": "stdout",
          "text": [
            "Model: \"model_1\"\n",
            "__________________________________________________________________________________________________\n",
            " Layer (type)                   Output Shape         Param #     Connected to                     \n",
            "==================================================================================================\n",
            " input_1 (InputLayer)           [(None, 60)]         0           []                               \n",
            "                                                                                                  \n",
            " embedding (Embedding)          (None, 60, 128)      1024000     ['input_1[0][0]']                \n",
            "                                                                                                  \n",
            " lstm (LSTM)                    [(None, 60, 256),    394240      ['embedding[0][0]']              \n",
            "                                 (None, 256),                                                     \n",
            "                                 (None, 256)]                                                     \n",
            "                                                                                                  \n",
            " input_2 (InputLayer)           [(None, None)]       0           []                               \n",
            "                                                                                                  \n",
            " lstm_1 (LSTM)                  [(None, 60, 256),    525312      ['lstm[0][0]']                   \n",
            "                                 (None, 256),                                                     \n",
            "                                 (None, 256)]                                                     \n",
            "                                                                                                  \n",
            " embedding_1 (Embedding)        (None, None, 128)    384000      ['input_2[0][0]']                \n",
            "                                                                                                  \n",
            " lstm_2 (LSTM)                  [(None, 60, 256),    525312      ['lstm_1[0][0]']                 \n",
            "                                 (None, 256),                                                     \n",
            "                                 (None, 256)]                                                     \n",
            "                                                                                                  \n",
            " lstm_3 (LSTM)                  [(None, None, 256),  394240      ['embedding_1[0][0]',            \n",
            "                                 (None, 256),                     'lstm_2[0][1]',                 \n",
            "                                 (None, 256)]                     'lstm_2[0][2]']                 \n",
            "                                                                                                  \n",
            " attention_layer (AdditiveAtten  (None, None, 256)   256         ['lstm_3[0][0]',                 \n",
            " tion)                                                            'lstm_2[0][0]']                 \n",
            "                                                                                                  \n",
            " concat_layer (Concatenate)     (None, None, 512)    0           ['lstm_3[0][0]',                 \n",
            "                                                                  'attention_layer[0][0]']        \n",
            "                                                                                                  \n",
            " dense_1 (Dense)                (None, None, 3000)   1539000     ['concat_layer[0][0]']           \n",
            "                                                                                                  \n",
            "==================================================================================================\n",
            "Total params: 4,786,360\n",
            "Trainable params: 4,786,360\n",
            "Non-trainable params: 0\n",
            "__________________________________________________________________________________________________\n"
          ]
        }
      ]
    },
    {
      "cell_type": "code",
      "source": [
        "model.compile(optimizer='rmsprop', loss='sparse_categorical_crossentropy')\n",
        "es = EarlyStopping(monitor='val_loss', patience=2, verbose=1) # 검증 데이터 손실이 줄어들지 않고 증가하는 현상이 2회되면 학습이 stop\n",
        "history = model.fit(x=[encoder_input_train, decoder_input_train], y=decoder_target_train, \\\n",
        "          validation_data=([encoder_input_test, decoder_input_test], decoder_target_test), \\\n",
        "          batch_size=256, callbacks=[es], epochs=30)"
      ],
      "metadata": {
        "colab": {
          "base_uri": "https://localhost:8080/"
        },
        "id": "gIUkzw6kWKOw",
        "outputId": "1805d11d-5e2d-4a3a-a518-82e3dfe4dc7c"
      },
      "execution_count": 104,
      "outputs": [
        {
          "output_type": "stream",
          "name": "stdout",
          "text": [
            "Epoch 1/30\n",
            "231/231 [==============================] - 348s 1s/step - loss: 5.2418 - val_loss: 5.0046\n",
            "Epoch 2/30\n",
            "231/231 [==============================] - 311s 1s/step - loss: 4.8861 - val_loss: 4.6841\n",
            "Epoch 3/30\n",
            "231/231 [==============================] - 310s 1s/step - loss: 4.5613 - val_loss: 4.4069\n",
            "Epoch 4/30\n",
            "231/231 [==============================] - 310s 1s/step - loss: 4.2889 - val_loss: 4.1918\n",
            "Epoch 5/30\n",
            "231/231 [==============================] - 309s 1s/step - loss: 4.0865 - val_loss: 4.0495\n",
            "Epoch 6/30\n",
            "231/231 [==============================] - 307s 1s/step - loss: 3.9273 - val_loss: 3.9383\n",
            "Epoch 7/30\n",
            "231/231 [==============================] - 306s 1s/step - loss: 3.7901 - val_loss: 3.8375\n",
            "Epoch 8/30\n",
            "231/231 [==============================] - 306s 1s/step - loss: 3.6656 - val_loss: 3.7606\n",
            "Epoch 9/30\n",
            "231/231 [==============================] - 306s 1s/step - loss: 3.5539 - val_loss: 3.6986\n",
            "Epoch 10/30\n",
            "231/231 [==============================] - 306s 1s/step - loss: 3.4546 - val_loss: 3.6372\n",
            "Epoch 11/30\n",
            "231/231 [==============================] - 306s 1s/step - loss: 3.3642 - val_loss: 3.5945\n",
            "Epoch 12/30\n",
            "231/231 [==============================] - 305s 1s/step - loss: 3.2810 - val_loss: 3.5531\n",
            "Epoch 13/30\n",
            "231/231 [==============================] - 305s 1s/step - loss: 3.2052 - val_loss: 3.5232\n",
            "Epoch 14/30\n",
            "231/231 [==============================] - 306s 1s/step - loss: 3.1366 - val_loss: 3.4970\n",
            "Epoch 15/30\n",
            "231/231 [==============================] - 306s 1s/step - loss: 3.0715 - val_loss: 3.4697\n",
            "Epoch 16/30\n",
            "231/231 [==============================] - 307s 1s/step - loss: 3.0103 - val_loss: 3.4523\n",
            "Epoch 17/30\n",
            "231/231 [==============================] - 308s 1s/step - loss: 2.9547 - val_loss: 3.4369\n",
            "Epoch 18/30\n",
            "231/231 [==============================] - 308s 1s/step - loss: 2.8995 - val_loss: 3.4180\n",
            "Epoch 19/30\n",
            "231/231 [==============================] - 307s 1s/step - loss: 2.8501 - val_loss: 3.4058\n",
            "Epoch 20/30\n",
            "231/231 [==============================] - 307s 1s/step - loss: 2.8019 - val_loss: 3.4023\n",
            "Epoch 21/30\n",
            "231/231 [==============================] - 306s 1s/step - loss: 2.7554 - val_loss: 3.3925\n",
            "Epoch 22/30\n",
            "231/231 [==============================] - 304s 1s/step - loss: 2.7141 - val_loss: 3.3881\n",
            "Epoch 23/30\n",
            "231/231 [==============================] - 306s 1s/step - loss: 2.6721 - val_loss: 3.3823\n",
            "Epoch 24/30\n",
            "231/231 [==============================] - 311s 1s/step - loss: 2.6348 - val_loss: 3.3829\n",
            "Epoch 25/30\n",
            "231/231 [==============================] - 318s 1s/step - loss: 2.5961 - val_loss: 3.3723\n",
            "Epoch 26/30\n",
            "231/231 [==============================] - 319s 1s/step - loss: 2.5614 - val_loss: 3.3784\n",
            "Epoch 27/30\n",
            "231/231 [==============================] - 315s 1s/step - loss: 2.5284 - val_loss: 3.3755\n",
            "Epoch 00027: early stopping\n"
          ]
        }
      ]
    },
    {
      "cell_type": "code",
      "source": [
        "# Earlystopping으로 27 에포크에서 작동이 종료되었다."
      ],
      "metadata": {
        "id": "LO1vy5J83Mzo"
      },
      "execution_count": 105,
      "outputs": []
    },
    {
      "cell_type": "code",
      "source": [
        "plt.plot(history.history['loss'], label='train')\n",
        "plt.plot(history.history['val_loss'], label='test')\n",
        "plt.legend()\n",
        "plt.show()"
      ],
      "metadata": {
        "colab": {
          "base_uri": "https://localhost:8080/",
          "height": 265
        },
        "id": "kp2CBeez3Tb2",
        "outputId": "6594cb3f-cd06-40e3-8471-9d7c6bf55938"
      },
      "execution_count": 106,
      "outputs": [
        {
          "output_type": "display_data",
          "data": {
            "image/png": "[encoded data removed]",
            "text/plain": [
              "<Figure size 432x288 with 1 Axes>"
            ]
          },
          "metadata": {
            "needs_background": "light"
          }
        }
      ]
    },
    {
      "cell_type": "code",
      "source": [
        "src_index_to_word = src_tokenizer.index_word # 원문 단어 집합에서 정수 -> 단어를 얻음\n",
        "tar_word_to_index = tar_tokenizer.word_index # 요약 단어 집합에서 단어 -> 정수를 얻음\n",
        "tar_index_to_word = tar_tokenizer.index_word # 요약 단어 집합에서 정수 -> 단어를 얻음"
      ],
      "metadata": {
        "id": "i1Tj_0_i3aJx"
      },
      "execution_count": 107,
      "outputs": []
    },
    {
      "cell_type": "code",
      "source": [
        "# 인코더 설계\n",
        "encoder_model = Model(inputs=encoder_inputs, outputs=[encoder_outputs, state_h, state_c])\n",
        "\n",
        "# 이전 시점의 상태들을 저장하는 텐서\n",
        "decoder_state_input_h = Input(shape=(hidden_size,))\n",
        "decoder_state_input_c = Input(shape=(hidden_size,))\n",
        "\n",
        "dec_emb2 = dec_emb_layer(decoder_inputs)\n",
        "\n",
        "# 문장의 다음 단어를 예측하기 위해서 초기 상태(initial_state)를 이전 시점의 상태로 사용. 이는 뒤의 함수 decode_sequence()에 구현\n",
        "# 훈련 과정에서와 달리 LSTM의 리턴하는 은닉 상태와 셀 상태인 state_h와 state_c를 버리지 않음.\n",
        "decoder_outputs2, state_h2, state_c2 = decoder_lstm(dec_emb2, initial_state=[decoder_state_input_h, decoder_state_input_c])\n"
      ],
      "metadata": {
        "id": "hUoagKor4NUt"
      },
      "execution_count": 108,
      "outputs": []
    },
    {
      "cell_type": "code",
      "source": [
        "# 어텐션 함수\n",
        "decoder_hidden_state_input = Input(shape=(text_max_len, hidden_size))\n",
        "attn_out_inf = attn_layer([decoder_outputs2, decoder_hidden_state_input])\n",
        "decoder_inf_concat = Concatenate(axis=-1, name='concat')([decoder_outputs2, attn_out_inf])\n",
        "\n",
        "# 디코더의 출력층\n",
        "decoder_outputs2 = decoder_softmax_layer(decoder_inf_concat) \n",
        "\n",
        "# 최종 디코더 모델\n",
        "decoder_model = Model(\n",
        "    [decoder_inputs] + [decoder_hidden_state_input,decoder_state_input_h, decoder_state_input_c],\n",
        "    [decoder_outputs2] + [state_h2, state_c2])"
      ],
      "metadata": {
        "id": "k2Cx5Syr4SA1"
      },
      "execution_count": 109,
      "outputs": []
    },
    {
      "cell_type": "code",
      "source": [
        "def decode_sequence(input_seq):\n",
        "    # 입력으로부터 인코더의 상태를 얻음\n",
        "    e_out, e_h, e_c = encoder_model.predict(input_seq)\n",
        "\n",
        "     # <SOS>에 해당하는 토큰 생성\n",
        "    target_seq = np.zeros((1,1))\n",
        "    target_seq[0, 0] = tar_word_to_index['sostoken']\n",
        "\n",
        "    stop_condition = False\n",
        "    decoded_sentence = ''\n",
        "    while not stop_condition: # stop_condition이 True가 될 때까지 루프 반복\n",
        "\n",
        "        output_tokens, h, c = decoder_model.predict([target_seq] + [e_out, e_h, e_c])\n",
        "        sampled_token_index = np.argmax(output_tokens[0, -1, :])\n",
        "        sampled_token = tar_index_to_word[sampled_token_index]\n",
        "\n",
        "        if (sampled_token!='eostoken'):\n",
        "            decoded_sentence += ' '+sampled_token\n",
        "\n",
        "        #  <eos>에 도달하거나 최대 길이를 넘으면 중단.\n",
        "        if (sampled_token == 'eostoken'  or len(decoded_sentence.split()) >= (summary_max_len-1)):\n",
        "            stop_condition = True\n",
        "\n",
        "        # 길이가 1인 타겟 시퀀스를 업데이트\n",
        "        target_seq = np.zeros((1,1))\n",
        "        target_seq[0, 0] = sampled_token_index\n",
        "\n",
        "        # 상태를 업데이트 합니다.\n",
        "        e_h, e_c = h, c\n",
        "\n",
        "    return decoded_sentence"
      ],
      "metadata": {
        "id": "HbRHxIJZ5O45"
      },
      "execution_count": 110,
      "outputs": []
    },
    {
      "cell_type": "code",
      "source": [
        "# 원문의 정수 시퀀스를 텍스트 시퀀스로 변환\n",
        "def seq2text(input_seq):\n",
        "    temp=''\n",
        "    for i in input_seq:\n",
        "        if (i!=0):\n",
        "            temp = temp + src_index_to_word[i]+' '\n",
        "    return temp\n",
        "\n",
        "# 요약문의 정수 시퀀스를 텍스트 시퀀스로 변환\n",
        "def seq2summary(input_seq):\n",
        "    temp=''\n",
        "    for i in input_seq:\n",
        "        if ((i!=0 and i!=tar_word_to_index['sostoken']) and i!=tar_word_to_index['eostoken']):\n",
        "            temp = temp + tar_index_to_word[i] + ' '\n",
        "    return temp"
      ],
      "metadata": {
        "id": "yNOd1IPV5VyU"
      },
      "execution_count": 111,
      "outputs": []
    },
    {
      "cell_type": "markdown",
      "source": [
        "![image.png](data:image/png;base64,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)"
      ],
      "metadata": {
        "id": "_wpDN_-8l2eu"
      }
    },
    {
      "cell_type": "code",
      "source": [
        "for i in range(50, 100):\n",
        "    print(\"원래 문장 :\", seq2text(encoder_input_test[i]))\n",
        "    print(\"실제 요약 :\", seq2summary(decoder_input_test[i]))\n",
        "    print(\"예측 요약 :\", decode_sequence(encoder_input_test[i].reshape(1, text_max_len)))\n",
        "    print(\"\\n\")"
      ],
      "metadata": {
        "colab": {
          "base_uri": "https://localhost:8080/"
        },
        "id": "sOlsD61R5YNc",
        "outputId": "7c2ac16e-9578-419e-af24-eacb19949a18"
      },
      "execution_count": 135,
      "outputs": [
        {
          "output_type": "stream",
          "name": "stdout",
          "text": [
            "원래 문장 : bjp mp from dinesh kashyap has said that people converting their religion particularly should be barred from benefits of government facilities he further called religious a big problem kashyap later clarified that this was his own thinking adding that the number of religious will be brought down once such an action is taken \n",
            "실제 요약 : bar people religion from govt bjp mp \n",
            "예측 요약 :  bjp leader urges for not\n",
            "\n",
            "\n",
            "원래 문장 : a 56 year old indian man diagnosed with end stage heart disease was left with two beating hearts following a heart at hyderabad's apollo hospital doctors decided on keeping both hearts due to size difference with the heart being normal sized while the patient's heart was the size of a small football only about 150 such have been reported \n",
            "실제 요약 : indian man gets two after surgery \n",
            "예측 요약 :  year old dies after heart surgery in\n",
            "\n",
            "\n",
            "원래 문장 : alibaba on wednesday debuted its first concept store in china which uses artificial intelligence ai to help users shop the store features which display product information on a screen when are touching or picking up a the also makes recommendations for items which have their own smart supported by sensors and bluetooth chips \n",
            "실제 요약 : alibaba ai powered fashion store concept in china \n",
            "예측 요약 :  alibaba unveils first ever ai for first time\n",
            "\n",
            "\n",
            "원래 문장 : video streaming service youtube has been slammed for including and inappropriate content in its videos that feature children's cartoon characters for example a channel called kids posted a video of a popular disney junior cartoon called drink sex medicine full in a statement youtube suggested that parents should use the youtube kids app \n",
            "실제 요약 : youtube slammed for with content \n",
            "예측 요약 :  youtube videos of videos featuring videos\n",
            "\n",
            "\n",
            "원래 문장 : nawazuddin siddiqui has sent a counter notice to his ex girlfriend sunita after she sued him for revealing details about their relationship in his nawazuddin has claimed that the he had mentioned in his book was not sunita the notice reportedly also says that if she doesn't withdraw her case he would send her behind the bars \n",
            "실제 요약 : nawazuddin sends counter notice to ex over \n",
            "예측 요약 :  nawazuddin sends apology to girlfriend\n",
            "\n",
            "\n",
            "원래 문장 : after late pm atal bihari vajpayee's shukla accused bjp of carrying his ashes across india for political gains the party slammed her for the leader's death she shukla is with the congress and had also contested elections on their ticket she is trying to it vajpayee's death bjp spokesperson kohli said \n",
            "실제 요약 : bjp slams vajpayee's for his death \n",
            "예측 요약 :  bjp leader calls bjp workers over death\n",
            "\n",
            "\n",
            "원래 문장 : former up cm akhilesh yadav on saturday called the killing of apple executive by a policeman in lucknow a unfortunate can't imagine such incident but what else will you expect from bjp government in up he added yadav who is presently in madhya pradesh demanded the resignation of up cm yogi adityanath \n",
            "실제 요약 : what can you akhilesh on apple killing \n",
            "예측 요약 :  is not a akhilesh on apple exec\n",
            "\n",
            "\n",
            "원래 문장 : the us' federal bureau of investigation is not able to pay its and risks losing them and the information they provide amid the ongoing partial us government shutdown an fbi agents association report said officials are also not able to afford their travel to interview witnesses pay or buy drugs in anti narcotics operations the report added \n",
            "실제 요약 : to pay says fbi amid us govt shutdown \n",
            "예측 요약 :  us prez us to not paying\n",
            "\n",
            "\n",
            "원래 문장 : the 1993 mumbai blasts convict abu on tuesday complained to portuguese embassy officials that maharashtra's jail authorities do not give him chicken and he has been forced to become a vegetarian the authorities were in jail to check on him after he complained of a threat to his life his toilet is small and dirty lawyer said \n",
            "실제 요약 : i do not get in jail \n",
            "예측 요약 :  mumbai police to leave jail for\n",
            "\n",
            "\n",
            "원래 문장 : india is planning to construct 17 highway tunnels along the india china border in order to ensure all weather connectivity along the line of actual control the tunnels will also be safe from and landslides the tunnels will reduce the operational cost of vehicles and the need for deployment of troops for security duties in sensitive areas reports said \n",
            "실제 요약 : india to 17 along indo china border \n",
            "예측 요약 :  india to build in china border\n",
            "\n",
            "\n",
            "원래 문장 : ceo francisco d'souza said he doesn't see activist shareholders like management as a risk but rather for the company in the long run he further said from a from we had a conversation with a shareholder that had ideas about how we should run the business \n",
            "실제 요약 : activist for firm ceo \n",
            "예측 요약 :  is not a ceo\n",
            "\n",
            "\n",
            "원래 문장 : the made single engine fighter isn't enough to protect indian the indian air force iaf told the government is far behind its and has a higher maintenance cost the iaf added this came after the centre asked the iaf to scrap its plans to acquire foreign made single engine fighters and go for india made fighters only \n",
            "실제 요약 : aircraft not enough to protect indian iaf \n",
            "예측 요약 :  india has enough to iaf chief\n",
            "\n",
            "\n",
            "원래 문장 : a youth has been arrested for allegedly stalking and molesting a 21 year old woman constable in gurugram in her complaint the constable claimed that the accused started following her on a bike after she got down from a bus and began and touching her inappropriately the accused reportedly confessed that he committed the crime in an state \n",
            "실제 요약 : youth arrested for molesting woman constable in gurugram \n",
            "예측 요약 :  man rapes woman who raped her in mumbai\n",
            "\n",
            "\n",
            "원래 문장 : bengaluru based startup on wednesday announced it has raised 11 5 million in series b funding round led by sequoia india and saif partners the funding round also saw participation from existing investors including nexus venture partners and ventures founded in 2016 as an online education platform now has a total funding of 17 5 million \n",
            "실제 요약 : startup raises 11 5 mn from saif \n",
            "예측 요약 :  raises 4 million from others\n",
            "\n",
            "\n",
            "원래 문장 : a 75 year old indian origin sikh man in uk has grown a 51 inch long reportedly the longest in the world singh said he next to the for three hours a day and for the plant notably the current guinness world record for the longest which was grown in wales in 2011 is 42 1 inches \n",
            "실제 요약 : sikh man in uk long \n",
            "예측 요약 :  british origin girl to be in\n",
            "\n",
            "\n",
            "원래 문장 : rebels in syria on saturday claimed to have shot down a russian 25 fighter jet in the province the russian defence ministry said that the pilot had managed to but was killed by militants on the ground russia began its military operations in syria in 2015 backing president bashar al government against the rebels \n",
            "실제 요약 : killed as russian fighter jet shot down in syria \n",
            "예측 요약 :  syria kills us military plane crashes in syria\n",
            "\n",
            "\n",
            "원래 문장 : which is to be held in will for the first time witness a transgender terming it as beyond head priest narayan tripathi said for us this participation is about mainstream society accepting us on sunday members of the took part in an entry procession called for the \n",
            "실제 요약 : transgender to for first time at \n",
            "예측 요약 :  to be 1st ever\n",
            "\n",
            "\n",
            "원래 문장 : the uttar pradesh government felicitated 14 on national sports day on tuesday including who had failed a test in april who was placed under suspension after testing positive for a banned substance could face a four year suspension the authorities later admitted their mistake and said they weren't aware of her test \n",
            "실제 요약 : up government athlete who had failed test \n",
            "예측 요약 :  up national on day\n",
            "\n",
            "\n",
            "원래 문장 : former indian captain mahendra singh dhoni completed his 100th odi for india during the third odi against australia in indore on sunday dhoni achieved the feat after australian all rounder glenn maxwell off bowling out of his odi dhoni has taken three in three matches for asia xi in 2007 \n",
            "실제 요약 : ms dhoni completes odi for india \n",
            "예측 요약 :  dhoni becomes 3rd odi odi\n",
            "\n",
            "\n",
            "원래 문장 : after being shown a second yellow card in quick for the ball away japanese league player kicked his opponent who crashed into the ground also punched one of the rival team's coaches a brawl between the two teams and their staff after the episode the red brazilian was dragged off the pitch by officials \n",
            "실제 요약 : player coach after getting red card \n",
            "예측 요약 :  player ball umpire after points\n",
            "\n",
            "\n",
            "원래 문장 : the air intelligence unit of mumbai customs arrested four passengers at mumbai's chhatrapati shivaji maharaj international airport on saturday with over 6 5 kilograms of gold worth â¹1 86 crore an indian national travelling from bangkok to dubai was caught while handing over the gold to the three other passengers \n",
            "실제 요약 : worth â¹1 crore seized at mumbai airport 4 arrested \n",
            "예측 요약 :  gold gold worth lakh at mumbai airport\n",
            "\n",
            "\n",
            "원래 문장 : games actress while supporting actor nawazuddin siddiqui against the allegations by his ex girlfriend singh said a relationship gone isn't metoo someone needs to recognise the toxic difference before we go picking sides she added adding that she stands by nawazuddin as a man further said we as humans are that isn't gender specific \n",
            "실제 요약 : a relationship isn't metoo defends nawazuddin \n",
            "예측 요약 :  i am not a actress on metoo\n",
            "\n",
            "\n",
            "원래 문장 : us president donald trump's son in law and senior white house advisor likely paid little or no federal income taxes between 2009 and 2016 according to a new york times report citing confidential financial documents however a spokesman for lawyer called the report which he said were taken from documents obtained in violation of the law \n",
            "실제 요약 : in law paid no income tax for years report \n",
            "예측 요약 :  trump paid divorce bill lawyer\n",
            "\n",
            "\n",
            "원래 문장 : the press trust of india on friday has issued a clarification and fired a photographer for an image of the flooding at chennai airport in december 2015 as one of a ahmedabad airport the incident came to light after i b minister smriti irani pointed out the mistake in a tweet various other had carried the image \n",
            "실제 요약 : fires after irani tweets about wrong image \n",
            "예측 요약 :  issues notice for mumbai airport\n",
            "\n",
            "\n",
            "원래 문장 : shiv sena leader manisha on saturday said that pm narendra modi should declare an emergency instead of ten central agencies to information stored on any computer she added the move is absolutely against the fundamental rights of the citizens the authorised agencies include cbi delhi police commissioner raw and national investigation agency among others \n",
            "실제 요약 : pm should declare emergency shiv sena on order \n",
            "예측 요약 :  pm modi should be shut sena\n",
            "\n",
            "\n",
            "원래 문장 : the twitter handle of mumbai police on tuesday tweeted if you try to us we will make sure we you right and wished social media users a happy meanwhile following the tweet social media users commented give that social media a raise and you are good really good \n",
            "실제 요약 : mumbai police tweets and message on \n",
            "예측 요약 :  mumbai police to get tweets user on\n",
            "\n",
            "\n",
            "원래 문장 : a class student allegedly attacked his teacher with an iron after being for not getting his and over attendance at a school in delhi the teacher found the in the boy's bag while him and kept it on his table the boy took it back and used it to attack him when confronted \n",
            "실제 요약 : delhi boy attacks teacher with after being \n",
            "예측 요약 :  student who teacher suspended for wearing\n",
            "\n",
            "\n",
            "원래 문장 : pacer fielding at deep for the kolkata knight riders jumped right on the boundary rope to save a six off piyush bowling against the gujarat lions on friday ran tracking suresh shot before jumping and taking the catch with both his hands and throwing it back in play to save a boundary \n",
            "실제 요약 : at saves six for kkr \n",
            "예측 요약 :  bowler jumps off moving to catch\n",
            "\n",
            "\n",
            "원래 문장 : in a facebook post about sexual harassment faced by women facebook coo sheryl sandberg revealed that she also experienced sexual harassment over the course of her job adding that she was lucky she wasn't harassed by anyone she worked for she said old married men offered career advice and suggested they could share it with her alone late at night \n",
            "실제 요약 : fb coo reveals she was sexually \n",
            "예측 요약 :  sexual harassment with sexual harassment claims ceo\n",
            "\n",
            "\n",
            "원래 문장 : railway minister piyush goyal on thursday directed the central railway authorities to start more 15 coach trains to reduce peak hour officials however said this would delay local trains because the space and essential infrastructure like extended platforms notably the central railway runs 15 coach trains daily \n",
            "실제 요약 : asks central railway to run more 15 coach trains \n",
            "예측 요약 :  railway minister to get new coaches of\n",
            "\n",
            "\n",
            "원래 문장 : additional district and sessions court in jaipur has sentenced eight lashkar e taiba terrorists to life imprisonment for terror activities the convicts three of whom are were arrested between 2010 and 2011 despite being in police custody the convicts were said to be able to make contacts with people outside and continue members for the terror organisation \n",
            "실제 요약 : jaipur court 8 let terrorists to life \n",
            "예측 요약 :  pak sentenced to death for killing pak\n",
            "\n",
            "\n",
            "원래 문장 : apple has filed a patent for a light weight head display which may be used for augmented and virtual reality vr according to filings the filings also revealed that the device would have both head tracking in 3d space as well as eye tracking technology apple reportedly proposed that the device will use the same system used for optical and \n",
            "실제 요약 : apple files patent for light \n",
            "예측 요약 :  apple files patent for iphone x\n",
            "\n",
            "\n",
            "원래 문장 : group chairperson is the richest indian woman on the forbes 2018 billionaires list with a fortune of 8 8 billion the list which featured an all time high of women billionaires has eight indian women is followed in the list by entrepreneur kiran shaw 3 6 billion and 2 9 billion \n",
            "실제 요약 : richest indian woman with 8 8 billion wealth \n",
            "예측 요약 :  youngest woman tops list\n",
            "\n",
            "\n",
            "원래 문장 : prime minister narendra modi on saturday announced â¹90 000 crore for improving roads and national highways in the northeast in the next two to three years to facilitate better connectivity he also dedicated to the nation a km two lane national highway connecting in western meghalaya and and inaugurated the project at \n",
            "실제 요약 : pm modi announces cr for roads in \n",
            "예측 요약 :  pm modi announces for\n",
            "\n",
            "\n",
            "원래 문장 : claiming that us president donald trump's tweets encouraged disruption in the country iran on thursday said that the us has crossed every limit in international relations by expressing support for iran's anti government protesters this comes after trump expressed support for the people of iran and tweeted you will see great support from the us at the appropriate time \n",
            "실제 요약 : trump's tweets have iran \n",
            "예측 요약 :  iran has not iran iran\n",
            "\n",
            "\n",
            "원래 문장 : airtel chairman sunil bharti mittal on thursday said the bharti family has pledged â¹7 000 crore 10 of their wealth to support activities of the group's arm bharti foundation the foundation will set up satya bharti university to offer free education to youth the university will have a strong focus on new age technologies like artificial intelligence and robotics \n",
            "실제 요약 : sunil family pledges â¹7 000 crore to charity \n",
            "예측 요약 :  tata sons chairman of â¹2 000cr in\n",
            "\n",
            "\n",
            "원래 문장 : captain cristiano ronaldo scored fifa world cup first hat trick as portugal drew 3 3 against spain in their first match of the tournament the hat trick was the in world cup history as well as ronaldo's career hat trick the 33 year old scored his first goal in three minutes and 30 seconds the fastest goal for portugal since \n",
            "실제 요약 : ronaldo scores fifa world cup 1st hat trick \n",
            "예측 요약 :  ronaldo overtakes record in hat trick\n",
            "\n",
            "\n",
            "원래 문장 : korean researchers have developed a flexible and transparent fingerprint sensor that measures the human skin temperature to unlock a smartphone the fingerprint sensor is aimed at making sure that a smartphone is only by its owner and not a fake hand or an artificial fingerprint the researchers claim their sensor is 17 times more accurate than existing fingerprint \n",
            "실제 요약 : that to phone made \n",
            "예측 요약 :  new device allows users to control\n",
            "\n",
            "\n",
            "원래 문장 : south korea's fourth largest conglomerate group has said its chairman passed away at the age of 73 on sunday due to illness he became the third chairman of at the age of 50 in 1995 the group's holding company on thursday nominated his son to the board in preparation for a leadership \n",
            "실제 요약 : south korea's group chairman dies at \n",
            "예측 요약 :  who is the of the\n",
            "\n",
            "\n",
            "원래 문장 : cpi m has defeat in tripura after the bjp and its ally won 26 seats and were leading in 17 other constituencies in the 60 member assembly the cpi m had formed the ruling government in the state for 25 years the party accused the bjp of using a massive amount of money and other resources to influence the elections \n",
            "실제 요약 : m defeat in tripura after ruling for 25 years \n",
            "예측 요약 :  bjp mp win in himachal pradesh\n",
            "\n",
            "\n",
            "원래 문장 : the ministry of external affairs on wednesday denied reports that west bengal chief minister mamata banerjee wasn't given permission to attend an event by society of chicago we didn't receive any request for clearance regarding the visit said spokesperson earlier mamata had said i couldn't go there because of an conspiracy by certain people nn \n",
            "실제 요약 : didn't receive any request for visit \n",
            "예측 요약 :  mamata responds to mamata for his\n",
            "\n",
            "\n",
            "원래 문장 : the ocean a dutch foundation developing technology to remove plastic from oceans announced it would begin its first in 2018 two years before schedule the system includes a plastic collecting pipe fitted with a floating anchor estimated to clean half the great pacific garbage patch between hawaii and california in five years said the 22 year old ceo \n",
            "실제 요약 : ocean plastic to start 2 years ahead of \n",
            "예측 요약 :  china finds plastic in the first ever\n",
            "\n",
            "\n",
            "원래 문장 : german foreign minister on thursday said it would be inappropriate for turkish president recep erdoäan to make public in germany outside the g20 summit this comes amid tensions between the countries after germany accused turkey of spying on people with alleged links to last year's coup and blocked rallies of turkish ministers in germany over security concerns \n",
            "실제 요약 : germany turkey prez against in public \n",
            "예측 요약 :  turkey prez calls for jerusalem\n",
            "\n",
            "\n",
            "원래 문장 : prime minister narendra modi inaugurated india's first national museum of indian cinema in mumbai on saturday speaking at the event pm modi said films help our people boost tourism in a big way and help generate employment opportunities the ceremony was attended by several bollywood actors and filmmakers including aamir khan and karan johar \n",
            "실제 요약 : pm modi inaugurates 1st indian cinema museum in mumbai \n",
            "예측 요약 :  pm modi inaugurates india's 1st museum\n",
            "\n",
            "\n",
            "원래 문장 : mumbai's most visited the raja has collected â¹5 8 crore in cash so far including â¹1 1 lakh in notes in addition to the cash the also received 5 5 kg of gold and 70 kg of silver the counting will be completed by friday after which the will auction the items \n",
            "실제 요약 : mumbai gets â¹5 cr cash 5 kg gold \n",
            "예측 요약 :  mumbai metro becomes highest paid salary\n",
            "\n",
            "\n",
            "원래 문장 : karnataka pradesh congress committee has announced â¹1 lakh compensation to the kin of the people who died after eating prasad from a temple in the state's at least 11 people died and over 60 were hospitalised due to food poisoning after eating the rice prasad on friday meanwhile karnataka government announced â¹5 lakh compensation to families of the deceased \n",
            "실제 요약 : announces â¹1 lakh to kin of k'taka temple victims \n",
            "예측 요약 :  congress announces â¹1 lakh for kin\n",
            "\n",
            "\n",
            "원래 문장 : after 13 people were killed in police firing during protests against the sterlite plant in tuticorin journalists and members of tamil nadu film industry staged a protest in chennai on saturday the present of centre and state are like to the corporate companies i hope that the judges don't grant sterlite industries permission tamil director ram said \n",
            "실제 요약 : protest over deaths during sterlite protests \n",
            "예측 요약 :  protests in tn sterlite protest over protests\n",
            "\n",
            "\n",
            "원래 문장 : olympic medal winning wrestler sushil kumar has invested an undisclosed amount in new delhi based sports content app indian sports global sandeep singh also participated in the funding this comes almost three weeks after the startup raised angel funding from bajaj joint md vikas bajaj sports was founded in 2016 by raman and sinha \n",
            "실제 요약 : olympic sushil kumar backs startup sports \n",
            "예측 요약 :  sushil for indians paid to 5 million\n",
            "\n",
            "\n",
            "원래 문장 : bollywood celebrities including riteish deshmukh abhishek bachchan deshmukh sonu and anil kapoor took to twitter to wish actor shetty on his birthday on friday riteish wrote a man who age his fitness would put any young actor to shame while abhishek wrote to someone who has been like an elder brother to me happy birthday anna \n",
            "실제 요약 : khan anil wish on his birthday \n",
            "예측 요약 :  abhishek wishes on his birthday\n",
            "\n",
            "\n",
            "원래 문장 : the morcha has given the centre 10 days to intervene in the ongoing agitation for the separate state of failing which it threatened to the protests an indefinite shutdown is going on for the last 47 days the centre can't just sit when the hills are burning leaders said \n",
            "실제 요약 : give centre 10 days to \n",
            "예측 요약 :  to protest in\n",
            "\n",
            "\n"
          ]
        }
      ]
    },
    {
      "cell_type": "markdown",
      "source": [
        "실제 요약과 예측 요약을 보면 우선 중요한 핵심 키워드어는 다 포착을 하고 있다. 다만 아쉬운점은 마지막 문장 같은 경우에 아예 헛다리를 짚는 경우도 보인다는 것이다."
      ],
      "metadata": {
        "id": "DReyOeOh8Hgk"
      }
    },
    {
      "cell_type": "markdown",
      "source": [
        "![image.png](data:image/png;base64,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)"
      ],
      "metadata": {
        "id": "HpLw3PIml6vq"
      }
    },
    {
      "cell_type": "code",
      "source": [
        "!pip list | grep summa"
      ],
      "metadata": {
        "colab": {
          "base_uri": "https://localhost:8080/"
        },
        "id": "nFACmsa08YCn",
        "outputId": "579ad746-a80b-4334-eecc-f78a9e5752ff"
      },
      "execution_count": 114,
      "outputs": [
        {
          "output_type": "stream",
          "name": "stdout",
          "text": [
            "torchsummary                  1.5.1\n"
          ]
        }
      ]
    },
    {
      "cell_type": "code",
      "source": [
        "!pip install summa # 설치가 안되어 있어 설치"
      ],
      "metadata": {
        "colab": {
          "base_uri": "https://localhost:8080/"
        },
        "id": "PHuas4CW9EdX",
        "outputId": "a70d49b6-e8a5-4f17-efe1-dd7f55cf3c67"
      },
      "execution_count": 116,
      "outputs": [
        {
          "output_type": "stream",
          "name": "stdout",
          "text": [
            "Collecting summa\n",
            "  Downloading summa-1.2.0.tar.gz (54 kB)\n",
            "\u001b[?25l\r\u001b[K     |██████                          | 10 kB 16.7 MB/s eta 0:00:01\r\u001b[K     |████████████                    | 20 kB 13.9 MB/s eta 0:00:01\r\u001b[K     |██████████████████              | 30 kB 9.4 MB/s eta 0:00:01\r\u001b[K     |███████████████████████▉        | 40 kB 8.3 MB/s eta 0:00:01\r\u001b[K     |█████████████████████████████▉  | 51 kB 5.8 MB/s eta 0:00:01\r\u001b[K     |████████████████████████████████| 54 kB 1.9 MB/s \n",
            "\u001b[?25hRequirement already satisfied: scipy>=0.19 in /usr/local/lib/python3.7/dist-packages (from summa) (1.4.1)\n",
            "Requirement already satisfied: numpy>=1.13.3 in /usr/local/lib/python3.7/dist-packages (from scipy>=0.19->summa) (1.19.5)\n",
            "Building wheels for collected packages: summa\n",
            "  Building wheel for summa (setup.py) ... \u001b[?25l\u001b[?25hdone\n",
            "  Created wheel for summa: filename=summa-1.2.0-py3-none-any.whl size=54412 sha256=bbf201cd468cb77dd5d81e755b5850fadde72d4bbf7153bf292520daaca5a970\n",
            "  Stored in directory: /root/.cache/pip/wheels/29/64/ac/7b443477588d365ef37ada30d456bdf5f07dc5be9f6324cb6e\n",
            "Successfully built summa\n",
            "Installing collected packages: summa\n",
            "Successfully installed summa-1.2.0\n"
          ]
        }
      ]
    },
    {
      "cell_type": "code",
      "source": [
        "import requests\n",
        "from summa.summarizer import summarize"
      ],
      "metadata": {
        "id": "FkYcGN_h8UaA"
      },
      "execution_count": 117,
      "outputs": []
    },
    {
      "cell_type": "code",
      "source": [
        "urllib.request.urlretrieve(\"https://raw.githubusercontent.com/sunnysai12345/News_Summary/master/news_summary_more.csv\", filename=\"news_summary_more.csv\")\n",
        "data = pd.read_csv('news_summary_more.csv', encoding='iso-8859-1')"
      ],
      "metadata": {
        "id": "q8w76MNc8Uv1"
      },
      "execution_count": 118,
      "outputs": []
    },
    {
      "cell_type": "code",
      "source": [
        "print(data[:1500]) # 일부만 출력!"
      ],
      "metadata": {
        "colab": {
          "base_uri": "https://localhost:8080/"
        },
        "id": "Q5riLIPI9hd9",
        "outputId": "c72bdd85-869e-4245-e286-279d3d4986f7"
      },
      "execution_count": 120,
      "outputs": [
        {
          "output_type": "stream",
          "name": "stdout",
          "text": [
            "                                              headlines                                               text\n",
            "0     upGrad learner switches to career in ML & Al w...  Saurav Kant, an alumnus of upGrad and IIIT-B's...\n",
            "1     Delhi techie wins free food from Swiggy for on...  Kunal Shah's credit card bill payment platform...\n",
            "2     New Zealand end Rohit Sharma-led India's 12-ma...  New Zealand defeated India by 8 wickets in the...\n",
            "3     Aegon life iTerm insurance plan helps customer...  With Aegon Life iTerm Insurance plan, customer...\n",
            "4     Have known Hirani for yrs, what if MeToo claim...  Speaking about the sexual harassment allegatio...\n",
            "...                                                 ...                                                ...\n",
            "1495  Have seen Sachin Tendulkar get angry but not M...  India head coach Ravi Shastri has said that he...\n",
            "1496  Player ensures wife stays dry in rain during A...  Italian tennis player Andreas Seppi ensured hi...\n",
            "1497  Federer denied entry into locker room by secur...  World number three Roger Federer was stopped b...\n",
            "1498  42/42 seats in West Bengal: CM Mamata's cutout...  A cutout of TMC chief and West Bengal CM Mamat...\n",
            "1499  Court refuses chargesheet by Delhi Police agai...  A Delhi court on Saturday pulled up Delhi Poli...\n",
            "\n",
            "[1500 rows x 2 columns]\n"
          ]
        }
      ]
    },
    {
      "cell_type": "code",
      "source": [
        "for summary, (head, text) in enumerate(zip(data['headlines'], data['text'])):\n",
        "    if summary == 50: # 50개 초과이면 출력\n",
        "        break\n",
        "    print(\"원래 문장 :\", text)\n",
        "    print(\"실제 요약 :\", head)\n",
        "    print(\"예측 요약 :\", summarize(text, ratio=0.45)) # 원문의 40% 정도만 출력 그 이하로 하면 예측문장이 안나옴\n",
        "    print(\"\\n\")"
      ],
      "metadata": {
        "colab": {
          "base_uri": "https://localhost:8080/"
        },
        "id": "QZHebYeM9uXk",
        "outputId": "e338d500-7d07-44df-e1d5-aa0b93febef2"
      },
      "execution_count": 134,
      "outputs": [
        {
          "output_type": "stream",
          "name": "stdout",
          "text": [
            "원래 문장 : Saurav Kant, an alumnus of upGrad and IIIT-B's PG Program in Machine learning and Artificial Intelligence, was a Sr Systems Engineer at Infosys with almost 5 years of work experience. The program and upGrad's 360-degree career support helped him transition to a Data Scientist at Tech Mahindra with 90% salary hike. upGrad's Online Power Learning has powered 3 lakh+ careers.\n",
            "실제 요약 : upGrad learner switches to career in ML & Al with 90% salary hike\n",
            "예측 요약 : upGrad's Online Power Learning has powered 3 lakh+ careers.\n",
            "\n",
            "\n",
            "원래 문장 : Kunal Shah's credit card bill payment platform, CRED, gave users a chance to win free food from Swiggy for one year. Pranav Kaushik, a Delhi techie, bagged this reward after spending 2000 CRED coins. Users get one CRED coin per rupee of bill paid, which can be used to avail rewards from brands like Ixigo, BookMyShow, UberEats, Cult.Fit and more.\n",
            "실제 요약 : Delhi techie wins free food from Swiggy for one year on CRED\n",
            "예측 요약 : Users get one CRED coin per rupee of bill paid, which can be used to avail rewards from brands like Ixigo, BookMyShow, UberEats, Cult.Fit and more.\n",
            "\n",
            "\n",
            "원래 문장 : New Zealand defeated India by 8 wickets in the fourth ODI at Hamilton on Thursday to win their first match of the five-match ODI series. India lost an international match under Rohit Sharma's captaincy after 12 consecutive victories dating back to March 2018. The match witnessed India getting all out for 92, their seventh lowest total in ODI cricket history.\n",
            "실제 요약 : New Zealand end Rohit Sharma-led India's 12-match winning streak\n",
            "예측 요약 : The match witnessed India getting all out for 92, their seventh lowest total in ODI cricket history.\n",
            "\n",
            "\n",
            "원래 문장 : With Aegon Life iTerm Insurance plan, customers can enjoy tax benefits on your premiums paid and save up to Ã¢ÂÂ¹46,800^ on taxes. The plan provides life cover up to the age of 100 years. Also, customers have options to insure against Critical Illnesses, Disability and Accidental Death Benefit Rider with a life cover up to the age of 80 years.\n",
            "실제 요약 : Aegon life iTerm insurance plan helps customers save tax\n",
            "예측 요약 : Also, customers have options to insure against Critical Illnesses, Disability and Accidental Death Benefit Rider with a life cover up to the age of 80 years.\n",
            "\n",
            "\n",
            "원래 문장 : Speaking about the sexual harassment allegations against Rajkumar Hirani, Sonam Kapoor said, \"I've known Hirani for many years...What if it's not true, the [#MeToo] movement will get derailed.\" \"In the #MeToo movement, I always believe a woman. But in this case, we need to reserve our judgment,\" she added. Hirani has been accused by an assistant who worked in 'Sanju'.\n",
            "실제 요약 : Have known Hirani for yrs, what if MeToo claims are not true: Sonam\n",
            "예측 요약 : Speaking about the sexual harassment allegations against Rajkumar Hirani, Sonam Kapoor said, \"I've known Hirani for many years...What if it's not true, the [#MeToo] movement will get derailed.\" \"In the #MeToo movement, I always believe a woman.\n",
            "\n",
            "\n",
            "원래 문장 : Pakistani singer Rahat Fateh Ali Khan has denied receiving any notice from the Enforcement Directorate over allegedly smuggling foreign currency out of India. \"It would have been better if the authorities would have served the notice first if any and then publicised this,\" reads a press release issued on behalf of Rahat. The statement further called the allegation \"bizarre\".\n",
            "실제 요약 : Rahat Fateh Ali Khan denies getting notice for smuggling currency\n",
            "예측 요약 : Pakistani singer Rahat Fateh Ali Khan has denied receiving any notice from the Enforcement Directorate over allegedly smuggling foreign currency out of India.\n",
            "\n",
            "\n",
            "원래 문장 : India recorded their lowest ODI total in New Zealand after getting all out for 92 runs in 30.5 overs in the fourth ODI at Hamilton on Thursday. Seven of India's batsmen were dismissed for single-digit scores, while their number ten batsman Yuzvendra Chahal top-scored with 18*(37). India's previous lowest ODI total in New Zealand was 108.\n",
            "실제 요약 : India get all out for 92, their lowest ODI total in New Zealand\n",
            "예측 요약 : India's previous lowest ODI total in New Zealand was 108.\n",
            "\n",
            "\n",
            "원래 문장 : Weeks after ex-CBI Director Alok Verma told the Department of Personnel and Training to consider him retired, the Home Ministry asked him to join work on the last day of his fixed tenure as Director on Thursday. The ministry directed him to immediately join as DG, Fire Services, the post he was transferred to after his removal as CBI chief.\n",
            "실제 요약 : Govt directs Alok Verma to join work 1 day before his retirement\n",
            "예측 요약 : \n",
            "\n",
            "\n",
            "원래 문장 : Andhra Pradesh CM N Chandrababu Naidu has said, \"When I met then US President Bill Clinton, I addressed him as Mr Clinton, not as 'sir'. (PM Narendra) Modi is my junior in politics...I addressed him as sir 10 times.\" \"I did this...to satisfy his ego in the hope that he will do justice to the state,\" he added.\n",
            "실제 요약 : Called PM Modi 'sir' 10 times to satisfy his ego: Andhra CM\n",
            "예측 요약 : \n",
            "\n",
            "\n",
            "원래 문장 : Congress candidate Shafia Zubair won the Ramgarh Assembly seat in Rajasthan, by defeating BJP's Sukhwant Singh with a margin of 12,228 votes in the bypoll. With this victory, Congress has taken its total to 100 seats in the 200-member assembly. The election to the Ramgarh seat was delayed due to the death of sitting MLA and BSP candidate Laxman Singh.\n",
            "실제 요약 : Cong wins Ramgarh bypoll in Rajasthan, takes total to 100 seats\n",
            "예측 요약 : Congress candidate Shafia Zubair won the Ramgarh Assembly seat in Rajasthan, by defeating BJP's Sukhwant Singh with a margin of 12,228 votes in the bypoll.\n",
            "\n",
            "\n",
            "원래 문장 : Two minor cousins in Uttar Pradesh's Gorakhpur were allegedly repeatedly burnt with tongs and forced to eat human excreta by their family for being friends with two boys from the same school. The cousins revealed their ordeal to the police and Child Welfare Committee after being brought back to Gorakhpur from Nepal, where they had fled to escape the torture.\n",
            "실제 요약 : UP cousins fed human excreta for friendship with boys\n",
            "예측 요약 : \n",
            "\n",
            "\n",
            "원래 문장 : Isha Ghosh, an 81-year-old member of Bharat Scouts and Guides (BSG), has been imparting physical and mental training to schoolchildren in Jharkhand for several decades. Chaibasa-based Ghosh reportedly walks seven kilometres daily and spends eight hours conducting physical training, apart from climbing and yoga sessions. She says, \"One should do something for society till one's last breath.\"\n",
            "실제 요약 : 81-yr-old woman conducts physical training in J'khand schools\n",
            "예측 요약 : Isha Ghosh, an 81-year-old member of Bharat Scouts and Guides (BSG), has been imparting physical and mental training to schoolchildren in Jharkhand for several decades.\n",
            "\n",
            "\n",
            "원래 문장 : Urging saints and seers at the Kumbh Mela to quit smoking, Yoga guru Ramdev said, \"We follow Ram and Krishna who never smoked in their life then why should we?\" Making them take a pledge to quit tobacco, he collected chillum (clay pipe) from several sadhus. He said he will deposit the chillums for display at a museum he'll build.\n",
            "실제 요약 : Ram, Krishna didn't smoke, why should we: Ramdev to sadhus at Kumbh\n",
            "예측 요약 : \n",
            "\n",
            "\n",
            "원래 문장 : Former stripper and regional sales director of a pharmaceutical company, Sunrise Lee, gave a doctor a lap dance in a nightclub to persuade him to prescribe an addictive fentanyl spray in 2012, the company's sales representative told a US court. She said she saw Lee \"sitting on [doctor's] lap, kind of bouncing around.\" Lee has been accused of bribing doctors.\n",
            "실제 요약 : Pharma exec gave doctor a lap dance to sell medicine in US: Witness\n",
            "예측 요약 : \n",
            "\n",
            "\n",
            "원래 문장 : Reliance Industries' Chairman Mukesh Ambani's daughter Isha Ambani, who got married last month, said she only cried at her 'bidaai' because she felt peer pressure as everyone was crying, especially her parents. \"I was emotional too but everyone around me would cry all the time,\" she added. \"It was a very emotional affair for everyone in my family,\" said Isha.\n",
            "실제 요약 :  I only cried at my 'bidaai' as I felt peer pressure: Isha Ambani\n",
            "예측 요약 : \"It was a very emotional affair for everyone in my family,\" said Isha.\n",
            "\n",
            "\n",
            "원래 문장 : Louis Vuitton owner LVMH, which makes high-end beverages like MoÃÂ«t & Chandon champagne and Hennessy cognac, said it's stockpiling four months' worth of wine and spirits in UK in preparation for Brexit. \"We're ready for worst case scenario if there are difficulties with deliveries,\" the French luxury giant said. The UK is scheduled to leave the EU on March 29.\n",
            "실제 요약 : Louis Vuitton owner to stockpile 4 months of wine, spirits in UK\n",
            "예측 요약 : Louis Vuitton owner LVMH, which makes high-end beverages like MoÃÂ«t & Chandon champagne and Hennessy cognac, said it's stockpiling four months' worth of wine and spirits in UK in preparation for Brexit.\n",
            "\n",
            "\n",
            "원래 문장 : Filmmaker Karan Johar and actress Tabu turned showstoppers for Gaurav Gupta on the opening night of LakmÃÂ© Fashion Week Summer/ Resort 2019. While Johar wore a red sequinned jacket with black pants, Tabu walked the ramp in a grey embellished gown. The fashion show, which began on January 29, will continue till February 3.\n",
            "실제 요약 : Karan Johar, Tabu turn showstoppers on opening night of LFW\n",
            "예측 요약 : Filmmaker Karan Johar and actress Tabu turned showstoppers for Gaurav Gupta on the opening night of LakmÃÂ© Fashion Week Summer/ Resort 2019.\n",
            "\n",
            "\n",
            "원래 문장 : In a jibe at Congress President Rahul Gandhi, PM Narendra Modi on Wednesday said those on \"bail will have to go to jail.\" PM Modi added, \"He is out on bail and his associates too are facing charges...I know they will be convicted one day.\" The PM claimed he'd waged a war on corruption because he's from a common household. \n",
            "실제 요약 : Those on bail will go to jail: PM Modi takes jibe at Rahul\n",
            "예측 요약 : \n",
            "\n",
            "\n",
            "원래 문장 : Days after he threatened to step down from his post if Congress MLAs continue \"crossing the line,\" Karnataka Chief Minister HD Kumaraswamy accused them of taking potshots and asked, \"How many more days can I tolerate such stuff?\" Kumaraswamy, who made the statements after a Congress MLA demanded that Siddaramaiah be made CM again, said, \"Power is ephemeral.\"\n",
            "실제 요약 : How long can I tolerate Congress leaders' potshots: K'taka CM\n",
            "예측 요약 : \n",
            "\n",
            "\n",
            "원래 문장 : Union Minister Dharmendra Pradhan on Wednesday claimed the illegal mining mafia in Odisha operates under the control of CM Naveen Patnaik and state Congress chief Niranjan Patnaik. He added, \"The time has come for the people of Odisha to put a full stop to their activities...The time has come for us to ask for an explanation from this corrupt government.\"\n",
            "실제 요약 : Odisha CM Patnaik controls mining mafia: Union Minister\n",
            "예측 요약 : \n",
            "\n",
            "\n",
            "원래 문장 : Claiming there is a dearth of ideas among opposition parties, Prime Minister Narendra Modi on Wednesday said, \"The opposition talks only about Modi the whole day, I suspect they even dream about me.\" PM Modi, who was addressing the New India Youth Conclave inÃ¢ÂÂ Surat, added that the opposition parties have only one agenda which is \"Modi\". \n",
            "실제 요약 : I think the opposition even dreams about me: PM Modi\n",
            "예측 요약 : \n",
            "\n",
            "\n",
            "원래 문장 : The Indian Space Research Organisation on Wednesday unveiled Human Space Flight Centre in Bengaluru for its Ã¢ÂÂ¹10,000-crore manned space mission 'Gaganyaan' scheduled for 2021. ISRO said the centre will be responsible for development of engineering systems for crew survival in space and crew selection and training. It'll also pursue activities for sustained human space flight missions, ISRO added.\n",
            "실제 요약 : ISRO unveils Bengaluru centre for manned space mission \n",
            "예측 요약 : It'll also pursue activities for sustained human space flight missions, ISRO added.\n",
            "\n",
            "\n",
            "원래 문장 : At least 12 people have been killed and 170 others have been injured in Saudi Arabia this week due to flooding from heavy rain. The emergency services rescued 271 people from the flooded areas, more than half of them in Tabuk. Heavy rains hit mainly western and northwestern parts of Saudi Arabia, near its border with Jordan.\n",
            "실제 요약 : 12 killed, 170 injured in Saudi Arabia floods\n",
            "예측 요약 : At least 12 people have been killed and 170 others have been injured in Saudi Arabia this week due to flooding from heavy rain.\n",
            "\n",
            "\n",
            "원래 문장 : Reliance Industries' Chairman Mukesh Ambani's daughter Isha Ambani has featured on the cover of the February edition of Vogue India. She's dressed in a white shirt dress and black ruffled skirt by Australian designer Toni Maticevski, while accessorising her look with a Misho ring. In the cover story on her, Isha has spoken about her work and life after marriage.\n",
            " \n",
            "실제 요약 : Isha Ambani features on February cover of Vogue magazine\n",
            "예측 요약 : Reliance Industries' Chairman Mukesh Ambani's daughter Isha Ambani has featured on the cover of the February edition of Vogue India.\n",
            "\n",
            "\n",
            "원래 문장 : Indian Oil Corporation on Wednesday said it's looking for an annual deal to buy US crude as it seeks to broaden oil purchasing options. This comes amid uncertainties over Iran imports. The US had in November granted a six-month waiver to India from sanctions against Iran and restricted the country's monthly intake of Iranian oil to 3,00,000 barrels per day.\n",
            "\n",
            "\n",
            "실제 요약 : Indian Oil looking for annual deal to buy crude from US\n",
            "예측 요약 : The US had in November granted a six-month waiver to India from sanctions against Iran and restricted the country's monthly intake of Iranian oil to 3,00,000 barrels per day.\n",
            "\n",
            "\n",
            "원래 문장 : Former Windies fast bowler Curtly Ambrose dismissed seven Australian batsmen within a span of 32 balls giving away just one run, in a Test match on January 30, 1993. Ambrose's spell helped his team bowl out Australia for 119 in the first innings, after being 85 for 2 at one point. Ambrose ended with first-innings figures of 18-9-25-7.\n",
            "실제 요약 : Pacer once took 7 wickets for just 1 run in 32 balls in a Test\n",
            "예측 요약 : Ambrose ended with first-innings figures of 18-9-25-7.\n",
            "\n",
            "\n",
            "원래 문장 : A London zoo is offering people to name a cockroach after their exes on Valentine's Day for ÃÂ£1.50 (nearly Ã¢ÂÂ¹140). \"For those that don't quite require revenge, there's another way to make you feel better about getting back at your ex,\" the zoo said in a statement. The names will appear on zoo's 'roach board' on February 14. \n",
            "실제 요약 : UK zoo offers people to name cockroach after their ex on Valentine's\n",
            "예측 요약 : The names will appear on zoo's 'roach board' on February 14.\n",
            "\n",
            "\n",
            "원래 문장 : Stand-in captain Rohit Sharma has become the 14th Indian cricketer to play 200 ODIs, achieving the feat after taking the field against New Zealand in fourth ODI at Hamilton on Thursday. The 31-year-old had made his ODI debut on June 23, 2007, against Ireland in Belfast. Rohit scored 7,799 runs in his first 199 ODIs at an average of 48.14.\n",
            "실제 요약 : Rohit Sharma becomes 14th Indian cricketer to play 200 ODIs\n",
            "예측 요약 : Rohit scored 7,799 runs in his first 199 ODIs at an average of 48.14.\n",
            "\n",
            "\n",
            "원래 문장 : Batsman Shubman Gill has become the 227th cricketer to represent India in ODI cricket, achieving the feat against New Zealand in the fourth ODI at Hamilton on Thursday. The 19-year-old received his maiden ODI cap from former captain MS Dhoni. Notably, Shubman was named Player of the Under-19 World Cup in New Zealand last year.\n",
            "실제 요약 : 19-year-old Shubman Gill becomes India's 227th ODI cricketer\n",
            "예측 요약 : Notably, Shubman was named Player of the Under-19 World Cup in New Zealand last year.\n",
            "\n",
            "\n",
            "원래 문장 : Investigators searching for a lost plane carrying Argentine forward Emiliano Sala found two seat cushions on French coast that \"likely\" belonged to the aircraft. The investigators said they'll now launch an underwater seabed search for aircraft wreckage. The Cardiff City footballer was travelling from France's Nantes to Wales' Cardiff when his plane disappeared over English Channel on January 21.\n",
            "실제 요약 : 2 seat cushions from 'missing plane carrying footballer' found\n",
            "예측 요약 : Investigators searching for a lost plane carrying Argentine forward Emiliano Sala found two seat cushions on French coast that \"likely\" belonged to the aircraft.\n",
            "\n",
            "\n",
            "원래 문장 : Italian third division football side Lucchese's head coach Giancarlo Favarin has been banned for five months for headbutting Alessandria's assistant coach Gaetano Mancino during a brawl following the teams' 2-2 draw on Sunday. Mancino was caught off-balance and knocked to the ground after the headbutt. Earlier in the match, Favarin had told his own player to break an opponent's legs.\n",
            "실제 요약 : Italian coach knocks rival down with headbutt, banned for 5 months\n",
            "예측 요약 : Italian third division football side Lucchese's head coach Giancarlo Favarin has been banned for five months for headbutting Alessandria's assistant coach Gaetano Mancino during a brawl following the teams' 2-2 draw on Sunday.\n",
            "\n",
            "\n",
            "원래 문장 : Cyclists taking part in National Track Cycling Championship in Jaipur opted to sleep on the floor inside the stadium instead of hotels over expensive cycles. The organisers had booked hotels but they didn't have the provision for cyclists to keep their bikes inside. A national gold medallist said their cycles cost between Ã¢ÂÂ¹5-9 lakh and once damaged, they become non-repairable. \n",
            "실제 요약 : Cyclists sleep on stadium floor instead of hotel over costly cycles\n",
            "예측 요약 : Cyclists taking part in National Track Cycling Championship in Jaipur opted to sleep on the floor inside the stadium instead of hotels over expensive cycles.\n",
            "\n",
            "\n",
            "원래 문장 : Silvia Grecco, a 56-year-old Brazilian mother narrates her local football team Palmeiras' matches live to her 12-year-old blind and autistic son Nickollas from the stands. \"I describe details: this player is wearing short sleeves...colour of...football boots, hair colour...Everything I see and feel, I tell him, even when I need to curse the referee!\" Grecco said after a recent match.\n",
            "실제 요약 : Brazilian mother narrates football matches to blind son from stands\n",
            "예측 요약 : \n",
            "\n",
            "\n",
            "원래 문장 : A TechCrunch report has claimed that IndiaÃ¢ÂÂs largest bank SBI secured a passwordless server \"overnight\" on being alerted it allowed anyone to access phone numbers, bank balances, and transactions of millions of its customers. The Mumbai-based server was containing two months of data from SBI Quick, an SMS and call-based system used to request basic information about accounts, TechCrunch revealed.\n",
            "실제 요약 : SBI left account data of millions of users unprotected: Report\n",
            "예측 요약 : \n",
            "\n",
            "\n",
            "원래 문장 : Rahul Gandhi has replied to Goa CM Manohar Parrikar's letter, which accused the Congress President of using his \"visit to an ailing man for political gains\". \"He's under immense pressure from the PM after our meeting and needs to demonstrate his loyalty by attacking me,\" Gandhi wrote in his letter. Parrikar had clarified he didn't discuss Rafale deal with Rahul.\n",
            "실제 요약 : CM Parrikar under pressure from PM after our Goa meet: Rahul\n",
            "예측 요약 : Rahul Gandhi has replied to Goa CM Manohar Parrikar's letter, which accused the Congress President of using his \"visit to an ailing man for political gains\".\n",
            "\n",
            "\n",
            "원래 문장 : Twenty-seven-year-old Mohammed Mahuwala was arrested in Indore on Wednesday for allegedly cheating e-commerce giant Amazon of nearly Ã¢ÂÂ¹30 lakh. Mahuwala was a member of a gang who ordered costly gadgets from Amazon. \"[They] used to get refund of the amount paid...by saying the parcel...was empty. In reality, these devices were taken out from parcel and sold...to local shopkeepers,\" said police.\n",
            "실제 요약 : Man arrested for cheating Amazon of Ã¢ÂÂ¹30 lakh by taking refunds\n",
            "예측 요약 : Mahuwala was a member of a gang who ordered costly gadgets from Amazon.\n",
            "\n",
            "\n",
            "원래 문장 : AgustaWestland chopper scam co-accused Rajiv Saxena was extradited to India from UAE on Wednesday. He had been evading the Enforcement Directorate's summons claiming he was suffering from leukaemia but had moved an anti-money laundering court for anticipatory bail in December, stating he had never been summoned at his Dubai address. Saxena's lawyers alleged he had been \"illegally extradited\". \n",
            "실제 요약 : AgustaWestland scam accused Rajiv Saxena extradited to India\n",
            "예측 요약 : AgustaWestland chopper scam co-accused Rajiv Saxena was extradited to India from UAE on Wednesday.\n",
            "\n",
            "\n",
            "원래 문장 : Afghan President Ashraf Ghani has said the \"keys to war\" are in Pakistan's Islamabad, Quetta and Rawalpindi, accusing the country of providing safe havens to militants, including those belonging to the Taliban. Ghani added the \"key to peace was in Afghanistan\". His comments came amid the talks between the US and the Taliban to end the 17-year war in Afghanistan.\n",
            "실제 요약 : Pakistan holds 'keys to war': Afghanistan\n",
            "예측 요약 : Afghan President Ashraf Ghani has said the \"keys to war\" are in Pakistan's Islamabad, Quetta and Rawalpindi, accusing the country of providing safe havens to militants, including those belonging to the Taliban.\n",
            "\n",
            "\n",
            "원래 문장 : A Singapore-based insurance agent has been jailed for two years and five months for threatening to harm his clients unless they paid him in bitcoins. The 36-year-old set up an email account, and signed the messages as 'Lord Voldemort', a fictional character from the Harry Potter series. Ye Lin Myint targeted about 33 people, including those who cancelled insurance policies.\n",
            "실제 요약 : Insurance agent 'Lord Voldemort' jailed for threatening clients\n",
            "예측 요약 : A Singapore-based insurance agent has been jailed for two years and five months for threatening to harm his clients unless they paid him in bitcoins.\n",
            "\n",
            "\n",
            "원래 문장 : Gabrielle Reilly, a 22-year-old US woman, created earrings for her Apple AirPods and put it up for sale online for $20 (about Ã¢ÂÂ¹1,500). \"I absolutely refuse to lose them (AirPods)...So I made earrings,\" she explained. The earrings, which took her over an hour to make, debuted in a video on Twitter that has since garnered over three million views.\n",
            "실제 요약 : Woman turns Apple AirPods into earrings to avoid losing them\n",
            "예측 요약 : \"I absolutely refuse to lose them (AirPods)...So I made earrings,\" she explained.\n",
            "\n",
            "\n",
            "원래 문장 : Ex-ICICI Bank CEO Chanda Kochhar said she's \"utterly disappointed, hurt and shocked\" by the bank's decision to terminate her. Kochhar said she served ICICI for 34 years with utmost honesty and integrity and that ultimately truth will prevail. Adding that she hasn't been given a copy of the independent probe report, Kochhar said none of ICICI's credit decisions are unilateral\n",
            "실제 요약 : Shocked, hurt by ICICI's decision, truth will prevail: Kochhar\n",
            "예측 요약 : Adding that she hasn't been given a copy of the independent probe report, Kochhar said none of ICICI's credit decisions are unilateral\n",
            "\n",
            "\n",
            "원래 문장 : Swedish multinational fast-fashion brand Hennes & Mauritz AB (H&M) has hired Christopher Wylie, the whistleblower who exposed Facebook's Cambridge Analytica data scandal. WylieÃ¢ÂÂs focus will be to help get better insights on customers, products and markets and support work on sustainable and ethical artificial intelligence, H&M spokesperson said. Wylie is a former employee of Cambridge Analytica.\n",
            "실제 요약 : Fashion brand H&M hires Facebook data scandal whistleblower\n",
            "예측 요약 : Swedish multinational fast-fashion brand Hennes & Mauritz AB (H&M) has hired Christopher Wylie, the whistleblower who exposed Facebook's Cambridge Analytica data scandal.\n",
            "\n",
            "\n",
            "원래 문장 : Micro-blogging platform Twitter is testing a new feature on Android to put news on the top of a user's timeline. \"With this update, weÃ¢ÂÂre making it easier for people to see news and stories their followers have been discussing,\" Product Manager Walter Gurzynski said. The feature comes alongside a prompt saying, \"Catch up on what's happened while you were away.\"\n",
            "실제 요약 : Twitter testing news-first timeline feature on Android\n",
            "예측 요약 : Micro-blogging platform Twitter is testing a new feature on Android to put news on the top of a user's timeline.\n",
            "\n",
            "\n",
            "원래 문장 : Samsung has started mass producing its one terabyte 'embedded Universal Flash Storage (eUFS) 2.1' technology for \"use in next-generation mobile applications\", which it claims is the industry's first such eUFS. The company added the new eUFS will let smartphones store 260 10-minute videos shot in 4K UHD format. It'll be sized the same as the previous 512GB version, Samsung said.\n",
            "실제 요약 : Samsung builds world's first 1TB storage chip for smartphones \n",
            "예측 요약 : Samsung has started mass producing its one terabyte 'embedded Universal Flash Storage (eUFS) 2.1' technology for \"use in next-generation mobile applications\", which it claims is the industry's first such eUFS.\n",
            "\n",
            "\n",
            "원래 문장 : Prime Minister Narendra Modi on Wednesday said the people with 'negative mindset' are questioning him and his government for floating pro-poor schemes. He added negative mindset people are raising doubts about schemes such as building toilets and providing free gas connections to the poor. He further said that negative mentality laced with a vested interest still exists in the country.\n",
            "실제 요약 : People with 'negative mindset' quizzing pro-poor schemes: PM\n",
            "예측 요약 : Prime Minister Narendra Modi on Wednesday said the people with 'negative mindset' are questioning him and his government for floating pro-poor schemes.\n",
            "\n",
            "\n",
            "원래 문장 : Union Minister Anantkumar Hegde took a dig at Congress President Rahul Gandhi by calling him a \"hybrid specimen\" who has no clue about religion. \"A father who's...Muslim, a mother who's...Christian and the son is supposed to be...Brahmin. How is that even possible?\" he said. He added such \"hybrid specimen\" cannot be found in any laboratory in the world.\n",
            "실제 요약 : Rahul is hybrid specimen, has no clue about religion: Hegde\n",
            "예측 요약 : Union Minister Anantkumar Hegde took a dig at Congress President Rahul Gandhi by calling him a \"hybrid specimen\" who has no clue about religion.\n",
            "\n",
            "\n",
            "원래 문장 : Several parts of the US are set to experience record low temperatures as the polar vortex hit the Upper Midwest, with more than 200 million people expected to experience below-freezing temperatures this week. Temperatures throughout the Upper Midwest are expected to be at least 20-40Ã¢ÂÂ below zero. Government offices and schools have been closed in several areas.\n",
            "실제 요약 : Extreme cold to affect 200 million people as polar vortex hits US\n",
            "예측 요약 : Several parts of the US are set to experience record low temperatures as the polar vortex hit the Upper Midwest, with more than 200 million people expected to experience below-freezing temperatures this week.\n",
            "\n",
            "\n",
            "원래 문장 : The police on Wednesday registered cases against 13 persons, including a woman leader of Hindu Mahasabha, in Aligarh for firing at an effigy of Mahatma Gandhi with an air pistol. \"The incident took place in a house in Naurangabad locality of the city,\" Senior Superintendent of Police said. The video of the event went viral on social media, he added.\n",
            "실제 요약 : 13 booked for firing air shots at Mahatma Gandhi's effigy\n",
            "예측 요약 : The police on Wednesday registered cases against 13 persons, including a woman leader of Hindu Mahasabha, in Aligarh for firing at an effigy of Mahatma Gandhi with an air pistol.\n",
            "\n",
            "\n",
            "원래 문장 : Railway police has rescued a woman travelling on a train in Chennai who got her leg stuck inside the commode of a toilet. After being caught inside the commode hole, she struggled to remove her leg and following failed attempts, she shouted for help, reports said. Railway police used a cutter to pry open the commode and freed her leg.\n",
            "실제 요약 : Railway police rescues woman with leg stuck in train toilet\n",
            "예측 요약 : Railway police has rescued a woman travelling on a train in Chennai who got her leg stuck inside the commode of a toilet.\n",
            "\n",
            "\n",
            "원래 문장 : The US on Tuesday began returning asylum seekers to Mexico, sending back a migrant from a Central American nation and called the move a \"response to the illegal migration crisis\" faced by it. Under its Migrant Protection Protocols policy, the US will return certain migrants who cross into the country illegally back to Mexico while their asylum requests are processed.\n",
            "실제 요약 : US begins sending back asylum seekers to Mexico\n",
            "예측 요약 : \n",
            "\n",
            "\n"
          ]
        }
      ]
    },
    {
      "cell_type": "markdown",
      "source": [
        "![image.png](data:image/png;base64,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)"
      ],
      "metadata": {
        "id": "uUX3e_FlDHAg"
      }
    },
    {
      "cell_type": "markdown",
      "source": [
        "총평 및 요약:\n",
        "\n",
        "사실 자연어처리가 굉장히 어려웠는데, 이번 익스플로레이션 같은 경우에는 쉬웠다.\n",
        "\n",
        "왜냐하면, 프로젝트 전 교육과정에서의 약간의 코드 변경만 하면 되었기 때문이다.\n",
        "\n",
        "현실적으로 여태껏 노드 포함하여 3가지 정도의 자연어 처리를 진행하였는데, RNN 그 이후 LSTM과 GRU 등의 메커니즘 그 이후 어텐션 메커니즘 그리고 seq2seq를 통한 추상적 요약과 summarize 모듈에서의 추출적 요약 모두 경험하게 되었다.\n",
        "\n",
        "혼공머신 책에는 엄청 짧게나마 소개가 되어 있는데, 이렇게 많은 종류의 다양한 방식들이 있는지 몰랐고, 현재 추가적으로 교재를 구매해서 공부를 해보고자 한다.\n",
        "\n",
        "아직까지 머릿속에 혼재되어 있는 지식의 정리가 필요한거 같고, 방학기간에 전반적으로 정리를 해봐야겠다는 필요성을 느끼고 있다.\n",
        "\n",
        "한국어 처리 부분은 더더군다나 영어보다 어려워서 식겁했었는데, 이 부분 또한 한국어 임베딩에 대한 정리가 필수적이다.\n",
        "\n",
        "\n",
        "루브릭 평가 마지막 세 번째 문항의 비교에서는\n",
        "\n",
        "# 추상적 요약\n",
        "\n",
        "![image.png](data:image/png;base64,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)"
      ],
      "metadata": {
        "id": "MwYs5tIDDUIj"
      }
    },
    {
      "cell_type": "markdown",
      "source": [
        "# 추출적 요약\n",
        "\n",
        "![image.png](data:image/png;base64,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)"
      ],
      "metadata": {
        "id": "LhfMXbPSFEfg"
      }
    },
    {
      "cell_type": "markdown",
      "source": [
        "크나큰 차이점이 없었고 일부 문장은 예측의 output이 안나온것도 비슷하였고, 실제 요약과 비교했을때 핵심 키워드 단어만 비슷할뿐 문장 전체가 주는 의미의 유사성은 사실상 찾기가 힘들었다. \n",
        "\n",
        "그리고 이상한 글씨가 깨져서 나오는 부분 역시 해결을 못하였는데, 원문에서 손상된 텍스트가 들어가서 학습이 되었으리라는 추측을 해보았다.\n",
        "\n",
        "마지막, 제시한 부분도 사실 문장에서의 핵심단어들을 카운팅하는 코드를 짜서 유사성을 그래프화 시키려고 했으나 단순히 언급빈도수만 시각화시키는 것이 의미가 없고 (왜냐하면 어순 - 문법이 중요하니까) 그래서 단순히 비교 열거만 해놓았다.\n",
        "\n",
        "앞으로의 과제는 다음과 같다.\n",
        "\n",
        "1. 파이썬의 re모듈 숙달, zip함수나 enumerate 같은 것들의 숙달\n",
        "\n",
        "2. 파편화된 지식들의 정리 \n",
        "\n",
        "3. exploration에서 해결못한 문장깨짐현상 해결, 유사성을 더 높이고 문법적 에러 부분을 더 면밀하게 해결\n",
        "(사실 이 부분까지 진행한다면 현업에서 당장 찾는 개발자가 되는것인데...)\n",
        "\n"
      ],
      "metadata": {
        "id": "sRRmGu50Fu6N"
      }
    }
  ]
}