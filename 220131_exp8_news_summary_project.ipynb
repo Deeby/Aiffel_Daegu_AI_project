{
  "nbformat": 4,
  "nbformat_minor": 0,
  "metadata": {
    "colab": {
      "name": "220131_exp8_news_summary_project.ipynb",
      "provenance": [],
      "collapsed_sections": [],
      "mount_file_id": "1zGjYYKVIB1bpi8_bv6y7CcmAacQOcgad",
      "authorship_tag": "ABX9TyMFGLx5/QPQj+xmR63t86+e",
      "include_colab_link": true
    },
    "kernelspec": {
      "name": "python3",
      "display_name": "Python 3"
    },
    "language_info": {
      "name": "python"
    },
    "accelerator": "GPU"
  },
  "cells": [
    {
      "cell_type": "markdown",
      "metadata": {
        "id": "view-in-github",
        "colab_type": "text"
      },
      "source": [
        "<a href=\"https://colab.research.google.com/github/Yeonsu-Hong/Aiffel_Daegu_AI_project/blob/master/220131_exp8_news_summary_project.ipynb\" target=\"_parent\"><img src=\"https://colab.research.google.com/assets/colab-badge.svg\" alt=\"Open In Colab\"/></a>"
      ]
    },
    {
      "cell_type": "code",
      "execution_count": 1,
      "metadata": {
        "id": "2eLybOAkkqJb"
      },
      "outputs": [],
      "source": [
        "# 8-13. 프로젝트: 뉴스기사 요약해보기\n",
        "# 추상적 요약과 추출적 요약하기"
      ]
    },
    {
      "cell_type": "markdown",
      "source": [
        "# Step1. 데이터 수집하기\n",
        "\n",
        "https://github.com/sunnysai12345/News_Summary\n",
        "\n"
      ],
      "metadata": {
        "id": "5tL6KYv6lSoB"
      }
    },
    {
      "cell_type": "code",
      "source": [
        "import numpy as np\n",
        "import pandas as pd\n",
        "\n",
        "import urllib.request\n",
        "\n",
        "urllib.request.urlretrieve(\"https://raw.githubusercontent.com/sunnysai12345/News_Summary/master/news_summary_more.csv\", filename=\"news_summary_more.csv\")\n",
        "data = pd.read_csv('news_summary_more.csv', encoding='iso-8859-1')"
      ],
      "metadata": {
        "id": "0lfA4Y1ZlZLV"
      },
      "execution_count": 62,
      "outputs": []
    },
    {
      "cell_type": "code",
      "source": [
        "data.sample(10)"
      ],
      "metadata": {
        "colab": {
          "base_uri": "https://localhost:8080/",
          "height": 363
        },
        "id": "P2tvK9qPlbLs",
        "outputId": "838924bf-c5b9-44fe-b9d0-d38ebbc1ca8f"
      },
      "execution_count": 63,
      "outputs": [
        {
          "output_type": "execute_result",
          "data": {
            "text/html": [
              "\n",
              "  <div id=\"df-23372abd-72c0-42a6-9ac8-f4fbb4208045\">\n",
              "    <div class=\"colab-df-container\">\n",
              "      <div>\n",
              "<style scoped>\n",
              "    .dataframe tbody tr th:only-of-type {\n",
              "        vertical-align: middle;\n",
              "    }\n",
              "\n",
              "    .dataframe tbody tr th {\n",
              "        vertical-align: top;\n",
              "    }\n",
              "\n",
              "    .dataframe thead th {\n",
              "        text-align: right;\n",
              "    }\n",
              "</style>\n",
              "<table border=\"1\" class=\"dataframe\">\n",
              "  <thead>\n",
              "    <tr style=\"text-align: right;\">\n",
              "      <th></th>\n",
              "      <th>headlines</th>\n",
              "      <th>text</th>\n",
              "    </tr>\n",
              "  </thead>\n",
              "  <tbody>\n",
              "    <tr>\n",
              "      <th>96302</th>\n",
              "      <td>Can't stop govt from linking bank accounts wit...</td>\n",
              "      <td>The Supreme Court has said the government cann...</td>\n",
              "    </tr>\n",
              "    <tr>\n",
              "      <th>32816</th>\n",
              "      <td>Prez repaid attorney for payment to pornstar: ...</td>\n",
              "      <td>Contradicting claims by Donald Trump, his new ...</td>\n",
              "    </tr>\n",
              "    <tr>\n",
              "      <th>30629</th>\n",
              "      <td>BJP offered money to MLAs after security withd...</td>\n",
              "      <td>Congress leader Ramalinga Reddy on Thursday sa...</td>\n",
              "    </tr>\n",
              "    <tr>\n",
              "      <th>70427</th>\n",
              "      <td>Will never go with DMK; they are political ene...</td>\n",
              "      <td>Sidelined AIADMK Deputy General Secretary TTV ...</td>\n",
              "    </tr>\n",
              "    <tr>\n",
              "      <th>19426</th>\n",
              "      <td>Big Bazaar, IndiaÃ¢ÂÂs 1st brand to explore ...</td>\n",
              "      <td>For the first time, you can use voice search t...</td>\n",
              "    </tr>\n",
              "    <tr>\n",
              "      <th>62957</th>\n",
              "      <td>Nasty comments on Aishwarya's weight gain upse...</td>\n",
              "      <td>Abhishek Bachchan has said that nasty things w...</td>\n",
              "    </tr>\n",
              "    <tr>\n",
              "      <th>15897</th>\n",
              "      <td>6 hours on ground, no result is not fair: Shah...</td>\n",
              "      <td>Afghanistan wicketkeeper-batsman Mohammad Shah...</td>\n",
              "    </tr>\n",
              "    <tr>\n",
              "      <th>33287</th>\n",
              "      <td>Trump slams WH press dinner, calls it an embar...</td>\n",
              "      <td>Slamming this year's White House Correspondent...</td>\n",
              "    </tr>\n",
              "    <tr>\n",
              "      <th>76521</th>\n",
              "      <td>Pilotless planes could save airlines Ã¢ÂÂ¹2 l...</td>\n",
              "      <td>Pilotless planes would save airlines $35 billi...</td>\n",
              "    </tr>\n",
              "    <tr>\n",
              "      <th>5688</th>\n",
              "      <td>J&amp;J announces $5 bn share buyback after losing...</td>\n",
              "      <td>Johnson &amp; Johnson (J&amp;J) on Monday said it plan...</td>\n",
              "    </tr>\n",
              "  </tbody>\n",
              "</table>\n",
              "</div>\n",
              "      <button class=\"colab-df-convert\" onclick=\"convertToInteractive('df-23372abd-72c0-42a6-9ac8-f4fbb4208045')\"\n",
              "              title=\"Convert this dataframe to an interactive table.\"\n",
              "              style=\"display:none;\">\n",
              "        \n",
              "  <svg xmlns=\"http://www.w3.org/2000/svg\" height=\"24px\"viewBox=\"0 0 24 24\"\n",
              "       width=\"24px\">\n",
              "    <path d=\"M0 0h24v24H0V0z\" fill=\"none\"/>\n",
              "    <path d=\"M18.56 5.44l.94 2.06.94-2.06 2.06-.94-2.06-.94-.94-2.06-.94 2.06-2.06.94zm-11 1L8.5 8.5l.94-2.06 2.06-.94-2.06-.94L8.5 2.5l-.94 2.06-2.06.94zm10 10l.94 2.06.94-2.06 2.06-.94-2.06-.94-.94-2.06-.94 2.06-2.06.94z\"/><path d=\"M17.41 7.96l-1.37-1.37c-.4-.4-.92-.59-1.43-.59-.52 0-1.04.2-1.43.59L10.3 9.45l-7.72 7.72c-.78.78-.78 2.05 0 2.83L4 21.41c.39.39.9.59 1.41.59.51 0 1.02-.2 1.41-.59l7.78-7.78 2.81-2.81c.8-.78.8-2.07 0-2.86zM5.41 20L4 18.59l7.72-7.72 1.47 1.35L5.41 20z\"/>\n",
              "  </svg>\n",
              "      </button>\n",
              "      \n",
              "  <style>\n",
              "    .colab-df-container {\n",
              "      display:flex;\n",
              "      flex-wrap:wrap;\n",
              "      gap: 12px;\n",
              "    }\n",
              "\n",
              "    .colab-df-convert {\n",
              "      background-color: #E8F0FE;\n",
              "      border: none;\n",
              "      border-radius: 50%;\n",
              "      cursor: pointer;\n",
              "      display: none;\n",
              "      fill: #1967D2;\n",
              "      height: 32px;\n",
              "      padding: 0 0 0 0;\n",
              "      width: 32px;\n",
              "    }\n",
              "\n",
              "    .colab-df-convert:hover {\n",
              "      background-color: #E2EBFA;\n",
              "      box-shadow: 0px 1px 2px rgba(60, 64, 67, 0.3), 0px 1px 3px 1px rgba(60, 64, 67, 0.15);\n",
              "      fill: #174EA6;\n",
              "    }\n",
              "\n",
              "    [theme=dark] .colab-df-convert {\n",
              "      background-color: #3B4455;\n",
              "      fill: #D2E3FC;\n",
              "    }\n",
              "\n",
              "    [theme=dark] .colab-df-convert:hover {\n",
              "      background-color: #434B5C;\n",
              "      box-shadow: 0px 1px 3px 1px rgba(0, 0, 0, 0.15);\n",
              "      filter: drop-shadow(0px 1px 2px rgba(0, 0, 0, 0.3));\n",
              "      fill: #FFFFFF;\n",
              "    }\n",
              "  </style>\n",
              "\n",
              "      <script>\n",
              "        const buttonEl =\n",
              "          document.querySelector('#df-23372abd-72c0-42a6-9ac8-f4fbb4208045 button.colab-df-convert');\n",
              "        buttonEl.style.display =\n",
              "          google.colab.kernel.accessAllowed ? 'block' : 'none';\n",
              "\n",
              "        async function convertToInteractive(key) {\n",
              "          const element = document.querySelector('#df-23372abd-72c0-42a6-9ac8-f4fbb4208045');\n",
              "          const dataTable =\n",
              "            await google.colab.kernel.invokeFunction('convertToInteractive',\n",
              "                                                     [key], {});\n",
              "          if (!dataTable) return;\n",
              "\n",
              "          const docLinkHtml = 'Like what you see? Visit the ' +\n",
              "            '<a target=\"_blank\" href=https://colab.research.google.com/notebooks/data_table.ipynb>data table notebook</a>'\n",
              "            + ' to learn more about interactive tables.';\n",
              "          element.innerHTML = '';\n",
              "          dataTable['output_type'] = 'display_data';\n",
              "          await google.colab.output.renderOutput(dataTable, element);\n",
              "          const docLink = document.createElement('div');\n",
              "          docLink.innerHTML = docLinkHtml;\n",
              "          element.appendChild(docLink);\n",
              "        }\n",
              "      </script>\n",
              "    </div>\n",
              "  </div>\n",
              "  "
            ],
            "text/plain": [
              "                                               headlines                                               text\n",
              "96302  Can't stop govt from linking bank accounts wit...  The Supreme Court has said the government cann...\n",
              "32816  Prez repaid attorney for payment to pornstar: ...  Contradicting claims by Donald Trump, his new ...\n",
              "30629  BJP offered money to MLAs after security withd...  Congress leader Ramalinga Reddy on Thursday sa...\n",
              "70427  Will never go with DMK; they are political ene...  Sidelined AIADMK Deputy General Secretary TTV ...\n",
              "19426  Big Bazaar, IndiaÃ¢ÂÂs 1st brand to explore ...  For the first time, you can use voice search t...\n",
              "62957  Nasty comments on Aishwarya's weight gain upse...  Abhishek Bachchan has said that nasty things w...\n",
              "15897  6 hours on ground, no result is not fair: Shah...  Afghanistan wicketkeeper-batsman Mohammad Shah...\n",
              "33287  Trump slams WH press dinner, calls it an embar...  Slamming this year's White House Correspondent...\n",
              "76521  Pilotless planes could save airlines Ã¢ÂÂ¹2 l...  Pilotless planes would save airlines $35 billi...\n",
              "5688   J&J announces $5 bn share buyback after losing...  Johnson & Johnson (J&J) on Monday said it plan..."
            ]
          },
          "metadata": {},
          "execution_count": 63
        }
      ]
    },
    {
      "cell_type": "code",
      "source": [
        "!mkdir -p ~/aiffel/news_summarization/data"
      ],
      "metadata": {
        "id": "_HmXwHNapj0C"
      },
      "execution_count": 64,
      "outputs": []
    },
    {
      "cell_type": "code",
      "source": [
        "# 수동으로 파일 옮김\n",
        "# csv 파일 같은 경우 깃허브에서 다운로드를 누르면, raw_data가 혼재되어서 눈앞에 나타나는데 \n",
        "# Ctrl + S를 눌러서 디렉토리를 지정해서 저장을 하면 csv 파일을 다운 받을수 있다."
      ],
      "metadata": {
        "id": "IuEyLm5KpuCu"
      },
      "execution_count": 8,
      "outputs": []
    },
    {
      "cell_type": "markdown",
      "source": [
        "![image.png](data:image/png;base64,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)"
      ],
      "metadata": {
        "id": "imi7NohLloRa"
      }
    },
    {
      "cell_type": "code",
      "source": [
        "import nltk # nltk import\n",
        "nltk.download('stopwords')\n",
        "\n",
        "# 필요한 것들 import 하기\n",
        "import numpy as np\n",
        "import pandas as pd\n",
        "import os\n",
        "import re\n",
        "import matplotlib.pyplot as plt\n",
        "from nltk.corpus import stopwords\n",
        "from bs4 import BeautifulSoup \n",
        "from tensorflow.keras.preprocessing.text import Tokenizer \n",
        "from tensorflow.keras.preprocessing.sequence import pad_sequences\n",
        "import warnings\n",
        "warnings.filterwarnings(\"ignore\", category=UserWarning, module='bs4')\n"
      ],
      "metadata": {
        "colab": {
          "base_uri": "https://localhost:8080/"
        },
        "id": "jyLWkaI2rmpD",
        "outputId": "94a660c4-7860-4eca-985d-1814f8c8b030"
      },
      "execution_count": 65,
      "outputs": [
        {
          "output_type": "stream",
          "name": "stdout",
          "text": [
            "[nltk_data] Downloading package stopwords to /root/nltk_data...\n",
            "[nltk_data]   Package stopwords is already up-to-date!\n"
          ]
        }
      ]
    },
    {
      "cell_type": "code",
      "source": [
        "data = pd.read_csv(os.getenv(\"HOME\")+\"/aiffel/news_summarization/data/news_summary_more.csv\")\n",
        "print('전체 샘플수 :', (len(data)))"
      ],
      "metadata": {
        "colab": {
          "base_uri": "https://localhost:8080/"
        },
        "id": "hWeevYDIrmZI",
        "outputId": "4a2a90d9-815a-4102-8d53-9158202cc39e"
      },
      "execution_count": 66,
      "outputs": [
        {
          "output_type": "stream",
          "name": "stdout",
          "text": [
            "전체 샘플수 : 98401\n"
          ]
        }
      ]
    },
    {
      "cell_type": "code",
      "source": [
        "# Total 샘플수는 98401개이다."
      ],
      "metadata": {
        "id": "B6FM5T2_sKll"
      },
      "execution_count": 6,
      "outputs": []
    },
    {
      "cell_type": "code",
      "source": [
        "data.head()"
      ],
      "metadata": {
        "colab": {
          "base_uri": "https://localhost:8080/",
          "height": 206
        },
        "id": "_uVXo1c1sRRT",
        "outputId": "8f91dd5e-2d77-4b73-8d5e-c53887a82523"
      },
      "execution_count": 67,
      "outputs": [
        {
          "output_type": "execute_result",
          "data": {
            "text/html": [
              "\n",
              "  <div id=\"df-12732047-849d-43a4-8445-d50a2783f6fb\">\n",
              "    <div class=\"colab-df-container\">\n",
              "      <div>\n",
              "<style scoped>\n",
              "    .dataframe tbody tr th:only-of-type {\n",
              "        vertical-align: middle;\n",
              "    }\n",
              "\n",
              "    .dataframe tbody tr th {\n",
              "        vertical-align: top;\n",
              "    }\n",
              "\n",
              "    .dataframe thead th {\n",
              "        text-align: right;\n",
              "    }\n",
              "</style>\n",
              "<table border=\"1\" class=\"dataframe\">\n",
              "  <thead>\n",
              "    <tr style=\"text-align: right;\">\n",
              "      <th></th>\n",
              "      <th>headlines</th>\n",
              "      <th>text</th>\n",
              "    </tr>\n",
              "  </thead>\n",
              "  <tbody>\n",
              "    <tr>\n",
              "      <th>0</th>\n",
              "      <td>upGrad learner switches to career in ML &amp; Al w...</td>\n",
              "      <td>Saurav Kant, an alumnus of upGrad and IIIT-B's...</td>\n",
              "    </tr>\n",
              "    <tr>\n",
              "      <th>1</th>\n",
              "      <td>Delhi techie wins free food from Swiggy for on...</td>\n",
              "      <td>Kunal Shah's credit card bill payment platform...</td>\n",
              "    </tr>\n",
              "    <tr>\n",
              "      <th>2</th>\n",
              "      <td>New Zealand end Rohit Sharma-led India's 12-ma...</td>\n",
              "      <td>New Zealand defeated India by 8 wickets in the...</td>\n",
              "    </tr>\n",
              "    <tr>\n",
              "      <th>3</th>\n",
              "      <td>Aegon life iTerm insurance plan helps customer...</td>\n",
              "      <td>With Aegon Life iTerm Insurance plan, customer...</td>\n",
              "    </tr>\n",
              "    <tr>\n",
              "      <th>4</th>\n",
              "      <td>Have known Hirani for yrs, what if MeToo claim...</td>\n",
              "      <td>Speaking about the sexual harassment allegatio...</td>\n",
              "    </tr>\n",
              "  </tbody>\n",
              "</table>\n",
              "</div>\n",
              "      <button class=\"colab-df-convert\" onclick=\"convertToInteractive('df-12732047-849d-43a4-8445-d50a2783f6fb')\"\n",
              "              title=\"Convert this dataframe to an interactive table.\"\n",
              "              style=\"display:none;\">\n",
              "        \n",
              "  <svg xmlns=\"http://www.w3.org/2000/svg\" height=\"24px\"viewBox=\"0 0 24 24\"\n",
              "       width=\"24px\">\n",
              "    <path d=\"M0 0h24v24H0V0z\" fill=\"none\"/>\n",
              "    <path d=\"M18.56 5.44l.94 2.06.94-2.06 2.06-.94-2.06-.94-.94-2.06-.94 2.06-2.06.94zm-11 1L8.5 8.5l.94-2.06 2.06-.94-2.06-.94L8.5 2.5l-.94 2.06-2.06.94zm10 10l.94 2.06.94-2.06 2.06-.94-2.06-.94-.94-2.06-.94 2.06-2.06.94z\"/><path d=\"M17.41 7.96l-1.37-1.37c-.4-.4-.92-.59-1.43-.59-.52 0-1.04.2-1.43.59L10.3 9.45l-7.72 7.72c-.78.78-.78 2.05 0 2.83L4 21.41c.39.39.9.59 1.41.59.51 0 1.02-.2 1.41-.59l7.78-7.78 2.81-2.81c.8-.78.8-2.07 0-2.86zM5.41 20L4 18.59l7.72-7.72 1.47 1.35L5.41 20z\"/>\n",
              "  </svg>\n",
              "      </button>\n",
              "      \n",
              "  <style>\n",
              "    .colab-df-container {\n",
              "      display:flex;\n",
              "      flex-wrap:wrap;\n",
              "      gap: 12px;\n",
              "    }\n",
              "\n",
              "    .colab-df-convert {\n",
              "      background-color: #E8F0FE;\n",
              "      border: none;\n",
              "      border-radius: 50%;\n",
              "      cursor: pointer;\n",
              "      display: none;\n",
              "      fill: #1967D2;\n",
              "      height: 32px;\n",
              "      padding: 0 0 0 0;\n",
              "      width: 32px;\n",
              "    }\n",
              "\n",
              "    .colab-df-convert:hover {\n",
              "      background-color: #E2EBFA;\n",
              "      box-shadow: 0px 1px 2px rgba(60, 64, 67, 0.3), 0px 1px 3px 1px rgba(60, 64, 67, 0.15);\n",
              "      fill: #174EA6;\n",
              "    }\n",
              "\n",
              "    [theme=dark] .colab-df-convert {\n",
              "      background-color: #3B4455;\n",
              "      fill: #D2E3FC;\n",
              "    }\n",
              "\n",
              "    [theme=dark] .colab-df-convert:hover {\n",
              "      background-color: #434B5C;\n",
              "      box-shadow: 0px 1px 3px 1px rgba(0, 0, 0, 0.15);\n",
              "      filter: drop-shadow(0px 1px 2px rgba(0, 0, 0, 0.3));\n",
              "      fill: #FFFFFF;\n",
              "    }\n",
              "  </style>\n",
              "\n",
              "      <script>\n",
              "        const buttonEl =\n",
              "          document.querySelector('#df-12732047-849d-43a4-8445-d50a2783f6fb button.colab-df-convert');\n",
              "        buttonEl.style.display =\n",
              "          google.colab.kernel.accessAllowed ? 'block' : 'none';\n",
              "\n",
              "        async function convertToInteractive(key) {\n",
              "          const element = document.querySelector('#df-12732047-849d-43a4-8445-d50a2783f6fb');\n",
              "          const dataTable =\n",
              "            await google.colab.kernel.invokeFunction('convertToInteractive',\n",
              "                                                     [key], {});\n",
              "          if (!dataTable) return;\n",
              "\n",
              "          const docLinkHtml = 'Like what you see? Visit the ' +\n",
              "            '<a target=\"_blank\" href=https://colab.research.google.com/notebooks/data_table.ipynb>data table notebook</a>'\n",
              "            + ' to learn more about interactive tables.';\n",
              "          element.innerHTML = '';\n",
              "          dataTable['output_type'] = 'display_data';\n",
              "          await google.colab.output.renderOutput(dataTable, element);\n",
              "          const docLink = document.createElement('div');\n",
              "          docLink.innerHTML = docLinkHtml;\n",
              "          element.appendChild(docLink);\n",
              "        }\n",
              "      </script>\n",
              "    </div>\n",
              "  </div>\n",
              "  "
            ],
            "text/plain": [
              "                                           headlines                                               text\n",
              "0  upGrad learner switches to career in ML & Al w...  Saurav Kant, an alumnus of upGrad and IIIT-B's...\n",
              "1  Delhi techie wins free food from Swiggy for on...  Kunal Shah's credit card bill payment platform...\n",
              "2  New Zealand end Rohit Sharma-led India's 12-ma...  New Zealand defeated India by 8 wickets in the...\n",
              "3  Aegon life iTerm insurance plan helps customer...  With Aegon Life iTerm Insurance plan, customer...\n",
              "4  Have known Hirani for yrs, what if MeToo claim...  Speaking about the sexual harassment allegatio..."
            ]
          },
          "metadata": {},
          "execution_count": 67
        }
      ]
    },
    {
      "cell_type": "code",
      "source": [
        "data.tail()"
      ],
      "metadata": {
        "colab": {
          "base_uri": "https://localhost:8080/",
          "height": 206
        },
        "id": "yWW3TtyasTJB",
        "outputId": "0a14510e-7a75-4716-f1cf-c132ba921807"
      },
      "execution_count": 68,
      "outputs": [
        {
          "output_type": "execute_result",
          "data": {
            "text/html": [
              "\n",
              "  <div id=\"df-9341eb57-3ac1-4772-aa9e-873351536cd1\">\n",
              "    <div class=\"colab-df-container\">\n",
              "      <div>\n",
              "<style scoped>\n",
              "    .dataframe tbody tr th:only-of-type {\n",
              "        vertical-align: middle;\n",
              "    }\n",
              "\n",
              "    .dataframe tbody tr th {\n",
              "        vertical-align: top;\n",
              "    }\n",
              "\n",
              "    .dataframe thead th {\n",
              "        text-align: right;\n",
              "    }\n",
              "</style>\n",
              "<table border=\"1\" class=\"dataframe\">\n",
              "  <thead>\n",
              "    <tr style=\"text-align: right;\">\n",
              "      <th></th>\n",
              "      <th>headlines</th>\n",
              "      <th>text</th>\n",
              "    </tr>\n",
              "  </thead>\n",
              "  <tbody>\n",
              "    <tr>\n",
              "      <th>98396</th>\n",
              "      <td>CRPF jawan axed to death by Maoists in Chhatti...</td>\n",
              "      <td>A CRPF jawan was on Tuesday axed to death with...</td>\n",
              "    </tr>\n",
              "    <tr>\n",
              "      <th>98397</th>\n",
              "      <td>First song from Sonakshi Sinha's 'Noor' titled...</td>\n",
              "      <td>'Uff Yeh', the first song from the Sonakshi Si...</td>\n",
              "    </tr>\n",
              "    <tr>\n",
              "      <th>98398</th>\n",
              "      <td>'The Matrix' film to get a reboot: Reports</td>\n",
              "      <td>According to reports, a new version of the 199...</td>\n",
              "    </tr>\n",
              "    <tr>\n",
              "      <th>98399</th>\n",
              "      <td>Snoop Dogg aims gun at clown dressed as Trump ...</td>\n",
              "      <td>A new music video shows rapper Snoop Dogg aimi...</td>\n",
              "    </tr>\n",
              "    <tr>\n",
              "      <th>98400</th>\n",
              "      <td>Madhesi Morcha withdraws support to Nepalese g...</td>\n",
              "      <td>Madhesi Morcha, an alliance of seven political...</td>\n",
              "    </tr>\n",
              "  </tbody>\n",
              "</table>\n",
              "</div>\n",
              "      <button class=\"colab-df-convert\" onclick=\"convertToInteractive('df-9341eb57-3ac1-4772-aa9e-873351536cd1')\"\n",
              "              title=\"Convert this dataframe to an interactive table.\"\n",
              "              style=\"display:none;\">\n",
              "        \n",
              "  <svg xmlns=\"http://www.w3.org/2000/svg\" height=\"24px\"viewBox=\"0 0 24 24\"\n",
              "       width=\"24px\">\n",
              "    <path d=\"M0 0h24v24H0V0z\" fill=\"none\"/>\n",
              "    <path d=\"M18.56 5.44l.94 2.06.94-2.06 2.06-.94-2.06-.94-.94-2.06-.94 2.06-2.06.94zm-11 1L8.5 8.5l.94-2.06 2.06-.94-2.06-.94L8.5 2.5l-.94 2.06-2.06.94zm10 10l.94 2.06.94-2.06 2.06-.94-2.06-.94-.94-2.06-.94 2.06-2.06.94z\"/><path d=\"M17.41 7.96l-1.37-1.37c-.4-.4-.92-.59-1.43-.59-.52 0-1.04.2-1.43.59L10.3 9.45l-7.72 7.72c-.78.78-.78 2.05 0 2.83L4 21.41c.39.39.9.59 1.41.59.51 0 1.02-.2 1.41-.59l7.78-7.78 2.81-2.81c.8-.78.8-2.07 0-2.86zM5.41 20L4 18.59l7.72-7.72 1.47 1.35L5.41 20z\"/>\n",
              "  </svg>\n",
              "      </button>\n",
              "      \n",
              "  <style>\n",
              "    .colab-df-container {\n",
              "      display:flex;\n",
              "      flex-wrap:wrap;\n",
              "      gap: 12px;\n",
              "    }\n",
              "\n",
              "    .colab-df-convert {\n",
              "      background-color: #E8F0FE;\n",
              "      border: none;\n",
              "      border-radius: 50%;\n",
              "      cursor: pointer;\n",
              "      display: none;\n",
              "      fill: #1967D2;\n",
              "      height: 32px;\n",
              "      padding: 0 0 0 0;\n",
              "      width: 32px;\n",
              "    }\n",
              "\n",
              "    .colab-df-convert:hover {\n",
              "      background-color: #E2EBFA;\n",
              "      box-shadow: 0px 1px 2px rgba(60, 64, 67, 0.3), 0px 1px 3px 1px rgba(60, 64, 67, 0.15);\n",
              "      fill: #174EA6;\n",
              "    }\n",
              "\n",
              "    [theme=dark] .colab-df-convert {\n",
              "      background-color: #3B4455;\n",
              "      fill: #D2E3FC;\n",
              "    }\n",
              "\n",
              "    [theme=dark] .colab-df-convert:hover {\n",
              "      background-color: #434B5C;\n",
              "      box-shadow: 0px 1px 3px 1px rgba(0, 0, 0, 0.15);\n",
              "      filter: drop-shadow(0px 1px 2px rgba(0, 0, 0, 0.3));\n",
              "      fill: #FFFFFF;\n",
              "    }\n",
              "  </style>\n",
              "\n",
              "      <script>\n",
              "        const buttonEl =\n",
              "          document.querySelector('#df-9341eb57-3ac1-4772-aa9e-873351536cd1 button.colab-df-convert');\n",
              "        buttonEl.style.display =\n",
              "          google.colab.kernel.accessAllowed ? 'block' : 'none';\n",
              "\n",
              "        async function convertToInteractive(key) {\n",
              "          const element = document.querySelector('#df-9341eb57-3ac1-4772-aa9e-873351536cd1');\n",
              "          const dataTable =\n",
              "            await google.colab.kernel.invokeFunction('convertToInteractive',\n",
              "                                                     [key], {});\n",
              "          if (!dataTable) return;\n",
              "\n",
              "          const docLinkHtml = 'Like what you see? Visit the ' +\n",
              "            '<a target=\"_blank\" href=https://colab.research.google.com/notebooks/data_table.ipynb>data table notebook</a>'\n",
              "            + ' to learn more about interactive tables.';\n",
              "          element.innerHTML = '';\n",
              "          dataTable['output_type'] = 'display_data';\n",
              "          await google.colab.output.renderOutput(dataTable, element);\n",
              "          const docLink = document.createElement('div');\n",
              "          docLink.innerHTML = docLinkHtml;\n",
              "          element.appendChild(docLink);\n",
              "        }\n",
              "      </script>\n",
              "    </div>\n",
              "  </div>\n",
              "  "
            ],
            "text/plain": [
              "                                               headlines                                               text\n",
              "98396  CRPF jawan axed to death by Maoists in Chhatti...  A CRPF jawan was on Tuesday axed to death with...\n",
              "98397  First song from Sonakshi Sinha's 'Noor' titled...  'Uff Yeh', the first song from the Sonakshi Si...\n",
              "98398         'The Matrix' film to get a reboot: Reports  According to reports, a new version of the 199...\n",
              "98399  Snoop Dogg aims gun at clown dressed as Trump ...  A new music video shows rapper Snoop Dogg aimi...\n",
              "98400  Madhesi Morcha withdraws support to Nepalese g...  Madhesi Morcha, an alliance of seven political..."
            ]
          },
          "metadata": {},
          "execution_count": 68
        }
      ]
    },
    {
      "cell_type": "markdown",
      "source": [
        "앞서 학습했던 본문 내용과는 다르게 2개의 열로만 구성이 되어있다. 앞서 학습에서는 Text열과 Summary열을 사용하려고 했었는데, 여기에서 headlines이 Summary열의 역할을 하는 것으로 보인다."
      ],
      "metadata": {
        "id": "kshJYjRBslnp"
      }
    },
    {
      "cell_type": "markdown",
      "source": [
        "![image.png](data:image/png;base64,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)"
      ],
      "metadata": {
        "id": "vDpwisRqlurw"
      }
    },
    {
      "cell_type": "markdown",
      "source": [
        "데이터 전처리에서는 \n",
        "\n",
        "1. 불필요한 데이터를 없애고 \n",
        "2. 모델을 훈련하기위한 데이터 스플릿 (training set과 test set 나누기)\n",
        "3. 정수 인코딩으로 텍스트들을 숫자로 만들어 모델에 input을 하여야 한다."
      ],
      "metadata": {
        "id": "RivRFJVGtFir"
      }
    },
    {
      "cell_type": "markdown",
      "source": [
        "## 1. 불필요한 데이터 트리밍"
      ],
      "metadata": {
        "id": "Tx1Mppgb7-0z"
      }
    },
    {
      "cell_type": "markdown",
      "source": [
        "중복 데이터 소거"
      ],
      "metadata": {
        "id": "p22bdF-Cvq4A"
      }
    },
    {
      "cell_type": "code",
      "source": [
        "print('Text 열에서 중복을 배제한 유일한 샘플의 수 :', data['text'].nunique())\n",
        "print('headlines 열에서 중복을 배제한 유일한 샘플의 수 :', data['headlines'].nunique())"
      ],
      "metadata": {
        "colab": {
          "base_uri": "https://localhost:8080/"
        },
        "id": "8br6cHRinf8U",
        "outputId": "d1f3a4e8-131b-4860-b6fe-a8ccdf4c88e0"
      },
      "execution_count": 69,
      "outputs": [
        {
          "output_type": "stream",
          "name": "stdout",
          "text": [
            "Text 열에서 중복을 배제한 유일한 샘플의 수 : 98360\n",
            "headlines 열에서 중복을 배제한 유일한 샘플의 수 : 98280\n"
          ]
        }
      ]
    },
    {
      "cell_type": "code",
      "source": [
        "# 각각 중복을 배제한다면, Text에는 98360, headlines에서는 98280의 데이터가 존재한다."
      ],
      "metadata": {
        "id": "wl0OCtEStz9E"
      },
      "execution_count": 10,
      "outputs": []
    },
    {
      "cell_type": "code",
      "source": [
        "# inplace=True 를 설정하면 DataFrame 타입 값을 return 하지 않고 data 내부를 직접적으로 바꾸기\n",
        "data.drop_duplicates(subset = ['text'], inplace=True)\n",
        "print('전체 샘플수 :', (len(data)))"
      ],
      "metadata": {
        "colab": {
          "base_uri": "https://localhost:8080/"
        },
        "id": "tWoriC1xngab",
        "outputId": "e1782bd8-ada0-48fc-c16a-8cc8492b2566"
      },
      "execution_count": 70,
      "outputs": [
        {
          "output_type": "stream",
          "name": "stdout",
          "text": [
            "전체 샘플수 : 98360\n"
          ]
        }
      ]
    },
    {
      "cell_type": "code",
      "source": [
        "# 중복 data가 존재하지 않는다."
      ],
      "metadata": {
        "id": "9J1wntNVvTV5"
      },
      "execution_count": null,
      "outputs": []
    },
    {
      "cell_type": "markdown",
      "source": [
        "Null값 (결측치 데이터) 확인후 제거하기 "
      ],
      "metadata": {
        "id": "lG7-smBcvtWz"
      }
    },
    {
      "cell_type": "code",
      "source": [
        "print(data.isnull().sum())"
      ],
      "metadata": {
        "colab": {
          "base_uri": "https://localhost:8080/"
        },
        "id": "5kl09pNovx26",
        "outputId": "cb19146b-b4da-4bcd-c9e9-87c3eacc15af"
      },
      "execution_count": 71,
      "outputs": [
        {
          "output_type": "stream",
          "name": "stdout",
          "text": [
            "headlines    0\n",
            "text         0\n",
            "dtype: int64\n"
          ]
        }
      ]
    },
    {
      "cell_type": "code",
      "source": [
        "# 다행히 Null값은 존재하지 않는다."
      ],
      "metadata": {
        "id": "ObZ9UeP1v2jv"
      },
      "execution_count": 19,
      "outputs": []
    },
    {
      "cell_type": "markdown",
      "source": [
        "텍스트 정규화와 불용어 제거"
      ],
      "metadata": {
        "id": "rZ_kHcOFwC9O"
      }
    },
    {
      "cell_type": "code",
      "source": [
        "contractions = {\"ain't\": \"is not\", \"aren't\": \"are not\",\"can't\": \"cannot\", \"'cause\": \"because\", \"could've\": \"could have\", \"couldn't\": \"could not\",\n",
        "                           \"didn't\": \"did not\",  \"doesn't\": \"does not\", \"don't\": \"do not\", \"hadn't\": \"had not\", \"hasn't\": \"has not\", \"haven't\": \"have not\",\n",
        "                           \"he'd\": \"he would\",\"he'll\": \"he will\", \"he's\": \"he is\", \"how'd\": \"how did\", \"how'd'y\": \"how do you\", \"how'll\": \"how will\", \"how's\": \"how is\",\n",
        "                           \"I'd\": \"I would\", \"I'd've\": \"I would have\", \"I'll\": \"I will\", \"I'll've\": \"I will have\",\"I'm\": \"I am\", \"I've\": \"I have\", \"i'd\": \"i would\",\n",
        "                           \"i'd've\": \"i would have\", \"i'll\": \"i will\",  \"i'll've\": \"i will have\",\"i'm\": \"i am\", \"i've\": \"i have\", \"isn't\": \"is not\", \"it'd\": \"it would\",\n",
        "                           \"it'd've\": \"it would have\", \"it'll\": \"it will\", \"it'll've\": \"it will have\",\"it's\": \"it is\", \"let's\": \"let us\", \"ma'am\": \"madam\",\n",
        "                           \"mayn't\": \"may not\", \"might've\": \"might have\",\"mightn't\": \"might not\",\"mightn't've\": \"might not have\", \"must've\": \"must have\",\n",
        "                           \"mustn't\": \"must not\", \"mustn't've\": \"must not have\", \"needn't\": \"need not\", \"needn't've\": \"need not have\",\"o'clock\": \"of the clock\",\n",
        "                           \"oughtn't\": \"ought not\", \"oughtn't've\": \"ought not have\", \"shan't\": \"shall not\", \"sha'n't\": \"shall not\", \"shan't've\": \"shall not have\",\n",
        "                           \"she'd\": \"she would\", \"she'd've\": \"she would have\", \"she'll\": \"she will\", \"she'll've\": \"she will have\", \"she's\": \"she is\",\n",
        "                           \"should've\": \"should have\", \"shouldn't\": \"should not\", \"shouldn't've\": \"should not have\", \"so've\": \"so have\",\"so's\": \"so as\",\n",
        "                           \"this's\": \"this is\",\"that'd\": \"that would\", \"that'd've\": \"that would have\", \"that's\": \"that is\", \"there'd\": \"there would\",\n",
        "                           \"there'd've\": \"there would have\", \"there's\": \"there is\", \"here's\": \"here is\",\"they'd\": \"they would\", \"they'd've\": \"they would have\",\n",
        "                           \"they'll\": \"they will\", \"they'll've\": \"they will have\", \"they're\": \"they are\", \"they've\": \"they have\", \"to've\": \"to have\",\n",
        "                           \"wasn't\": \"was not\", \"we'd\": \"we would\", \"we'd've\": \"we would have\", \"we'll\": \"we will\", \"we'll've\": \"we will have\", \"we're\": \"we are\",\n",
        "                           \"we've\": \"we have\", \"weren't\": \"were not\", \"what'll\": \"what will\", \"what'll've\": \"what will have\", \"what're\": \"what are\",\n",
        "                           \"what's\": \"what is\", \"what've\": \"what have\", \"when's\": \"when is\", \"when've\": \"when have\", \"where'd\": \"where did\", \"where's\": \"where is\",\n",
        "                           \"where've\": \"where have\", \"who'll\": \"who will\", \"who'll've\": \"who will have\", \"who's\": \"who is\", \"who've\": \"who have\",\n",
        "                           \"why's\": \"why is\", \"why've\": \"why have\", \"will've\": \"will have\", \"won't\": \"will not\", \"won't've\": \"will not have\",\n",
        "                           \"would've\": \"would have\", \"wouldn't\": \"would not\", \"wouldn't've\": \"would not have\", \"y'all\": \"you all\",\n",
        "                           \"y'all'd\": \"you all would\",\"y'all'd've\": \"you all would have\",\"y'all're\": \"you all are\",\"y'all've\": \"you all have\",\n",
        "                           \"you'd\": \"you would\", \"you'd've\": \"you would have\", \"you'll\": \"you will\", \"you'll've\": \"you will have\",\n",
        "                           \"you're\": \"you are\", \"you've\": \"you have\"}\n",
        "\n",
        "print(\"정규화 사전의 수: \", len(contractions))"
      ],
      "metadata": {
        "colab": {
          "base_uri": "https://localhost:8080/"
        },
        "id": "Rg9AFKx9v5k3",
        "outputId": "db39d059-69c5-4835-d63d-525f125cb766"
      },
      "execution_count": 72,
      "outputs": [
        {
          "output_type": "stream",
          "name": "stdout",
          "text": [
            "정규화 사전의 수:  120\n"
          ]
        }
      ]
    },
    {
      "cell_type": "code",
      "source": [
        "# 축약어들의 정규화는 완료하였다."
      ],
      "metadata": {
        "id": "k3eJQIy8welz"
      },
      "execution_count": 14,
      "outputs": []
    },
    {
      "cell_type": "code",
      "source": [
        "print('불용어 개수 :', len(stopwords.words('english') ))\n",
        "print(stopwords.words('english'))"
      ],
      "metadata": {
        "colab": {
          "base_uri": "https://localhost:8080/"
        },
        "id": "KxM2JB2_wliX",
        "outputId": "4a53f79c-66ea-403a-b889-3523744f662e"
      },
      "execution_count": 73,
      "outputs": [
        {
          "output_type": "stream",
          "name": "stdout",
          "text": [
            "불용어 개수 : 179\n",
            "['i', 'me', 'my', 'myself', 'we', 'our', 'ours', 'ourselves', 'you', \"you're\", \"you've\", \"you'll\", \"you'd\", 'your', 'yours', 'yourself', 'yourselves', 'he', 'him', 'his', 'himself', 'she', \"she's\", 'her', 'hers', 'herself', 'it', \"it's\", 'its', 'itself', 'they', 'them', 'their', 'theirs', 'themselves', 'what', 'which', 'who', 'whom', 'this', 'that', \"that'll\", 'these', 'those', 'am', 'is', 'are', 'was', 'were', 'be', 'been', 'being', 'have', 'has', 'had', 'having', 'do', 'does', 'did', 'doing', 'a', 'an', 'the', 'and', 'but', 'if', 'or', 'because', 'as', 'until', 'while', 'of', 'at', 'by', 'for', 'with', 'about', 'against', 'between', 'into', 'through', 'during', 'before', 'after', 'above', 'below', 'to', 'from', 'up', 'down', 'in', 'out', 'on', 'off', 'over', 'under', 'again', 'further', 'then', 'once', 'here', 'there', 'when', 'where', 'why', 'how', 'all', 'any', 'both', 'each', 'few', 'more', 'most', 'other', 'some', 'such', 'no', 'nor', 'not', 'only', 'own', 'same', 'so', 'than', 'too', 'very', 's', 't', 'can', 'will', 'just', 'don', \"don't\", 'should', \"should've\", 'now', 'd', 'll', 'm', 'o', 're', 've', 'y', 'ain', 'aren', \"aren't\", 'couldn', \"couldn't\", 'didn', \"didn't\", 'doesn', \"doesn't\", 'hadn', \"hadn't\", 'hasn', \"hasn't\", 'haven', \"haven't\", 'isn', \"isn't\", 'ma', 'mightn', \"mightn't\", 'mustn', \"mustn't\", 'needn', \"needn't\", 'shan', \"shan't\", 'shouldn', \"shouldn't\", 'wasn', \"wasn't\", 'weren', \"weren't\", 'won', \"won't\", 'wouldn', \"wouldn't\"]\n"
          ]
        }
      ]
    },
    {
      "cell_type": "markdown",
      "source": [
        "기본적으로 영어는 소문자로 만들고, html tag 제거, 정규 표현식(import re)을 통하여 각종 특수문자를 제거하는 과정이 필요하다.\n",
        "\n",
        "아래 코드를 사실상 따와서 사용하는 것이지만, 자연어를 하기 위해서는 외우다시피 해야하는 것 아닐까? 라는 생각이 들었다.\n",
        "\n",
        "문법적으로 어려운 부분은 없지만, re module의 활용을 잘해야 한다."
      ],
      "metadata": {
        "id": "pX0eFJcCwvAx"
      }
    },
    {
      "cell_type": "code",
      "source": [
        "# 데이터 전처리 함수\n",
        "def preprocess_sentence(sentence, remove_stopwords=True):\n",
        "    sentence = sentence.lower() # 텍스트 소문자화\n",
        "    sentence = BeautifulSoup(sentence, \"lxml\").text # <br />, <a href = ...> 등의 html 태그 제거\n",
        "    sentence = re.sub(r'\\([^)]*\\)', '', sentence) # 괄호로 닫힌 문자열 (...) 제거 Ex) my husband (and myself!) for => my husband for\n",
        "    sentence = re.sub('\"','', sentence) # 쌍따옴표 \" 제거\n",
        "    sentence = ' '.join([contractions[t] if t in contractions else t for t in sentence.split(\" \")]) # 약어 정규화\n",
        "    sentence = re.sub(r\"'s\\b\",\"\", sentence) # 소유격 제거. Ex) roland's -> roland\n",
        "    sentence = re.sub(\"[^a-zA-Z]\", \" \", sentence) # 영어 외 문자(숫자, 특수문자 등) 공백으로 변환\n",
        "    sentence = re.sub('[m]{2,}', 'mm', sentence) # m이 3개 이상이면 2개로 변경. Ex) ummmmmmm yeah -> umm yeah\n",
        "    \n",
        "    # 불용어 제거 (Text)\n",
        "    if remove_stopwords:\n",
        "        tokens = ' '.join(word for word in sentence.split() if not word in stopwords.words('english') if len(word) > 1)\n",
        "    # 불용어 미제거 (Summary)\n",
        "    else:\n",
        "        tokens = ' '.join(word for word in sentence.split() if len(word) > 1)\n",
        "    return tokens\n"
      ],
      "metadata": {
        "id": "9ch3Rh7Bw4Wn"
      },
      "execution_count": 74,
      "outputs": []
    },
    {
      "cell_type": "markdown",
      "source": [
        "데이터 전처리 전과 후를 비교해보기"
      ],
      "metadata": {
        "id": "KgGRs3erxjoa"
      }
    },
    {
      "cell_type": "code",
      "source": [
        "temp_text = 'Everything I bought was great, infact I ordered twice and the third ordered was<br />for my mother and father.'\n",
        "temp_headlines = 'Great way to start (or finish) the day!!!'\n",
        "\n",
        "print(\"text: \", preprocess_sentence(temp_text))\n",
        "print(\"headlines:\", preprocess_sentence(temp_headlines, False))  # 불용어를 제거하지 않습니다."
      ],
      "metadata": {
        "colab": {
          "base_uri": "https://localhost:8080/"
        },
        "id": "st-O0-03x3Fw",
        "outputId": "d69be6bb-1bfd-4831-8020-246e796f41e4"
      },
      "execution_count": 75,
      "outputs": [
        {
          "output_type": "stream",
          "name": "stdout",
          "text": [
            "text:  everything bought great infact ordered twice third ordered wasfor mother father\n",
            "headlines: great way to start the day\n"
          ]
        }
      ]
    },
    {
      "cell_type": "markdown",
      "source": [
        "lms에서 처럼 headlines은 한문장으로 요약하는 의미의 글이다.\n",
        "그만큼 중심 단어가 담겨야하며, 추상적 요약으로 문장이 만들어질때 문법적으로나 어감으로 자연스러워야 한다.\n",
        "\n",
        "불용어를 제거하고 할수도 있지만, 그대로 진행할 예정이다."
      ],
      "metadata": {
        "id": "AqkpIExLzoFl"
      }
    },
    {
      "cell_type": "code",
      "source": [
        "clean_text = []\n",
        "# 전체 Text 데이터에 대한 전처리 : GPU 런 상태에서 시간이 30분 정도 소요되었다. \n",
        "for s in data['text']:\n",
        "    clean_text.append(preprocess_sentence(s))\n",
        "\n",
        "# 전처리 후 출력\n",
        "print(\"text 전처리 후 결과: \", clean_text[:5])"
      ],
      "metadata": {
        "colab": {
          "base_uri": "https://localhost:8080/"
        },
        "id": "8gBw7tNv0LwW",
        "outputId": "d3eb47f6-4684-453e-ae31-0fdfee6a1c95"
      },
      "execution_count": 76,
      "outputs": [
        {
          "output_type": "stream",
          "name": "stdout",
          "text": [
            "text 전처리 후 결과:  ['saurav kant alumnus upgrad iiit pg program machine learning artificial intelligence sr systems engineer infosys almost years work experience program upgrad degree career support helped transition data scientist tech mahindra salary hike upgrad online power learning powered lakh careers', 'kunal shah credit card bill payment platform cred gave users chance win free food swiggy one year pranav kaushik delhi techie bagged reward spending cred coins users get one cred coin per rupee bill paid used avail rewards brands like ixigo bookmyshow ubereats cult fit', 'new zealand defeated india wickets fourth odi hamilton thursday win first match five match odi series india lost international match rohit sharma captaincy consecutive victories dating back march match witnessed india getting seventh lowest total odi cricket history', 'aegon life iterm insurance plan customers enjoy tax benefits premiums paid save taxes plan provides life cover age years also customers options insure critical illnesses disability accidental death benefit rider life cover age years', 'speaking sexual harassment allegations rajkumar hirani sonam kapoor said known hirani many years true metoo movement get derailed metoo movement always believe woman case need reserve judgment added hirani accused assistant worked sanju']\n"
          ]
        }
      ]
    },
    {
      "cell_type": "markdown",
      "source": [
        "Headlines에 대해서 진행"
      ],
      "metadata": {
        "id": "G59KkNz26R7i"
      }
    },
    {
      "cell_type": "code",
      "source": [
        "clean_headlines = []\n",
        "\n",
        "for s in data['headlines']: # 위와 다르게 3분만에 끝남\n",
        "    clean_summary.append(preprocess_sentence(s, False))\n",
        "\n",
        "print(\"headlines 전처리 후 결과: \", clean_headlines[:5])"
      ],
      "metadata": {
        "colab": {
          "base_uri": "https://localhost:8080/"
        },
        "id": "Ix93YsF36V0c",
        "outputId": "e0d79244-b4bd-494c-b530-9ba779161e1a"
      },
      "execution_count": 77,
      "outputs": [
        {
          "output_type": "stream",
          "name": "stdout",
          "text": [
            "headlines 전처리 후 결과:  []\n"
          ]
        }
      ]
    },
    {
      "cell_type": "code",
      "source": [
        "data.isnull().sum()"
      ],
      "metadata": {
        "colab": {
          "base_uri": "https://localhost:8080/"
        },
        "id": "Aop3ltn_61ye",
        "outputId": "b4a1b81e-9c17-4771-87e7-e0c26114adea"
      },
      "execution_count": 21,
      "outputs": [
        {
          "output_type": "execute_result",
          "data": {
            "text/plain": [
              "headlines    0\n",
              "text         0\n",
              "dtype: int64"
            ]
          },
          "metadata": {},
          "execution_count": 21
        }
      ]
    },
    {
      "cell_type": "code",
      "source": [
        "# 결과적으로 null값이 없다 - 다행이다"
      ],
      "metadata": {
        "id": "1_opvz4U64Mc"
      },
      "execution_count": 22,
      "outputs": []
    },
    {
      "cell_type": "code",
      "source": [
        "# 만약 결측치가 있으면 아래 code로 제거를 한다.\n",
        "\n",
        "# 열로 구성되어 있기에 axis=0을 넣고, 길게 행으로 된 데이터에서 한다면 axis=1로 해야한다. \n",
        "\n",
        "# data.dropna(axis=0, inplace=True)\n",
        "# print('전체 샘플수 :', (len(data)))"
      ],
      "metadata": {
        "id": "7a8zjblH69Pn"
      },
      "execution_count": 23,
      "outputs": []
    },
    {
      "cell_type": "markdown",
      "source": [
        "## 2. 훈련 데이터와 테스트 데이터 나누기"
      ],
      "metadata": {
        "id": "eVqOzPrc8E26"
      }
    },
    {
      "cell_type": "markdown",
      "source": [
        "샘플의 최대 길이 정하기"
      ],
      "metadata": {
        "id": "wnMz0V_m8r1p"
      }
    },
    {
      "cell_type": "code",
      "source": [
        "# 길이 분포 출력\n",
        "import matplotlib.pyplot as plt\n",
        "\n",
        "text_len = [len(s.split()) for s in data['text']]\n",
        "headlines_len = [len(s.split()) for s in data['headlines']]\n",
        "\n",
        "print('텍스트의 최소 길이 : {}'.format(np.min(text_len)))\n",
        "print('텍스트의 최대 길이 : {}'.format(np.max(text_len)))\n",
        "print('텍스트의 평균 길이 : {}'.format(np.mean(text_len)))\n",
        "print('헤드라인의 최소 길이 : {}'.format(np.min(headlines_len)))\n",
        "print('헤드라인의 최대 길이 : {}'.format(np.max(headlines_len)))\n",
        "print('헤드라인의 평균 길이 : {}'.format(np.mean(headlines_len)))\n",
        "\n",
        "plt.subplot(1,2,1)\n",
        "plt.boxplot(text_len)\n",
        "plt.title('text')\n",
        "plt.subplot(1,2,2)\n",
        "plt.boxplot(headlines_len)\n",
        "plt.title('headlines')\n",
        "plt.tight_layout()\n",
        "plt.show()\n",
        "\n",
        "plt.title('text')\n",
        "plt.hist(text_len, bins = 40)\n",
        "plt.xlabel('length of samples')\n",
        "plt.ylabel('number of samples')\n",
        "plt.show()\n",
        "\n",
        "plt.title('headlines')\n",
        "plt.hist(headlines_len, bins = 40)\n",
        "plt.xlabel('length of samples')\n",
        "plt.ylabel('number of samples')\n",
        "plt.show()"
      ],
      "metadata": {
        "colab": {
          "base_uri": "https://localhost:8080/",
          "height": 963
        },
        "id": "-01VAXbu8yAD",
        "outputId": "252143ba-3d12-44ce-d973-fdf045c8b96c"
      },
      "execution_count": 78,
      "outputs": [
        {
          "output_type": "stream",
          "name": "stdout",
          "text": [
            "텍스트의 최소 길이 : 1\n",
            "텍스트의 최대 길이 : 66\n",
            "텍스트의 평균 길이 : 58.23730174867833\n",
            "헤드라인의 최소 길이 : 1\n",
            "헤드라인의 최대 길이 : 18\n",
            "헤드라인의 평균 길이 : 9.553629524196827\n"
          ]
        },
        {
          "output_type": "display_data",
          "data": {
            "image/png": "[encoded data removed]",
            "text/plain": [
              "<Figure size 432x288 with 2 Axes>"
            ]
          },
          "metadata": {
            "needs_background": "light"
          }
        },
        {
          "output_type": "display_data",
          "data": {
            "image/png": "[encoded data removed]",
            "text/plain": [
              "<Figure size 432x288 with 1 Axes>"
            ]
          },
          "metadata": {
            "needs_background": "light"
          }
        },
        {
          "output_type": "display_data",
          "data": {
            "image/png": "[encoded data removed]",
            "text/plain": [
              "<Figure size 432x288 with 1 Axes>"
            ]
          },
          "metadata": {
            "needs_background": "light"
          }
        }
      ]
    },
    {
      "cell_type": "code",
      "source": [
        "# 그래프를 보면 text는 주로 60개 내외의 길이를 가지고 있고, headlines의 분포는 비교적 정규분포의 느낌으로 분포되어 있다.\n",
        "# 우선은 text와 summary의 최대 길이를 정해야 한다.\n",
        "\n",
        "# 통계적으로 정확하게 접근하기 직전에 임의의 값을 지정해서 해보려고 한다."
      ],
      "metadata": {
        "id": "lxyt1CDI-TnS"
      },
      "execution_count": null,
      "outputs": []
    },
    {
      "cell_type": "code",
      "source": [
        "text_max_len = 60\n",
        "headlines_max_len = 10"
      ],
      "metadata": {
        "id": "gGo43erA_FJ2"
      },
      "execution_count": 79,
      "outputs": []
    },
    {
      "cell_type": "code",
      "source": [
        "def below_threshold_len(max_len, nested_list):\n",
        "  cnt = 0\n",
        "  for s in nested_list:\n",
        "    if(len(s.split()) <= max_len):\n",
        "        cnt += 1\n",
        "  print('전체 샘플 중 길이가 %s 이하인 샘플의 비율: %s'%(max_len, (cnt / len(nested_list))))"
      ],
      "metadata": {
        "id": "9JMcRykPAuEd"
      },
      "execution_count": 80,
      "outputs": []
    },
    {
      "cell_type": "code",
      "source": [
        "below_threshold_len(text_max_len, data['text'])\n",
        "below_threshold_len(headlines_max_len,  data['headlines'])"
      ],
      "metadata": {
        "colab": {
          "base_uri": "https://localhost:8080/"
        },
        "id": "KAsv0z5WA5Gj",
        "outputId": "792155ae-32af-4816-a04e-d82163d7297d"
      },
      "execution_count": 81,
      "outputs": [
        {
          "output_type": "stream",
          "name": "stdout",
          "text": [
            "전체 샘플 중 길이가 60 이하인 샘플의 비율: 0.9976311508743392\n",
            "전체 샘플 중 길이가 10 이하인 샘플의 비율: 0.7527043513623424\n"
          ]
        }
      ]
    },
    {
      "cell_type": "code",
      "source": [
        "# 비율로 보자면 60이하의 text 샘플은 99프로에 육박하고 headlines 같은 경우에는 75프로이다."
      ],
      "metadata": {
        "id": "7FTYM9rsCAkQ"
      },
      "execution_count": 82,
      "outputs": []
    },
    {
      "cell_type": "code",
      "source": [
        "# 정해진 길이보다 길면 제외하는 방법을 사용한다\n",
        "\n",
        "data = data[data['text'].apply(lambda x: len(x.split()) <= text_max_len)]\n",
        "data = data[data['headlines'].apply(lambda x: len(x.split()) <= headlines_max_len)]\n",
        "print('전체 샘플수 :', (len(data)))"
      ],
      "metadata": {
        "colab": {
          "base_uri": "https://localhost:8080/"
        },
        "id": "Vw6n7sKGCcvg",
        "outputId": "8ba11087-1a31-4e66-cfb4-351e7e889035"
      },
      "execution_count": 83,
      "outputs": [
        {
          "output_type": "stream",
          "name": "stdout",
          "text": [
            "전체 샘플수 : 73879\n"
          ]
        }
      ]
    },
    {
      "cell_type": "code",
      "source": [
        "# 헤드라인 데이터에는 시작 토큰과 종료 토큰을 추가한다.\n",
        "data['decoder_input'] = data['headlines'].apply(lambda x : 'sostoken '+ x)\n",
        "data['decoder_target'] = data['headlines'].apply(lambda x : x + ' eostoken')\n",
        "data.head()"
      ],
      "metadata": {
        "colab": {
          "base_uri": "https://localhost:8080/",
          "height": 337
        },
        "id": "v5OETAoGCrXU",
        "outputId": "9a3cf7f4-3b18-4bfe-a684-c99d72ab53de"
      },
      "execution_count": 84,
      "outputs": [
        {
          "output_type": "execute_result",
          "data": {
            "text/html": [
              "\n",
              "  <div id=\"df-480b1cf6-be6e-48f3-8ed9-6d57c0cc206b\">\n",
              "    <div class=\"colab-df-container\">\n",
              "      <div>\n",
              "<style scoped>\n",
              "    .dataframe tbody tr th:only-of-type {\n",
              "        vertical-align: middle;\n",
              "    }\n",
              "\n",
              "    .dataframe tbody tr th {\n",
              "        vertical-align: top;\n",
              "    }\n",
              "\n",
              "    .dataframe thead th {\n",
              "        text-align: right;\n",
              "    }\n",
              "</style>\n",
              "<table border=\"1\" class=\"dataframe\">\n",
              "  <thead>\n",
              "    <tr style=\"text-align: right;\">\n",
              "      <th></th>\n",
              "      <th>headlines</th>\n",
              "      <th>text</th>\n",
              "      <th>decoder_input</th>\n",
              "      <th>decoder_target</th>\n",
              "    </tr>\n",
              "  </thead>\n",
              "  <tbody>\n",
              "    <tr>\n",
              "      <th>2</th>\n",
              "      <td>New Zealand end Rohit Sharma-led India's 12-ma...</td>\n",
              "      <td>New Zealand defeated India by 8 wickets in the...</td>\n",
              "      <td>sostoken New Zealand end Rohit Sharma-led Indi...</td>\n",
              "      <td>New Zealand end Rohit Sharma-led India's 12-ma...</td>\n",
              "    </tr>\n",
              "    <tr>\n",
              "      <th>3</th>\n",
              "      <td>Aegon life iTerm insurance plan helps customer...</td>\n",
              "      <td>With Aegon Life iTerm Insurance plan, customer...</td>\n",
              "      <td>sostoken Aegon life iTerm insurance plan helps...</td>\n",
              "      <td>Aegon life iTerm insurance plan helps customer...</td>\n",
              "    </tr>\n",
              "    <tr>\n",
              "      <th>5</th>\n",
              "      <td>Rahat Fateh Ali Khan denies getting notice for...</td>\n",
              "      <td>Pakistani singer Rahat Fateh Ali Khan has deni...</td>\n",
              "      <td>sostoken Rahat Fateh Ali Khan denies getting n...</td>\n",
              "      <td>Rahat Fateh Ali Khan denies getting notice for...</td>\n",
              "    </tr>\n",
              "    <tr>\n",
              "      <th>10</th>\n",
              "      <td>UP cousins fed human excreta for friendship wi...</td>\n",
              "      <td>Two minor cousins in Uttar Pradesh's Gorakhpur...</td>\n",
              "      <td>sostoken UP cousins fed human excreta for frie...</td>\n",
              "      <td>UP cousins fed human excreta for friendship wi...</td>\n",
              "    </tr>\n",
              "    <tr>\n",
              "      <th>11</th>\n",
              "      <td>81-yr-old woman conducts physical training in ...</td>\n",
              "      <td>Isha Ghosh, an 81-year-old member of Bharat Sc...</td>\n",
              "      <td>sostoken 81-yr-old woman conducts physical tra...</td>\n",
              "      <td>81-yr-old woman conducts physical training in ...</td>\n",
              "    </tr>\n",
              "  </tbody>\n",
              "</table>\n",
              "</div>\n",
              "      <button class=\"colab-df-convert\" onclick=\"convertToInteractive('df-480b1cf6-be6e-48f3-8ed9-6d57c0cc206b')\"\n",
              "              title=\"Convert this dataframe to an interactive table.\"\n",
              "              style=\"display:none;\">\n",
              "        \n",
              "  <svg xmlns=\"http://www.w3.org/2000/svg\" height=\"24px\"viewBox=\"0 0 24 24\"\n",
              "       width=\"24px\">\n",
              "    <path d=\"M0 0h24v24H0V0z\" fill=\"none\"/>\n",
              "    <path d=\"M18.56 5.44l.94 2.06.94-2.06 2.06-.94-2.06-.94-.94-2.06-.94 2.06-2.06.94zm-11 1L8.5 8.5l.94-2.06 2.06-.94-2.06-.94L8.5 2.5l-.94 2.06-2.06.94zm10 10l.94 2.06.94-2.06 2.06-.94-2.06-.94-.94-2.06-.94 2.06-2.06.94z\"/><path d=\"M17.41 7.96l-1.37-1.37c-.4-.4-.92-.59-1.43-.59-.52 0-1.04.2-1.43.59L10.3 9.45l-7.72 7.72c-.78.78-.78 2.05 0 2.83L4 21.41c.39.39.9.59 1.41.59.51 0 1.02-.2 1.41-.59l7.78-7.78 2.81-2.81c.8-.78.8-2.07 0-2.86zM5.41 20L4 18.59l7.72-7.72 1.47 1.35L5.41 20z\"/>\n",
              "  </svg>\n",
              "      </button>\n",
              "      \n",
              "  <style>\n",
              "    .colab-df-container {\n",
              "      display:flex;\n",
              "      flex-wrap:wrap;\n",
              "      gap: 12px;\n",
              "    }\n",
              "\n",
              "    .colab-df-convert {\n",
              "      background-color: #E8F0FE;\n",
              "      border: none;\n",
              "      border-radius: 50%;\n",
              "      cursor: pointer;\n",
              "      display: none;\n",
              "      fill: #1967D2;\n",
              "      height: 32px;\n",
              "      padding: 0 0 0 0;\n",
              "      width: 32px;\n",
              "    }\n",
              "\n",
              "    .colab-df-convert:hover {\n",
              "      background-color: #E2EBFA;\n",
              "      box-shadow: 0px 1px 2px rgba(60, 64, 67, 0.3), 0px 1px 3px 1px rgba(60, 64, 67, 0.15);\n",
              "      fill: #174EA6;\n",
              "    }\n",
              "\n",
              "    [theme=dark] .colab-df-convert {\n",
              "      background-color: #3B4455;\n",
              "      fill: #D2E3FC;\n",
              "    }\n",
              "\n",
              "    [theme=dark] .colab-df-convert:hover {\n",
              "      background-color: #434B5C;\n",
              "      box-shadow: 0px 1px 3px 1px rgba(0, 0, 0, 0.15);\n",
              "      filter: drop-shadow(0px 1px 2px rgba(0, 0, 0, 0.3));\n",
              "      fill: #FFFFFF;\n",
              "    }\n",
              "  </style>\n",
              "\n",
              "      <script>\n",
              "        const buttonEl =\n",
              "          document.querySelector('#df-480b1cf6-be6e-48f3-8ed9-6d57c0cc206b button.colab-df-convert');\n",
              "        buttonEl.style.display =\n",
              "          google.colab.kernel.accessAllowed ? 'block' : 'none';\n",
              "\n",
              "        async function convertToInteractive(key) {\n",
              "          const element = document.querySelector('#df-480b1cf6-be6e-48f3-8ed9-6d57c0cc206b');\n",
              "          const dataTable =\n",
              "            await google.colab.kernel.invokeFunction('convertToInteractive',\n",
              "                                                     [key], {});\n",
              "          if (!dataTable) return;\n",
              "\n",
              "          const docLinkHtml = 'Like what you see? Visit the ' +\n",
              "            '<a target=\"_blank\" href=https://colab.research.google.com/notebooks/data_table.ipynb>data table notebook</a>'\n",
              "            + ' to learn more about interactive tables.';\n",
              "          element.innerHTML = '';\n",
              "          dataTable['output_type'] = 'display_data';\n",
              "          await google.colab.output.renderOutput(dataTable, element);\n",
              "          const docLink = document.createElement('div');\n",
              "          docLink.innerHTML = docLinkHtml;\n",
              "          element.appendChild(docLink);\n",
              "        }\n",
              "      </script>\n",
              "    </div>\n",
              "  </div>\n",
              "  "
            ],
            "text/plain": [
              "                                            headlines  ...                                     decoder_target\n",
              "2   New Zealand end Rohit Sharma-led India's 12-ma...  ...  New Zealand end Rohit Sharma-led India's 12-ma...\n",
              "3   Aegon life iTerm insurance plan helps customer...  ...  Aegon life iTerm insurance plan helps customer...\n",
              "5   Rahat Fateh Ali Khan denies getting notice for...  ...  Rahat Fateh Ali Khan denies getting notice for...\n",
              "10  UP cousins fed human excreta for friendship wi...  ...  UP cousins fed human excreta for friendship wi...\n",
              "11  81-yr-old woman conducts physical training in ...  ...  81-yr-old woman conducts physical training in ...\n",
              "\n",
              "[5 rows x 4 columns]"
            ]
          },
          "metadata": {},
          "execution_count": 84
        }
      ]
    },
    {
      "cell_type": "code",
      "source": [
        "# Numpy 타입으로 저장!\n",
        "\n",
        "encoder_input = np.array(data['text']) # 인코더의 입력\n",
        "decoder_input = np.array(data['decoder_input']) # 디코더의 입력\n",
        "decoder_target = np.array(data['decoder_target']) # 디코더의 레이블"
      ],
      "metadata": {
        "id": "XtrzA9ZhC3xW"
      },
      "execution_count": 85,
      "outputs": []
    },
    {
      "cell_type": "code",
      "source": [
        "indices = np.arange(encoder_input.shape[0])\n",
        "np.random.shuffle(indices)\n",
        "print(indices)"
      ],
      "metadata": {
        "colab": {
          "base_uri": "https://localhost:8080/"
        },
        "id": "nnSLH2uiC7wz",
        "outputId": "c54b6f34-739d-40d6-cbf7-48bfb709d5be"
      },
      "execution_count": 86,
      "outputs": [
        {
          "output_type": "stream",
          "name": "stdout",
          "text": [
            "[59358 66660 19209 ... 27629 27468 54643]\n"
          ]
        }
      ]
    },
    {
      "cell_type": "code",
      "source": [
        "encoder_input = encoder_input[indices]\n",
        "decoder_input = decoder_input[indices]\n",
        "decoder_target = decoder_target[indices]"
      ],
      "metadata": {
        "id": "k5zTSFjTC_Dv"
      },
      "execution_count": 87,
      "outputs": []
    },
    {
      "cell_type": "code",
      "source": [
        "n_of_val = int(len(encoder_input)*0.2) # 테스트 데이터는 20프로\n",
        "print('테스트 데이터의 수 :', n_of_val)"
      ],
      "metadata": {
        "colab": {
          "base_uri": "https://localhost:8080/"
        },
        "id": "SVI69ND5DC8d",
        "outputId": "6ddfa7c2-2b37-4871-b8d3-f7dfb3dc8805"
      },
      "execution_count": 88,
      "outputs": [
        {
          "output_type": "stream",
          "name": "stdout",
          "text": [
            "테스트 데이터의 수 : 14775\n"
          ]
        }
      ]
    },
    {
      "cell_type": "code",
      "source": [
        "encoder_input_train = encoder_input[:-n_of_val]\n",
        "decoder_input_train = decoder_input[:-n_of_val]\n",
        "decoder_target_train = decoder_target[:-n_of_val]\n",
        "\n",
        "encoder_input_test = encoder_input[-n_of_val:]\n",
        "decoder_input_test = decoder_input[-n_of_val:]\n",
        "decoder_target_test = decoder_target[-n_of_val:]\n",
        "\n",
        "print('훈련 데이터의 개수 :', len(encoder_input_train))\n",
        "print('훈련 레이블의 개수 :', len(decoder_input_train))\n",
        "print('테스트 데이터의 개수 :', len(encoder_input_test))\n",
        "print('테스트 레이블의 개수 :', len(decoder_input_test))"
      ],
      "metadata": {
        "colab": {
          "base_uri": "https://localhost:8080/"
        },
        "id": "w-iZguomDJ8K",
        "outputId": "b9df9851-8762-48f4-cfed-878398926f56"
      },
      "execution_count": 89,
      "outputs": [
        {
          "output_type": "stream",
          "name": "stdout",
          "text": [
            "훈련 데이터의 개수 : 59104\n",
            "훈련 레이블의 개수 : 59104\n",
            "테스트 데이터의 개수 : 14775\n",
            "테스트 레이블의 개수 : 14775\n"
          ]
        }
      ]
    },
    {
      "cell_type": "markdown",
      "source": [
        "## 3. 정수 인코딩"
      ],
      "metadata": {
        "id": "--YkrzbdFCmg"
      }
    },
    {
      "cell_type": "code",
      "source": [
        "src_tokenizer = Tokenizer() # 토크나이저 정의\n",
        "src_tokenizer.fit_on_texts(encoder_input_train) # 입력된 데이터로부터 단어 집합 생성"
      ],
      "metadata": {
        "id": "lE5ZobxMFdN3"
      },
      "execution_count": 90,
      "outputs": []
    },
    {
      "cell_type": "code",
      "source": [
        "threshold = 7\n",
        "total_cnt = len(src_tokenizer.word_index) # 단어의 수\n",
        "rare_cnt = 0 # 등장 빈도수가 threshold보다 작은 단어의 개수를 카운트\n",
        "total_freq = 0 # 훈련 데이터의 전체 단어 빈도수 총 합\n",
        "rare_freq = 0 # 등장 빈도수가 threshold보다 작은 단어의 등장 빈도수의 총 합\n",
        "\n",
        "# 단어와 빈도수의 쌍(pair)을 key와 value로 받는다.\n",
        "for key, value in src_tokenizer.word_counts.items():\n",
        "    total_freq = total_freq + value\n",
        "\n",
        "    # 단어의 등장 빈도수가 threshold보다 작으면\n",
        "    if(value < threshold):\n",
        "        rare_cnt = rare_cnt + 1\n",
        "        rare_freq = rare_freq + value\n",
        "\n",
        "print('단어 집합(vocabulary)의 크기 :', total_cnt)\n",
        "print('등장 빈도가 %s번 이하인 희귀 단어의 수: %s'%(threshold - 1, rare_cnt))\n",
        "print('단어 집합에서 희귀 단어를 제외시킬 경우의 단어 집합의 크기 %s'%(total_cnt - rare_cnt))\n",
        "print(\"단어 집합에서 희귀 단어의 비율:\", (rare_cnt / total_cnt)*100)\n",
        "print(\"전체 등장 빈도에서 희귀 단어 등장 빈도 비율:\", (rare_freq / total_freq)*100)"
      ],
      "metadata": {
        "colab": {
          "base_uri": "https://localhost:8080/"
        },
        "id": "bGN8EUaFFjUM",
        "outputId": "6bcd86a6-f789-4e41-88fe-8e1b4d1bba02"
      },
      "execution_count": 91,
      "outputs": [
        {
          "output_type": "stream",
          "name": "stdout",
          "text": [
            "단어 집합(vocabulary)의 크기 : 81868\n",
            "등장 빈도가 6번 이하인 희귀 단어의 수: 60102\n",
            "단어 집합에서 희귀 단어를 제외시킬 경우의 단어 집합의 크기 21766\n",
            "단어 집합에서 희귀 단어의 비율: 73.41329945766356\n",
            "전체 등장 빈도에서 희귀 단어 등장 빈도 비율: 3.2921295322497137\n"
          ]
        }
      ]
    },
    {
      "cell_type": "code",
      "source": [
        "# 등장 빈도가 6회 이하인 단어들은 정수 인코딩 과정에서 빼고, 훈련 데이터에서 제거!\n",
        "# 단어 집합의 크기는 21746에서 어립잡아 20000개로 제한.\n",
        "\n",
        "src_vocab = 8000\n",
        "src_tokenizer = Tokenizer(num_words=src_vocab) # 단어 집합의 크기를 8,000으로 제한\n",
        "src_tokenizer.fit_on_texts(encoder_input_train) # 단어 집합 재생성"
      ],
      "metadata": {
        "id": "z8wjdDcaFsNR"
      },
      "execution_count": 92,
      "outputs": []
    },
    {
      "cell_type": "code",
      "source": [
        "# 텍스트 시퀀스를 정수 시퀀스로 변환\n",
        "encoder_input_train = src_tokenizer.texts_to_sequences(encoder_input_train) \n",
        "encoder_input_test = src_tokenizer.texts_to_sequences(encoder_input_test)\n",
        "\n",
        "# 잘 진행되었는지 샘플 출력\n",
        "print(encoder_input_train[:3])"
      ],
      "metadata": {
        "colab": {
          "base_uri": "https://localhost:8080/"
        },
        "id": "E7M6J_oTGVqd",
        "outputId": "78e13e7d-3024-41fc-f1f3-4511c12797b7"
      },
      "execution_count": 93,
      "outputs": [
        {
          "output_type": "stream",
          "name": "stdout",
          "text": [
            "[[19, 39, 2120, 2263, 5034, 832, 32, 6096, 3, 111, 2015, 694, 32, 334, 3, 3665, 7011, 233, 65, 1, 717, 1, 28, 1688, 4042, 13, 189, 77, 2481, 2, 19, 1, 1206, 2469, 4182, 14, 1, 1206, 880, 1, 111, 38, 309, 3, 1206, 1504, 29, 8, 253, 246, 64, 37, 3175, 259, 120], [409, 1018, 8, 1354, 20, 3, 2183, 10, 3, 3579, 1472, 18, 2275, 293, 16, 12, 4348, 43, 5684, 4, 1, 54, 1334, 3914, 1, 3579, 4580, 2, 2121, 32, 176, 1751, 5310, 2, 5089, 18, 2275, 293, 16, 545, 26, 152, 1475, 2, 1, 3579, 79, 25, 1644, 3751, 1, 833, 11, 1056, 11, 13, 2777, 40], [245, 229, 55, 2404, 109, 7, 147, 10, 16, 13, 40, 1512, 2, 1265, 11, 1875, 4, 621, 6, 481, 41, 1036, 16, 38, 2456, 11, 16, 652, 40, 1265, 481, 87, 41, 173, 7012, 1, 3176, 794, 12, 2, 2601, 502, 47, 51, 85, 1875, 3340, 1, 1195, 16, 35]]\n"
          ]
        }
      ]
    },
    {
      "cell_type": "code",
      "source": [
        "tar_tokenizer = Tokenizer()\n",
        "tar_tokenizer.fit_on_texts(decoder_input_train) # decoder_input_train을 입력하여 전체 단어 집합과 각 단어에 대한 빈도수를 계산"
      ],
      "metadata": {
        "id": "m76bhYfyGZou"
      },
      "execution_count": 94,
      "outputs": []
    },
    {
      "cell_type": "code",
      "source": [
        "threshold = 6\n",
        "total_cnt = len(tar_tokenizer.word_index) # 단어의 수\n",
        "rare_cnt = 0 # 등장 빈도수가 threshold보다 작은 단어의 개수를 카운트\n",
        "total_freq = 0 # 훈련 데이터의 전체 단어 빈도수 총 합\n",
        "rare_freq = 0 # 등장 빈도수가 threshold보다 작은 단어의 등장 빈도수의 총 합\n",
        "\n",
        "# 단어와 빈도수의 쌍(pair)을 key와 value로 받는다.\n",
        "for key, value in tar_tokenizer.word_counts.items():\n",
        "    total_freq = total_freq + value\n",
        "\n",
        "    # 단어의 등장 빈도수가 threshold보다 작으면\n",
        "    if(value < threshold):\n",
        "        rare_cnt = rare_cnt + 1\n",
        "        rare_freq = rare_freq + value\n",
        "\n",
        "print('단어 집합(vocabulary)의 크기 :', total_cnt)\n",
        "print('등장 빈도가 %s번 이하인 희귀 단어의 수: %s'%(threshold - 1, rare_cnt))\n",
        "print('단어 집합에서 희귀 단어를 제외시킬 경우의 단어 집합의 크기 %s'%(total_cnt - rare_cnt))\n",
        "print(\"단어 집합에서 희귀 단어의 비율:\", (rare_cnt / total_cnt)*100)\n",
        "print(\"전체 등장 빈도에서 희귀 단어 등장 빈도 비율:\", (rare_freq / total_freq)*100)"
      ],
      "metadata": {
        "colab": {
          "base_uri": "https://localhost:8080/"
        },
        "id": "LcmcskZ5OxRK",
        "outputId": "6f49d36f-8dd2-4668-f3ed-295ed0a5f462"
      },
      "execution_count": 95,
      "outputs": [
        {
          "output_type": "stream",
          "name": "stdout",
          "text": [
            "단어 집합(vocabulary)의 크기 : 36900\n",
            "등장 빈도가 5번 이하인 희귀 단어의 수: 27142\n",
            "단어 집합에서 희귀 단어를 제외시킬 경우의 단어 집합의 크기 9758\n",
            "단어 집합에서 희귀 단어의 비율: 73.55555555555556\n",
            "전체 등장 빈도에서 희귀 단어 등장 빈도 비율: 7.938687519358916\n"
          ]
        }
      ]
    },
    {
      "cell_type": "code",
      "source": [
        "# 위 결과로 보아 실제로 희귀단어 등장 비율을 계산하여 제한해야 한다.\n",
        "\n",
        "# 37018 * 0.08 = 2961 정도 ------> 크게 어림잡아 3000으로 제한."
      ],
      "metadata": {
        "id": "KhakwqNrPNOF"
      },
      "execution_count": null,
      "outputs": []
    },
    {
      "cell_type": "code",
      "source": [
        "tar_vocab = 3000\n",
        "tar_tokenizer = Tokenizer(num_words=tar_vocab) \n",
        "tar_tokenizer.fit_on_texts(decoder_input_train)\n",
        "tar_tokenizer.fit_on_texts(decoder_target_train)\n",
        "\n",
        "# 텍스트 시퀀스를 정수 시퀀스로 변환\n",
        "decoder_input_train = tar_tokenizer.texts_to_sequences(decoder_input_train) \n",
        "decoder_target_train = tar_tokenizer.texts_to_sequences(decoder_target_train)\n",
        "decoder_input_test = tar_tokenizer.texts_to_sequences(decoder_input_test)\n",
        "decoder_target_test = tar_tokenizer.texts_to_sequences(decoder_target_test)\n",
        "\n",
        "# 잘 변환되었는지 확인\n",
        "print('input')\n",
        "print('input ',decoder_input_train[:5])\n",
        "print('target')\n",
        "print('decoder ',decoder_target_train[:5])"
      ],
      "metadata": {
        "colab": {
          "base_uri": "https://localhost:8080/"
        },
        "id": "Toc4ELadQjl1",
        "outputId": "548c951a-a14e-40db-b51c-64caa8d14393"
      },
      "execution_count": 96,
      "outputs": [
        {
          "output_type": "stream",
          "name": "stdout",
          "text": [
            "input\n",
            "input  [[1, 1064, 54, 105, 2588, 126, 87], [1, 1052, 1030, 1459, 1388, 5, 278, 1223], [1, 22, 1041, 3, 2430, 1434, 93, 672, 923], [1, 13, 517, 180, 83, 5], [1, 246, 2159, 4, 436, 8, 1656, 613, 263]]\n",
            "target\n",
            "decoder  [[1064, 54, 105, 2588, 126, 87, 2], [1052, 1030, 1459, 1388, 5, 278, 1223, 2], [22, 1041, 3, 2430, 1434, 93, 672, 923, 2], [13, 517, 180, 83, 5, 2], [246, 2159, 4, 436, 8, 1656, 613, 263, 2]]\n"
          ]
        }
      ]
    },
    {
      "cell_type": "code",
      "source": [
        "drop_train = [index for index, sentence in enumerate(decoder_input_train) if len(sentence) == 1]\n",
        "drop_test = [index for index, sentence in enumerate(decoder_input_test) if len(sentence) == 1]\n",
        "\n",
        "print('삭제할 훈련 데이터의 개수 :', len(drop_train))\n",
        "print('삭제할 테스트 데이터의 개수 :', len(drop_test))\n",
        "\n",
        "encoder_input_train = [sentence for index, sentence in enumerate(encoder_input_train) if index not in drop_train]\n",
        "decoder_input_train = [sentence for index, sentence in enumerate(decoder_input_train) if index not in drop_train]\n",
        "decoder_target_train = [sentence for index, sentence in enumerate(decoder_target_train) if index not in drop_train]\n",
        "\n",
        "encoder_input_test = [sentence for index, sentence in enumerate(encoder_input_test) if index not in drop_test]\n",
        "decoder_input_test = [sentence for index, sentence in enumerate(decoder_input_test) if index not in drop_test]\n",
        "decoder_target_test = [sentence for index, sentence in enumerate(decoder_target_test) if index not in drop_test]\n",
        "\n",
        "print('훈련 데이터의 개수 :', len(encoder_input_train))\n",
        "print('훈련 레이블의 개수 :', len(decoder_input_train))\n",
        "print('테스트 데이터의 개수 :', len(encoder_input_test))\n",
        "print('테스트 레이블의 개수 :', len(decoder_input_test))"
      ],
      "metadata": {
        "colab": {
          "base_uri": "https://localhost:8080/"
        },
        "id": "84YczGNYVlBj",
        "outputId": "6cec6dc0-4920-4a02-98c9-21e4b827e527"
      },
      "execution_count": 97,
      "outputs": [
        {
          "output_type": "stream",
          "name": "stdout",
          "text": [
            "삭제할 훈련 데이터의 개수 : 5\n",
            "삭제할 테스트 데이터의 개수 : 2\n",
            "훈련 데이터의 개수 : 59099\n",
            "훈련 레이블의 개수 : 59099\n",
            "테스트 데이터의 개수 : 14773\n",
            "테스트 레이블의 개수 : 14773\n"
          ]
        }
      ]
    },
    {
      "cell_type": "code",
      "source": [
        "# 패딩하기\n",
        "\n",
        "# 병렬 처리를 위해 같은 길이로 맞춰주는 패딩 작업"
      ],
      "metadata": {
        "id": "nekxtcO2Vvzi"
      },
      "execution_count": null,
      "outputs": []
    },
    {
      "cell_type": "code",
      "source": [
        "encoder_input_train = pad_sequences(encoder_input_train, maxlen=text_max_len, padding='post')\n",
        "encoder_input_test = pad_sequences(encoder_input_test, maxlen=text_max_len, padding='post')\n",
        "decoder_input_train = pad_sequences(decoder_input_train, maxlen=summary_max_len, padding='post')\n",
        "decoder_target_train = pad_sequences(decoder_target_train, maxlen=summary_max_len, padding='post')\n",
        "decoder_input_test = pad_sequences(decoder_input_test, maxlen=summary_max_len, padding='post')\n",
        "decoder_target_test = pad_sequences(decoder_target_test, maxlen=summary_max_len, padding='post')"
      ],
      "metadata": {
        "id": "TGprT8DhVtbh"
      },
      "execution_count": 98,
      "outputs": []
    },
    {
      "cell_type": "code",
      "source": [
        "from tensorflow.keras.layers import Input, LSTM, Embedding, Dense, Concatenate, TimeDistributed\n",
        "from tensorflow.keras.models import Model\n",
        "from tensorflow.keras.callbacks import EarlyStopping, ModelCheckpoint\n",
        "\n",
        "\n",
        "# 인코더 설계 시작\n",
        "embedding_dim = 128\n",
        "hidden_size = 256\n",
        "\n",
        "# 인코더\n",
        "encoder_inputs = Input(shape=(text_max_len,))\n",
        "\n",
        "# 인코더의 임베딩 층\n",
        "enc_emb = Embedding(src_vocab, embedding_dim)(encoder_inputs)\n",
        "\n",
        "# 인코더의 LSTM 1\n",
        "encoder_lstm1 = LSTM(hidden_size, return_sequences=True, return_state=True ,dropout = 0.4, recurrent_dropout = 0.4)\n",
        "encoder_output1, state_h1, state_c1 = encoder_lstm1(enc_emb)\n",
        "\n",
        "# 인코더의 LSTM 2\n",
        "encoder_lstm2 = LSTM(hidden_size, return_sequences=True, return_state=True, dropout=0.4, recurrent_dropout=0.4)\n",
        "encoder_output2, state_h2, state_c2 = encoder_lstm2(encoder_output1)\n",
        "\n",
        "# 인코더의 LSTM 3\n",
        "encoder_lstm3 = LSTM(hidden_size, return_state=True, return_sequences=True, dropout=0.4, recurrent_dropout=0.4)\n",
        "encoder_outputs, state_h, state_c= encoder_lstm3(encoder_output2)"
      ],
      "metadata": {
        "colab": {
          "base_uri": "https://localhost:8080/"
        },
        "id": "acjDaFP-V8QW",
        "outputId": "c61e6360-db6f-46bd-e250-84a011b71c30"
      },
      "execution_count": 99,
      "outputs": [
        {
          "output_type": "stream",
          "name": "stdout",
          "text": [
            "WARNING:tensorflow:Layer lstm will not use cuDNN kernels since it doesn't meet the criteria. It will use a generic GPU kernel as fallback when running on GPU.\n",
            "WARNING:tensorflow:Layer lstm_1 will not use cuDNN kernels since it doesn't meet the criteria. It will use a generic GPU kernel as fallback when running on GPU.\n",
            "WARNING:tensorflow:Layer lstm_2 will not use cuDNN kernels since it doesn't meet the criteria. It will use a generic GPU kernel as fallback when running on GPU.\n"
          ]
        }
      ]
    },
    {
      "cell_type": "code",
      "source": [
        "# 디코더 설계\n",
        "decoder_inputs = Input(shape=(None,))\n",
        "\n",
        "# 디코더의 임베딩 층\n",
        "dec_emb_layer = Embedding(tar_vocab, embedding_dim)\n",
        "dec_emb = dec_emb_layer(decoder_inputs)\n",
        "\n",
        "# 디코더의 LSTM\n",
        "decoder_lstm = LSTM(hidden_size, return_sequences=True, return_state=True, dropout=0.4, recurrent_dropout=0.2)\n",
        "decoder_outputs, _, _ = decoder_lstm(dec_emb, initial_state=[state_h, state_c])"
      ],
      "metadata": {
        "colab": {
          "base_uri": "https://localhost:8080/"
        },
        "id": "mTuE6OH1V_8U",
        "outputId": "f7fb6595-b276-4eff-a97c-39122e164f78"
      },
      "execution_count": 100,
      "outputs": [
        {
          "output_type": "stream",
          "name": "stdout",
          "text": [
            "WARNING:tensorflow:Layer lstm_3 will not use cuDNN kernels since it doesn't meet the criteria. It will use a generic GPU kernel as fallback when running on GPU.\n"
          ]
        }
      ]
    },
    {
      "cell_type": "code",
      "source": [
        "# 디코더의 출력층\n",
        "decoder_softmax_layer = Dense(tar_vocab, activation='softmax')\n",
        "decoder_softmax_outputs = decoder_softmax_layer(decoder_outputs) \n",
        "\n",
        "# 모델 정의\n",
        "model = Model([encoder_inputs, decoder_inputs], decoder_softmax_outputs)\n",
        "model.summary()"
      ],
      "metadata": {
        "colab": {
          "base_uri": "https://localhost:8080/"
        },
        "id": "aQZrSssyWBeT",
        "outputId": "435f2e78-494c-4c4e-8c47-a9fb860e267e"
      },
      "execution_count": 101,
      "outputs": [
        {
          "output_type": "stream",
          "name": "stdout",
          "text": [
            "Model: \"model\"\n",
            "__________________________________________________________________________________________________\n",
            " Layer (type)                   Output Shape         Param #     Connected to                     \n",
            "==================================================================================================\n",
            " input_1 (InputLayer)           [(None, 60)]         0           []                               \n",
            "                                                                                                  \n",
            " embedding (Embedding)          (None, 60, 128)      1024000     ['input_1[0][0]']                \n",
            "                                                                                                  \n",
            " lstm (LSTM)                    [(None, 60, 256),    394240      ['embedding[0][0]']              \n",
            "                                 (None, 256),                                                     \n",
            "                                 (None, 256)]                                                     \n",
            "                                                                                                  \n",
            " input_2 (InputLayer)           [(None, None)]       0           []                               \n",
            "                                                                                                  \n",
            " lstm_1 (LSTM)                  [(None, 60, 256),    525312      ['lstm[0][0]']                   \n",
            "                                 (None, 256),                                                     \n",
            "                                 (None, 256)]                                                     \n",
            "                                                                                                  \n",
            " embedding_1 (Embedding)        (None, None, 128)    384000      ['input_2[0][0]']                \n",
            "                                                                                                  \n",
            " lstm_2 (LSTM)                  [(None, 60, 256),    525312      ['lstm_1[0][0]']                 \n",
            "                                 (None, 256),                                                     \n",
            "                                 (None, 256)]                                                     \n",
            "                                                                                                  \n",
            " lstm_3 (LSTM)                  [(None, None, 256),  394240      ['embedding_1[0][0]',            \n",
            "                                 (None, 256),                     'lstm_2[0][1]',                 \n",
            "                                 (None, 256)]                     'lstm_2[0][2]']                 \n",
            "                                                                                                  \n",
            " dense (Dense)                  (None, None, 3000)   771000      ['lstm_3[0][0]']                 \n",
            "                                                                                                  \n",
            "==================================================================================================\n",
            "Total params: 4,018,104\n",
            "Trainable params: 4,018,104\n",
            "Non-trainable params: 0\n",
            "__________________________________________________________________________________________________\n"
          ]
        }
      ]
    },
    {
      "cell_type": "markdown",
      "source": [
        "![image.png](data:image/png;base64,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)"
      ],
      "metadata": {
        "id": "wfhExMLFlx_R"
      }
    },
    {
      "cell_type": "code",
      "source": [
        "from tensorflow.keras.layers import AdditiveAttention\n",
        "\n",
        "# 어텐션 층(어텐션 함수)\n",
        "attn_layer = AdditiveAttention(name='attention_layer')\n",
        "\n",
        "# 인코더와 디코더의 모든 time step의 hidden state를 어텐션 층에 전달하고 결과를 리턴\n",
        "attn_out = attn_layer([decoder_outputs, encoder_outputs])\n",
        "\n",
        "\n",
        "# 어텐션의 결과와 디코더의 hidden state들을 연결\n",
        "decoder_concat_input = Concatenate(axis=-1, name='concat_layer')([decoder_outputs, attn_out])\n",
        "\n",
        "# 디코더의 출력층\n",
        "decoder_softmax_layer = Dense(tar_vocab, activation='softmax')\n",
        "decoder_softmax_outputs = decoder_softmax_layer(decoder_concat_input)\n",
        "\n",
        "# 모델 정의\n",
        "model = Model([encoder_inputs, decoder_inputs], decoder_softmax_outputs)\n",
        "model.summary()"
      ],
      "metadata": {
        "colab": {
          "base_uri": "https://localhost:8080/"
        },
        "id": "NJpcJ9uaWEQN",
        "outputId": "6aad7c52-6f2e-4cfb-f771-0719c4c76c9e"
      },
      "execution_count": 102,
      "outputs": [
        {
          "output_type": "stream",
          "name": "stdout",
          "text": [
            "Model: \"model_1\"\n",
            "__________________________________________________________________________________________________\n",
            " Layer (type)                   Output Shape         Param #     Connected to                     \n",
            "==================================================================================================\n",
            " input_1 (InputLayer)           [(None, 60)]         0           []                               \n",
            "                                                                                                  \n",
            " embedding (Embedding)          (None, 60, 128)      1024000     ['input_1[0][0]']                \n",
            "                                                                                                  \n",
            " lstm (LSTM)                    [(None, 60, 256),    394240      ['embedding[0][0]']              \n",
            "                                 (None, 256),                                                     \n",
            "                                 (None, 256)]                                                     \n",
            "                                                                                                  \n",
            " input_2 (InputLayer)           [(None, None)]       0           []                               \n",
            "                                                                                                  \n",
            " lstm_1 (LSTM)                  [(None, 60, 256),    525312      ['lstm[0][0]']                   \n",
            "                                 (None, 256),                                                     \n",
            "                                 (None, 256)]                                                     \n",
            "                                                                                                  \n",
            " embedding_1 (Embedding)        (None, None, 128)    384000      ['input_2[0][0]']                \n",
            "                                                                                                  \n",
            " lstm_2 (LSTM)                  [(None, 60, 256),    525312      ['lstm_1[0][0]']                 \n",
            "                                 (None, 256),                                                     \n",
            "                                 (None, 256)]                                                     \n",
            "                                                                                                  \n",
            " lstm_3 (LSTM)                  [(None, None, 256),  394240      ['embedding_1[0][0]',            \n",
            "                                 (None, 256),                     'lstm_2[0][1]',                 \n",
            "                                 (None, 256)]                     'lstm_2[0][2]']                 \n",
            "                                                                                                  \n",
            " attention_layer (AdditiveAtten  (None, None, 256)   256         ['lstm_3[0][0]',                 \n",
            " tion)                                                            'lstm_2[0][0]']                 \n",
            "                                                                                                  \n",
            " concat_layer (Concatenate)     (None, None, 512)    0           ['lstm_3[0][0]',                 \n",
            "                                                                  'attention_layer[0][0]']        \n",
            "                                                                                                  \n",
            " dense_1 (Dense)                (None, None, 3000)   1539000     ['concat_layer[0][0]']           \n",
            "                                                                                                  \n",
            "==================================================================================================\n",
            "Total params: 4,786,360\n",
            "Trainable params: 4,786,360\n",
            "Non-trainable params: 0\n",
            "__________________________________________________________________________________________________\n"
          ]
        }
      ]
    },
    {
      "cell_type": "code",
      "source": [
        "model.compile(optimizer='rmsprop', loss='sparse_categorical_crossentropy')\n",
        "es = EarlyStopping(monitor='val_loss', patience=2, verbose=1) # 검증 데이터 손실이 줄어들지 않고 증가하는 현상이 2회되면 학습이 stop\n",
        "history = model.fit(x=[encoder_input_train, decoder_input_train], y=decoder_target_train, \\\n",
        "          validation_data=([encoder_input_test, decoder_input_test], decoder_target_test), \\\n",
        "          batch_size=256, callbacks=[es], epochs=30)"
      ],
      "metadata": {
        "colab": {
          "base_uri": "https://localhost:8080/"
        },
        "id": "gIUkzw6kWKOw",
        "outputId": "1805d11d-5e2d-4a3a-a518-82e3dfe4dc7c"
      },
      "execution_count": null,
      "outputs": [
        {
          "output_type": "stream",
          "name": "stdout",
          "text": [
            "Epoch 1/30\n",
            "231/231 [==============================] - 348s 1s/step - loss: 5.2418 - val_loss: 5.0046\n",
            "Epoch 2/30\n",
            "231/231 [==============================] - 311s 1s/step - loss: 4.8861 - val_loss: 4.6841\n",
            "Epoch 3/30\n",
            "231/231 [==============================] - 310s 1s/step - loss: 4.5613 - val_loss: 4.4069\n",
            "Epoch 4/30\n",
            "231/231 [==============================] - 310s 1s/step - loss: 4.2889 - val_loss: 4.1918\n",
            "Epoch 5/30\n",
            "231/231 [==============================] - 309s 1s/step - loss: 4.0865 - val_loss: 4.0495\n",
            "Epoch 6/30\n",
            "231/231 [==============================] - 307s 1s/step - loss: 3.9273 - val_loss: 3.9383\n",
            "Epoch 7/30\n",
            "231/231 [==============================] - 306s 1s/step - loss: 3.7901 - val_loss: 3.8375\n",
            "Epoch 8/30\n",
            "231/231 [==============================] - 306s 1s/step - loss: 3.6656 - val_loss: 3.7606\n",
            "Epoch 9/30\n",
            "231/231 [==============================] - 306s 1s/step - loss: 3.5539 - val_loss: 3.6986\n",
            "Epoch 10/30\n",
            "231/231 [==============================] - 306s 1s/step - loss: 3.4546 - val_loss: 3.6372\n",
            "Epoch 11/30\n",
            "231/231 [==============================] - 306s 1s/step - loss: 3.3642 - val_loss: 3.5945\n",
            "Epoch 12/30\n",
            "231/231 [==============================] - 305s 1s/step - loss: 3.2810 - val_loss: 3.5531\n",
            "Epoch 13/30\n",
            "231/231 [==============================] - 305s 1s/step - loss: 3.2052 - val_loss: 3.5232\n",
            "Epoch 14/30\n",
            " 67/231 [=======>......................] - ETA: 3:33 - loss: 3.1102"
          ]
        }
      ]
    },
    {
      "cell_type": "markdown",
      "source": [
        "![image.png](data:image/png;base64,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)"
      ],
      "metadata": {
        "id": "_wpDN_-8l2eu"
      }
    },
    {
      "cell_type": "markdown",
      "source": [
        "![image.png](data:image/png;base64,iVBORw0KGgoAAAANSUhEUgAAAmAAAADmCAYAAAByHTk8AAAgAElEQVR4nOydfVxUVf7HP+iig1gyppI6su4sZoAmOLIWKqWLgVIRGbtFtJKt5FrTr8ke3GIpCNui1Wmb7cGHTItlLVKaioLkZYlJtniDNCDLbkYDhVijxcOoKb8/eJ3bvXfunbl35s6A7Xm/XrxeOvfhPH/P93y/33NuSF9fXx8oFAqFQqFQKEFjyEBngEKhUCgUCuV/DaqAUSgUCoVCoQQZqoBRKBQKhUKhBBmqgFEoFAqFQqEEGaqAUSgUCoVCoQQZqoBRKBQKhUKhBBmqgFEoFAqFQqEEGaqAUSgUCoVCoQSZXw10BiiUYOByudDY2Ig9e/bgwIEDOHLkCNra2rjrcXFxmDhxImbPno158+bBaDRiyJDAr0+cTicsFgtqa2sRExMDm80Go9EY8HTV8O677+LQoUMAgLS0NIwaNYrLc3JyMqxWK/R6vd/p2O12WCwWAIDFYoHZbPbrfd3d3WhpacFPP/2E4cOHIy4uDsOGDfM7n62trXjiiSfwww8/YMKECVi9ejVGjRrl93s90dfXh66uLvz0008AgJEjRyI0NDSgaWrNzp07UVpaCgCYMWMGbr/9dgwfPtyndx05cgRVVVUAgKlTp2L+/Pmw2WywWq0AgPLycphMJm0yHgAYhkFWVhYAaDqGKOcWVAGj/KLp6+vDvn378Pjjj+PAgQOy9zU1NaGpqQnvvPMOACA1NRX5+fmYOHGi6jQ7Ojrw0ksvoaqqCizLIikpCTk5OViwYIHfCkBXVxfq6+s5pai5uRnd3d0AgIiICMTExCA+Ph7z5s1DfHw8dDqd13d+8skneOKJJwBIT4yffPIJN7ElJiaqUjbOnDmDQ4cO4YcffgDQP1kGa6Lp6OjAQw89hJaWFm6S00IB++mnn8CyLPfes2fPKn6WP/EqwWq1IiMjAydPnsTjjz+OsrIyAL4rGKdOncJHH32Ed955Bx9//DEaGhoA9PedSy65BCaTCampqYiOjtZ8AdLT04M9e/YAACZNmgRPH2E5ceIEHnvsMbS3t+P888/Hvffei6ioKO76d999h5KSEgD9yvr8+fO9pu90OrmFxPnnn4+pU6di6NChsvcPZN+l/G/gVQHr6urCrl27UFFRgf3796O7uxtxcXGYP38+rrrqqoAM1IGAv/qWQ4tVOcHlcmHfvn149dVXUVdXh+PHj8NoNCI5ORnp6emIj4/3KBwoyvjkk09w3333oa2tDeHh4VixYgWuueYaXHjhhQILQk9PDz7//HO89NJL2LFjB6qrqwEAa9aswejRoxWn99FHH+Fvf/sbWlpauN/q6upQV1eHnJwcrF69GiNGjFBdjjNnzuC1117Dk08+KbDc8Tl+/Dg++OADfPDBB3j22WdxySWX4P7778ell16KkJAQ2XefPHlS8cSoltOnT6OsrMxvxWEgUCITamtrZcujpbzwF28LkePHj6O2tha1tbWwWq1YsGAB/vrXv+K3v/2t7DvPnj2LxsZGvPLKK9i7dy/a2towceJEzJkzB3/4wx8QHx/v89xw9uxZfPPNN9izZw9iYmI4y58/sCyL7OxsAEB2djby8/M9ythzue9Szg08KmANDQ0oLCx0G7DEWvCvf/0LWVlZuP/++wWTVENDAz788EMAwOzZs5GQkBCArGtLa2tr0NI6cuQIiouLsWvXLsHvLMuCZVls2bIFCxYsQH5+PiZPnhy0fP0Sef/99zmFJScnBytWrJAUuiNGjMCMGTMwadIkdHR0YO/evaiursaf//xnxQrYt99+i7Vr1wqULz6lpaUwGAy49dZbVSnXfX19ePHFF/HII48AAC655BKsXLkSs2bNQkREBDfJnT59Gt999x2qq6vx0ksv4cCBA7jvvvvwj3/8A7Nnz1ac3rkG3/Ukx2BRlEwmE1iW5f7f0dEBi8WCffv2YfLkyXjmmWdw8cUXa5pmX18f3njjDTz44IPo7u6G0WjEzTffjLS0NIwdOxZDhgzB6dOn0d7ezikcu3btwpEjR/Doo4/id7/7nds7jx8/jnXr1nEuRUJbWxteeeUVvPLKK1i6dCnuuecehIeHuz3PV2wGk6KqFjUWTarAUcTILk+OHDmCRx55xKPbBujvVG+//bbADN/Q0ICSkhKUlJQEVbHxFZfLhY6OjqCk9f333+Pxxx93U77E7Nq1C6+88oomKz9K4Onr68Pbb7+NDz74AACQmZmJuro6HD58GM8//zznynz11VcFE7ASiHUCACZPnow1a9bgyiuvxOjRowUWhtDQUFx44YVYunQp7r33XgD9E2JlZSVOnjzJ3ed0OpGbmwuj0Qij0SiYQMrKyhAbG8tds9vtvlXIL4CMjAxuUUT+Pv/8c9x9992C+1auXInPP//c7V4lSoXT6cS3334LoF/mOhwOzctx6NAh/Otf/0J3dzfi4+PxzDPPYOnSpYiMjOT6T2hoKH79619j9erVeOqppzBu3DiwLItNmzbhu+++E7zvzJkz2LRpE6d8LV++HPv27QPLsmhoaMD//d//AQC2bt2KZ599FmfOnFGUTxL/aDQaYTKZuD7f0tKClJQU7lp+fj56e3u1qh4KZcCQtID19fXhzTffRGNjIwAgJiYGq1evRlJSEoYOHYoTJ05g586deO6555CUlITMzExuIPf19eHHH38MXgk0oLe3lxN8OTk5ePDBB30ODvXGnj17OPfWxIkTsWrVKqSlpUGn06Gnpwcffvgh/vnPfyIyMhLLli3Dr35Fw/T8Ye7cuSgrK0NbWxtKS0sxbNgwXHfddYiMjBTER/FdkHv37gXQHwf2m9/8RlE6fCUpJiYGt99+Oy688EIAwBVXXIHbb78dDzzwAA4fPow9e/ZgypQpisvQ09ODrq4uxfeLOXv2rKZuxcGG2WyWVHYYhkFubi66u7sxbtw4rF+/HjNmzPA5nRMnTmDjxo3YunWr4PetW7di+PDhuOWWWzBy5EhV7yQbQgh1dXVITk7WJFaN8O677+Lw4cMAgBtuuAEXXXSR7L0hISGYM2cOFi9ejC1btqCmpgZ/+MMfkJKSwt3DsqwgVnLlypVcXOCoUaNw66234uuvv8aOHTvwzjvvICMjw62/ExegkhjFQMC3wPmD2KLJ58cff8Tq1avx9ttvIyYmhsaPUdyQnN1PnjzJrcoA4Morr8TcuXO5OJJRo0bh+uuvx8KFC/GrX/1KENNy8uRJdHZ2Bjjb2uJ0Ork8T548OWDKFyB0dc6dOxepqamcEBoxYgTmz5+P2bNn4+TJk3TAasC0adNQUlLCxb7YbDbYbDavzy1YsMDNte6Jjo4OfPXVVwCAyy67DJMmTeKuhYSEIDExEVOnTsWhQ4fw+eefo7e3F2FhYYrePXbsWCQkJIBhGBw5cgQPPvigIhck4be//a2gT+v1emzZskVR2gAU1Zcc/MUN+X8w6Onpwfbt27kNCkePHsX27dsxZcoUxTF4p0+fxo8//ogvv/wS7733Hl577TXOnW0ymbB8+XJs3LgRDMPAarXihRdewNVXX40FCxZg6tSpiIiI8KhgfPvtt24Wxp07dyI1NRWzZ8/mrGhyLm0luFwuQcygp5guwrBhwwSK6ueffy5QwA4dOsQpdLGxsW6bMkaOHImZM2dix44dOHz4ML766itFCw45RVoKhmEU3TeQ/PDDDzh69CgAYPTo0YiIiBjgHFEGG7IWML7ZuKOjA729vW6Ciz/w+Nvp+VgsFi6QVbzq6evrw6effopXXnkFNTU1aGtrg9FoxPz587F06VIYDAbBu/gCibzr2LFj2LJlC6qrq3H8+HHMmjULS5cuxbx58xTH2TidTk7I8XfaaE1fX5/AVXv06FF0dXW5TcQjRoxwq2uXy4Xi4mJu1Sa1guTHwoi3NvNjFUjMhcPhwDPPPIOqqiqcPn0ac+bMwW233Yb4+HiEhITgm2++wfPPP8/V7Zw5c3DLLbfgd7/7nSCoW6pdenp68MILL3CTVlJSEm655RbMnz8fQ4YMwfHjx7Ft2zbOJZeUlISbb74ZKSkpbu3W19fHudL27NmDjz/+mNsMkpqaiuuuuw4TJkyQrPOQkBBcdtll2LZtW0CPoTh27BhnyZgwYYLbEQGjR49GZGQkDh06hG+++QYul0uxAjZs2DDk5eWhvb0db731Fg4cOIAVK1YoenblypX44x//KBuEL96xOXv2bFx//fVIT0/XxDrR09PDKUEAuAlJ3J+1hMQnbdu2TfA7cZndfffdXifDPXv2YOXKlYK8A/27BZctW4bs7GyMHj0ac+fOxbZt2/DCCy+gra0NL730kkD5ffbZZ5Gamur2/p6eHjzzzDOcyzopKQmHDx9GW1sbHn/8cZSUlPwiNjf5gsvlQmVlJV599VV8+OGHMBqNSEtLw80334zIyEhN0lBigfO3j3777bf49NNPAQAGg0HxeKf87yCpgOl0OsH2+23btuHUqVO48847MWnSJI87qpTicrmwadMmrF+/XiDkSPxEVVUV8vPzceWVV0qm9+WXX2Lr1q1Yv349jh8/zv2+e/du7N69GytXrsTKlSsVrXb5K/S1a9fCYrFwwarz58/HH//4R/z2t7/1u9whISGCoPp3330Xf/3rX/F///d/iIuLC5rAPXHiBN544w2UlJQIlJB33nkHTU1N3JEE+fn5AvM6ue4pqNvpdGLfvn144okn3HYCfvzxx1izZg0uvvhiPPjgg4JVLP/61VdfzdX1sWPHUFJSgldffdUtLbIZ5O2338bf//53XHLJJbJl1ul0uPTSS3HppZcqrCV18ONkLrjgAs3fP2bMGKxbtw4TJ07Exo0bFT2zYcMGLFiwQLZfHT58GPfddx8XagAAH374IT788EN8/PHHPu/Y5MOfhADgiy++UBwTpBayY3vz5s1c7Gp8fDxnqWpsbERpaSkOHDiAvLw8XHHFFbLlu+SSSzB37lw4HA5MnDgRCQkJmDVrFuLi4gST9ogRI7Bs2TLcfPPNaG5uxr59+9DQ0IC2tjaMHz8es2bNcnv3999/jyeffJJTCE0mE4qKirBt2zZs2rQJjY2NWLFiBR588EG8/vrrGDp0qM/KwPDhwzlXOAB8+umnmDlzpkdZdurUKXz88cfc/8XWq6lTpyI6OhqHDx9Gc3MzTpw4IViMd3V14aOPPgIAREdH49e//rVbGnJB+D09PXjssccEwf0sy+KZZ55BXV0dSkpKEB0draYKBoS+vj40NjZyc9uUKVOoAkZxQ1IBCwkJQVpaGnbt2sUJ5x07dmDHjh1ITEzETTfdhJSUFJ+F85kzZ7BlyxasW7dO9p62tjY89dRTmDJliuTBlGS7vRzPPPMMpkyZgoyMDK/54bsFyTkxwM/K4Pbt21FYWIirrrrKbyVszpw5WLhwIXbu3AmgP9h+165dmDp1Km688UZcffXVAXc92u12vPzyy26re6C/3letWoXe3l6BYsu/vn37dkyfPl2y/Wtra/Hf//7XLXAX6D8Y89FHHwXwsyVEfL28vByXXnopxo0bB6A/ONhbTGFLSwtKS0vx8MMPc3lSsjNODVruYDpz5oxPMVnDhg0TxBhZLBasXLkSXV1dGDJkCIYOHYpHH32Um9j0er2s8tXV1YXnnnsOjY2NiI+Px6OPPoopU6bgjTfewN/+9jeUlpbiN7/5DXJzcwXPqTnDSjwJAf0xT9999x3GjRuH4uJiFBcXc9eUHPsg5uuvv0Z1dTUaGxu541wIJpOJK9ekSZNQWFgIhmFw4MAB3HHHHYiIiEBSUhLi4+ORmpoqcBuPGjUKzz77rOJ8hIaGYsaMGR5jzH788Ufs2LEDL730ErewmThxIu655x4YjUbk5eXhq6++ws6dO8GyLG699VYsWrQIjzzyiM+yNiQkBCkpKXj99ddx+PBhbN++HYmJibJxYH19fdi7dy/eeustAP0xXjNnzhTc8+tf/xpXXHEFDh8+jOrqakRFReHWW2/FuHHjcOLECWzZsgU7duwA0B++ovRg4b6+Prz++usoLS1FeHg4CgsLkZGRgS+++AKrV69GY2MjnnzySaxZs0bwnNVq1XSsa0FHRwe30WrcuHGSO0kpFFmTS3R0NPLz8xETEyP4vb6+HnfddRdSU1OxadMmbnIkcSUMwyA5OZm732q1copMcXExdDodmpub8e9//xtAvwBat24dPvnkE7ddNC0tLXjvvfdkM3/JJZdg69atXEzC9u3bER8fz11/5513vE7eSnZAHj9+HCUlJdyqzh/GjBmDv/71r5g3b57g90OHDuHhhx/G73//e5SUlAR0V+Z3332HqKgobN26FZ9//jkaGhqQk5PDXf/mm28wevRoPP/885LXP/30U9k4v+7ubuh0Oqxbtw7Nzc1obm7GPffcw10/evQoTp06hccff1zyemNjo8AqN2rUKMyfPx+pqakoLS3Fxx9/DJZlcejQITzxxBPcFvfa2lrVuwu1hG/1am9v93jv0KFDNbEik3eNGjUK5513nioL6pEjR/D+++8DAK6//npcfPHFGDp0KK688kosWrQIQH+dSinhSvn++++542gIe/fu5Q7/1IKQkBBUV1fjrbfe4vIaERGB/Px8bN26lbPeTJs2DRs3bhS4H48fP4633noLu3fvFsTI2e12bsedFn8kzmv48OFoa2sTKF/5+fnc5DxmzBg8/vjj3FgLDw9HWlqaqnPopJg6dSrMZjMiIiLQ2NiIlStXYuvWrejo6OBCIk6fPo2vvvoKjz32GO68804cPXoUMTExWL58uVv6w4YNw8qVK7l8bty4EZdeeimMRiMSEhLwz3/+EwCwdOlS/OUvf5EMBcnOzkZzc7Ngt2hXVxd3Ht2VV16J1NRUDB06FBdddBFuuOEGAP0eDhJ/NlgR74hOSUk5J6x2lODjcYvdzJkz8fLLL8Nut6O0tFRgHWpra8Ojjz6KPXv2oLCwUPF5VX19fdi9ezc3yebm5iIjI0MQ4H/ddddh9+7daGxsBMuycLlckr76Bx54QLCySEhIwA033MBZ7ViWxdGjR3HeeefJ5ken0+Ghhx7CDTfcgK6uLi549uzZszhw4AAeffRRMAzDxSBNnz7d7x1KkydPxvr167Fr1y5s3boV9fX13LXjx4/jueeew+7du/HII4+4rT61YPLkySgpKUFcXByA/jq/8sorBWb/Rx55BJdddpnk9aNHj3pUbB955BFcccUV3P8XLFiAV199lYuReuCBB7BkyRKuzfnXu7u73axnS5YswfXXX+925MLcuXMxffp07Nu3D0ePHsWRI0cwbdo0AOoCerVgzJgxmDx5Mo4cOYLOzk6cOnVK0E++//57TqkeP368ovgqb0HY3lb+YmsVP+7liy++4KyQU6dO5e4ZMWIEZwk6evQonE6n4B3l5eUwGo2S8Z5i3n//fdTU1AAA0tPT0dbWhsbGRrz22mtITEz0W7EA+pWYtLQ0OJ1OzJw5E4sWLUJiYqLkbsSIiAjccccdyM3NRW1tLd577z189NFHSE9Px9ixY/3OizeGDRuG7Oxs7N+/H0ajEXfddZdbnGtERAQefvhhXHvttWhsbMTvf/97v9MNCQnBVVddhdGjR2PVqlVgWRaFhYUoLCyUfSY+Ph7/+Mc/ZK1X/HxqdRBrZ2cnJyMmT54sOD+MbB7o7u6Gw+EQ1BtxYaqxemu1C1KK//73v9i8eTOAfuvXNddcM2C7PSmDG69nHIwcORI33XQTlixZgn379qG0tFRwhtWePXuwadMmxVuKxTss16xZ42ZS5uNwONDb2yv5bqmVFX+Xz6FDhxSt4ENDQ7mJm//uhIQE3HvvvdyK8ODBg+js7PTp8zRidDodFi9ejNTUVDQ2NuI///kPqqurOXdNS0sLnnvuOfz973/XPKYoLCzMLR5B/H+xksm/fvToUcG5UmLECu+wYcMEz4eGhgosQOLrYtfo0KFDcebMGXzyySdobGzEgQMH0NHRgZ9++kkQXxSo2CIljB8/HlOnTsWRI0fw4YcfwuFwcJNXX18f6uvruQXM9OnTf/HxIIcPH+aOa5g4cSJuueUWLqShuroaM2bMwPLly/3+2kNISAhuvfVW3HrrrYqfGTlyJBYvXozFixdLXs/IyPAYuuDP9zsnT56Ml19+2eN3HIcMGYKZM2dquvgKCQnB+PHjccEFF+Do0aOIiIiAwWDAJ598AqBfofrNb36Dzz77DN3d3Tj//PO9hkKozeeIESM4y//o0aM1swIPJj777DM8/vjjgsOf6eGrFDkUHzKl0+lwxRVXIDk5mQvEJuZiYiFSssVZvC3dG0qtBYFiypQpuPjii3H06FH09PR4VDx8YejQoTCZTJg5cybuvPNOrFu3Dq+//joAoKamBn/+858DEtR9riD+hAr53iFRYjo7Oz0q2Wq/vcdHzVlF559/Pn73u9+huroaLS0tePrpp3Hvvfdi3Lhx2L17N55++mkA/a79xMRERekbjUZUVlb6lHdvREVFITw8HN3d3fjiiy+4SYLvkh83bpxP8YjffvstnnjiCc4SvWjRIkybNg0jRozAO++8g8OHD+Ppp59GWFgYbrzxRp8tyr7EjHmCfHeRoOQYCHJIqBhPH1j25SPaoaGhyM7OxlVXXQUAfn+w/ZJLLnHLnxbHXnhi4cKFWLhwoez1Cy64ABdeeCFaWlrw9ddfo6enh4t9I3NGeHi4m9VQKXJndvmjUBP6+vrw0UcfoaCggKu/hQsX4oYbbqCflKPIovqUzyFDhmD69OlYvnw5p4AptTQB/Yrc+PHjuf8XFxdz3+fSAr4VJDw8XNOdhYE80DIkJARRUVFYsWKF4HDGb775JiDpnSt89NFH3Lccr7/+eqxevZpzXTmdTjQ0NAyKmJCQkBAsWrQINTU1+OCDD1BRUYGKigq3+66//nq/Jk9PH+OeOHEipkyZgoSEBFx++eWIi4uTFf5GoxGXX3453nrrLWzbtg3x8fGIjo5GVVUVF7OUnJys6uyis2fPgmEYrFmzRrAL8Q9/+AOGDRuGqVOnYtmyZXjggQfQ3d2NwsJCNDQ04I477vifi5Hx94iDwfBZG7mjh5Qgtbg5//zzMXfuXLz77rt4++23kZSUhGuuuUZgTb388su5HZiDhZ6eHmzbtg3/+te/uHlw/vz5KCgowJgxYwY4d5TBjKwCduzYMfz73/9Gdna2ZHwEf9U6btw4xYeXio+4aG5ulo3xUsuZM2cERxtcfPHF3G46Xzl16hROnToFoH8Vyj+ZnnzT8dChQ1i1ahWuvvpqr6udnp4ebN68GYsWLZK0GIaGhgrqksRB6HQ6wRk4vb29AmXzzJkz6Onp8a2Qg5S+vj7BtxznzJmjOm7I00nVUvhjBbjwwguxatUqt49xE3JycpCTk+PTivjs2bOorq7G2rVrZcvT1taGtrY2vPfee7BarTCZTHjooYfc3OtAf1zfXXfdhfb2djQ2NiItLc0tr57OD5Pi+++/x6ZNmzjla+LEibj//vs55SokJATXXnstOjo6uEDt3t5enw+o9OYq5LelJ4uUHGotkP4oJJT+/vHHP/4RX375JUpLS3H33XcLPvsUHx+Pu+66y+3g14HizJkz+OCDD/CPf/xD8Mm+xYsXIz8/X3D8B4UihaQC1tPTg6eeegqlpaV44403cPPNN2Px4sUYM2YM+vr68Nlnn2H9+vXc/TExMbJxUXv37sW8efMQERGBkydPIiwsDPPmzUNpaSmOHj2KmpoapKencwHfavjPf/6DCy64AFFRUTh16hTeeOMNwRlJSUlJigbBJ598gvPPP9/tENa+vj588MEH2LdvH4B+hY4oo6dOncKLL77IxcM988wziIuL83ji85kzZ/Diiy9i3bp12Lx5M3Jzc3HttdfCYDAgJCQEbW1t2LBhAxcrFBMTI7CW8JW///73v2hsbMRll13GHXoq/jDuuY74qwrHjh1DX18fQkJCuEN8v/jiC4/v8McF6QszZ87E5s2bBYebJiUlIScnBwsWLPDZ3bZ3717cd9993Pl0K1aswIIFC9xOwv/222/x+uuv47nnngPDMCgsLITVapV020RHR+PZZ5/V7CDWMWPG4N5770VnZyd++OEH/O1vf3Pbfq/T6fCXv/wFEydOxAsvvACLxTJorQSBdMnpdDq3Yzg8EciDa31F7RcVlLiMR4wYgQceeAAzZswI6EGsWvDll19i3bp1nPIVHh7O7fyU+gA5hSJGUgF7//33OfeJtx0z4eHhuO6667iV5ciRIxEdHc2tAl999VXuEM1ly5bh/vvvx7Rp05Cbm4uSkhIcPXoUxcXFuO+++5CUlITQ0FDuW5MjRozAokWLZFfh5GwyKeLj4xVZpBwOBwoLC+F0OnHzzTfjqquuwgUXXACXy4WqqiqsXbuWK+fChQu5mITu7m6BJeLw4cP44YcfPKZ18OBBvPLKKwD6dzs++eSTePLJJ2Xvz8jIEBxiOGPGDC5up62tDTfffLPgfqJASp3vdS4iPkTy6aefRnd3N2JjY7F792689tprg7KskZGRuOeeewTHa/jD6dOnsXv3bq6sZrNZ0vITGhqKSZMmYcWKFejq6sL69evBMAwaGxtl42a0zmt0dDSKi4sREREh+3WCYcOG4frrr8fVV1+t6TcPKUI87Qqsra316MKUuh4st6dOp8OSJUuwZMkSTd6nJlZQLqaPD4kVjI6Oxi233IIHHngAs2fPxl133YW4uLhf5OYCSmCQVMBSUlLw3HPP4YknnhCYVsVERETgwQcfFOwmCg0NxbXXXov33nvPzVXy5ZdfoqenB6NGjUJubi5++uknrF+/Hi0tLbjlllvc3h8TE4OLLrpINj7k0ksvxcGDB90mYaPRiNWrV3uNKzl9+jT+/e9/c25LT4pmZmYm5syZw/0/PDwcRqORUzSjo6Nx/vnne0xvxowZeOqpp/Dkk08KdpKKCQ8Px2233YY//elPAgUyPj4emZmZkhpCHO8AACAASURBVJauzMxM3HDDDXj44YcDFkQbbEJCQnD55Zfj5ZdfRltbG6e0EiIiIjB+/HjFcXID/QHgYHHmzBnNN4uoITY2VtF9gfzmqtb44sKk/PJZuHAhpkyZgilTptBge4pqJBWwIUOGYM6cOTCZTKivr8fOnTtRV1cHlmURHh6OGTNmYN68ebj66qslV7nTpk3Dhg0b8Pzzz6O2thZtbW2Ii4vDjBkzuIP/dDodbr/9dqSlpeHll1/Gvn370NTUhPDwcMTGxmL27Nm46qqrPAYsWywW/PTTT9i6dSv27t2LyMhIXHvttR6/DcgnNDQUf/rTn9DZ2SlrSQP642HuvvtuwWnUw4YNw5/+9Ce0trbi0KFDWLlypdfg6pCQEEybNg3r169HY2Mjdu3ahdraWjQ1NQHoP8dszpw5uOaaayQ/fTRixAjcfffdmDBhAvcNxfj4eG612Nvbi7Fjx/5iFDCgvy/97W9/Q0lJiUChT01Nxe23345Dhw7h3nvvHcAcBp7Q0FBOEe3u7obNZsPp06dxxRVXQK/Xc4L/9OnTaG9vR1lZGcrLywH0x8DxDyem/O8Q7LPwBiveYgX9QafT4eKLLw7Iuym/fDzugtTpdJg3b57bqe1KMBqNHs/3AvoVkujoaDz44IOq3w/0K4qXXXaZT/FjhPHjx6OkpATZ2dl48803uRPVjUYjEhMTkZWVJXug4OTJk7Fp0ybVaZKjJ0wmk2rlISIiAitWrJD8GLNOp5ONyfAWjO7PdW/Byv5cDwkJwZVXXon58+fju+++Q29vLyIjIzlleNq0aYpdFb4cvig+mmCgmDNnDkpKSrgg/Pvuu8/rMyQI39dt+4Rp06Zx6f2vHonizWUnBf8bhxRtueCCC7g+yT9ImEI5l1B9DMUvkUAcfEjRltDQ0P/pXUVDhgzBokWLMG/ePE2OoVDD/PnzMX/+fO7/PT09WLhwIS699FKcd955mrkSo6KiNJ1UIyMjUVhYiJ9++gnDhw8/pwOjtT4HbCDgt+/EiRP96puTJ092W4TShQLlXCOkL1AHWwUA8a6kwXAWDoXiD2fPnsWPP/6Is2fPYsiQIRg5ciSNJaFQKJT/AagFjEIZQIYMGTJozjWiUCgUSvDQ7ph4CoVCoVAoFIoizikXJIVCoVAoFMovAWoBo1AoFAqFQgkyVAGjUCgUCoVCCTJUAaNQKBQKhUIJMlQBo1AoFAqFQgkyVAGjUCgUCoVCCTJUAaNQKBQKhUIJMlQBo1AoFAqFQgkyVAGjUCgUCoVCCTJUAaNQKBQKhUIJMlQBo1AoFAqFQgkyVAGjUCgUCoVCCTJUAaNQKBQKhUIJMlQBo1AoFAqFQgkyVAGjUCgUCoVCCTJUAaNQKBQKhUIJMlQBo1AoFAqFQgkyVAGjUCgUCoVCCTJUAaNQKBQKhUIJMlQBo1AoFAqFQgkyVAGjUCgUCoVCCTJUAaNQKBQKhUIJMlQBo1AoFAqFQgkyVAGjUCgUCoVCCTJUAaNQKBQKhUIJMlQBo1AoFAqFQgkyVAGjUCgUCoVCCTJUAaNQKBQKhUIJMlQBo1AoFAqFQgkyVAGjUCgUCoVCCTKqFDC73Y78/Hy4XC6/E3a5XMjPz4fNZvP5HTabTbP8+IoW5fAVf9rD6XQiNzcXDMNolp9fQnto2cf9xd/6HCxlOZfKwTAMcnNz4XQ63a6RMWO32316t91ul303uW40Gt3+0tPTwbKsT2mK8Xd8sCyL9PR0n+SGr2mzLIulS5eCZVnN5BbDMH7Vq799YbDCr2tfsNlsPvUtreZR8h5f28XT+PcFb/0k4BYwtcKTYRhJIUT+fBXEpGHE7/NW2UTg+CMMxe/g/2mpAMkhVXaTyYTa2lpkZWV5FPaBag+gf7CqnWy0aA9f0Wpwyk20SvqDXD/2tT95ex//TyxEpNrP0/1K0/dFeHrrp2rGvBqIgPW1/Px3VFRUgGEYsCwr+CsqKkJKSorXyclTv1I6sYnf4cv41noSO1fwNJb4csofJdabEu8JqXkoGPOPJzkRjPTlkKqPrKws1NbWwmQyeRwHWsg+APiV3AWGYZCVlSV5raysTPB/i8UCs9msKEFvmEwmrqO6XC4UFxcjMTERGRkZPr+TlMVisbhN1gzDwGQySZaBPFdeXg6TycT9lpKSIvgNAKxWK6xWK7Kzs5Gfnw+dTgegv6GsVqvb/UC/4LVYLDAYDIJnPJVBCm/todPpUFxcjOLiYu43lmVhNpuRl5fnsW4D0R4k7YSEBDQ3NwvKzb8mrhN/2qO3txcWiwW1tbWSedKyDyshOTkZVqsVer1e1XNSbQn8XG++YrVaZduU9FMxZrOZS5NhGK6vKy0TyXNaWhrXx0ha9fX1XscEH9JPyfNms5nrD576Lblf3C/EfUmubvR6PbZs2SL4jaQHuI/b5ORkt3eQtOXqzmQyoby8HAUFBdyEIYev/Qrol1UMw4BhGO55m82GFStWuL2TlMlT3ShFrg1IWdRA6l4sEwEgJiaGmzjlIH1YDk9yQm5s2u12VFRU+NQmYlpbW9HZ2Qmn06nqfaQf8ttL6jdPz8qhpF7F9SYnU9Qi115lZWVu7xfPEUajEZWVlYJ77HY7NmzY4LU8fNnHsiwKCwvx0EMPeXxGClkFjD/xEmw2Gzo6OlQJxtbWVjgcDvT29ip+htDb2wuHw4HIyEhVz/FhWRYFBQWyncxkMqGmpgZmsxlJSUkCoV1RUQGr1SpoNKKsVVRUIC4ujvtdamCyLIuqqipJ5QvoF95WqxUWiwVNTU2S9/DT1aI9gP7OX1RUhJaWFk4B9JQ2QYv2IGmnpaVJCjKj0YjS0lJYLBZUV1dzbeZve+h0OreJkjAQ7mOllJWVoayszK+JNVionRgqKyuRkJCA5cuXc7/p9XoUFBTAbDZ7HRNaIKVAaQl/3JKJeDBCZFVRUZGg/XJycsAwDGprawXyky/TiCLd0tIieCe/7bKzs7Fq1SrJtKXawG63o76+HmFhYaqsPZ4WKIWFhV6f12piJbhcLtTX18NkMvk9dhmGQVVVFcaMGYPNmzcrlvtEdlosFkEbmkwmWK1WVFRUIDk5WTZ/4rmHyMtgLljl4LcX8LNil5mZqXphwDAMp7QVFRUplrdOpxN79uzxySqp2AVJBmhZWRmampoUPeN0OrnBK+cmslqtsqZup9OJzs5OMAzDFY5vIleyOnI6nRg7dqzkypNgNBqRlpaGuro67jeibBgMBrf7o6KiOKVSKxwOh6r7fWkPYiI3mUwwGAxobm6G1WpFVlaWIleeVu3R19eH9PR02Xv0ej0yMzNRX1/P9YlAtYfL5UJHR4fq54JFdnY2mpubsWXLlkGtfNXV1aGlpQUHDx6UvF5WVobY2FjOfULqPTIy0m0S0ev1GDt2rOox4Q9S7iPiHiF9nLjt+Ui5IGNjYyUtMHIQ2WSxWCSFOLFApKWl+awIeIPISfH7w8LCYDAY0NraKvsssSSIXaf8v+LiYoSFhSnOT2trq2Tf8JWDBw9i0qRJmDBhgs/v4Le1VF+Qorq6Gg0NDZLyjoR/KHFX2e12ZGVlIS8vD+vXrwcArFixQtGkT2RnVFSU2zWDwcAtnH4J1NbWora2FhUVFYrLRFyRxBrY3NzMGSWUuOCJnCL6A1+WeOsnihQwvqugvLwcWVlZiny3paWlMBgMWLNmDQoKCiQneOIWLC4uFgw2l8uFzZs3Y968eTAYDCgtLQUAZGRkcINaiQnTVyFOBA9fKSO0trbCYDB4FShEsZOrL74LMjU1VXHe1LYHmUBiY2MRGRkpqG9Sn3l5eUhJSZFVhrVqD6fTiWPHjikuK0GL9vCElHCSQio+QOsYo2+++cbnZ33FYrHIlsebECEr8zVr1mDDhg2S41ysSOp0OkRGRqKjo0N24SWlbAcC4rYiY4NlWdTU1KCgoAAMw3B9nGEY2YWc1Wp1UzqUrsCJBaigoAA5OTlu9V9RUYHm5uaAWhz0ej06Ozvd2s7T5C2FODbGlxgfsnBPSkpS/awcWih0pJ289QWCzWaDxWJBUVGRpOJcXl7utZ8Q2W2xWFBeXo6MjAzOymcymWAymbwunj0p0Q6HA2PHjlW8uAv0gtWTQcYbdrudqyfiGZGTw3wlKSUlBUVFRVxbkPptbm4GAMTGxsoqyizLYsOGDVizZg2qqqrAMAz3vJJ+4lEBIxp/SkoK5zIi8QhEe5cbYHa7HVVVVVi2bBluvPFGpKWlISUlRfGA3LhxIxwOB2677TYsW7YMVVVVPrmKSOE9TSAsy2L//v2CVYpOp0NmZiasVqsgzwzDwGq1IjMzUzCY5TqO2WzmhLnUxGY2m92UTzl8bQ++kiQnxPn3SOVHq/aIi4tDQkKCm+9dXM6KigpBHWvVHoD3nTrEWiOuT2KK9/anxFrlSZF7+umnPQofqQDQlJQUNxeQEvjCwtuf1ERBXPx5eXmqx3l6ejoaGhqwceNG7jfiok5ISBC4lANJe3s7vv76a8H4l7KK+wJ/c4C3BYqcJUmpfFADGR9k8ibltdlsgkmLLLTEk4iU9YaERDQ3NwuUWPHEJU5bDLFikDRSUlJ8WrQRiLdArNC1tLRwi06pyfXgwYPYs2ePrFVXDqI0VVVVoaamxic3OlEQiELBsqzbe8xmM1iW5cacnCWNLzv59xCXW2ZmpmIFjCjkUgsnLZAzyHiCjDG+8kXmRpPJJLkgFss9qTYS3yMVP0rCaW688Ubk5eUpNk4RJGPA+IGMZOXKrwwyERGzKD8Ijx+wV15ezmn+ZrMZUVFRnJlPzuJDnifv1Ov10Ov1sNlsMJvN3MSv1BTPjylpbW11U0D4WrP4nfz4MDK5xcTEoKamxu1eT8GZUsF+avCnPeTiM7xBYua0bg+dTodVq1bBYrEgPz9fNtBeHOtFyqlFe/AhAiUzM5P7TbyRQmsyMjIUWUc85T/YmwbE8AOn+bElJJYyKyuLq0c5jEYjtm/fjuLiYkH7aRHYrSVERhD4fcUbnmLAfB2bWrS91DvMZjPsdrtb7NZzzz3nNhbEca1kEfvQQw9x9xqNRuTl5XExRsRC7Sn/ZPHF7wNK47fkILGGYoXeU/A4id0CgPr6eqSmpnqVB/x+Ihf3qxS5WDYpxHFQUvBlJ78vq80ny7Kora1FTEwM2tvbFct9silKKu++wh8/UjLDbDZj+fLlnLWQL9fFY1oJ/P5Cgv+zs7O5GFaSvhLZR5BUwJQ2vtREQiwyUo3Kv19Oe/7ss8+Qn5+PZcuWCX73R4kxGo0oKiriJnYxFotFthP6kq6nnTiekAu09qc95PIvtVtMikC0B18pjo2NdbuenZ0tq6D7q8yKIe4uT3jbBSTHYFMkxHjb8SUFXxG/6aabJPur1IYROdRMNJ4Qt5GUxZvsjBIr2BMmTMCkSZMEgc3EskpkWUZGhsedWxaLRfJaIBdmgUDp4kCM0+lESEiIW19Q40Z2uVxYu3at6pAMTxBPjM1mU7WgIlbR8vJy2Gw2NDU1cVYWft/iK+NK626g2l0LQwAJ5gegeCOAEgXRF5SUR06+yLWVkt3cTqcT3d3dknqO+L3e4pIlFTBfBDNfeVCiUZOKEXPjjTcqTlNto0opOP7ugJMqh1aTCsHf9vD0DvFEJZ6cAtkeY8aMcbNekd1PviLXr+RQMojVKBRKkdt6LyaQ1jg5wcgwDAoKCrxaNhcuXKg4nUBD2ogfz0XS9bbYIH3GZrNxCwI5y6oYLXZRKl2N+7sTVotAa7nxotfr0dfX57YLVmkMrpojeZTiybvhCRLvOmvWLJhMJmRmZnLjgbS1J2VcaXt6sj75szjyVlYiY/n1zB83W7dulXyObCjg74Lk71QPJkrlpxj+gsjTO8Ttwl9M6/V6rF69WlF63uSDpAImJ5ilGs4bcp3RmzBRanUItLtIaT4C6RLSoj2UrEJIDIcUtD20RcnE7ak9PPHtt9/6mi2fkRvnSicFOYK5IcGflbpSd6JUQK4Sy4nSIyxIbKFc2o899pjXd3iamOTGt9FoxKxZswRWERKgnJeXB71eL+v1IH1HK9nB90CodbGRZx0OB3dsRkZGBhe+oqQve2tPJWf2eZL5xEUbzF3RJF6MxO8B4LxKUqE9Yvw5HkIKOfmp5qxKJTLY23llShVlOW+I7Dlg/sJf0YhjloCfD0D1dD6XN6uDrxOUGrzlg3/oohilbr5zgXO5PeRcwuKBY7FYPO728mUBIocaC5gUcjEVwM9KjxL8PVyXP2HxD/Ak8Hfs8oW0GitBsPDmfvAksJVYUuWUKKWLCm+77pQoct4Cp/kxmFJltdlsWLJkiaQiQhQUfliBEgUoNTVVsu/4AulXSi2YfPiKEXGzE8jvpIye8upLfFGwILFtDQ0NghguEgtL7hFbxsrKytzmav4GMMA/S7daz8VgwduizZsCFzAFjGVZdHZ2oqCgQHKyIttElQY4+oKUdionDMh9/q7YBytKhYLchB+oPKSkpEjey1eWghnQGuxvu/kSJ+Zt0LtcLr/OqDOZTIpjRdrb29HQ0OB2gCeBH4jNd0+piTXy5saS69visc9XdgfbOB8sB+3W1dV5jMEkB7MePHhQsu58sSLqdDrN5H9qairefPNNydhSb5BDoMPCwiTzwy+bN3fuYGlPMU1NTXA4HNxOdFKe2tpaGAwGOBwOwQHIOp0O+fn5WLVqlexXGgL1KTj+4i4QdakmVlvNxhs1BEwBMxqNGDt2rGygHglytVqtAXNXBSr471wl0O5Bb/ga4EtRh5YTmjcmTJiAhIQEWcsRcUOlpaUFbDKi/Uo7yA5WOYtoaWkpOjs7MX369AHInXd0Op1PyhdhsClMWsKPidPr9dzJBAC4z+84nU63zxMFU57w4e9QD2S7DORmqYApYMRcb7fbJQdEcnKyZmbnwY4S90IwOgH5rI0nBptlYLChpA7VrH7lds/x8dcCqAQl+ZCKqyPWRfHxBYRzrT95iqEiBGIhoyRdIPB9wWQyobm5GcXFxbK7OoO9g89oNHKB4efKie0D1Y/kIN845LtlyVFC5N/kd3JchZLYLrV4kzPiI5SCoewrkX2BaquQvr6+Pk3fSKFQKBTKLxitg8qVMlBB+JTAQBUwCoVCoVAolCCj+GPcFAqFQqFQKBRtoAoYhUKhUCgUSpChChiFQqFQKBRKkKEKGIVCoVAoFEqQoQoYhUKhUCgUSpChChiFQqFQKBRKkKEKGIVCoVAoFEqQoQoYhUKhUCgUSpChChiFQqFQKBRKkKEKGIVCoVAoFEqQoQoYhUKhUCgUSpChChiFQqFQKBRKkKEKGIVCoVAoFEqQGTAFzOVyIT8/HzabTdVzLMti6dKlYFlW8G9/sdlsqvOiFTabDfn5+XC5XH69h2EYpKen+1wfWtanGpxOJ3Jzc2G3273ea7fbkZubC6fTGZC8BPr9/sCyLNLT08EwjOJnSN2SZ+x2uyZ9zR98KQfBV7nBx9c2ZhjG575B8q2kjytlsPRVreSXWsR921/8lZ+DpT18LQd/DtRqPhyoOeVcwasCRgSH0WgU/HnraETIkvvVdAh+mv4MCLmJXe0EINWJxIPfU4f1d9LQStDY7XbF7SeVvrgPSP1pJQwDha91wIdhGMmy+zq5yvVTfyZ8NciNcbVl9NRP1JZDbdk9lWEgJkWbzSbIQ2xsLMrKymCxWDyOGbHc1LIs4jwpka9Sbap2jHvqF1oqpGryokb2B6o9fJUj4nZUM6/w0wzEIkatMi41b/IXib90Bc6jAsYwDGJjYxEZGclZnMif2WyGyWSSbESGYZCSkoKioiLu/qKiIqSkpLh1fKvVCqPRKGi0jRs3IjExESzLwmaz4Z///OeAryrOdWw2GyoqKsAwDFiWRWZmJiwWi6p6LS8vd+sH4j+TySR4hq/wDLTwtdvtbnWQk5OjemFQUFCAmpoaQbmbm5tRX1/v14LBV6TqWE0+dDodiouLPbZrc3MzsrOzFb1P3E/Ky8v9KZ4qrFarJmlLTbxZWVmora2FyWQS/C414ZjNZkE+GIZBcnIyLBaLxzFjNBpRWVnJXbNYLIJntmzZAr1e71NZOjo60NzcLEjbZrPBbDZLloFlWeTk5CAzM5O7v6amBgUFBW5jt6ysDLGxsW6Tst1uh8lkErxDPGaUKDFSCrbJZEJtbS2ysrJ87vveCER7+CpHyHP8dmxubkZHR4db+7W0tCAlJUWgMLMsixdffJGTfwCCLoMpQmQVMJZlUVBQAKvVCrPZ7HbdZDKhpqYGVVVVAqXK5XKhoqICVqtVIFhMJhMsFgsqKioEHYV05uLiYuh0OrAsi/3792P69OkA+gdAdHQ0amtrNSmwUvgrhZSUFOzZs4fr0EajEfv37w9qfvyB1GlBQQEnLFJTU2EwGAJerxkZGX5N5lrhdDpRUVEBs9nM1UFGRgbS0tJQWVmp6B0bN26Ew+FAaWkpjEaj4BpRYtLS0rB58+agu2Oys7MFk2tlZaVbHgcbZOK02+1uCo+UspOfn4/e3l7V6YjfY7FYvD4jnnhZloXVakVycjI3gZE/IrvkcLlcWLt2LWpra2G1WhVPei6XCx0dHejo6PC5PzmdThQVFSEtLU0yn0ajEaWlpXA4HKiurhZcq6ysRFpaGjIyMgT35+XloaKiQqA0kf7HV0jImLNarYJ3EHQ6HfLz8xXJIalFQk1NDWJiYtwUfk993+l0orOzEw6Hw3PFSaBFewC+y5GmpiY4HA6sWrWKa0edTodly5ahoaEBTU1N3L0xMTGcckfm4crKSkRHR3Ptk56ejl27dgXVuCFWpK1WK2eEIWO8p6cnaPkZaGQVMKfTibFjxyI5OVn2YaPRiLS0NNTV1XG/9fb2wuFwwGAwuN0fFRUFh8PhUYg6nU5MmjQJEyZMEDzX2trqtTBaYjKZPFoEZs2aFdT8+MPBgwfd6lSn0yExMRH19fVBVxba29vx9ddfc0q2WqSsEN5cA2TFJxZ4SUlJYBhG0Qq8o6MDmZmZHle86enp+Prrr9He3q66XGL3VFZWlup3nEuQiTMjI0NS4RH/FRcXIywsTHU6YqXJarWqfgdRJmpra1UtWmw2G2JjY+FwOMAwDMrLy7l29uYGI7K0oaGB60/8haESRdLpdKKvrw/p6emy9+j1emRmZgpkAenvUVFRbvcbDAZ0dnZqOnH7It8rKyvR0tLitqj3xMGDB9HS0iIr96QsRwQt2sMfOULmVfEY0Ov1GDt2rEelkqSblJQkeA5AUBUwb9b24uJijBgxImj5GWhkFTBfVggAEBYWBoPBIFDKCK2trZIdSJxuZGSkYKVmMBj8WnWIJ7aUlBS0tLQoela8MvclxokMXLl3+jIhyCElQFpbW93qFOivV28KcSBwOp0ICQlRbboH3C1qxLUjXgWLXQOehFdfX59XISRuw0Cg1H3GtxxpgZIYMBLDFAzEMS4DHVfodDphsVhgMBjw5ptvYsOGDR7rnj8pE3cR6Y9kYVdeXs61o5wLrrS0FAaDAfPmzeOsIfyFoRK54XQ6cezYMdVl1ul0iIyMlFRUHA4Hxo4d63X8EsXOYrFI1pfL5UJxcTEcDgdycnJU5c9ms6GqqgpvvvkmAKC4uNjr/MCyLDZs2ID169fD4XBg48aNbvdIWY4IWrSHP3LEYDAIlD8CsepJGT346f7444+CNgsLC8N5553nswImtRBWM5fxx/lAbwwaKGQVMGL58rTaI64t/upKp9MhMzMTVqtVIDgZhoHVakVmZqZAEZCKAZOCxBikpKSoFijiiY2Yrr3BsiwKCwths9m455566inV8QVkgBBLi1RcgT9s3ryZy5MnASKF1itZbxAXtclkchPgRFEe6MHIFyxk4iCTidj1IqayshKzZs0KqPuPbzlSCpnsPfU18TiR+lOSpjgmR40lz2azCWJc5GKOiNxQEu/jiwsS+FkxNZlMMBgMyM/PR2xsLGw2GzZs2CCrBPMnZTn3JP8eqTgiu92OqqoqLFu2DLfddhscDociJUNMXFwcEhISPLrZiXVPLJvT09PR0NAgcE0SJUZswZGLAcvIyADDMKioqJBU6hMTE1XFUZF4x6qqKs66mJ+fDwDcv6XqiO+KXbhwIQoKClBVVaVY1mjVHv7IEdKWfNeky+XC5s2bkZCQgLi4OO5eT5Y8MWS8qjUESLnjlY4tEjtOnouMjJRUiH/pyCpger0eBQUF2LBhg2Sgvd1uR0pKCu688063yYbEhxUUFHCDjQQcipUCcQyYHCTGoKamBmPGjFFbTp8QDwKj0YhZs2YJhJmSzltZWYl58+b5HXMlntjI38cff+yz2VbJStZb+moC65uamtDQ0CDpEiEKgFRfEFsNvQXiKs2PFHzBwlc4MjIyYDKZJAP3ye6qjo4OLF++XHWagYYobVpaW8Xo9Xps2bJFUnHjT7JkASKWBWRBt2zZMq795WKOiNwQx/tIuXF9cUGKXYf8PknyL+VOVLNjmP/Hn5DS09NhsVhQVFQEo9EIvV4Pq9UKh8OB2NhYVRZBnU6HVatWgWEYSWWDYRguSF7cHiQ+jK88kc1VYkVcKgaM4KlfKF1EEKuixWJBeXm5oN2JW4thGK6OSH2KlWgyNknZHA4HVqxYIasMad0egO9yhJQzMjISsbGxnBIbGRnpJjPVLMSJbPDXEKAUKcNNeno69u/fz9WHPwaXc4lfebpoNBpRVFSErKwsSaFlsVhkG5cIKbUYDAbO7E06lJRbMliIYyCioqJQX1+PkydPAujvvHK7QYH+zlZVVYWioiI4HA5UVFQgOTlZlfuNCDBvtLW1yZZBXKeAvFtOSfp2ux319fXIz89X3C5kY0deXp5qC5Gv/YlgMBhQUVGB3t5eQX7VukOXL1+Ojo4OpKSkuF2LiYlBQUGBz/2U7LDi4ykGU2uk0heTnZ2tqs3VINcWnlwrBDI5FRcXa5IXs9ksufmID7Fi8ZEbq8TdlpiYdhDpTwAAIABJREFU6FHpaG9vx7x587B9+3ZBHSuVAVKQxbTZbEZsbKzb9ezsbKSmpso+60u6NptNtbIfExPDuaXESNW1GKm86nQ63HHHHbjjjjtw4YUXer1fTCDaA/BPjijpm2Kk3I1SbslgERERIUhXr9cjJCSEyx+RM+3t7SgsLNQ8/VOnTuH06dPo6+vT/N1q8KiAEZKTk2G1WgUV5u8hbURgitHr9VzwodFohMvlQn19PRITE/1Kz1fEwaEknmr48OFen+WbvU0mE+Li4lBfX4+1a9cGbBKTYvr06dixYwdXpwAE9RqMfLBs/9El4l1VwYKUW7wirKurk3SHekO8s4u4q33BX2HuL1LKCzmyQzzulWC32xWtpsnihcCPxxPH7wUTpfnnI1Ye5N5BzgIjiGXr3LlzMXfuXEVpZmRkqBpLY8aMQU1NjUDBIQspf5BSBnxREuQgskNp3C6BjFGx4iWHyWRyW+QFsj34eST4I0cIUuUgMX1E3pG0Tpw4MSAK2PHjxwXjnGwW0ev1AR/vvb29OHPmTEDTUErATsKXO2ROzvROELv5yNbbYFoCCOnp6YJjNqRMp3KQwF0AXIApcQc4HA4sWbJEdSyZrwdzGo1GXHfddSgqKuKera6uDlq9End1Wlqa30JZ6jBJqT9xPZHYC5vNxv1ut9vBMIzqAOBA4c9J3MRkL66D48ePByCnnpE6ekRJDCYZ+/wYF7mYIzm0OHFeLv/l5eWScS9SrlBvdeDNFSrncvfWz7VGaT4CGbcpjpn1tgHHk3vT10NhB0t7KD00WUqO8N18JBZX6bjSEqlxHozYWaDf8jVYlC9AoQXMF7yZjIlJXorly5ejuLgYRqORW1n600mUuFakIAoif/VVXl4Oo9HodZCVlpYCgJsFgVg7Xn/9dc0HqtTKh0CEEVn9SFk1tYa/cpU7C0gtZGUtZaEhyryckjcQdaAlcm5YTyvvgTjA2BcLEsFsNnPxVwSxpcxffLFUBBslLncyBgY6H2TjhBilbtdgQfpleXm5m8WZ5FXO6jtY2kOJq51hGBQUFLj9bjQaceedd3JuT4vF4le7kM0tYpSc8Sge58TlGGhOnz4d8DTUIKmASfnv5QQguc+T/14tWsVzaOHa8TX2yJul55prrvE1Sz7jy8TjLZZD6mgCfl944oknYDQaByR+Twpf6kDKBSJ2JRH4MR0WiwVmsxkMwyArK4v7/2DCW/tKjXslY90f5VZL99VAQdrcG4G0QEspwlIxR4BwHGut8A4GSMiFXNwyOdCUfMEgEOX3V45ogZJYOiVosYgZiHE+0DFfYiQVsF+CAKRog799QSro91zD3w0AJKaBnGU3WJRRgI71QDLQFtZzwdIXLMjB0xaLBUlJSW4KFjnOYezYsQFzg/krRyi/PALmggwURqMRW7duBQBNNPlzDTmzL5/BaGnRAuIm4K/WperCarVqapH1FzUTITm/xxNqdiIOVIC/kn4ayB2VSsIOAm3pUVIHwcjHQKOkLYIhszIyMrjvcUodB2S1WjXbRXsu8kucMwY7IX2DzSZ3juIt/ohCoVAoFIpyyK7Qhx56SJPFdFdXlwa50g6qgFEoFAqFQvnFM9gUsIAdQ0GhUCgUCoVCkYYqYBQKhUKhUChBhipgFAqFQqFQKEGGKmAUCoVCoVAoQYYqYBQKhUKhUCgizp49iw8++AD19fU4e/as5u8/584Bo1AoFAqFQgk0TU1NeOuttzB8+HCcPXsWiYmJGDJEO7sVtYBRKBQKhUKhiDAajYiPj8fJkyexc+dOzS1h1AJGoVAoFAqFIiI8PBxpaWkAgMbGRuzcuRMANLOEUQWMQqFQKBQKRYLw8HCkpqbi9OnTaGpq0lQJowoYhUKhUCgUigwjR47EVVddBQCaKmFUAaNQKBQKhULxgJQSFhoaioSEBISEhPj0ThqET6FQKBQKhRJkqAJGoVAoFAqF4oGuri68+eabaGpqwvDhw7Fw4ULEx8f7bP0C/FTAGIZBeno6WJb16XmWZbF06VKfn/cVp9OJ3Nxc2O12v9/lcrmQn58Pm82mQc78x2azDZq8+ArLskhPTwfDMKqe45fdn3qw2WzIz8+Hy+Xy6Xmt8JYP0o+NRqPbn9Z9wG63q6oTkjfShmqfH4z4Kzd+CXXg69jUisFSh/7KCK3K4W0OJvOTlIwwGo2azIEEu92O3NxcOJ1OVde0IpByW0r50iIIX/JpsfD0FbvdzjW0msr3NLGI/wIpCPwdJAzDKCqD1gNBjJr6VFKnSsslbnMivJXe7y1tX5UMLZRmb4LNU9vabDa/+4LdbofJZEJmZiZYlhX8NTc3o6Ojw6/FUbDhywry5y3/Wi3gPPVLpX1E3B/U9C2psisdH/70Qz7exrTasan2XZ7awJ+JW2qseetXUvJSzTzjT18Q58Gf+Y1hGMTGxiIyMtJNRrAsC4ZhUFFRMSgUWiX4ugDit4cvdHd3o7q6WnPlCwhgEL7NZgPDMGAYBnq9Hna7HRaLBVarFXq9XtE7ysvLYTKZVKVL0pHCarUiIyND1fv8wWQyeZ0cnE6nbH4JLpcLxcXFKCsrk7zurZ70ej22bNki+I1hGGRlZflcJ8nJyR7b0m63o6KiQvCb0WhEZWUlgJ/LlJiY6Ja+nLBlWRYvvvgi16dsNhvsdntQ21SMp/qTa1uz2Qyz2Qygvx1sNpuqceF0OlFRUSGbtk6nQ35+PoqLi1FZWcmlJYZlWZjNZrS0tADob9Pk5GQUFxcDAGJiYrgJTApf8i6Xh4SEBDQ3N0On07ldS0tLky2DFvD7JYH0z6ioKK/Pk3Ym4508a7PZFOfb23gidS1Gp9OhuLiYazMpSH48wZdVvoxNpeWQkguEMWPGoKamxueJko+SfpWQkID8/HzJa3l5eZzM5P/Gr4+ysjKUlZUJyqxFX9AKh8OB7OxsLF++XPK6Xq+H2WxGQUEB2tvbZeudlKm2ttbtmrf2HmjE7dHV1aXq+e7ublRVVaGxsVFW+erq6sKxY8cUvW/MmDEYOXIk9/+AxICxLIv9+/ejoKCAa5jU1FQYDAbJRtSSjIwMSYtAdnZ2QNMNJETIistVU1ODefPmqe78LpeLE4IVFRUBNQt7o7W1VfG9lZWViI6O5sqbnp6OXbt2DWj+taCzs3NAykAUD5ZlUV5eDoPBgOzsbK5v8es6ELhcLmzevBlpaWkoLi4WTIQkf6WlpWAYJqAWYina29vR0NAAg8Hg9d7a2loYDAZuotPpdFi2bBn2799/zlgg+fT29sLhcHgcm1lZWQG33PuK0+lEUVGR137lcDhQXV0tuFZZWYm0tDSBomU0GpGXl+cmK7Ozs9Hc3IwtW7Zw42Qw9QWDwYCysjJs3LhR8rrT6YTNZkNCQgImTJgg+x6ygBfPP+Xl5YHKukdIvxRbKq1Wq9u94vZQC8uyHpUvAPjiiy/w/PPPK/r74osvBM8GRAE7ePAgJk2aJGhUnU6HxMRE1NfXB93c2d7ejq+//hrTp08PWBpWqxVGozGo5lyn04mQkBBVkyRZkTkcDjAMA5PJhJycnKALBzLBMQwjq3zwhbzL5UJHRweSkpK466Tc57ICVldXh5aWFhw8eFDyellZGWJjYwVuGL1ej8zMTFgsFskJkLRxQ0MD0tPTFeXD4XAI/u90OnHixAmVpVEHGZee8kjKGmy5UVlZiYSEBISFhXGuMZPJ5LaAdLlcqK+vR2JiomCinzBhAiZNmiTbroOZ2tpa1NbWwmq1yrrAysvLwbLsgFqf5XA6nejr61Pdr4iMkbJ6GgwGrwulwdYXTCYTF44g5dolIQxSSqoS6urqYDKZFM8/tbW1MJlMPru6WZZFbW0tN2eIFUOxt0GuPdQQFxeHxYsXIzU1VdbtGBYWhuHDh3t91/DhwxEWFib4zW8XZEtLC1JSUgD87AprbW1FZGSkW6ENBgMqKirQ29vrc4X4gi+KijdYlsV7773HWdYsFotfJmYlK20xdXV1MBgMbo0qBd/dlJ2djfvuuw85OTkoKioCALc29AYZTJ5ITk6W/J1YPubNm4euri6UlpZK1h0/L06nEz/++KOgDcPCwnDeeeepVsDICj8yMhKAuysOgGKLqcVi8epCzszMlPydYRhUVVVhzZo12LBhA6ZPn+7mBsjOznZzkwD9lt6MjAxZF2F5eblXtxMf8Zh1OByK+5avOJ1OxaZ7OY4dO8b1XTm8uVLF2O12VFVVcc8Q96SUS5n0JXEb63Q6REZGqrLw+oK38AQ+iYmJXu9hGAYWiwXl5eVwOBzIyspSFQrij1yQa0u17edrvyJtVl9fj9TUVMGYczgcGDt2rMc5ZKD7ghR8F7Un17JaiLKqpE8BP8srf9KrqKjAmjVr0NTUJDtn8JFrDzUMGTIEl112mcd7LrroIuTn5/v0fp8UsM2bN+OKK64AoH5wkFVEsHzGpOGkNHUyecpNcsDPfn4p1q9fj97eXr/y53Q60dnZ6dNzDMMgMzPTqzJL4uIsFgs3mfAtXiQmyW63Iysry6syqSS2zRMbN26Ew+GA1WqF0+mE2WxGR0eHbBt4Iysri/u3N2UI+LnOyUpKHANks9nQ0dHh8R1KYm88wbIsCgoKuLgSMvmojXvkx5P5Cr8vEVpbW936vi9ufH7biJ83Go0YO3asxzg1Eu8m1c+lYrf8ga/MlJeXaxKL1NHRAZfLFfAFpxbxrSSez2q1wmQycf2QtGF5eblHuS2WC2omfH5bMgyDgoICVfMKn7i4OCQkJCjqV2azWdA26enpMJvNqK6u5vLMsiw2bNiAvLw8QfnFMWDeCFRf4BtBghXn3NTUhIaGBixbtkzwO18B9yWGWwq+12bVqlWYPXu233PGYMGjAsYXnnyuvvpqLF682CfXj7dVhJL0+XjrcKSjSAWwentWidauxi1CAlDFQYtjxoxRrZCWlpYCkF9N8lG6+vB3leINoggSpV2v10Ov12P79u0oLi5GbGysVyEvBRnoSncbVVZWcta32traoLpR+AGtFouFS9tsNiMpKQlZWVncgkAKMkmqwdsiiWVZdHZ2ci56srrljw+73Y76+npV6QI/t43U83q9HgUFBbLClB8snZqaqjptpfAVr+TkZG6ThxZIeQIGG3yXtTgInsgEEq4AQFOlNxDodDqsWrUKFosF+fn5bv2KvwFJrCCQ+DCxZVtKmRAv3L3Nh4HqC+Lx7SloHuhXHKUWqkq9OMSokZaW5iZTxEH5Ut4FJRDZQ9qK/16yActsNmPJkiU+K+qDAUkFTGrXnBRtbW2Sv0dFRXG+dbEZV4lbQyp9IsDVaLx8K8NgbSBf3KMMw8BqtSpSVkgHlkPumpRy6utgIgN7ypQpePHFFzF37lzBdbE1Scq6JuVu7O3tdXNLeoNlWVRVVaGoqAgOhwMVFRVITk5W9Q5/lCC9Xo+bbrpJcueQEsuiFhYvMXV1dQJhKre6DQTE8mGz2RAbGyu4Jqc4+tsP+XhSPpQQFhYGg8EAh8MhmKDVumj8cd0BylzhcpZ+Mv484Slv3trD24Qvt3Nd7I5UE/TNV+7F/Qrorws5pV7p/CdGq77gL77mXynEg7Fq1Sqv9/pjpXa5XKirq8P69euxcOFC1e+Va4/BRECOoZg+fTp27Ngh2NqqRUCcGvhb2P2xcCgV9tnZ2T6ZlydMmKBqsHhavUnhr7uQj1ynJ5NYZGSkR+VAShAqTYfEUZDAT6C/bU6cOKHq+AayO8pkMiEuLg719fVYu3atKsVeTglS6joRCxNP6ciVw9MKl483Ky+JQ+NbD8UKWTDgu8GlrMR8tHQ9elI+yNgvKiqSHWv8zUX8uCGywUCJEuuP5VnKFa6kDuXwdIwPH75FyN/2UFN+8WYRb0gdbeGrNZeP1NjUoi8oxWazCTYkSaG0LdUcJWGz2Th5EegwIp1Op2qxKb5Xrj0GEx53QTIM49MheEajEddddx2Kioq4Z6urq+FwOBS5zPzFbrcjJSVFk/OD+Fv1yeF1ycnJsFgsgi25vu4kGT9+vOJ7bTabX2d3DSZ8OcU9PT2d285NzOCZmZmKBAE/gDonJwfAz64Kh8OBJUuWDMiRAXKHcHo6LFJuW7j4kEVvY41sQ+crW8RC6E24E6R2NuXm5uL48ePqKuIcgNS7eOwRSwrZ7k82mcyaNWvQWt7/v737DW3jvOMA/k3aJEq8rtEW48bRDLkQWsXLaLiYgaF+0WnYm5MZlQk2YzZjSPdm13HszV4YjQrtVRli3JsuZiYvjFnxhtASr/am5YVfGIJyhM5zTFt2BVdx5rpDgSWWErvJXpTncpLupNNfy873A35j6U7PnZ6753fP83seObFbxqdw6Ru/3+9qX2IBzFZcqqKUcgtGiz+7Ge/1rgtiJnjh3/r6etn7Xrnv0jAM1z354n5tnZxSqVKLBruNM5wWsXa6XxZ+H62mph4wWZYdn3zETUo8JTVjwTZrb1WjghQxRXtjY8O8SBvNmjtV7UKF1QzhOql1AU5rL55d75+maRgcHCy60CVJwltvvWUOTVhzqMoROXOFZRaN6l/+8peKHjRqnVFUuBxI4XkstQhpJTPfSs0Ampqaylsjp7CHsByn3tVcLoe1tbWy29eqHgvBljI7O4uVlRXE43F0d3c7XjfWhW9Ffa11VvROcdtr4sby8rJZR930QIiHJEVRHOtfo/NUAXc9ek4TdepVF9wOI5ZaKb9c+olQ7kFNXGN9fX2Ympqq+Z5v1+Mscgyd2m1RN3w+X9HCumL7QCBQdK4Lv49//vOfFZe9kRq2Ej5Q3cVSLr/GrtGx5oq88847kCSpId2Novs1mUxiaWkJgUDAtsKUayCdbi5OQWp/fz+uXbvmegiv2dzkkFgtLi6WzMEYGRmBrutYWloqCjarHVItdwP8wQ9+UPE+C5V6ICkk1kGLRCK2N7TCxR/t3lPrQ0bhObl37x6CwWDNvdQej6fsTbrcdW53jVQ647oW4lqfmZmBpmmYmJgoWYeqmRVbay5bo85hPR6WRf6tWDYgGo02ZcaaXQDptEyJ9f5crxl7QO0zpOupHt/lyMgILly4gJMnT1a9j3L3fFmWoaqq43ChmCgUDodt65AI3uxyz63fR6Ur4TdaQwOwatSaZFzvIMX6FGF9ApAkCWfPnoWiKFBVNa+i1/sC9Hg8LRt8VUPM9nPqPZqamsqblbcXdXZ24ty5c449OGLq+8DAQNOWbDl58mRNN9lKNGIyQT2IoAh4OtwRi8WgqiokSaprQ11r7lQrnkPrw6d4QBC9F2fOnGl4+kQzesieNWLmYS3K3fPFxLJYLGYbYIklayYnJ20DebF+naqqLZnr5aRsAOZmds5u7W5346OPPrKdhQE8vYGKm45hGC072wIovaaZ4PaJyU29cHralmU574IpZF2vrBI7UQfdzD6zuz5EkC5+VLuQm56KWma+NVqjZ2IJtdRDq1LpC+JYrA9j9QzEWo2bc2q3BIOYGCJ+oke8Zs1ZFA+spdoMN8Nme/n815Ob7xJo/PkUq/JHo1Hbe1a55V9EHbKbLQ2gpvScnbTvyZMnT3a6EERERESN9ODBA7RSyNOQ34IkIiIiaiUHDhzY6SLkYQBGREREe97Bgwfx3HPP7XQxTByCJCIiomfGo0ePsLW1tePDkQzAiIiIiJqMQ5BERERETcYAjIiIiKjJGIARERERNRkDMCIiIqImYwBGRERE1GQMwIiIiIiajAEYERERUZMxACMiIiJqsud3ugBEREREzdIqK+EzACMiIqJnQjabxRdffLHTxQBQ4xCkrusYHByEYRgVb5vJZDA6OopEIlFLEYiIiIjKevToUcsEX4BDACaCI13Xq96x2IckSZAkqapAK5fLYXx83NyH+BsdHUUmk6m6bERERPRs2dra2uki5GlIEn4mk4GqqggGgzAMA7quIx6PQ9M01/vQdR1nzpxBR0cHDMPI+1MUBbIsV7Q/IiIienbtdM5XoYYEYAsLC/D5fOjv7wcAeL1ehMNh3Lx509VwpWEYCIfDiMViUBSl6HVZlpFMJjE3N1dTLx0RERHRTqg5AFtZWUEgEIAkSdB1HblcDqlUCj09PfB4POb7Ojs78Y1vfANLS0tl95nJZNDe3o6+vj7H90iShIGBASwuLtZ6CERERERNVVUANjk5afZk+f1+JJNJGIYBWZaRzWaRTqfh8/nytvF4POjo6MDq6mrZ/afT6WqKRURERLQrlAzAQqFQUQK8JEn44IMPcOTIkboUQFXVosR60fO1sLDguJ1hGLh58yYGBwfrUg4iIiKiZrFdB8zr9eLKlStlN75z507NBYjFYhgaGir6/HA4DEVRsLq6WpQHlkgkoKoqZmZmIElSzWUgIiIiaqa6L8R6+PBh+Hw+pNNpyLJs/j+Xy2F9fR09PT2u9iNJEiKRCEKhEGKxWNHrqqrm7Z+IiIhotygZgGmaZhv8FLKuyeXxeNDT04NUKoX+/n4zEX9tbQ2ffvopxsbGKipgX18fYrEYvF5vXrmIiIiIdquSOWCKouStvxWLxfKS7sVfYU9UX18f0uk05ufnAXwZoEUiEbzxxhscMiQiIqI9Y3t7G3/7298wPT2NlZUVPH782NV2rmdBZjIZxONxrKysYHZ2tuR7vV4vYrEY4vE4JEmCLMsIBoNFuV5EREREu5lY/WFlZQWffPKJ6wDMVQ6YWH1+YGAAsVgMqqpidHS0aGjQym0ifyG7YU+nXC/xPr/fD03T0NnZiWg0ilu3bkHTNPa2ERERUUNlMhmsra0BAE6cOIHnn3eXXu/4rlwuh2g0iunpaQD5sxWvXLkCTdPMwMhuJmO1FEWxXf3ejUwmY0ah/K1IIiIiqpfNzU3cuXMHp06dwv79TwcQ0+k0Hj58iK9//evo6OjA48eP8e9//xsnTpwouWSX4xDkvXv38JWvfAW6rsMwjKIAS+SHzczMIJVKIZfL1eHwaiN63ezy0oiIiIiq8eDBA7z//vt47733sLS0ZP6u5MOHD3H37l0AwEsvvYQXX3wRS0tLeO+99/D+++/jwYMHjvvc96TVfp2SiIiIqM7u379f1Xb/+9//MDs7i+XlZQDAN7/5TVy4cAFtbW347LPP8Mc//hEbGxsIBAI4f/48rl27hn/9618AgO7ubgwODuKFF14o2m/d1wEjIiIi2gvu3buHa9eu4cMPPwQAfPvb38brr79uDi3evXsXGxsbOHToEE6ePIm2tjZcvHgRbW1tuHHjBpaXl7G9vY0LFy7g6NGjeftmAEZERERU4PPPP0c8Hjd/w/r111/Ha6+9ZibZb29vm8OPnZ2d5qTEI0eOYGBgAG1tbbh+/To+/PBDZLNZBINBHDt2zNx/VT/GTURERPQsy2az5uzHzs5OHD58uKLtGYARERERFTh27BhCoRBefvllAMD169cxNzeHzc1NAPnLTxw/ftzsGdvc3MTc3ByuX78OAHj55ZcRCoXyer8ABmBEREREto4ePYqhoSF0d3cDAG7cuIGrV6/iwYMH+OSTT/Dw4UO0t7fj+PHjAL6cLXn16lXcuHEDwJdJ+ENDQ0X5XwADMCIiIiJHL7zwAi5evIhXX30Vhw4dwiuvvIL9+/eb+V8nTpzAiy++CODL/K9XXnkFhw4dwquvvoqLFy/azoAEmIRPREREVFJbWxu+973v4Vvf+hZOnTqFzz77DP/5z38AfDn8eOjQIQDAvn37cPbsWRw5cqTsQqwMwIiIiIjKOHLkCE6fPg0AWF9fx3//+18cOnQIPp8v73379+8331cKhyCJiIiIXNre3sadO3cA5C8/USn2gBERERG5tH//fpw6dQrZbBZf/epXK15+QuBPEREREdGeV+1PETUKhyCJiIiImowBGBEREVGTMQAjIiIiajIGYERERERNxgCMiIiIqMkYgBERERE1GQMwIiIioiZjAEZERETUZAzAiIiIaM/bt2/fThchDwMwIiIi2vMOHDiw00XIwwCMiIiI9ryDBw/iueee2+limPhbkERERPTMePToEba2trDT4Q8DMCIiIqIm4xAkERERUZMxACMiIiJqMgZgRERERE3GAIyIiIioyRiAERERETUZAzAiIiKiJmMARkRERNRkDMCIiIiImuz5nS4AERERUbO0ykr4DMCIiIjomZDNZvHFF1/sdDEAcAiSiIiIngGPHj1qmeALYABWsUwmg9HRUei6vtNFeSblcjmMj49DkqSyf4lEoubPE993qX2J99iVoZZ64uazy9E0DePj48jlchVtl0gkqtoOaMw1Uu1x1JOoe5qmOb7HMAwMDg42rD62CsMw8NOf/hSGYex0UYhc29ra2uki5CkZgCUSibo2KLuBrut5xzs6OopMJrPTxdp1RN2pd33xeDyIRqMwDMPxT9d19PX1VVzeahp4TdMgyzIURbEth5vAodrPttbVwcHBHWkM7QJiWZaxsLCAUCiU9//CMhZea4V/1QZcTkF6uWu5MHiq9JxqmoZAIIBIJGJbF+LxeEX3E03TioI9a11xCoLqUefs9lFJ0OX03e6lIJR2n53O+SrkGIBpmoZUKoXbt2+bN5FkMolwOLxngzBN0xAOh5FMJs1jDgaDkGV5zx5zo6yurgIA0un0DpekcQzDwNzcHGZmZiDLctHrXq8XsVgM6XQay8vLdf3sRCIBTdOg6zoMw8Cbb75pBoGVsmssVVXF9PQ0zpw5k/f/woDALiBOJpPw+/2IxWJ5/5+dnYUkSea2siybr92+fRvDw8N520SjUXg8noqP5cyZM+jo6CgKghRFgSzLtj1Yuq4XBU+RSASBQKDo2o/FYkUBotu6AAALCwsVHdNuIoLfwvuo+I5TqdSOPSwQtRrbJHxxM4lEInk3QEmSMDs727TCNZP1mK2NxNDQEFZXVxGPx9Hd3b2DJdxdFEWBoih1328ul0M0GsX09HTZ9waDwbp/frXS6bTZMOu6jlAoVPQe6zGpqooHD8rVAAAMB0lEQVSRkRHbfWUyGcTjcSiKAq/XCwDo7+9HKpVCIBAoev/w8HDJsolAyErTNKyvr2N8fLyiICiTySASiWBlZQWqqsLn89kGJIWy2SzS6TQ6Ojpcf1YhwzAQDocRi8UwNDRU9Losy0gmk1AUBb29vWa5crkc4vE4YrFYXlllWYaqqkXXvqqqTa3bInAbHh5u+XvQxMQE0uk0pqamzLopiGBd0zRMTk5WXLeI9hrbACyTyWBlZSWv0djrxLBA4U0DALq6uqDrOrLZbLOLRQ6cGtlm6uzsxLlz5xAKhWx7PjKZDFRVBYC8IVG7gMeO01CV2Nb6oODxeNDT04N0Oo1YLGbWYxFIVUI8jKysrJg9wOVYg4fh4WHcvn0b8/PzCIVC8Pv90DQtr7yFMpkMNjY2oOs6MpkMvF4vEomEef6A8oFkJpNBe3t7yeFnSZIwMDCAxcVF87hE8GcXsFuv/cOHD5fdb6V1wUoEKNFo1PFz3A7hTU9Pl31IKXc+K5XL5bC+vo5gMGh7HxUGBwfx9ttvY21trWSdINrrbIcgvV4v/H4/VFUtOfQmciYK35NIJPK6ma3JxNY8C+t7xA3aLvcjkUiYuRPW94mhhMLcDbvylMtFEDcMu0ZvdXUVPp+v5A3Yyi4Hxfp5dvkV4hxZh0dqOe5az3nh66U+Q9d1cxhL7F/X9bzPcsoJsfuu3eQcqqpaNgm/VLJ04feVSqWQTqcrCrJFg6mqalG+k8iF8vl8ePfdd20bpMJ64nZoJp1O29ZHn8/nuuxOxFDdwMAAZmZmEAqFSt4DxPdlHfYTQ4dDQ0Pm8GggEHCsZ7lcDpOTk3jttdfg8/kwNTUFAOb2hmHkBWJOqh3uPnz4MHw+HxYXF4teq+TaVxQFt2/fRjweL6oLIyMjCIfDuHLlSsngRCh3bZYjgmCnPEnRq1ZPIpAlIndsAzBJkvDmm28CgNmw1CN5UlVVTE5O4s9//jMMw8DAwAB+97vf4Re/+AV6e3vNhjudTmN+fj5v24WFBciybL4vmUxibm7O7M4W+4zFYtA0zQykDMPAyspKUS7b5cuX8xoW8QQbDofzGsFEIoFYLIZgMOiqu1z0BFhzUHRdRyqVqiqZv9rjrvWci3NjvWnPzMwUnR8A+Pvf/44PPvjANs9HsOb7iH0BQE9PDzwejxmMWPMORRK79Xtyk4RvzflxQzQcCwsLjgGQCPjskqh7e3vR19dn5mNZg4aOjg7bemNXT5xyjkp9tpXX68WTJ0+qqmcimA4EAhgYGDDzpUQQ5hQMW4Mkp/NtfY9dXpcYtvrZz36GsbExs35XSvQslcqxMgwDN2/exODgoPk/j8eDYDCIWCyWd4y6rtte+3Y5YNZ92dVPp+vCjvUByzAMdHR0YGJiwtW29SB6ssQDiQgGA4EAPv/8c8ftvF4vgsEg4vF4yTo4OzuL8+fPs/eLnnmOSfhDQ0NmIwk8bQRqCcRUVc27Aff29uLq1av4yU9+YnbZe71eyLKMVCqVd3Pz+/1IJpPm+8TwT2GeytmzZ7GxsZE3TPOrX/0q7wYqti184lUUxWwExdNnPB6Hruuuh2JFY97V1WX+z+v1IhqNunryLVTtcQvVnnMxs89KkiS0t7djaWkp7//379+vaDhD9OgNDw+jv78fALC8vIxbt25hbGzMLKv1hp7L5Wx75Mr9uelVWlhYgM/nw29+8xvzswqJ5HC3PRjlLC8vI51O5+V5WXOOrGVw+9mZTAb79u2rqHwi8BW9dbdv38773kXgHIvFEAqF8s5nYQ+s2z9xDxG9onNzcwiHw/B6vWbP5dzcXMXJ2l6vF+FwGJcvX7YN4BKJBAKBAN56662ixl/kh4XDYbOcIpG88NpXVdUMJgG4XhbF+ucUTNsFiIODg7h586Z5LsTkiHIBUbXW1tbw6aef4smTJ2ZgLR7+jh07VnLboaEhyLKMkZGRou9OBPnr6+u4dOlS3ctNtNuUXAnf2muhKErFibWtRORgWJ+O7YY13ObnOBHBjGhIrfk4u5H1uxcKc2WcenmcTE1NYWNjA+Fw2NxucXER586dQ2dnZ957fT4f4vE4stlsQxL7DcPA5cuXzckX8/PzmJiYKPk5TsnSTteEGO7p6+sz64PTMGJXV1fZnC3rObGed9GLV1iOUsGxm7wj4MuGtTDnzmlSjrjWRC+ak48++gjj4+MYGxtztV83JElCJBJBKBSyHWZTVdWxTNV8rtvzV4mjR4/m3TO8Xi/27dtnBmzDw8MYHx/H2toa3n77bdt91JIDJnqourq6zAkIlVzfly5dwvr6uu2EEL/fn3fdEz3LXP0Ukbgxidlb1gTWVmeXHAwA0WgU6+vryOVydb8ZKIqCrq6uvJu90/T0VmUNWFVVxezsrPk/scRENcSQrhjGAZ4OeTg1Gn6/30zMtguknZRL1Bcz9s6dO2c2MoqiIBQKoaury3HbejS6TkGUm3MrzpthGHkz+VKpVFE9K5eEr2laxflA1kCy1D4KvyMROIjj/fGPf+z6MysNvAvLKMpZC/G927F7UHFS7l5w7949s74DX9bTJ0+emIF7OYUPKqJskUik7D1I13VzCNjr9SIej5d9IHFSeP0ZhuEYMBI9iyr6Lcju7m4MDw+bgctuIIa2kslkXoNfjUwmg4cPH7p6r+gxEAFDOBwuOxOslYjGU9f1uvXgid4mVVXzbswejwcdHR1FDbQdr9eLK1eulPwcEXSXIh4m+vr68Mtf/tL8TGve0+rqquNSEHb7suO0ZEF3d7eZcC5eFzlHMzMz8Hg8jhMCvF4vFEXJq1Mif6/SZQqcehUTiQRSqZSrpQLc9EyWCgRLnT8rN/WjFm7LYfeduuk9c5OXKEkSzp8/n7dMgzVnqnD4v57E8VsfjsLhMBRFwfr6et1nTRLtBo8fP8bdu3extbWFAwcO4Pjx49je3sb29rar7Z9//nkcPHjQ/jW7f+ZyOWSz2aKG1zpde7d0IafTabS3t5fNnXHTqzI8PIyf//znFX2+yEtRFGVXrahf6czPcsRMt/b2dtugpre3F+FwuGlT071eL37/+9/ju9/9btFr1mHoUt+ZCPTS6bRtoCpeHx0dLeqN8Xg8GB8fRzQaNY9X5Pu5OX5Zls18ReBpj89uuS6t3Az7V7OcRr3LUSqwr6RnthxFUaBpGs6cOQPgaeDZSCIvs/DhSJIk/OEPfwAAbG5uNrQMRK0ol8vhH//4Bz7++GOcPn0a3//+9/HXv/4VH3/8savtT58+jR/+8Ic4cuRI0WtFAZh1yK6wC1lMDxezjURCuDVPQKzd4/f7qzrYevP5fObsNtH9PjExYQ5JAu56VYRyQZToZv/1r39tNqTiqVU0wL29vQiFQuYaS9abd6sMU3Z1dWFubs4MiHK5HH77299WXcb5+XlMT09jZmbGNhju7u7GuXPnEIlE8oIVwzCQy+XMxqiShq6np8fxNZEMXYu1tTXcunULkUjE9pg8Hg/GxsbMJObC81brUGat+Yr1Urhel5NG9qDYDYOWy8lzsz5ZpeqValBNvmO5Hjyn18R93uke+NJLLwFAybpmNwQ7PT1tWy+suWGiN1GUvVGL3BK1oqIATDQKwWDQvCCE4eFhvPvuu+ZTtrWBEQ1kLBZDMplsmbF+WZbNGVyCmN3ZiCfqXC6HS5cu5d1kCm/0IklflEn0XogAtxWIXwAQx+H3+/HOO+9UtS+RnwQUNwLWXJ1oNIpEIpHXgPn9foyMjJj1S2ilhVhF42/XAyZ6/XbL0HO1Gj08WE6jfnlhN9nJgLyWiRPA0zXcGpWXS1Qtj8eD73znO+jr68OBAwfwta99DT/60Y/qMgS570mr/Tpli3M7w4sao5IeMLtE7Go/LxgMOgZ81eSA1euzy6n2J4UqyQFz2wNWS49TtcdRT9a12wq/00rqZS11wvq9iFmQ1t72RrL27gNo6mcT1cP9+/d3ugh5GIAREe1CdukOROSsmgCskUn4DMCIiIhoz6smANvc3MSf/vSnhiThO66ET0RERESNwR4wIiIi2vM4BElERETUZK2WhF/RSvhEREREz4qmr4RPRERE9Kxr5Er4TMInIiIiajLmgBEREdGexyR8IiIioiZrtST8/wNq+IOAJ/fncwAAAABJRU5ErkJggg==)"
      ],
      "metadata": {
        "id": "HpLw3PIml6vq"
      }
    }
  ]
}