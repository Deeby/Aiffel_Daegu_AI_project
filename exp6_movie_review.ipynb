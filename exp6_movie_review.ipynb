{
 "cells": [
  {
   "cell_type": "code",
   "execution_count": 2,
   "id": "6eba9b15",
   "metadata": {},
   "outputs": [],
   "source": [
    "# Cloud shell에서 다음과 같이 Naver sentiment movie corpus 가지고옴\n",
    "# !ln -s ~/data/*.txt ~/aiffel/sentiment_classification/data"
   ]
  },
  {
   "cell_type": "code",
   "execution_count": 3,
   "id": "0cf7f797",
   "metadata": {},
   "outputs": [],
   "source": [
    "# 아이펠 클라우드 서버에는 데이터가 있으나, 코랩이나 캐글로 할시에는 용량으로인해서\n",
    "# 업로드가 제대로 되지 않는다.\n",
    "\n",
    "# 이 부분은 앞으로 과제 수행하는데 있어서 어떻게 해야할지 고민을 해봐야 하는 부분!"
   ]
  },
  {
   "cell_type": "markdown",
   "id": "0ae3b3ee",
   "metadata": {},
   "source": [
    "# 1) 데이터 준비와 확인!"
   ]
  },
  {
   "cell_type": "code",
   "execution_count": 4,
   "id": "536713a0",
   "metadata": {},
   "outputs": [
    {
     "data": {
      "text/html": [
       "<div>\n",
       "<style scoped>\n",
       "    .dataframe tbody tr th:only-of-type {\n",
       "        vertical-align: middle;\n",
       "    }\n",
       "\n",
       "    .dataframe tbody tr th {\n",
       "        vertical-align: top;\n",
       "    }\n",
       "\n",
       "    .dataframe thead th {\n",
       "        text-align: right;\n",
       "    }\n",
       "</style>\n",
       "<table border=\"1\" class=\"dataframe\">\n",
       "  <thead>\n",
       "    <tr style=\"text-align: right;\">\n",
       "      <th></th>\n",
       "      <th>id</th>\n",
       "      <th>document</th>\n",
       "      <th>label</th>\n",
       "    </tr>\n",
       "  </thead>\n",
       "  <tbody>\n",
       "    <tr>\n",
       "      <th>0</th>\n",
       "      <td>9976970</td>\n",
       "      <td>아 더빙.. 진짜 짜증나네요 목소리</td>\n",
       "      <td>0</td>\n",
       "    </tr>\n",
       "    <tr>\n",
       "      <th>1</th>\n",
       "      <td>3819312</td>\n",
       "      <td>흠...포스터보고 초딩영화줄....오버연기조차 가볍지 않구나</td>\n",
       "      <td>1</td>\n",
       "    </tr>\n",
       "    <tr>\n",
       "      <th>2</th>\n",
       "      <td>10265843</td>\n",
       "      <td>너무재밓었다그래서보는것을추천한다</td>\n",
       "      <td>0</td>\n",
       "    </tr>\n",
       "    <tr>\n",
       "      <th>3</th>\n",
       "      <td>9045019</td>\n",
       "      <td>교도소 이야기구먼 ..솔직히 재미는 없다..평점 조정</td>\n",
       "      <td>0</td>\n",
       "    </tr>\n",
       "    <tr>\n",
       "      <th>4</th>\n",
       "      <td>6483659</td>\n",
       "      <td>사이몬페그의 익살스런 연기가 돋보였던 영화!스파이더맨에서 늙어보이기만 했던 커스틴 ...</td>\n",
       "      <td>1</td>\n",
       "    </tr>\n",
       "  </tbody>\n",
       "</table>\n",
       "</div>"
      ],
      "text/plain": [
       "         id                                           document  label\n",
       "0   9976970                                아 더빙.. 진짜 짜증나네요 목소리      0\n",
       "1   3819312                  흠...포스터보고 초딩영화줄....오버연기조차 가볍지 않구나      1\n",
       "2  10265843                                  너무재밓었다그래서보는것을추천한다      0\n",
       "3   9045019                      교도소 이야기구먼 ..솔직히 재미는 없다..평점 조정      0\n",
       "4   6483659  사이몬페그의 익살스런 연기가 돋보였던 영화!스파이더맨에서 늙어보이기만 했던 커스틴 ...      1"
      ]
     },
     "execution_count": 4,
     "metadata": {},
     "output_type": "execute_result"
    }
   ],
   "source": [
    "# 미리 라이브러리 import\n",
    "import numpy as np\n",
    "import pandas as pd\n",
    "import tensorflow as tf\n",
    "import os\n",
    "import re\n",
    "import urllib.request\n",
    "import matplotlib.pyplot as plt\n",
    "from tensorflow.keras.initializers import Constant\n",
    "\n",
    "%matplotlib inline\n",
    "\n",
    "# 데이터 read\n",
    "train_data = pd.read_table('~/aiffel/sentiment_classification/data/ratings_train.txt')\n",
    "test_data = pd.read_table('~/aiffel/sentiment_classification/data/ratings_test.txt')\n",
    "\n",
    "train_data.head() # 데이터 확인"
   ]
  },
  {
   "cell_type": "code",
   "execution_count": 5,
   "id": "1baac34b",
   "metadata": {},
   "outputs": [
    {
     "data": {
      "text/html": [
       "<div>\n",
       "<style scoped>\n",
       "    .dataframe tbody tr th:only-of-type {\n",
       "        vertical-align: middle;\n",
       "    }\n",
       "\n",
       "    .dataframe tbody tr th {\n",
       "        vertical-align: top;\n",
       "    }\n",
       "\n",
       "    .dataframe thead th {\n",
       "        text-align: right;\n",
       "    }\n",
       "</style>\n",
       "<table border=\"1\" class=\"dataframe\">\n",
       "  <thead>\n",
       "    <tr style=\"text-align: right;\">\n",
       "      <th></th>\n",
       "      <th>id</th>\n",
       "      <th>document</th>\n",
       "      <th>label</th>\n",
       "    </tr>\n",
       "  </thead>\n",
       "  <tbody>\n",
       "    <tr>\n",
       "      <th>149995</th>\n",
       "      <td>6222902</td>\n",
       "      <td>인간이 문제지.. 소는 뭔죄인가..</td>\n",
       "      <td>0</td>\n",
       "    </tr>\n",
       "    <tr>\n",
       "      <th>149996</th>\n",
       "      <td>8549745</td>\n",
       "      <td>평점이 너무 낮아서...</td>\n",
       "      <td>1</td>\n",
       "    </tr>\n",
       "    <tr>\n",
       "      <th>149997</th>\n",
       "      <td>9311800</td>\n",
       "      <td>이게 뭐요? 한국인은 거들먹거리고 필리핀 혼혈은 착하다?</td>\n",
       "      <td>0</td>\n",
       "    </tr>\n",
       "    <tr>\n",
       "      <th>149998</th>\n",
       "      <td>2376369</td>\n",
       "      <td>청춘 영화의 최고봉.방황과 우울했던 날들의 자화상</td>\n",
       "      <td>1</td>\n",
       "    </tr>\n",
       "    <tr>\n",
       "      <th>149999</th>\n",
       "      <td>9619869</td>\n",
       "      <td>한국 영화 최초로 수간하는 내용이 담긴 영화</td>\n",
       "      <td>0</td>\n",
       "    </tr>\n",
       "  </tbody>\n",
       "</table>\n",
       "</div>"
      ],
      "text/plain": [
       "             id                         document  label\n",
       "149995  6222902              인간이 문제지.. 소는 뭔죄인가..      0\n",
       "149996  8549745                    평점이 너무 낮아서...      1\n",
       "149997  9311800  이게 뭐요? 한국인은 거들먹거리고 필리핀 혼혈은 착하다?      0\n",
       "149998  2376369      청춘 영화의 최고봉.방황과 우울했던 날들의 자화상      1\n",
       "149999  9619869         한국 영화 최초로 수간하는 내용이 담긴 영화      0"
      ]
     },
     "execution_count": 5,
     "metadata": {},
     "output_type": "execute_result"
    }
   ],
   "source": [
    "train_data.tail() # 데이터 확인"
   ]
  },
  {
   "cell_type": "code",
   "execution_count": 6,
   "id": "f9de891e",
   "metadata": {},
   "outputs": [],
   "source": [
    "# 2) 데이터 로더 구성\n",
    "\n",
    "# 1. 데이터의 중복 제거\n",
    "# 2. NaN 결측치 제거\n",
    "# 3. 한국어 토크나이저로 토큰화\n",
    "# 4. 불용어(Stopwords) 제거\n",
    "# 5. 사전word_to_index 구성\n",
    "# 6. 텍스트 스트링을 사전 인덱스 스트링으로 변환\n",
    "# 7. _train, y_train, X_test, y_test, word_to_index 리턴\n",
    "\n",
    "# 사전에 gensim 버전이 4.X.X 버전은 에러가 있다고 명시되어 있어서 \n",
    "# 3.6.0 버전으로 다운그레이드 진행"
   ]
  },
  {
   "cell_type": "code",
   "execution_count": 7,
   "id": "c68272d3",
   "metadata": {},
   "outputs": [
    {
     "name": "stdout",
     "output_type": "stream",
     "text": [
      "Collecting gensim==3.6.0\n",
      "  Using cached gensim-3.6.0-cp39-cp39-linux_x86_64.whl\n",
      "Requirement already satisfied: scipy>=0.18.1 in /opt/conda/lib/python3.9/site-packages (from gensim==3.6.0) (1.7.1)\n",
      "Requirement already satisfied: numpy>=1.11.3 in /opt/conda/lib/python3.9/site-packages (from gensim==3.6.0) (1.21.4)\n",
      "Requirement already satisfied: six>=1.5.0 in /opt/conda/lib/python3.9/site-packages (from gensim==3.6.0) (1.16.0)\n",
      "Requirement already satisfied: smart-open>=1.2.1 in /opt/conda/lib/python3.9/site-packages (from gensim==3.6.0) (5.2.1)\n",
      "Installing collected packages: gensim\n",
      "  Attempting uninstall: gensim\n",
      "    Found existing installation: gensim 3.8.3\n",
      "    Uninstalling gensim-3.8.3:\n",
      "      Successfully uninstalled gensim-3.8.3\n",
      "Successfully installed gensim-3.6.0\n",
      "\u001b[33mWARNING: Running pip as the 'root' user can result in broken permissions and conflicting behaviour with the system package manager. It is recommended to use a virtual environment instead: https://pip.pypa.io/warnings/venv\u001b[0m\n"
     ]
    }
   ],
   "source": [
    "!pip install gensim==3.6.0"
   ]
  },
  {
   "cell_type": "code",
   "execution_count": 8,
   "id": "f6b86e6c",
   "metadata": {},
   "outputs": [],
   "source": [
    "from konlpy.tag import Mecab\n",
    "import numpy as np\n",
    "from collections import Counter\n",
    "\n",
    "tokenizer = Mecab()\n",
    "stopwords = ['의','가','이','은','들','는','좀','잘','걍','과','도','를','으로','자','에','와','한','하다']\n",
    "\n",
    "def load_data(train_data, test_data, num_words=10000):\n",
    "    train_data.drop_duplicates(subset=['document'], inplace=True)\n",
    "    train_data = train_data.dropna(how = 'any') \n",
    "    test_data.drop_duplicates(subset=['document'], inplace=True)\n",
    "    test_data = test_data.dropna(how = 'any') \n",
    "    \n",
    "    X_train = []\n",
    "    for sentence in train_data['document']:\n",
    "        temp_X = tokenizer.morphs(sentence) # 토큰화\n",
    "        temp_X = [word for word in temp_X if not word in stopwords] # 불용어 제거\n",
    "        X_train.append(temp_X)\n",
    "\n",
    "    X_test = []\n",
    "    for sentence in test_data['document']:\n",
    "        temp_X = tokenizer.morphs(sentence) # 토큰화\n",
    "        temp_X = [word for word in temp_X if not word in stopwords] # 불용어 제거\n",
    "        X_test.append(temp_X)\n",
    "    \n",
    "    words = np.concatenate(X_train).tolist()\n",
    "    counter = Counter(words)\n",
    "    counter = counter.most_common(10000-4)\n",
    "    vocab = ['', '', '', ''] + [key for key, _ in counter]\n",
    "    word_to_index = {word:index for index, word in enumerate(vocab)}\n",
    "        \n",
    "    def wordlist_to_indexlist(wordlist):\n",
    "        return [word_to_index[word] if word in word_to_index else word_to_index[''] for word in wordlist]\n",
    "        \n",
    "    X_train = list(map(wordlist_to_indexlist, X_train))\n",
    "    X_test = list(map(wordlist_to_indexlist, X_test))\n",
    "        \n",
    "    return X_train, np.array(list(train_data['label'])), X_test, np.array(list(test_data['label'])), word_to_index\n",
    "    \n",
    "X_train, y_train, X_test, y_test, word_to_index = load_data(train_data, test_data) "
   ]
  },
  {
   "cell_type": "code",
   "execution_count": 9,
   "id": "c2ef942e",
   "metadata": {},
   "outputs": [],
   "source": [
    "index_to_word = {index:word for word, index in word_to_index.items()}"
   ]
  },
  {
   "cell_type": "code",
   "execution_count": 10,
   "id": "f8b5a856",
   "metadata": {},
   "outputs": [],
   "source": [
    "# 문장 1개를 활용할 딕셔너리와 함께 주면, 단어 인덱스 리스트 벡터로 변환해 주는 함수\n",
    "# 단, 모든 문장은 <BOS>로 시작하는 것으로 \n",
    "def get_encoded_sentence(sentence, word_to_index):\n",
    "    return [word_to_index['<BOS>']]+[word_to_index[word] if word in word_to_index else word_to_index['<UNK>'] for word in sentence.split()]\n",
    "\n",
    "# 여러 개의 문장 리스트를 한꺼번에 단어 인덱스 리스트 벡터로 encode해 주는 함수\n",
    "def get_encoded_sentences(sentences, word_to_index):\n",
    "    return [get_encoded_sentence(sentence, word_to_index) for sentence in sentences]\n",
    "\n",
    "# 숫자 벡터로 encode된 문장을 원래대로 decode하는 함수\n",
    "def get_decoded_sentence(encoded_sentence, index_to_word):\n",
    "    return ' '.join(index_to_word[index] if index in index_to_word else '<UNK>' for index in encoded_sentence[1:])  #[1:]를 통해 <BOS>를 제외\n",
    "\n",
    "# 여러 개의 숫자 벡터로 encode된 문장을 한꺼번에 원래대로 decode하는 함수\n",
    "def get_decoded_sentences(encoded_sentences, index_to_word):\n",
    "    return [get_decoded_sentence(encoded_sentence, index_to_word) for encoded_sentence in encoded_sentences]"
   ]
  },
  {
   "cell_type": "code",
   "execution_count": 12,
   "id": "047b8488",
   "metadata": {},
   "outputs": [
    {
     "name": "stdout",
     "output_type": "stream",
     "text": [
      "훈련 샘플 개수: 146182, 테스트 개수: 49157\n"
     ]
    }
   ],
   "source": [
    "print(\"훈련 샘플 개수: {}, 테스트 개수: {}\".format(len(X_train), len(X_test)))"
   ]
  },
  {
   "cell_type": "markdown",
   "id": "859f366f",
   "metadata": {},
   "source": [
    "# 3) 모델 구성을 위한 데이터 분석 및 가공\n"
   ]
  },
  {
   "cell_type": "code",
   "execution_count": 13,
   "id": "178fbe27",
   "metadata": {},
   "outputs": [],
   "source": [
    "# 1.데이터셋 내 문장 길이 분포\n",
    "# 2.적절한 최대 문장 길이 지정\n",
    "# 3.keras.preprocessing.sqeuence.pad_sequences을 활용한 패딩 추가"
   ]
  },
  {
   "cell_type": "code",
   "execution_count": 14,
   "id": "3e65d1cb",
   "metadata": {},
   "outputs": [],
   "source": [
    "## 데이터셋 내 문장 길이 분포"
   ]
  },
  {
   "cell_type": "code",
   "execution_count": 15,
   "id": "72770bec",
   "metadata": {},
   "outputs": [
    {
     "name": "stdout",
     "output_type": "stream",
     "text": [
      "더 빙 . . 진짜 짜증 나 네요 목소리\n",
      "Label:  0\n",
      "문장길이 평균 :  15.96940191154864\n",
      "문장길이 최대 :  116\n",
      "문장길이 표준편차 :  12.843571191092\n"
     ]
    },
    {
     "data": {
      "image/png": "[encoded data removed]",
      "text/plain": [
       "<Figure size 432x288 with 1 Axes>"
      ]
     },
     "metadata": {
      "needs_background": "light"
     },
     "output_type": "display_data"
    }
   ],
   "source": [
    "# decoding\n",
    "print(get_decoded_sentence(X_train[0], index_to_word))\n",
    "print('Label: ', y_train[0])  # 1번째 리뷰데이터의 라벨\n",
    "\n",
    "# 텍스트데이터 문장길이의 리스트를 생성한 후\n",
    "total_data_text = list(X_train) + list(X_test)\n",
    "\n",
    "# 문장길이의 평균값, 최대값, 표준편차를 계산\n",
    "num_tokens = [len(tokens) for tokens in total_data_text]\n",
    "num_tokens = np.array(num_tokens)\n",
    "\n",
    "print('문장길이 평균 : ', np.mean(num_tokens))\n",
    "print('문장길이 최대 : ', np.max(num_tokens))\n",
    "print('문장길이 표준편차 : ', np.std(num_tokens))\n",
    "\n",
    "plt.hist([len(s) for s in total_data_text], bins=100) # 가로축 구간의 개수 지정\n",
    "plt.xlabel('length of samples')\n",
    "plt.ylabel('number of samples')\n",
    "\n",
    "plt.show()"
   ]
  },
  {
   "cell_type": "markdown",
   "id": "c2d8cca6",
   "metadata": {},
   "source": [
    "## 적절한 최대 문장 길이 지정"
   ]
  },
  {
   "cell_type": "code",
   "execution_count": 16,
   "id": "07656264",
   "metadata": {},
   "outputs": [
    {
     "name": "stdout",
     "output_type": "stream",
     "text": [
      "pad_sequences maxlen :  41\n",
      "전체 문장의 0.9342988343341575%가 maxlen 설정값 이내에 포함된다. \n"
     ]
    }
   ],
   "source": [
    "# 최대 길이를 (평균 + 2*표준편차)로 가정\n",
    "\n",
    "max_tokens = np.mean(num_tokens) + 2 * np.std(num_tokens)\n",
    "maxlen = int(max_tokens)\n",
    "print('pad_sequences maxlen : ', maxlen)\n",
    "print('전체 문장의 {}%가 maxlen 설정값 이내에 포함된다. '.format(np.sum(num_tokens < max_tokens) / len(num_tokens)))"
   ]
  },
  {
   "cell_type": "markdown",
   "id": "6860a90f",
   "metadata": {},
   "source": [
    "## keras.preprocessing.sequence.pad_sequences을 활용한 패딩 추가\n"
   ]
  },
  {
   "cell_type": "code",
   "execution_count": 17,
   "id": "18da089a",
   "metadata": {},
   "outputs": [
    {
     "name": "stdout",
     "output_type": "stream",
     "text": [
      "{0: '<PAD>', 1: '<BOS>', 2: '<UNK>', 3: 'i', 4: 'like', 5: 'hungry', 6: 'so', 7: 'apple', 8: 'happy', 9: 'sad'}\n",
      "{'<PAD>': 0, '<BOS>': 1, '<UNK>': 2, 'i': 3, 'like': 4, 'hungry': 5, 'so': 6, 'apple': 7, 'happy': 8, 'sad': 9}\n"
     ]
    }
   ],
   "source": [
    "index_to_word={}  # 빈 딕셔너리를 만들어서\n",
    "\n",
    "# 단어들을 하나씩 채워보자. 순서는 중요하지 않다.\n",
    "# <BOS>, <PAD>, <UNK>는 관례적으로 딕셔너리 맨 앞에 넣어준다\n",
    "index_to_word[0]='<PAD>'  # 패딩용 단어\n",
    "index_to_word[1]='<BOS>'  # 문장의 시작지점\n",
    "index_to_word[2]='<UNK>'  # 사전에 없는(Unknown) 단어\n",
    "index_to_word[3]='i'\n",
    "index_to_word[4]='like'\n",
    "index_to_word[5]='hungry'\n",
    "index_to_word[6]='so'\n",
    "index_to_word[7]='apple'\n",
    "index_to_word[8]='happy'\n",
    "index_to_word[9]='sad'\n",
    "\n",
    "print(index_to_word)\n",
    "\n",
    "word_to_index={word:index for index, word in index_to_word.items()}\n",
    "print(word_to_index)"
   ]
  },
  {
   "cell_type": "code",
   "execution_count": 19,
   "id": "56b967ee",
   "metadata": {},
   "outputs": [
    {
     "name": "stdout",
     "output_type": "stream",
     "text": [
      "(146182, 41)\n"
     ]
    }
   ],
   "source": [
    "# padding\n",
    "import keras\n",
    "from keras.models import Sequential\n",
    "from keras.layers import Dense, Activation\n",
    "from keras.preprocessing import sequence\n",
    "import tensorflow as tf\n",
    "\n",
    "X_train = keras.preprocessing.sequence.pad_sequences(X_train,\n",
    "                                                       value=word_to_index['<PAD>'],\n",
    "                                                       padding='pre',\n",
    "                                                       maxlen=maxlen) # 위에서 변수로 지정된 41\n",
    "\n",
    "\n",
    "X_test = keras.preprocessing.sequence.pad_sequences(X_test,\n",
    "                                                       value=word_to_index[\"<PAD>\"],\n",
    "                                                       padding='pre',\n",
    "                                                       maxlen=maxlen)\n",
    "\n",
    "print(X_train.shape)\n",
    "\n",
    "# RNN은 입력 데이터가 순차적으로 처리되어, 가장 마지막 입력이 최종 state값에 가장 영향을 많이 미치게 된다. 그래서 pro로 채우는거는 비효율적"
   ]
  },
  {
   "cell_type": "code",
   "execution_count": 20,
   "id": "83ab64c1",
   "metadata": {},
   "outputs": [],
   "source": [
    "vocab_size = 10000    # 어휘 사전의 크기입니다(10,000개의 단어)\n",
    "word_vector_dim = 16  # 워드 벡터의 차원 수 (변경 가능한 하이퍼파라미터)"
   ]
  },
  {
   "cell_type": "markdown",
   "id": "96db4b1d",
   "metadata": {},
   "source": [
    "# 4) 모델 구성 및 validation set 구성"
   ]
  },
  {
   "cell_type": "code",
   "execution_count": 21,
   "id": "2c97d125",
   "metadata": {},
   "outputs": [
    {
     "name": "stdout",
     "output_type": "stream",
     "text": [
      "Model: \"sequential\"\n",
      "_________________________________________________________________\n",
      " Layer (type)                Output Shape              Param #   \n",
      "=================================================================\n",
      " embedding (Embedding)       (None, None, 16)          160000    \n",
      "                                                                 \n",
      " lstm (LSTM)                 (None, 8)                 800       \n",
      "                                                                 \n",
      " dense (Dense)               (None, 8)                 72        \n",
      "                                                                 \n",
      " dense_1 (Dense)             (None, 1)                 9         \n",
      "                                                                 \n",
      "=================================================================\n",
      "Total params: 160,881\n",
      "Trainable params: 160,881\n",
      "Non-trainable params: 0\n",
      "_________________________________________________________________\n"
     ]
    }
   ],
   "source": [
    "# 모델 설계\n",
    "# 우선은 앞서 학습했던 것 그대로 진행.. (3개 이상 구성..)\n",
    "model = keras.Sequential()\n",
    "model.add(keras.layers.Embedding(vocab_size, word_vector_dim, input_shape=(None,)))\n",
    "model.add(keras.layers.LSTM(8))\n",
    "model.add(keras.layers.Dense(8, activation='relu'))\n",
    "model.add(keras.layers.Dense(1, activation='sigmoid'))\n",
    "\n",
    "model.summary()"
   ]
  },
  {
   "cell_type": "code",
   "execution_count": 22,
   "id": "0141a42b",
   "metadata": {},
   "outputs": [
    {
     "name": "stdout",
     "output_type": "stream",
     "text": [
      "(136182, 41)\n",
      "(136182,)\n"
     ]
    }
   ],
   "source": [
    "# validation set 구성\n",
    "# exp 학습된 코드 그대로..\n",
    "\n",
    "# validation set 10000건 분리\n",
    "X_val = X_train[:10000]   \n",
    "y_val = y_train[:10000]\n",
    "\n",
    "# validation set을 제외한 나머지 15000건\n",
    "partial_X_train = X_train[10000:]  \n",
    "partial_y_train = y_train[10000:]\n",
    "\n",
    "print(partial_X_train.shape)\n",
    "print(partial_y_train.shape)"
   ]
  },
  {
   "cell_type": "markdown",
   "id": "0d7cce5e",
   "metadata": {},
   "source": [
    "# 5) 모델 훈련 개시"
   ]
  },
  {
   "cell_type": "code",
   "execution_count": 23,
   "id": "a506d5d0",
   "metadata": {},
   "outputs": [
    {
     "name": "stdout",
     "output_type": "stream",
     "text": [
      "Epoch 1/10\n",
      "266/266 [==============================] - 7s 7ms/step - loss: 0.4874 - accuracy: 0.7886 - val_loss: 0.3560 - val_accuracy: 0.8494\n",
      "Epoch 2/10\n",
      "266/266 [==============================] - 1s 5ms/step - loss: 0.3396 - accuracy: 0.8565 - val_loss: 0.3376 - val_accuracy: 0.8532\n",
      "Epoch 3/10\n",
      "266/266 [==============================] - 2s 6ms/step - loss: 0.3169 - accuracy: 0.8677 - val_loss: 0.3354 - val_accuracy: 0.8551\n",
      "Epoch 4/10\n",
      "266/266 [==============================] - 1s 5ms/step - loss: 0.3039 - accuracy: 0.8722 - val_loss: 0.3354 - val_accuracy: 0.8535\n",
      "Epoch 5/10\n",
      "266/266 [==============================] - 1s 5ms/step - loss: 0.2929 - accuracy: 0.8769 - val_loss: 0.3360 - val_accuracy: 0.8533\n",
      "Epoch 6/10\n",
      "266/266 [==============================] - 1s 6ms/step - loss: 0.2838 - accuracy: 0.8812 - val_loss: 0.3465 - val_accuracy: 0.8497\n",
      "Epoch 7/10\n",
      "266/266 [==============================] - 1s 5ms/step - loss: 0.2749 - accuracy: 0.8848 - val_loss: 0.3412 - val_accuracy: 0.8524\n",
      "Epoch 8/10\n",
      "266/266 [==============================] - 1s 5ms/step - loss: 0.2652 - accuracy: 0.8893 - val_loss: 0.3412 - val_accuracy: 0.8556\n",
      "Epoch 9/10\n",
      "266/266 [==============================] - 2s 6ms/step - loss: 0.2557 - accuracy: 0.8940 - val_loss: 0.3454 - val_accuracy: 0.8586\n",
      "Epoch 10/10\n",
      "266/266 [==============================] - 1s 5ms/step - loss: 0.2463 - accuracy: 0.8983 - val_loss: 0.3486 - val_accuracy: 0.8571\n"
     ]
    }
   ],
   "source": [
    "model.compile(optimizer='adam',\n",
    "              loss='binary_crossentropy',\n",
    "              metrics=['accuracy'])\n",
    "\n",
    "epochs=10\n",
    "\n",
    "history = model.fit(partial_X_train,\n",
    "                    partial_y_train,\n",
    "                    epochs=epochs,\n",
    "                    batch_size=512,\n",
    "                    validation_data=(X_val, y_val),\n",
    "                    verbose=1)\n",
    "\n",
    "# verbose = 학습 중 출력되는 문구를 설정\n",
    "# - 0 : 아무 것도 출력X\n",
    "# - 1 : 훈련의 진행도를 보여주는 진행 막대를 보여줌\n",
    "# - 2 : 미니 배치마다 손실 정보를 출력."
   ]
  },
  {
   "cell_type": "code",
   "execution_count": 24,
   "id": "2db26821",
   "metadata": {},
   "outputs": [
    {
     "name": "stdout",
     "output_type": "stream",
     "text": [
      "dict_keys(['loss', 'accuracy', 'val_loss', 'val_accuracy'])\n"
     ]
    }
   ],
   "source": [
    "# 모델의 fitting 과정 중의 정보들이 history 변수에 저장\n",
    "history_dict = history.history\n",
    "print(history_dict.keys()) # epoch에 따른 그래프를 그려볼 수 있는 항목들\n",
    "\n",
    "acc = history_dict['accuracy']\n",
    "val_acc = history_dict['val_accuracy']\n",
    "loss = history_dict['loss']\n",
    "val_loss = history_dict['val_loss']\n",
    "\n",
    "epochs = range(1, len(acc) + 1)"
   ]
  },
  {
   "cell_type": "code",
   "execution_count": 25,
   "id": "e89a8ae2",
   "metadata": {},
   "outputs": [
    {
     "data": {
      "image/png": "[encoded data removed]",
      "text/plain": [
       "<Figure size 432x288 with 1 Axes>"
      ]
     },
     "metadata": {
      "needs_background": "light"
     },
     "output_type": "display_data"
    }
   ],
   "source": [
    "# \"bo\"는 \"파란색 점\"\n",
    "plt.plot(epochs, loss, 'bo', label='Training loss')\n",
    "# b는 \"파란 실선\"\n",
    "plt.plot(epochs, val_loss, 'b', label='Validation loss')\n",
    "plt.title('Training and validation loss')\n",
    "plt.xlabel('Epochs')\n",
    "plt.ylabel('Loss')\n",
    "plt.legend()\n",
    "\n",
    "plt.show()"
   ]
  },
  {
   "cell_type": "code",
   "execution_count": 26,
   "id": "61de995b",
   "metadata": {},
   "outputs": [],
   "source": [
    "# Loss값 간의 Training loss와 Validation loss의 이격이 발생"
   ]
  },
  {
   "cell_type": "code",
   "execution_count": 27,
   "id": "b10d4e2f",
   "metadata": {},
   "outputs": [
    {
     "data": {
      "image/png": "[encoded data removed]",
      "text/plain": [
       "<Figure size 432x288 with 1 Axes>"
      ]
     },
     "metadata": {
      "needs_background": "light"
     },
     "output_type": "display_data"
    }
   ],
   "source": [
    "plt.plot(epochs, acc, 'bo', label='Training acc')\n",
    "plt.plot(epochs, val_acc, 'b', label='Validation acc')\n",
    "plt.title('Training and validation accuracy')\n",
    "plt.xlabel('Epochs')\n",
    "plt.ylabel('Accuracy')\n",
    "plt.legend()\n",
    "\n",
    "plt.show()"
   ]
  },
  {
   "cell_type": "code",
   "execution_count": 28,
   "id": "11ed0a00",
   "metadata": {},
   "outputs": [],
   "source": [
    "# Accuracy도 역시Training 과 Validation 값 사이의 이격이 발생"
   ]
  },
  {
   "cell_type": "markdown",
   "id": "fe33b9ac",
   "metadata": {},
   "source": [
    "# 7) 학습된 Embedding 레이어 분석\n"
   ]
  },
  {
   "cell_type": "code",
   "execution_count": 29,
   "id": "83725131",
   "metadata": {},
   "outputs": [],
   "source": [
    "# 모델 설계\n",
    "# 우선은 앞서 학습했던 것 그대로 진행.. (3개 이상 구성..)\n",
    "\n",
    "# model = keras.Sequential()\n",
    "# model.add(keras.layers.Embedding(vocab_size, word_vector_dim, input_shape=(None,)))\n",
    "# model.add(keras.layers.LSTM(8))\n",
    "# model.add(keras.layers.Dense(8, activation='relu'))\n",
    "# model.add(keras.layers.Dense(1, activation='sigmoid'))\n",
    "\n",
    "# model.summary()\n"
   ]
  },
  {
   "cell_type": "markdown",
   "id": "c80764b6",
   "metadata": {},
   "source": [
    "위의 레이어에서 Dense의 각 층별로 노드숫자를 늘려줄 필요가 있어 보인다. word_vector_dim(워드벡터의 차원수도 변경 가능한 파라미터)도 늘려서 입력값들을 증가시켜준다.\n",
    "\n",
    "마지막 출력층의 노드수는 1개 그대로 하고.. activation function들도 변경없이 그대로 가는 것이 좋을 것 같다"
   ]
  },
  {
   "cell_type": "markdown",
   "id": "84a5c4dc",
   "metadata": {},
   "source": [
    "# 8-0) 한국어 Word2Vec 임베딩 활용하여 성능개선 직전 사전 작업"
   ]
  },
  {
   "cell_type": "code",
   "execution_count": 30,
   "id": "100c871e",
   "metadata": {},
   "outputs": [],
   "source": [
    "# https://github.com/Kyubyong/wordvectors 링크에서 한국어 임베딩 활용을 위한\n",
    "# Word2Vec 다운로드"
   ]
  },
  {
   "cell_type": "code",
   "execution_count": 32,
   "id": "d14d3c77",
   "metadata": {},
   "outputs": [
    {
     "name": "stdout",
     "output_type": "stream",
     "text": [
      "3.6.0\n"
     ]
    }
   ],
   "source": [
    "# !pip install --upgrade gensim==3.8.3\n",
    "import gensim\n",
    "print(gensim.__version__) # 3 버전 재차 확인"
   ]
  },
  {
   "cell_type": "code",
   "execution_count": 33,
   "id": "7cde8036",
   "metadata": {},
   "outputs": [
    {
     "name": "stderr",
     "output_type": "stream",
     "text": [
      "/tmp/ipykernel_4441/2059462416.py:9: DeprecationWarning: Call to deprecated `__getitem__` (Method will be removed in 4.0.0, use self.wv.__getitem__() instead).\n",
      "  vector = pre_word2vec[\"과자\"]\n",
      "/tmp/ipykernel_4441/2059462416.py:12: DeprecationWarning: Call to deprecated `similar_by_word` (Method will be removed in 4.0.0, use self.wv.similar_by_word() instead).\n",
      "  pre_word2vec.similar_by_word('과자')\n"
     ]
    },
    {
     "data": {
      "text/plain": [
       "[('디저트', 0.8088392019271851),\n",
       " ('소시지', 0.8049700260162354),\n",
       " ('요구르트', 0.7754430770874023),\n",
       " ('닭고기', 0.7745591402053833),\n",
       " ('아이스크림', 0.7643382549285889),\n",
       " ('야채', 0.7613315582275391),\n",
       " ('샐러드', 0.7611989378929138),\n",
       " ('케이크', 0.7551943063735962),\n",
       " ('파스타', 0.7515155076980591),\n",
       " ('돼지고기', 0.7504067420959473)]"
      ]
     },
     "execution_count": 33,
     "metadata": {},
     "output_type": "execute_result"
    }
   ],
   "source": [
    "from gensim.models import KeyedVectors\n",
    "from gensim.models.keyedvectors import Word2VecKeyedVectors\n",
    "\n",
    "# ko.bin 파일은 ko.zip 압축을 푼후 안에 들어있는 파일임.\n",
    "# 참고로 bin 파일은 압축파일이 아님\n",
    "word2vec_path = os.getenv('HOME')+'/aiffel/sentiment_classification/ko.bin'\n",
    "pre_word2vec = gensim.models.Word2Vec.load(word2vec_path)\n",
    "\n",
    "vector = pre_word2vec[\"과자\"]\n",
    "vector\n",
    "\n",
    "pre_word2vec.similar_by_word('과자')\n",
    "# pre_word2vec['사랑'].shape"
   ]
  },
  {
   "cell_type": "code",
   "execution_count": 34,
   "id": "4f95b406",
   "metadata": {},
   "outputs": [
    {
     "name": "stderr",
     "output_type": "stream",
     "text": [
      "/tmp/ipykernel_4441/1959630309.py:1: DeprecationWarning: Call to deprecated `similar_by_word` (Method will be removed in 4.0.0, use self.wv.similar_by_word() instead).\n",
      "  pre_word2vec.similar_by_word('한국')\n"
     ]
    },
    {
     "data": {
      "text/plain": [
       "[('대한민국', 0.6662065982818604),\n",
       " ('우리나라', 0.6312342882156372),\n",
       " ('동양', 0.5589770078659058),\n",
       " ('미국', 0.5445788502693176),\n",
       " ('동북아', 0.5333539247512817),\n",
       " ('국내', 0.5278753638267517),\n",
       " ('일본', 0.5174024105072021),\n",
       " ('아세아', 0.5054686069488525),\n",
       " ('중국', 0.5036405920982361),\n",
       " ('민간', 0.5017623901367188)]"
      ]
     },
     "execution_count": 34,
     "metadata": {},
     "output_type": "execute_result"
    }
   ],
   "source": [
    "pre_word2vec.similar_by_word('한국')"
   ]
  },
  {
   "cell_type": "markdown",
   "id": "90fe0d57",
   "metadata": {},
   "source": [
    "# 8) 한국어 Word2Vec 임베딩 활용하여 성능 개선\n"
   ]
  },
  {
   "cell_type": "code",
   "execution_count": 35,
   "id": "bae7045e",
   "metadata": {},
   "outputs": [],
   "source": [
    "# 임베딩 레이어 변경\n",
    "\n",
    "vocab_size = 10000    # 어휘 사전의 크기(10,000개의 단어)\n",
    "word_vector_dim = 200  # 워드 벡터의 차원수 (변경가능한 하이퍼파라미터)\n",
    "\n",
    "embedding_matrix = np.random.rand(vocab_size, word_vector_dim)"
   ]
  },
  {
   "cell_type": "code",
   "execution_count": 36,
   "id": "4326610f",
   "metadata": {},
   "outputs": [
    {
     "name": "stderr",
     "output_type": "stream",
     "text": [
      "/tmp/ipykernel_4441/2935459898.py:3: DeprecationWarning: Call to deprecated `__contains__` (Method will be removed in 4.0.0, use self.wv.__contains__() instead).\n",
      "  if index_to_word[i] in pre_word2vec:\n"
     ]
    },
    {
     "ename": "KeyError",
     "evalue": "10",
     "output_type": "error",
     "traceback": [
      "\u001b[0;31m---------------------------------------------------------------------------\u001b[0m",
      "\u001b[0;31mKeyError\u001b[0m                                  Traceback (most recent call last)",
      "\u001b[0;32m/tmp/ipykernel_4441/2935459898.py\u001b[0m in \u001b[0;36m<module>\u001b[0;34m\u001b[0m\n\u001b[1;32m      1\u001b[0m \u001b[0;31m# embedding_matrix에 Word2Vec 워드벡터를 단어 하나씩마다 차례차례 카피\u001b[0m\u001b[0;34m\u001b[0m\u001b[0;34m\u001b[0m\u001b[0m\n\u001b[1;32m      2\u001b[0m \u001b[0;32mfor\u001b[0m \u001b[0mi\u001b[0m \u001b[0;32min\u001b[0m \u001b[0mrange\u001b[0m\u001b[0;34m(\u001b[0m\u001b[0;36m4\u001b[0m\u001b[0;34m,\u001b[0m\u001b[0mvocab_size\u001b[0m\u001b[0;34m)\u001b[0m\u001b[0;34m:\u001b[0m\u001b[0;34m\u001b[0m\u001b[0;34m\u001b[0m\u001b[0m\n\u001b[0;32m----> 3\u001b[0;31m     \u001b[0;32mif\u001b[0m \u001b[0mindex_to_word\u001b[0m\u001b[0;34m[\u001b[0m\u001b[0mi\u001b[0m\u001b[0;34m]\u001b[0m \u001b[0;32min\u001b[0m \u001b[0mpre_word2vec\u001b[0m\u001b[0;34m:\u001b[0m\u001b[0;34m\u001b[0m\u001b[0;34m\u001b[0m\u001b[0m\n\u001b[0m\u001b[1;32m      4\u001b[0m         \u001b[0membedding_matrix\u001b[0m\u001b[0;34m[\u001b[0m\u001b[0mi\u001b[0m\u001b[0;34m]\u001b[0m \u001b[0;34m=\u001b[0m \u001b[0mpre_word2vec\u001b[0m\u001b[0;34m[\u001b[0m\u001b[0mindex_to_word\u001b[0m\u001b[0;34m[\u001b[0m\u001b[0mi\u001b[0m\u001b[0;34m]\u001b[0m\u001b[0;34m]\u001b[0m\u001b[0;34m\u001b[0m\u001b[0;34m\u001b[0m\u001b[0m\n",
      "\u001b[0;31mKeyError\u001b[0m: 10"
     ]
    }
   ],
   "source": [
    "# embedding_matrix에 Word2Vec 워드벡터를 단어 하나씩마다 차례차례 카피\n",
    "for i in range(4,vocab_size):\n",
    "    if index_to_word[i] in pre_word2vec:\n",
    "        embedding_matrix[i] = pre_word2vec[index_to_word[i]]"
   ]
  },
  {
   "cell_type": "code",
   "execution_count": 37,
   "id": "8fba12c7",
   "metadata": {},
   "outputs": [
    {
     "name": "stdout",
     "output_type": "stream",
     "text": [
      "Model: \"sequential_1\"\n",
      "_________________________________________________________________\n",
      " Layer (type)                Output Shape              Param #   \n",
      "=================================================================\n",
      " embedding_1 (Embedding)     (None, 41, 200)           2000000   \n",
      "                                                                 \n",
      " lstm_1 (LSTM)               (None, 16)                13888     \n",
      "                                                                 \n",
      " dense_2 (Dense)             (None, 8)                 136       \n",
      "                                                                 \n",
      " dense_3 (Dense)             (None, 1)                 9         \n",
      "                                                                 \n",
      "=================================================================\n",
      "Total params: 2,014,033\n",
      "Trainable params: 2,014,033\n",
      "Non-trainable params: 0\n",
      "_________________________________________________________________\n"
     ]
    }
   ],
   "source": [
    "# 기본 모델 구성\n",
    "model = keras.Sequential()\n",
    "model.add(keras.layers.Embedding(vocab_size, \n",
    "                                 word_vector_dim, \n",
    "                                 embeddings_initializer=Constant(embedding_matrix),  # 카피한 임베딩을 여기서 활용\n",
    "                                 input_length=maxlen, \n",
    "                                 trainable=True))   # trainable을 True로 주면 Fine-tuning\n",
    "model.add(keras.layers.LSTM(16))\n",
    "model.add(keras.layers.Dense(8, activation='relu'))\n",
    "model.add(keras.layers.Dense(1, activation='sigmoid'))\n",
    "\n",
    "model.summary()"
   ]
  },
  {
   "cell_type": "code",
   "execution_count": 40,
   "id": "718c0c32",
   "metadata": {},
   "outputs": [
    {
     "name": "stdout",
     "output_type": "stream",
     "text": [
      "Epoch 1/15\n",
      "34/34 [==============================] - 3s 35ms/step - loss: 0.6788 - accuracy: 0.5611 - val_loss: 0.6254 - val_accuracy: 0.6833\n",
      "Epoch 2/15\n",
      "34/34 [==============================] - 1s 20ms/step - loss: 0.5449 - accuracy: 0.7541 - val_loss: 0.4654 - val_accuracy: 0.8030\n",
      "Epoch 3/15\n",
      "34/34 [==============================] - 1s 20ms/step - loss: 0.4245 - accuracy: 0.8220 - val_loss: 0.3925 - val_accuracy: 0.8330\n",
      "Epoch 4/15\n",
      "34/34 [==============================] - 1s 20ms/step - loss: 0.3648 - accuracy: 0.8492 - val_loss: 0.3644 - val_accuracy: 0.8423\n",
      "Epoch 5/15\n",
      "34/34 [==============================] - 1s 20ms/step - loss: 0.3391 - accuracy: 0.8605 - val_loss: 0.3528 - val_accuracy: 0.8482\n",
      "Epoch 6/15\n",
      "34/34 [==============================] - 1s 21ms/step - loss: 0.3209 - accuracy: 0.8693 - val_loss: 0.3543 - val_accuracy: 0.8459\n",
      "Epoch 7/15\n",
      "34/34 [==============================] - 1s 20ms/step - loss: 0.3117 - accuracy: 0.8727 - val_loss: 0.3490 - val_accuracy: 0.8477\n",
      "Epoch 8/15\n",
      "34/34 [==============================] - 1s 20ms/step - loss: 0.3002 - accuracy: 0.8783 - val_loss: 0.3493 - val_accuracy: 0.8494\n",
      "Epoch 9/15\n",
      "34/34 [==============================] - 1s 20ms/step - loss: 0.2945 - accuracy: 0.8810 - val_loss: 0.3534 - val_accuracy: 0.8486\n",
      "Epoch 10/15\n",
      "34/34 [==============================] - 1s 20ms/step - loss: 0.2895 - accuracy: 0.8831 - val_loss: 0.3565 - val_accuracy: 0.8491\n",
      "Epoch 11/15\n",
      "34/34 [==============================] - 1s 20ms/step - loss: 0.2849 - accuracy: 0.8848 - val_loss: 0.3656 - val_accuracy: 0.8461\n",
      "Epoch 12/15\n",
      "34/34 [==============================] - 1s 20ms/step - loss: 0.2800 - accuracy: 0.8868 - val_loss: 0.3698 - val_accuracy: 0.8485\n",
      "Epoch 13/15\n",
      "34/34 [==============================] - 1s 20ms/step - loss: 0.2732 - accuracy: 0.8897 - val_loss: 0.3650 - val_accuracy: 0.8469\n",
      "Epoch 14/15\n",
      "34/34 [==============================] - 1s 20ms/step - loss: 0.2678 - accuracy: 0.8927 - val_loss: 0.3585 - val_accuracy: 0.8501\n",
      "Epoch 15/15\n",
      "34/34 [==============================] - 1s 20ms/step - loss: 0.2620 - accuracy: 0.8953 - val_loss: 0.3608 - val_accuracy: 0.8525\n"
     ]
    }
   ],
   "source": [
    "\n",
    "# 모델 학습\n",
    "model.compile(optimizer='adam',\n",
    "              loss='binary_crossentropy', \n",
    "              metrics=['accuracy'])\n",
    "\n",
    "epochs=15\n",
    "\n",
    "history = model.fit(partial_X_train,\n",
    "                    partial_y_train,\n",
    "                    epochs=epochs,\n",
    "                    batch_size=4096,\n",
    "                    validation_data=(X_val, y_val),\n",
    "                    verbose=1)"
   ]
  },
  {
   "cell_type": "code",
   "execution_count": 42,
   "id": "9397a824",
   "metadata": {},
   "outputs": [
    {
     "name": "stdout",
     "output_type": "stream",
     "text": [
      "1537/1537 - 4s - loss: 0.3747 - accuracy: 0.8454 - 4s/epoch - 2ms/step\n",
      "[0.3746548891067505, 0.8454136848449707]\n"
     ]
    }
   ],
   "source": [
    "# 모델 평가\n",
    "results = model.evaluate(X_test,  y_test, verbose=2)\n",
    "\n",
    "print(results)"
   ]
  },
  {
   "cell_type": "code",
   "execution_count": 43,
   "id": "f7bc75be",
   "metadata": {},
   "outputs": [
    {
     "name": "stdout",
     "output_type": "stream",
     "text": [
      "dict_keys(['loss', 'accuracy', 'val_loss', 'val_accuracy'])\n"
     ]
    }
   ],
   "source": [
    "# 모델의 fitting 과정 중의 정보들이 history 변수에 저장\n",
    "history_dict = history.history\n",
    "print(history_dict.keys()) # epoch에 따른 그래프를 그려볼 수 있는 항목들"
   ]
  },
  {
   "cell_type": "code",
   "execution_count": 44,
   "id": "89dfd965",
   "metadata": {},
   "outputs": [],
   "source": [
    "# 도식화 Training and Validation loss\n",
    "import matplotlib.pyplot as plt\n",
    "\n",
    "acc = history_dict['accuracy']\n",
    "val_acc = history_dict['val_accuracy']\n",
    "loss = history_dict['loss']\n",
    "val_loss = history_dict['val_loss']\n",
    "\n",
    "epochs = range(1, len(acc) + 1)"
   ]
  },
  {
   "cell_type": "code",
   "execution_count": 49,
   "id": "a7049172",
   "metadata": {},
   "outputs": [
    {
     "data": {
      "image/png": "[encoded data removed]",
      "text/plain": [
       "<Figure size 432x288 with 1 Axes>"
      ]
     },
     "metadata": {
      "needs_background": "light"
     },
     "output_type": "display_data"
    }
   ],
   "source": [
    "# \"red\"는 \"파란색 실선\"이다\n",
    "plt.plot(epochs, loss, 'red', label='Training loss')\n",
    "# 'g'는 \"녹색 실선\"이다\n",
    "plt.plot(epochs, val_loss, 'g', label='Validation loss')\n",
    "plt.title('Training and validation loss')\n",
    "plt.xlabel('Epochs')\n",
    "plt.ylabel('Loss')\n",
    "plt.legend()\n",
    "\n",
    "plt.show()"
   ]
  },
  {
   "cell_type": "code",
   "execution_count": 50,
   "id": "adaf06ad",
   "metadata": {},
   "outputs": [
    {
     "data": {
      "image/png": "[encoded data removed]",
      "text/plain": [
       "<Figure size 432x288 with 1 Axes>"
      ]
     },
     "metadata": {
      "needs_background": "light"
     },
     "output_type": "display_data"
    }
   ],
   "source": [
    "\n",
    "# Training and Validation accuracy\n",
    "plt.clf()   # 그림을 초기화합니다\n",
    "\n",
    "plt.plot(epochs, acc, 'red', label='Training acc')\n",
    "plt.plot(epochs, val_acc, 'g', label='Validation acc')\n",
    "plt.title('Training and validation accuracy')\n",
    "plt.xlabel('Epochs')\n",
    "plt.ylabel('Accuracy')\n",
    "plt.legend()\n",
    "\n",
    "plt.show()"
   ]
  },
  {
   "cell_type": "code",
   "execution_count": null,
   "id": "4014fd2f",
   "metadata": {},
   "outputs": [],
   "source": [
    "# 모델 구성 경우의 수\n",
    "\n",
    "# 우선 순수 LSTM 층에서의 base 결과물\n",
    "# 1-D CNN이 들어간 부분과\n",
    "# MAxPooling1D가 들어가야 할 것으로 보인다.\n"
   ]
  },
  {
   "cell_type": "code",
   "execution_count": 84,
   "id": "42e2581e",
   "metadata": {},
   "outputs": [
    {
     "name": "stdout",
     "output_type": "stream",
     "text": [
      "Model: \"sequential_13\"\n",
      "_________________________________________________________________\n",
      " Layer (type)                Output Shape              Param #   \n",
      "=================================================================\n",
      " embedding_13 (Embedding)    (None, 41, 200)           2000000   \n",
      "                                                                 \n",
      " lstm_13 (LSTM)              (None, 12)                10224     \n",
      "                                                                 \n",
      " dense_18 (Dense)            (None, 8)                 104       \n",
      "                                                                 \n",
      " dense_19 (Dense)            (None, 1)                 9         \n",
      "                                                                 \n",
      "=================================================================\n",
      "Total params: 2,010,337\n",
      "Trainable params: 2,010,337\n",
      "Non-trainable params: 0\n",
      "_________________________________________________________________\n"
     ]
    }
   ],
   "source": [
    "# 모델 구성\n",
    "\n",
    "# 기본 LSTM\n",
    "model = keras.Sequential()\n",
    "model.add(keras.layers.Embedding(vocab_size, \n",
    "                                 word_vector_dim, \n",
    "                                 embeddings_initializer=Constant(embedding_matrix),  # 카피한 임베딩을 여기서 활용\n",
    "                                 input_length=maxlen, \n",
    "                                 trainable=True))   # trainable을 True로 주면 Fine-tuning\n",
    "model.add(keras.layers.LSTM(12))\n",
    "model.add(keras.layers.Dense(8, activation='relu'))\n",
    "model.add(keras.layers.Dense(1, activation='sigmoid')) # binary classification이라서 마지막 레이어에서 \n",
    "\n",
    "model.summary()"
   ]
  },
  {
   "cell_type": "code",
   "execution_count": 85,
   "id": "bd680751",
   "metadata": {},
   "outputs": [
    {
     "name": "stdout",
     "output_type": "stream",
     "text": [
      "Epoch 1/20\n",
      "34/34 [==============================] - 3s 48ms/step - loss: 0.6700 - accuracy: 0.6055 - val_loss: 0.6118 - val_accuracy: 0.7082\n",
      "Epoch 2/20\n",
      "34/34 [==============================] - 1s 20ms/step - loss: 0.5516 - accuracy: 0.7644 - val_loss: 0.4872 - val_accuracy: 0.8008\n",
      "Epoch 3/20\n",
      "34/34 [==============================] - 1s 20ms/step - loss: 0.4458 - accuracy: 0.8247 - val_loss: 0.4209 - val_accuracy: 0.8328\n",
      "Epoch 4/20\n",
      "34/34 [==============================] - 1s 20ms/step - loss: 0.3880 - accuracy: 0.8492 - val_loss: 0.3909 - val_accuracy: 0.8373\n",
      "Epoch 5/20\n",
      "34/34 [==============================] - 1s 20ms/step - loss: 0.3579 - accuracy: 0.8607 - val_loss: 0.3995 - val_accuracy: 0.8333\n",
      "Epoch 6/20\n",
      "34/34 [==============================] - 1s 20ms/step - loss: 0.3418 - accuracy: 0.8655 - val_loss: 0.3679 - val_accuracy: 0.8471\n",
      "Epoch 7/20\n",
      "34/34 [==============================] - 1s 20ms/step - loss: 0.3222 - accuracy: 0.8754 - val_loss: 0.3734 - val_accuracy: 0.8393\n",
      "Epoch 8/20\n",
      "34/34 [==============================] - 1s 20ms/step - loss: 0.3123 - accuracy: 0.8796 - val_loss: 0.3657 - val_accuracy: 0.8459\n",
      "Epoch 9/20\n",
      "34/34 [==============================] - 1s 20ms/step - loss: 0.3038 - accuracy: 0.8831 - val_loss: 0.3668 - val_accuracy: 0.8463\n",
      "Epoch 10/20\n",
      "34/34 [==============================] - 1s 20ms/step - loss: 0.2971 - accuracy: 0.8858 - val_loss: 0.3600 - val_accuracy: 0.8482\n",
      "Epoch 11/20\n",
      "34/34 [==============================] - 1s 20ms/step - loss: 0.2934 - accuracy: 0.8872 - val_loss: 0.3673 - val_accuracy: 0.8480\n",
      "Epoch 12/20\n",
      "34/34 [==============================] - 1s 20ms/step - loss: 0.2873 - accuracy: 0.8896 - val_loss: 0.3646 - val_accuracy: 0.8484\n",
      "Epoch 13/20\n",
      "34/34 [==============================] - 1s 20ms/step - loss: 0.2793 - accuracy: 0.8940 - val_loss: 0.3613 - val_accuracy: 0.8499\n",
      "Epoch 14/20\n",
      "34/34 [==============================] - 1s 20ms/step - loss: 0.2850 - accuracy: 0.8886 - val_loss: 0.3597 - val_accuracy: 0.8504\n",
      "Epoch 15/20\n",
      "34/34 [==============================] - 1s 20ms/step - loss: 0.2767 - accuracy: 0.8926 - val_loss: 0.3595 - val_accuracy: 0.8500\n",
      "Epoch 16/20\n",
      "34/34 [==============================] - 1s 20ms/step - loss: 0.2704 - accuracy: 0.8966 - val_loss: 0.3663 - val_accuracy: 0.8485\n",
      "Epoch 17/20\n",
      "34/34 [==============================] - 1s 20ms/step - loss: 0.2668 - accuracy: 0.8983 - val_loss: 0.3636 - val_accuracy: 0.8499\n",
      "Epoch 18/20\n",
      "34/34 [==============================] - 1s 20ms/step - loss: 0.2628 - accuracy: 0.9000 - val_loss: 0.3750 - val_accuracy: 0.8463\n",
      "Epoch 19/20\n",
      "34/34 [==============================] - 1s 20ms/step - loss: 0.2584 - accuracy: 0.9020 - val_loss: 0.3644 - val_accuracy: 0.8511\n",
      "Epoch 20/20\n",
      "34/34 [==============================] - 1s 20ms/step - loss: 0.2563 - accuracy: 0.9024 - val_loss: 0.3843 - val_accuracy: 0.8432\n"
     ]
    }
   ],
   "source": [
    "# 모델 학습\n",
    "model.compile(optimizer='adam',\n",
    "              loss='binary_crossentropy', \n",
    "              metrics=['accuracy'])\n",
    "\n",
    "epochs=20\n",
    "\n",
    "history = model.fit(partial_X_train,\n",
    "                    partial_y_train,\n",
    "                    epochs=epochs,\n",
    "                    batch_size=4096,\n",
    "                    validation_data=(X_val, y_val),\n",
    "                    verbose=1)"
   ]
  },
  {
   "cell_type": "code",
   "execution_count": 86,
   "id": "52864c80",
   "metadata": {},
   "outputs": [
    {
     "name": "stdout",
     "output_type": "stream",
     "text": [
      "1537/1537 - 4s - loss: 0.3943 - accuracy: 0.8377 - 4s/epoch - 3ms/step\n",
      "[0.39430806040763855, 0.8377443552017212]\n"
     ]
    }
   ],
   "source": [
    "# 모델 평가\n",
    "results = model.evaluate(X_test,  y_test, verbose=2)\n",
    "\n",
    "print(results)"
   ]
  },
  {
   "cell_type": "code",
   "execution_count": 87,
   "id": "e10e16c8",
   "metadata": {},
   "outputs": [
    {
     "name": "stdout",
     "output_type": "stream",
     "text": [
      "dict_keys(['loss', 'accuracy', 'val_loss', 'val_accuracy'])\n"
     ]
    }
   ],
   "source": [
    "# 모델의 fitting 과정 중의 정보들이 history 변수에 저장\n",
    "history_dict = history.history\n",
    "print(history_dict.keys()) # epoch에 따른 그래프를 그려볼 수 있는 항목들"
   ]
  },
  {
   "cell_type": "code",
   "execution_count": 88,
   "id": "c4d619a5",
   "metadata": {},
   "outputs": [],
   "source": [
    "# 도식화 Training and Validation loss\n",
    "import matplotlib.pyplot as plt\n",
    "\n",
    "acc = history_dict['accuracy']\n",
    "val_acc = history_dict['val_accuracy']\n",
    "loss = history_dict['loss']\n",
    "val_loss = history_dict['val_loss']\n",
    "\n",
    "epochs = range(1, len(acc) + 1)"
   ]
  },
  {
   "cell_type": "code",
   "execution_count": 93,
   "id": "d6281f44",
   "metadata": {},
   "outputs": [
    {
     "data": {
      "image/png": "[encoded data removed]",
      "text/plain": [
       "<Figure size 432x288 with 1 Axes>"
      ]
     },
     "metadata": {
      "needs_background": "light"
     },
     "output_type": "display_data"
    },
    {
     "data": {
      "image/png": "[encoded data removed]",
      "text/plain": [
       "<Figure size 432x288 with 1 Axes>"
      ]
     },
     "metadata": {
      "needs_background": "light"
     },
     "output_type": "display_data"
    }
   ],
   "source": [
    "# \"r\"는 \"빨간색 실선\"이다\n",
    "plt.plot(epochs, loss, 'r', label='Training loss')\n",
    "# 'g'는 \"녹색 실선\"이다\n",
    "plt.plot(epochs, val_loss, 'g', label='Validation loss')\n",
    "plt.title('Training and validation loss')\n",
    "plt.xlabel('Epochs')\n",
    "plt.ylabel('Loss')\n",
    "plt.legend()\n",
    "\n",
    "plt.show()\n",
    "\n",
    "plt.subplot()\n",
    "# \"r\"는 \"파란 실선\"이다\n",
    "plt.plot(epochs, acc, 'b', label='Training acc')\n",
    "# \"ㅛ\"는 \"노란 실선\"이다\n",
    "plt.plot(epochs, val_acc, 'y', label='Validation acc')\n",
    "plt.title('Training and validation accuracy')\n",
    "plt.xlabel('Epochs')\n",
    "plt.ylabel('Accuracy')\n",
    "plt.legend()\n",
    "\n",
    "plt.show()"
   ]
  },
  {
   "cell_type": "code",
   "execution_count": 94,
   "id": "01b3fe76",
   "metadata": {},
   "outputs": [
    {
     "name": "stdout",
     "output_type": "stream",
     "text": [
      "Model: \"sequential_14\"\n",
      "_________________________________________________________________\n",
      " Layer (type)                Output Shape              Param #   \n",
      "=================================================================\n",
      " embedding_14 (Embedding)    (None, 41, 200)           2000000   \n",
      "                                                                 \n",
      " conv1d_5 (Conv1D)           (None, 37, 8)             8008      \n",
      "                                                                 \n",
      " lstm_14 (LSTM)              (None, 12)                1008      \n",
      "                                                                 \n",
      " dense_20 (Dense)            (None, 8)                 104       \n",
      "                                                                 \n",
      " dense_21 (Dense)            (None, 1)                 9         \n",
      "                                                                 \n",
      "=================================================================\n",
      "Total params: 2,009,129\n",
      "Trainable params: 2,009,129\n",
      "Non-trainable params: 0\n",
      "_________________________________________________________________\n"
     ]
    }
   ],
   "source": [
    "#  LSTM 에 Conv1D 조합\n",
    "model = keras.Sequential()\n",
    "model.add(keras.layers.Embedding(vocab_size, \n",
    "                                 word_vector_dim, \n",
    "                                 embeddings_initializer=Constant(embedding_matrix),  # 카피한 임베딩을 여기서 활용\n",
    "                                 input_length=maxlen, \n",
    "                                 trainable=True))   # trainable을 True로 주면 Fine-tuning\n",
    "model.add(keras.layers.Conv1D(8, 5, activation='relu'))\n",
    "model.add(keras.layers.LSTM(12))\n",
    "model.add(keras.layers.Dense(8, activation='relu'))\n",
    "model.add(keras.layers.Dense(1, activation='sigmoid')) # binary classification이라서 마지막 레이어에서 \n",
    "\n",
    "model.summary()"
   ]
  },
  {
   "cell_type": "code",
   "execution_count": 95,
   "id": "927dc539",
   "metadata": {},
   "outputs": [
    {
     "name": "stdout",
     "output_type": "stream",
     "text": [
      "Epoch 1/20\n",
      "34/34 [==============================] - 3s 39ms/step - loss: 0.6866 - accuracy: 0.5645 - val_loss: 0.6689 - val_accuracy: 0.6345\n",
      "Epoch 2/20\n",
      "34/34 [==============================] - 1s 24ms/step - loss: 0.6302 - accuracy: 0.7101 - val_loss: 0.5790 - val_accuracy: 0.7603\n",
      "Epoch 3/20\n",
      "34/34 [==============================] - 1s 24ms/step - loss: 0.5177 - accuracy: 0.7785 - val_loss: 0.4556 - val_accuracy: 0.8053\n",
      "Epoch 4/20\n",
      "34/34 [==============================] - 1s 24ms/step - loss: 0.4226 - accuracy: 0.8212 - val_loss: 0.3986 - val_accuracy: 0.8266\n",
      "Epoch 5/20\n",
      "34/34 [==============================] - 1s 24ms/step - loss: 0.3778 - accuracy: 0.8413 - val_loss: 0.3780 - val_accuracy: 0.8369\n",
      "Epoch 6/20\n",
      "34/34 [==============================] - 1s 24ms/step - loss: 0.3584 - accuracy: 0.8498 - val_loss: 0.3718 - val_accuracy: 0.8338\n",
      "Epoch 7/20\n",
      "34/34 [==============================] - 1s 24ms/step - loss: 0.3346 - accuracy: 0.8618 - val_loss: 0.3689 - val_accuracy: 0.8380\n",
      "Epoch 8/20\n",
      "34/34 [==============================] - 1s 24ms/step - loss: 0.3227 - accuracy: 0.8675 - val_loss: 0.3563 - val_accuracy: 0.8489\n",
      "Epoch 9/20\n",
      "34/34 [==============================] - 1s 24ms/step - loss: 0.3107 - accuracy: 0.8726 - val_loss: 0.3608 - val_accuracy: 0.8466\n",
      "Epoch 10/20\n",
      "34/34 [==============================] - 1s 25ms/step - loss: 0.3232 - accuracy: 0.8652 - val_loss: 0.3541 - val_accuracy: 0.8474\n",
      "Epoch 11/20\n",
      "34/34 [==============================] - 1s 24ms/step - loss: 0.3000 - accuracy: 0.8789 - val_loss: 0.3492 - val_accuracy: 0.8523\n",
      "Epoch 12/20\n",
      "34/34 [==============================] - 1s 24ms/step - loss: 0.2914 - accuracy: 0.8821 - val_loss: 0.3527 - val_accuracy: 0.8524\n",
      "Epoch 13/20\n",
      "34/34 [==============================] - 1s 24ms/step - loss: 0.2976 - accuracy: 0.8782 - val_loss: 0.3686 - val_accuracy: 0.8442\n",
      "Epoch 14/20\n",
      "34/34 [==============================] - 1s 24ms/step - loss: 0.3091 - accuracy: 0.8724 - val_loss: 0.7732 - val_accuracy: 0.6939\n",
      "Epoch 15/20\n",
      "34/34 [==============================] - 1s 24ms/step - loss: 0.3961 - accuracy: 0.8290 - val_loss: 0.3855 - val_accuracy: 0.8358\n",
      "Epoch 16/20\n",
      "34/34 [==============================] - 1s 24ms/step - loss: 0.3010 - accuracy: 0.8800 - val_loss: 0.3569 - val_accuracy: 0.8499\n",
      "Epoch 17/20\n",
      "34/34 [==============================] - 1s 24ms/step - loss: 0.2877 - accuracy: 0.8846 - val_loss: 0.3596 - val_accuracy: 0.8481\n",
      "Epoch 18/20\n",
      "34/34 [==============================] - 1s 25ms/step - loss: 0.2814 - accuracy: 0.8877 - val_loss: 0.3603 - val_accuracy: 0.8491\n",
      "Epoch 19/20\n",
      "34/34 [==============================] - 1s 25ms/step - loss: 0.2768 - accuracy: 0.8900 - val_loss: 0.3601 - val_accuracy: 0.8489\n",
      "Epoch 20/20\n",
      "34/34 [==============================] - 1s 24ms/step - loss: 0.2716 - accuracy: 0.8921 - val_loss: 0.3612 - val_accuracy: 0.8508\n"
     ]
    }
   ],
   "source": [
    "# 모델 학습\n",
    "model.compile(optimizer='adam',\n",
    "              loss='binary_crossentropy', \n",
    "              metrics=['accuracy'])\n",
    "\n",
    "epochs=20\n",
    "\n",
    "history = model.fit(partial_X_train,\n",
    "                    partial_y_train,\n",
    "                    epochs=epochs,\n",
    "                    batch_size=4096,\n",
    "                    validation_data=(X_val, y_val),\n",
    "                    verbose=1)"
   ]
  },
  {
   "cell_type": "code",
   "execution_count": 96,
   "id": "f4cf826f",
   "metadata": {},
   "outputs": [
    {
     "name": "stdout",
     "output_type": "stream",
     "text": [
      "1537/1537 - 4s - loss: 0.3772 - accuracy: 0.8429 - 4s/epoch - 3ms/step\n",
      "[0.37719032168388367, 0.842870831489563]\n"
     ]
    }
   ],
   "source": [
    "# 모델 평가\n",
    "results = model.evaluate(X_test,  y_test, verbose=2)\n",
    "\n",
    "print(results)"
   ]
  },
  {
   "cell_type": "code",
   "execution_count": 97,
   "id": "4c040563",
   "metadata": {},
   "outputs": [
    {
     "name": "stdout",
     "output_type": "stream",
     "text": [
      "dict_keys(['loss', 'accuracy', 'val_loss', 'val_accuracy'])\n"
     ]
    }
   ],
   "source": [
    "# 모델의 fitting 과정 중의 정보들이 history 변수에 저장\n",
    "history_dict = history.history\n",
    "print(history_dict.keys()) # epoch에 따른 그래프를 그려볼 수 있는 항목들"
   ]
  },
  {
   "cell_type": "code",
   "execution_count": 98,
   "id": "418d659f",
   "metadata": {},
   "outputs": [],
   "source": [
    "# 도식화 Training and Validation loss\n",
    "import matplotlib.pyplot as plt\n",
    "\n",
    "acc = history_dict['accuracy']\n",
    "val_acc = history_dict['val_accuracy']\n",
    "loss = history_dict['loss']\n",
    "val_loss = history_dict['val_loss']\n",
    "\n",
    "epochs = range(1, len(acc) + 1)"
   ]
  },
  {
   "cell_type": "code",
   "execution_count": 99,
   "id": "301c87a0",
   "metadata": {},
   "outputs": [
    {
     "data": {
      "image/png": "[encoded data removed]",
      "text/plain": [
       "<Figure size 432x288 with 1 Axes>"
      ]
     },
     "metadata": {
      "needs_background": "light"
     },
     "output_type": "display_data"
    },
    {
     "data": {
      "image/png": "[encoded data removed]",
      "text/plain": [
       "<Figure size 432x288 with 1 Axes>"
      ]
     },
     "metadata": {
      "needs_background": "light"
     },
     "output_type": "display_data"
    }
   ],
   "source": [
    "# \"r\"는 \"빨간색 실선\"이다\n",
    "plt.plot(epochs, loss, 'r', label='Training loss')\n",
    "# 'g'는 \"녹색 실선\"이다\n",
    "plt.plot(epochs, val_loss, 'g', label='Validation loss')\n",
    "plt.title('Training and validation loss')\n",
    "plt.xlabel('Epochs')\n",
    "plt.ylabel('Loss')\n",
    "plt.legend()\n",
    "\n",
    "plt.show()\n",
    "\n",
    "plt.subplot()\n",
    "# \"r\"는 \"파란 실선\"이다\n",
    "plt.plot(epochs, acc, 'b', label='Training acc')\n",
    "# \"ㅛ\"는 \"노란 실선\"이다\n",
    "plt.plot(epochs, val_acc, 'y', label='Validation acc')\n",
    "plt.title('Training and validation accuracy')\n",
    "plt.xlabel('Epochs')\n",
    "plt.ylabel('Accuracy')\n",
    "plt.legend()\n",
    "\n",
    "plt.show()"
   ]
  },
  {
   "cell_type": "code",
   "execution_count": 100,
   "id": "ff7a15c3",
   "metadata": {},
   "outputs": [
    {
     "name": "stdout",
     "output_type": "stream",
     "text": [
      "Model: \"sequential_15\"\n",
      "_________________________________________________________________\n",
      " Layer (type)                Output Shape              Param #   \n",
      "=================================================================\n",
      " embedding_15 (Embedding)    (None, 41, 200)           2000000   \n",
      "                                                                 \n",
      " max_pooling1d_5 (MaxPooling  (None, 8, 200)           0         \n",
      " 1D)                                                             \n",
      "                                                                 \n",
      " lstm_15 (LSTM)              (None, 12)                10224     \n",
      "                                                                 \n",
      " dense_22 (Dense)            (None, 8)                 104       \n",
      "                                                                 \n",
      " dense_23 (Dense)            (None, 1)                 9         \n",
      "                                                                 \n",
      "=================================================================\n",
      "Total params: 2,010,337\n",
      "Trainable params: 2,010,337\n",
      "Non-trainable params: 0\n",
      "_________________________________________________________________\n"
     ]
    }
   ],
   "source": [
    "#  LSTM 에 MaxPooling1D 조합\n",
    "model = keras.Sequential()\n",
    "model.add(keras.layers.Embedding(vocab_size, \n",
    "                                 word_vector_dim, \n",
    "                                 embeddings_initializer=Constant(embedding_matrix),  # 카피한 임베딩을 여기서 활용\n",
    "                                 input_length=maxlen, \n",
    "                                 trainable=True))   # trainable을 True로 주면 Fine-tuning\n",
    "model.add(keras.layers.MaxPooling1D(5))\n",
    "model.add(keras.layers.LSTM(12))\n",
    "model.add(keras.layers.Dense(8, activation='relu'))\n",
    "model.add(keras.layers.Dense(1, activation='sigmoid')) # binary classification이라서 마지막 레이어에서 \n",
    "\n",
    "model.summary()"
   ]
  },
  {
   "cell_type": "code",
   "execution_count": 101,
   "id": "38cc46c1",
   "metadata": {},
   "outputs": [
    {
     "name": "stdout",
     "output_type": "stream",
     "text": [
      "Epoch 1/20\n",
      "34/34 [==============================] - 3s 36ms/step - loss: 0.6646 - accuracy: 0.6067 - val_loss: 0.6153 - val_accuracy: 0.6943\n",
      "Epoch 2/20\n",
      "34/34 [==============================] - 1s 22ms/step - loss: 0.5633 - accuracy: 0.7407 - val_loss: 0.5259 - val_accuracy: 0.7564\n",
      "Epoch 3/20\n",
      "34/34 [==============================] - 1s 22ms/step - loss: 0.4672 - accuracy: 0.7968 - val_loss: 0.4456 - val_accuracy: 0.8070\n",
      "Epoch 4/20\n",
      "34/34 [==============================] - 1s 22ms/step - loss: 0.4077 - accuracy: 0.8274 - val_loss: 0.4184 - val_accuracy: 0.8122\n",
      "Epoch 5/20\n",
      "34/34 [==============================] - 1s 22ms/step - loss: 0.3688 - accuracy: 0.8463 - val_loss: 0.3864 - val_accuracy: 0.8304\n",
      "Epoch 6/20\n",
      "34/34 [==============================] - 1s 22ms/step - loss: 0.3405 - accuracy: 0.8586 - val_loss: 0.3756 - val_accuracy: 0.8339\n",
      "Epoch 7/20\n",
      "34/34 [==============================] - 1s 22ms/step - loss: 0.3184 - accuracy: 0.8694 - val_loss: 0.3670 - val_accuracy: 0.8399\n",
      "Epoch 8/20\n",
      "34/34 [==============================] - 1s 22ms/step - loss: 0.2987 - accuracy: 0.8791 - val_loss: 0.3633 - val_accuracy: 0.8410\n",
      "Epoch 9/20\n",
      "34/34 [==============================] - 1s 22ms/step - loss: 0.2841 - accuracy: 0.8859 - val_loss: 0.3601 - val_accuracy: 0.8432\n",
      "Epoch 10/20\n",
      "34/34 [==============================] - 1s 22ms/step - loss: 0.2691 - accuracy: 0.8938 - val_loss: 0.3595 - val_accuracy: 0.8437\n",
      "Epoch 11/20\n",
      "34/34 [==============================] - 1s 22ms/step - loss: 0.2557 - accuracy: 0.9004 - val_loss: 0.3687 - val_accuracy: 0.8384\n",
      "Epoch 12/20\n",
      "34/34 [==============================] - 1s 22ms/step - loss: 0.2412 - accuracy: 0.9069 - val_loss: 0.3793 - val_accuracy: 0.8393\n",
      "Epoch 13/20\n",
      "34/34 [==============================] - 1s 22ms/step - loss: 0.2308 - accuracy: 0.9113 - val_loss: 0.3753 - val_accuracy: 0.8410\n",
      "Epoch 14/20\n",
      "34/34 [==============================] - 1s 22ms/step - loss: 0.2146 - accuracy: 0.9193 - val_loss: 0.3887 - val_accuracy: 0.8388\n",
      "Epoch 15/20\n",
      "34/34 [==============================] - 1s 22ms/step - loss: 0.2010 - accuracy: 0.9256 - val_loss: 0.3961 - val_accuracy: 0.8389\n",
      "Epoch 16/20\n",
      "34/34 [==============================] - 1s 22ms/step - loss: 0.1905 - accuracy: 0.9298 - val_loss: 0.3997 - val_accuracy: 0.8397\n",
      "Epoch 17/20\n",
      "34/34 [==============================] - 1s 22ms/step - loss: 0.1768 - accuracy: 0.9367 - val_loss: 0.4147 - val_accuracy: 0.8367\n",
      "Epoch 18/20\n",
      "34/34 [==============================] - 1s 22ms/step - loss: 0.1669 - accuracy: 0.9413 - val_loss: 0.4237 - val_accuracy: 0.8385\n",
      "Epoch 19/20\n",
      "34/34 [==============================] - 1s 22ms/step - loss: 0.1565 - accuracy: 0.9458 - val_loss: 0.4335 - val_accuracy: 0.8367\n",
      "Epoch 20/20\n",
      "34/34 [==============================] - 1s 22ms/step - loss: 0.1480 - accuracy: 0.9492 - val_loss: 0.4515 - val_accuracy: 0.8320\n"
     ]
    }
   ],
   "source": [
    "# 모델 학습\n",
    "model.compile(optimizer='adam',\n",
    "              loss='binary_crossentropy', \n",
    "              metrics=['accuracy'])\n",
    "\n",
    "epochs=20\n",
    "\n",
    "history = model.fit(partial_X_train,\n",
    "                    partial_y_train,\n",
    "                    epochs=epochs,\n",
    "                    batch_size=4096,\n",
    "                    validation_data=(X_val, y_val),\n",
    "                    verbose=1)"
   ]
  },
  {
   "cell_type": "code",
   "execution_count": 102,
   "id": "d983eb88",
   "metadata": {},
   "outputs": [
    {
     "name": "stdout",
     "output_type": "stream",
     "text": [
      "1537/1537 - 3s - loss: 0.4591 - accuracy: 0.8289 - 3s/epoch - 2ms/step\n",
      "[0.45908379554748535, 0.8289358615875244]\n"
     ]
    }
   ],
   "source": [
    "# 모델 평가\n",
    "results = model.evaluate(X_test,  y_test, verbose=2)\n",
    "\n",
    "print(results)"
   ]
  },
  {
   "cell_type": "code",
   "execution_count": 103,
   "id": "e6d437c8",
   "metadata": {},
   "outputs": [
    {
     "name": "stdout",
     "output_type": "stream",
     "text": [
      "dict_keys(['loss', 'accuracy', 'val_loss', 'val_accuracy'])\n"
     ]
    }
   ],
   "source": [
    "# 모델의 fitting 과정 중의 정보들이 history 변수에 저장\n",
    "history_dict = history.history\n",
    "print(history_dict.keys()) # epoch에 따른 그래프를 그려볼 수 있는 항목들"
   ]
  },
  {
   "cell_type": "code",
   "execution_count": 104,
   "id": "2198d3f6",
   "metadata": {},
   "outputs": [],
   "source": [
    "# 도식화 Training and Validation loss\n",
    "import matplotlib.pyplot as plt\n",
    "\n",
    "acc = history_dict['accuracy']\n",
    "val_acc = history_dict['val_accuracy']\n",
    "loss = history_dict['loss']\n",
    "val_loss = history_dict['val_loss']\n",
    "\n",
    "epochs = range(1, len(acc) + 1)"
   ]
  },
  {
   "cell_type": "code",
   "execution_count": 105,
   "id": "bd04c10b",
   "metadata": {},
   "outputs": [
    {
     "data": {
      "image/png": "[encoded data removed]",
      "text/plain": [
       "<Figure size 432x288 with 1 Axes>"
      ]
     },
     "metadata": {
      "needs_background": "light"
     },
     "output_type": "display_data"
    },
    {
     "data": {
      "image/png": "[encoded data removed]",
      "text/plain": [
       "<Figure size 432x288 with 1 Axes>"
      ]
     },
     "metadata": {
      "needs_background": "light"
     },
     "output_type": "display_data"
    }
   ],
   "source": [
    "# \"r\"는 \"빨간색 실선\"이다\n",
    "plt.plot(epochs, loss, 'r', label='Training loss')\n",
    "# 'g'는 \"녹색 실선\"이다\n",
    "plt.plot(epochs, val_loss, 'g', label='Validation loss')\n",
    "plt.title('Training and validation loss')\n",
    "plt.xlabel('Epochs')\n",
    "plt.ylabel('Loss')\n",
    "plt.legend()\n",
    "\n",
    "plt.show()\n",
    "\n",
    "plt.subplot()\n",
    "# \"r\"는 \"파란 실선\"이다\n",
    "plt.plot(epochs, acc, 'b', label='Training acc')\n",
    "# \"ㅛ\"는 \"노란 실선\"이다\n",
    "plt.plot(epochs, val_acc, 'y', label='Validation acc')\n",
    "plt.title('Training and validation accuracy')\n",
    "plt.xlabel('Epochs')\n",
    "plt.ylabel('Accuracy')\n",
    "plt.legend()\n",
    "\n",
    "plt.show()"
   ]
  },
  {
   "cell_type": "code",
   "execution_count": 106,
   "id": "45988acb",
   "metadata": {},
   "outputs": [
    {
     "name": "stdout",
     "output_type": "stream",
     "text": [
      "Model: \"sequential_16\"\n",
      "_________________________________________________________________\n",
      " Layer (type)                Output Shape              Param #   \n",
      "=================================================================\n",
      " embedding_16 (Embedding)    (None, 41, 200)           2000000   \n",
      "                                                                 \n",
      " conv1d_6 (Conv1D)           (None, 37, 8)             8008      \n",
      "                                                                 \n",
      " max_pooling1d_6 (MaxPooling  (None, 7, 8)             0         \n",
      " 1D)                                                             \n",
      "                                                                 \n",
      " lstm_16 (LSTM)              (None, 12)                1008      \n",
      "                                                                 \n",
      " dense_24 (Dense)            (None, 8)                 104       \n",
      "                                                                 \n",
      " dense_25 (Dense)            (None, 1)                 9         \n",
      "                                                                 \n",
      "=================================================================\n",
      "Total params: 2,009,129\n",
      "Trainable params: 2,009,129\n",
      "Non-trainable params: 0\n",
      "_________________________________________________________________\n"
     ]
    }
   ],
   "source": [
    "#  LSTM 에 MaxPooling1D + 1D-CNN조합 (짬뽕 조합)\n",
    "model = keras.Sequential()\n",
    "model.add(keras.layers.Embedding(vocab_size, \n",
    "                                 word_vector_dim, \n",
    "                                 embeddings_initializer=Constant(embedding_matrix),  # 카피한 임베딩을 여기서 활용\n",
    "                                 input_length=maxlen, \n",
    "                                 trainable=True))   # trainable을 True로 주면 Fine-tuning\n",
    "model.add(keras.layers.Conv1D(8, 5, activation='relu'))\n",
    "model.add(keras.layers.MaxPooling1D(5))\n",
    "model.add(keras.layers.LSTM(12))\n",
    "model.add(keras.layers.Dense(8, activation='relu'))\n",
    "model.add(keras.layers.Dense(1, activation='sigmoid')) # binary classification이라서 마지막 레이어에서 \n",
    "\n",
    "model.summary()"
   ]
  },
  {
   "cell_type": "code",
   "execution_count": 107,
   "id": "2cb235ce",
   "metadata": {},
   "outputs": [
    {
     "name": "stdout",
     "output_type": "stream",
     "text": [
      "Epoch 1/20\n",
      "34/34 [==============================] - 3s 35ms/step - loss: 0.6924 - accuracy: 0.5193 - val_loss: 0.6887 - val_accuracy: 0.5520\n",
      "Epoch 2/20\n",
      "34/34 [==============================] - 1s 20ms/step - loss: 0.6752 - accuracy: 0.6246 - val_loss: 0.6478 - val_accuracy: 0.6876\n",
      "Epoch 3/20\n",
      "34/34 [==============================] - 1s 20ms/step - loss: 0.5961 - accuracy: 0.7292 - val_loss: 0.5492 - val_accuracy: 0.7444\n",
      "Epoch 4/20\n",
      "34/34 [==============================] - 1s 20ms/step - loss: 0.4982 - accuracy: 0.7749 - val_loss: 0.4705 - val_accuracy: 0.7833\n",
      "Epoch 5/20\n",
      "34/34 [==============================] - 1s 20ms/step - loss: 0.4429 - accuracy: 0.8004 - val_loss: 0.4418 - val_accuracy: 0.7932\n",
      "Epoch 6/20\n",
      "34/34 [==============================] - 1s 20ms/step - loss: 0.4026 - accuracy: 0.8235 - val_loss: 0.4217 - val_accuracy: 0.8019\n",
      "Epoch 7/20\n",
      "34/34 [==============================] - 1s 20ms/step - loss: 0.3782 - accuracy: 0.8363 - val_loss: 0.4136 - val_accuracy: 0.8053\n",
      "Epoch 8/20\n",
      "34/34 [==============================] - 1s 20ms/step - loss: 0.3611 - accuracy: 0.8444 - val_loss: 0.4239 - val_accuracy: 0.8033\n",
      "Epoch 9/20\n",
      "34/34 [==============================] - 1s 20ms/step - loss: 0.3468 - accuracy: 0.8529 - val_loss: 0.4165 - val_accuracy: 0.8056\n",
      "Epoch 10/20\n",
      "34/34 [==============================] - 1s 20ms/step - loss: 0.3334 - accuracy: 0.8598 - val_loss: 0.4080 - val_accuracy: 0.8092\n",
      "Epoch 11/20\n",
      "34/34 [==============================] - 1s 20ms/step - loss: 0.3247 - accuracy: 0.8630 - val_loss: 0.4057 - val_accuracy: 0.8105\n",
      "Epoch 12/20\n",
      "34/34 [==============================] - 1s 20ms/step - loss: 0.3097 - accuracy: 0.8724 - val_loss: 0.4222 - val_accuracy: 0.8043\n",
      "Epoch 13/20\n",
      "34/34 [==============================] - 1s 20ms/step - loss: 0.3012 - accuracy: 0.8759 - val_loss: 0.4138 - val_accuracy: 0.8064\n",
      "Epoch 14/20\n",
      "34/34 [==============================] - 1s 20ms/step - loss: 0.2922 - accuracy: 0.8808 - val_loss: 0.4880 - val_accuracy: 0.7896\n",
      "Epoch 15/20\n",
      "34/34 [==============================] - 1s 20ms/step - loss: 0.2934 - accuracy: 0.8789 - val_loss: 0.4207 - val_accuracy: 0.8095\n",
      "Epoch 16/20\n",
      "34/34 [==============================] - 1s 20ms/step - loss: 0.2831 - accuracy: 0.8844 - val_loss: 0.4218 - val_accuracy: 0.8089\n",
      "Epoch 17/20\n",
      "34/34 [==============================] - 1s 20ms/step - loss: 0.2725 - accuracy: 0.8909 - val_loss: 0.4362 - val_accuracy: 0.8043\n",
      "Epoch 18/20\n",
      "34/34 [==============================] - 1s 20ms/step - loss: 0.2594 - accuracy: 0.8978 - val_loss: 0.4341 - val_accuracy: 0.8042\n",
      "Epoch 19/20\n",
      "34/34 [==============================] - 1s 20ms/step - loss: 0.2567 - accuracy: 0.8983 - val_loss: 0.4378 - val_accuracy: 0.8054\n",
      "Epoch 20/20\n",
      "34/34 [==============================] - 1s 20ms/step - loss: 0.2487 - accuracy: 0.9029 - val_loss: 0.4627 - val_accuracy: 0.8046\n"
     ]
    }
   ],
   "source": [
    "# 모델 학습\n",
    "model.compile(optimizer='adam',\n",
    "              loss='binary_crossentropy', \n",
    "              metrics=['accuracy'])\n",
    "\n",
    "epochs=20\n",
    "\n",
    "history = model.fit(partial_X_train,\n",
    "                    partial_y_train,\n",
    "                    epochs=epochs,\n",
    "                    batch_size=4096,\n",
    "                    validation_data=(X_val, y_val),\n",
    "                    verbose=1)"
   ]
  },
  {
   "cell_type": "code",
   "execution_count": 108,
   "id": "3129c35e",
   "metadata": {},
   "outputs": [
    {
     "name": "stdout",
     "output_type": "stream",
     "text": [
      "1537/1537 - 4s - loss: 0.4759 - accuracy: 0.8017 - 4s/epoch - 2ms/step\n",
      "[0.4758967161178589, 0.8017169237136841]\n"
     ]
    }
   ],
   "source": [
    "# 모델 평가\n",
    "results = model.evaluate(X_test,  y_test, verbose=2)\n",
    "\n",
    "print(results)"
   ]
  },
  {
   "cell_type": "code",
   "execution_count": 109,
   "id": "20b1446f",
   "metadata": {},
   "outputs": [
    {
     "name": "stdout",
     "output_type": "stream",
     "text": [
      "dict_keys(['loss', 'accuracy', 'val_loss', 'val_accuracy'])\n"
     ]
    }
   ],
   "source": [
    "# 모델의 fitting 과정 중의 정보들이 history 변수에 저장\n",
    "history_dict = history.history\n",
    "print(history_dict.keys()) # epoch에 따른 그래프를 그려볼 수 있는 항목들"
   ]
  },
  {
   "cell_type": "code",
   "execution_count": 110,
   "id": "6e025447",
   "metadata": {},
   "outputs": [],
   "source": [
    "# 도식화 Training and Validation loss\n",
    "import matplotlib.pyplot as plt\n",
    "\n",
    "acc = history_dict['accuracy']\n",
    "val_acc = history_dict['val_accuracy']\n",
    "loss = history_dict['loss']\n",
    "val_loss = history_dict['val_loss']\n",
    "\n",
    "epochs = range(1, len(acc) + 1)"
   ]
  },
  {
   "cell_type": "code",
   "execution_count": 111,
   "id": "d3f5bd50",
   "metadata": {},
   "outputs": [
    {
     "data": {
      "image/png": "[encoded data removed]",
      "text/plain": [
       "<Figure size 432x288 with 1 Axes>"
      ]
     },
     "metadata": {
      "needs_background": "light"
     },
     "output_type": "display_data"
    },
    {
     "data": {
      "image/png": "[encoded data removed]",
      "text/plain": [
       "<Figure size 432x288 with 1 Axes>"
      ]
     },
     "metadata": {
      "needs_background": "light"
     },
     "output_type": "display_data"
    }
   ],
   "source": [
    "# \"r\"는 \"빨간색 실선\"이다\n",
    "plt.plot(epochs, loss, 'r', label='Training loss')\n",
    "# 'g'는 \"녹색 실선\"이다\n",
    "plt.plot(epochs, val_loss, 'g', label='Validation loss')\n",
    "plt.title('Training and validation loss')\n",
    "plt.xlabel('Epochs')\n",
    "plt.ylabel('Loss')\n",
    "plt.legend()\n",
    "\n",
    "plt.show()\n",
    "\n",
    "plt.subplot()\n",
    "# \"r\"는 \"파란 실선\"이다\n",
    "plt.plot(epochs, acc, 'b', label='Training acc')\n",
    "# \"ㅛ\"는 \"노란 실선\"이다\n",
    "plt.plot(epochs, val_acc, 'y', label='Validation acc')\n",
    "plt.title('Training and validation accuracy')\n",
    "plt.xlabel('Epochs')\n",
    "plt.ylabel('Accuracy')\n",
    "plt.legend()\n",
    "\n",
    "plt.show()"
   ]
  },
  {
   "cell_type": "markdown",
   "id": "3167b569",
   "metadata": {},
   "source": [
    "# 총평\n",
    "\n",
    "Word2Vec 임베딩을 통해서 accuracy 자체가 증가한지는 모르겠다\n",
    "우선은 3가지의 조합으로 시도를 해보았으나, base 모델인 LSTM만 쓴것을 제외하고는 validation과 test값의 격차가 있어서 정확도는 85%가 넘어가지만, 신뢰할수 있는 데이터인지는 모르겠다.\n",
    "\n",
    "각각의 모델 조합은 핸즈온 머신러닝과 모두의 딥러닝 책들을 보면서 하였으나, 각각의 모델에서 몇층 모델에 어떠한 것을 넣는것이 좋고 구체적인 파라미터는 어떻게 하여야 하는지 각각 따져가며 경우의수를 따지며 결과를 보며 체감하는 것이 좋으나, 시간상 그렇게 하지는 못하였다.\n",
    "\n",
    "그래도 우선 구동을 시켜보면서 어떠한 함수가 어떤 특징을 가지고 있는지를 찾아보며 공부를 할수 있는 시간이었고, 한가지 아쉬운점은 compile()할때의 조건들을 변화시켜보지 못한것도 아쉽다. (일종의 통제변인으로 작용했지만, 모델조합은 그대로해놓고 조작변인으로 돌려보면, 좀더 원리를 직접 알수 있지 않을까 생각한다.)\n",
    "\n",
    "결국 딥러닝의 전반적인 큰 그림과 상세한 구동원리까지 알아야 하는건데, 아직까지는 부족한 점이 많아 보인다.\n",
    "노드로 돌아가서 복습할 부분과 정리할 부분들 선별하여 머릿속에 정리를 하여서 다시 한번 해봐야겠다는 생각이 들었다.\n",
    "\n",
    "자연어 처리는 사실 너무 어렵다는 생각도 든다.\n",
    "\n",
    "루브릭 평가문항에서는\n",
    "1. 다양한 방법으로 Text Classification 태스크를 성공적으로 구현하였다.\n",
    "-> 우선적으로 별 오류없이 구동이 되어서 평가기준을 충족하는거 같고\n",
    "\n",
    "2. gensim을 활용하여 자체학습된 혹은 사전학습된 임베딩 레이어를 분석하였다.\n",
    "-> 사전에 나라이름이나 음식이름으로 유사단어찾기도 성공하였다.\n",
    "\n",
    "3.  한국어 Word2Vec을 활용하여 가시적인 성능향상을 달성했다.\n",
    "-> 이와같은 경우에는 validation과 test set의 편차가 있는 편인지라 잘은 모르겠으나, 한번 물어보고 찾아보고 분석이 필요할꺼 같아 보인다."
   ]
  },
  {
   "cell_type": "code",
   "execution_count": null,
   "id": "2dc80589",
   "metadata": {},
   "outputs": [],
   "source": []
  }
 ],
 "metadata": {
  "kernelspec": {
   "display_name": "Python 3 (ipykernel)",
   "language": "python",
   "name": "python3"
  },
  "language_info": {
   "codemirror_mode": {
    "name": "ipython",
    "version": 3
   },
   "file_extension": ".py",
   "mimetype": "text/x-python",
   "name": "python",
   "nbconvert_exporter": "python",
   "pygments_lexer": "ipython3",
   "version": "3.9.7"
  }
 },
 "nbformat": 4,
 "nbformat_minor": 5
}
