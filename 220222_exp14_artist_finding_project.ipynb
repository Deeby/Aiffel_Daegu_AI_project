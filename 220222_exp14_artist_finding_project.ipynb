{
 "cells": [
  {
   "cell_type": "code",
   "execution_count": 1,
   "id": "2a97c7e7",
   "metadata": {},
   "outputs": [],
   "source": [
    "# 14-9. 프로젝트 - Movielens 영화 추천 실습"
   ]
  },
  {
   "cell_type": "markdown",
   "id": "706c695e",
   "metadata": {},
   "source": [
    "27 line 부터 colab과 연결되어 진행.\n",
    "\n",
    "아래 코드들은 그냥 복붙한 상태"
   ]
  },
  {
   "cell_type": "code",
   "execution_count": 2,
   "id": "dac8e6b4",
   "metadata": {},
   "outputs": [
    {
     "data": {
      "text/html": [
       "<div>\n",
       "<style scoped>\n",
       "    .dataframe tbody tr th:only-of-type {\n",
       "        vertical-align: middle;\n",
       "    }\n",
       "\n",
       "    .dataframe tbody tr th {\n",
       "        vertical-align: top;\n",
       "    }\n",
       "\n",
       "    .dataframe thead th {\n",
       "        text-align: right;\n",
       "    }\n",
       "</style>\n",
       "<table border=\"1\" class=\"dataframe\">\n",
       "  <thead>\n",
       "    <tr style=\"text-align: right;\">\n",
       "      <th></th>\n",
       "      <th>user_id</th>\n",
       "      <th>movie_id</th>\n",
       "      <th>ratings</th>\n",
       "      <th>timestamp</th>\n",
       "    </tr>\n",
       "  </thead>\n",
       "  <tbody>\n",
       "    <tr>\n",
       "      <th>0</th>\n",
       "      <td>1</td>\n",
       "      <td>1193</td>\n",
       "      <td>5</td>\n",
       "      <td>978300760</td>\n",
       "    </tr>\n",
       "    <tr>\n",
       "      <th>1</th>\n",
       "      <td>1</td>\n",
       "      <td>661</td>\n",
       "      <td>3</td>\n",
       "      <td>978302109</td>\n",
       "    </tr>\n",
       "    <tr>\n",
       "      <th>2</th>\n",
       "      <td>1</td>\n",
       "      <td>914</td>\n",
       "      <td>3</td>\n",
       "      <td>978301968</td>\n",
       "    </tr>\n",
       "    <tr>\n",
       "      <th>3</th>\n",
       "      <td>1</td>\n",
       "      <td>3408</td>\n",
       "      <td>4</td>\n",
       "      <td>978300275</td>\n",
       "    </tr>\n",
       "    <tr>\n",
       "      <th>4</th>\n",
       "      <td>1</td>\n",
       "      <td>2355</td>\n",
       "      <td>5</td>\n",
       "      <td>978824291</td>\n",
       "    </tr>\n",
       "  </tbody>\n",
       "</table>\n",
       "</div>"
      ],
      "text/plain": [
       "   user_id  movie_id  ratings  timestamp\n",
       "0        1      1193        5  978300760\n",
       "1        1       661        3  978302109\n",
       "2        1       914        3  978301968\n",
       "3        1      3408        4  978300275\n",
       "4        1      2355        5  978824291"
      ]
     },
     "execution_count": 2,
     "metadata": {},
     "output_type": "execute_result"
    }
   ],
   "source": [
    "import pandas as pd\n",
    "import os\n",
    "rating_file_path=os.getenv('HOME') + '/aiffel/recommendata_iu/data/ml-1m/ratings.dat'\n",
    "ratings_cols = ['user_id', 'movie_id', 'ratings', 'timestamp']\n",
    "ratings = pd.read_csv(rating_file_path, sep='::', names=ratings_cols, engine='python', encoding = \"ISO-8859-1\")\n",
    "orginal_data_size = len(ratings)\n",
    "ratings.head()"
   ]
  },
  {
   "cell_type": "code",
   "execution_count": 3,
   "id": "2d9673c2",
   "metadata": {},
   "outputs": [
    {
     "data": {
      "text/html": [
       "<div>\n",
       "<style scoped>\n",
       "    .dataframe tbody tr th:only-of-type {\n",
       "        vertical-align: middle;\n",
       "    }\n",
       "\n",
       "    .dataframe tbody tr th {\n",
       "        vertical-align: top;\n",
       "    }\n",
       "\n",
       "    .dataframe thead th {\n",
       "        text-align: right;\n",
       "    }\n",
       "</style>\n",
       "<table border=\"1\" class=\"dataframe\">\n",
       "  <thead>\n",
       "    <tr style=\"text-align: right;\">\n",
       "      <th></th>\n",
       "      <th>user_id</th>\n",
       "      <th>movie_id</th>\n",
       "      <th>ratings</th>\n",
       "      <th>timestamp</th>\n",
       "    </tr>\n",
       "  </thead>\n",
       "  <tbody>\n",
       "    <tr>\n",
       "      <th>1000204</th>\n",
       "      <td>6040</td>\n",
       "      <td>1091</td>\n",
       "      <td>1</td>\n",
       "      <td>956716541</td>\n",
       "    </tr>\n",
       "    <tr>\n",
       "      <th>1000205</th>\n",
       "      <td>6040</td>\n",
       "      <td>1094</td>\n",
       "      <td>5</td>\n",
       "      <td>956704887</td>\n",
       "    </tr>\n",
       "    <tr>\n",
       "      <th>1000206</th>\n",
       "      <td>6040</td>\n",
       "      <td>562</td>\n",
       "      <td>5</td>\n",
       "      <td>956704746</td>\n",
       "    </tr>\n",
       "    <tr>\n",
       "      <th>1000207</th>\n",
       "      <td>6040</td>\n",
       "      <td>1096</td>\n",
       "      <td>4</td>\n",
       "      <td>956715648</td>\n",
       "    </tr>\n",
       "    <tr>\n",
       "      <th>1000208</th>\n",
       "      <td>6040</td>\n",
       "      <td>1097</td>\n",
       "      <td>4</td>\n",
       "      <td>956715569</td>\n",
       "    </tr>\n",
       "  </tbody>\n",
       "</table>\n",
       "</div>"
      ],
      "text/plain": [
       "         user_id  movie_id  ratings  timestamp\n",
       "1000204     6040      1091        1  956716541\n",
       "1000205     6040      1094        5  956704887\n",
       "1000206     6040       562        5  956704746\n",
       "1000207     6040      1096        4  956715648\n",
       "1000208     6040      1097        4  956715569"
      ]
     },
     "execution_count": 3,
     "metadata": {},
     "output_type": "execute_result"
    }
   ],
   "source": [
    "ratings.tail()"
   ]
  },
  {
   "cell_type": "code",
   "execution_count": 4,
   "id": "46a3a107",
   "metadata": {},
   "outputs": [
    {
     "name": "stdout",
     "output_type": "stream",
     "text": [
      "orginal_data_size: 1000209, filtered_data_size: 836478\n",
      "Ratio of Remaining Data is 83.63%\n"
     ]
    }
   ],
   "source": [
    "# 3점 이상만 남깁니다.\n",
    "ratings = ratings[ratings['ratings']>=3]\n",
    "filtered_data_size = len(ratings)\n",
    "\n",
    "print(f'orginal_data_size: {orginal_data_size}, filtered_data_size: {filtered_data_size}')\n",
    "print(f'Ratio of Remaining Data is {filtered_data_size / orginal_data_size:.2%}')\n"
   ]
  },
  {
   "cell_type": "code",
   "execution_count": 5,
   "id": "bad55cbe",
   "metadata": {},
   "outputs": [],
   "source": [
    "# ratings 컬럼의 이름을 counts로 바꿉니다.\n",
    "ratings.rename(columns={'ratings':'counts'}, inplace=True)"
   ]
  },
  {
   "cell_type": "code",
   "execution_count": 6,
   "id": "cb866d9b",
   "metadata": {},
   "outputs": [
    {
     "data": {
      "text/plain": [
       "0          5\n",
       "1          3\n",
       "2          3\n",
       "3          4\n",
       "4          5\n",
       "          ..\n",
       "1000203    3\n",
       "1000205    5\n",
       "1000206    5\n",
       "1000207    4\n",
       "1000208    4\n",
       "Name: counts, Length: 836478, dtype: int64"
      ]
     },
     "execution_count": 6,
     "metadata": {},
     "output_type": "execute_result"
    }
   ],
   "source": [
    "ratings['counts']"
   ]
  },
  {
   "cell_type": "code",
   "execution_count": 7,
   "id": "6a786d45",
   "metadata": {},
   "outputs": [
    {
     "data": {
      "text/html": [
       "<div>\n",
       "<style scoped>\n",
       "    .dataframe tbody tr th:only-of-type {\n",
       "        vertical-align: middle;\n",
       "    }\n",
       "\n",
       "    .dataframe tbody tr th {\n",
       "        vertical-align: top;\n",
       "    }\n",
       "\n",
       "    .dataframe thead th {\n",
       "        text-align: right;\n",
       "    }\n",
       "</style>\n",
       "<table border=\"1\" class=\"dataframe\">\n",
       "  <thead>\n",
       "    <tr style=\"text-align: right;\">\n",
       "      <th></th>\n",
       "      <th>movie_id</th>\n",
       "      <th>title</th>\n",
       "      <th>genre</th>\n",
       "    </tr>\n",
       "  </thead>\n",
       "  <tbody>\n",
       "    <tr>\n",
       "      <th>0</th>\n",
       "      <td>1</td>\n",
       "      <td>Toy Story (1995)</td>\n",
       "      <td>Animation|Children's|Comedy</td>\n",
       "    </tr>\n",
       "    <tr>\n",
       "      <th>1</th>\n",
       "      <td>2</td>\n",
       "      <td>Jumanji (1995)</td>\n",
       "      <td>Adventure|Children's|Fantasy</td>\n",
       "    </tr>\n",
       "    <tr>\n",
       "      <th>2</th>\n",
       "      <td>3</td>\n",
       "      <td>Grumpier Old Men (1995)</td>\n",
       "      <td>Comedy|Romance</td>\n",
       "    </tr>\n",
       "    <tr>\n",
       "      <th>3</th>\n",
       "      <td>4</td>\n",
       "      <td>Waiting to Exhale (1995)</td>\n",
       "      <td>Comedy|Drama</td>\n",
       "    </tr>\n",
       "    <tr>\n",
       "      <th>4</th>\n",
       "      <td>5</td>\n",
       "      <td>Father of the Bride Part II (1995)</td>\n",
       "      <td>Comedy</td>\n",
       "    </tr>\n",
       "  </tbody>\n",
       "</table>\n",
       "</div>"
      ],
      "text/plain": [
       "   movie_id                               title                         genre\n",
       "0         1                    Toy Story (1995)   Animation|Children's|Comedy\n",
       "1         2                      Jumanji (1995)  Adventure|Children's|Fantasy\n",
       "2         3             Grumpier Old Men (1995)                Comedy|Romance\n",
       "3         4            Waiting to Exhale (1995)                  Comedy|Drama\n",
       "4         5  Father of the Bride Part II (1995)                        Comedy"
      ]
     },
     "execution_count": 7,
     "metadata": {},
     "output_type": "execute_result"
    }
   ],
   "source": [
    "# 영화 제목을 보기 위해 메타 데이터를 읽어옵니다.\n",
    "movie_file_path=os.getenv('HOME') + '/aiffel/recommendata_iu/data/ml-1m/movies.dat'\n",
    "cols = ['movie_id', 'title', 'genre'] \n",
    "movies = pd.read_csv(movie_file_path, sep='::', names=cols, engine='python', encoding='ISO-8859-1')\n",
    "movies.head()"
   ]
  },
  {
   "cell_type": "code",
   "execution_count": 8,
   "id": "6a81bc29",
   "metadata": {},
   "outputs": [],
   "source": [
    "union_data = pd.merge(movies, ratings)"
   ]
  },
  {
   "cell_type": "code",
   "execution_count": 9,
   "id": "ca9367c9",
   "metadata": {},
   "outputs": [
    {
     "data": {
      "text/html": [
       "<div>\n",
       "<style scoped>\n",
       "    .dataframe tbody tr th:only-of-type {\n",
       "        vertical-align: middle;\n",
       "    }\n",
       "\n",
       "    .dataframe tbody tr th {\n",
       "        vertical-align: top;\n",
       "    }\n",
       "\n",
       "    .dataframe thead th {\n",
       "        text-align: right;\n",
       "    }\n",
       "</style>\n",
       "<table border=\"1\" class=\"dataframe\">\n",
       "  <thead>\n",
       "    <tr style=\"text-align: right;\">\n",
       "      <th></th>\n",
       "      <th>movie_id</th>\n",
       "      <th>title</th>\n",
       "      <th>genre</th>\n",
       "      <th>user_id</th>\n",
       "      <th>counts</th>\n",
       "      <th>timestamp</th>\n",
       "    </tr>\n",
       "  </thead>\n",
       "  <tbody>\n",
       "    <tr>\n",
       "      <th>0</th>\n",
       "      <td>1</td>\n",
       "      <td>toy story (1995)</td>\n",
       "      <td>Animation|Children's|Comedy</td>\n",
       "      <td>1</td>\n",
       "      <td>5</td>\n",
       "      <td>978824268</td>\n",
       "    </tr>\n",
       "    <tr>\n",
       "      <th>1</th>\n",
       "      <td>1</td>\n",
       "      <td>toy story (1995)</td>\n",
       "      <td>Animation|Children's|Comedy</td>\n",
       "      <td>6</td>\n",
       "      <td>4</td>\n",
       "      <td>978237008</td>\n",
       "    </tr>\n",
       "    <tr>\n",
       "      <th>2</th>\n",
       "      <td>1</td>\n",
       "      <td>toy story (1995)</td>\n",
       "      <td>Animation|Children's|Comedy</td>\n",
       "      <td>8</td>\n",
       "      <td>4</td>\n",
       "      <td>978233496</td>\n",
       "    </tr>\n",
       "    <tr>\n",
       "      <th>3</th>\n",
       "      <td>1</td>\n",
       "      <td>toy story (1995)</td>\n",
       "      <td>Animation|Children's|Comedy</td>\n",
       "      <td>9</td>\n",
       "      <td>5</td>\n",
       "      <td>978225952</td>\n",
       "    </tr>\n",
       "    <tr>\n",
       "      <th>4</th>\n",
       "      <td>1</td>\n",
       "      <td>toy story (1995)</td>\n",
       "      <td>Animation|Children's|Comedy</td>\n",
       "      <td>10</td>\n",
       "      <td>5</td>\n",
       "      <td>978226474</td>\n",
       "    </tr>\n",
       "    <tr>\n",
       "      <th>5</th>\n",
       "      <td>1</td>\n",
       "      <td>toy story (1995)</td>\n",
       "      <td>Animation|Children's|Comedy</td>\n",
       "      <td>18</td>\n",
       "      <td>4</td>\n",
       "      <td>978154768</td>\n",
       "    </tr>\n",
       "    <tr>\n",
       "      <th>6</th>\n",
       "      <td>1</td>\n",
       "      <td>toy story (1995)</td>\n",
       "      <td>Animation|Children's|Comedy</td>\n",
       "      <td>19</td>\n",
       "      <td>5</td>\n",
       "      <td>978555994</td>\n",
       "    </tr>\n",
       "    <tr>\n",
       "      <th>7</th>\n",
       "      <td>1</td>\n",
       "      <td>toy story (1995)</td>\n",
       "      <td>Animation|Children's|Comedy</td>\n",
       "      <td>21</td>\n",
       "      <td>3</td>\n",
       "      <td>978139347</td>\n",
       "    </tr>\n",
       "    <tr>\n",
       "      <th>8</th>\n",
       "      <td>1</td>\n",
       "      <td>toy story (1995)</td>\n",
       "      <td>Animation|Children's|Comedy</td>\n",
       "      <td>23</td>\n",
       "      <td>4</td>\n",
       "      <td>978463614</td>\n",
       "    </tr>\n",
       "    <tr>\n",
       "      <th>9</th>\n",
       "      <td>1</td>\n",
       "      <td>toy story (1995)</td>\n",
       "      <td>Animation|Children's|Comedy</td>\n",
       "      <td>26</td>\n",
       "      <td>3</td>\n",
       "      <td>978130703</td>\n",
       "    </tr>\n",
       "    <tr>\n",
       "      <th>10</th>\n",
       "      <td>1</td>\n",
       "      <td>toy story (1995)</td>\n",
       "      <td>Animation|Children's|Comedy</td>\n",
       "      <td>28</td>\n",
       "      <td>3</td>\n",
       "      <td>978985309</td>\n",
       "    </tr>\n",
       "    <tr>\n",
       "      <th>11</th>\n",
       "      <td>1</td>\n",
       "      <td>toy story (1995)</td>\n",
       "      <td>Animation|Children's|Comedy</td>\n",
       "      <td>34</td>\n",
       "      <td>5</td>\n",
       "      <td>978102970</td>\n",
       "    </tr>\n",
       "    <tr>\n",
       "      <th>12</th>\n",
       "      <td>1</td>\n",
       "      <td>toy story (1995)</td>\n",
       "      <td>Animation|Children's|Comedy</td>\n",
       "      <td>36</td>\n",
       "      <td>5</td>\n",
       "      <td>978061285</td>\n",
       "    </tr>\n",
       "    <tr>\n",
       "      <th>13</th>\n",
       "      <td>1</td>\n",
       "      <td>toy story (1995)</td>\n",
       "      <td>Animation|Children's|Comedy</td>\n",
       "      <td>38</td>\n",
       "      <td>5</td>\n",
       "      <td>978046225</td>\n",
       "    </tr>\n",
       "    <tr>\n",
       "      <th>14</th>\n",
       "      <td>1</td>\n",
       "      <td>toy story (1995)</td>\n",
       "      <td>Animation|Children's|Comedy</td>\n",
       "      <td>44</td>\n",
       "      <td>5</td>\n",
       "      <td>978019369</td>\n",
       "    </tr>\n",
       "    <tr>\n",
       "      <th>15</th>\n",
       "      <td>1</td>\n",
       "      <td>toy story (1995)</td>\n",
       "      <td>Animation|Children's|Comedy</td>\n",
       "      <td>45</td>\n",
       "      <td>4</td>\n",
       "      <td>977990044</td>\n",
       "    </tr>\n",
       "    <tr>\n",
       "      <th>16</th>\n",
       "      <td>1</td>\n",
       "      <td>toy story (1995)</td>\n",
       "      <td>Animation|Children's|Comedy</td>\n",
       "      <td>48</td>\n",
       "      <td>4</td>\n",
       "      <td>977975909</td>\n",
       "    </tr>\n",
       "    <tr>\n",
       "      <th>17</th>\n",
       "      <td>1</td>\n",
       "      <td>toy story (1995)</td>\n",
       "      <td>Animation|Children's|Comedy</td>\n",
       "      <td>49</td>\n",
       "      <td>5</td>\n",
       "      <td>977972501</td>\n",
       "    </tr>\n",
       "    <tr>\n",
       "      <th>18</th>\n",
       "      <td>1</td>\n",
       "      <td>toy story (1995)</td>\n",
       "      <td>Animation|Children's|Comedy</td>\n",
       "      <td>51</td>\n",
       "      <td>5</td>\n",
       "      <td>977947828</td>\n",
       "    </tr>\n",
       "    <tr>\n",
       "      <th>19</th>\n",
       "      <td>1</td>\n",
       "      <td>toy story (1995)</td>\n",
       "      <td>Animation|Children's|Comedy</td>\n",
       "      <td>56</td>\n",
       "      <td>5</td>\n",
       "      <td>977938855</td>\n",
       "    </tr>\n",
       "  </tbody>\n",
       "</table>\n",
       "</div>"
      ],
      "text/plain": [
       "    movie_id             title                        genre  user_id  counts  \\\n",
       "0          1  toy story (1995)  Animation|Children's|Comedy        1       5   \n",
       "1          1  toy story (1995)  Animation|Children's|Comedy        6       4   \n",
       "2          1  toy story (1995)  Animation|Children's|Comedy        8       4   \n",
       "3          1  toy story (1995)  Animation|Children's|Comedy        9       5   \n",
       "4          1  toy story (1995)  Animation|Children's|Comedy       10       5   \n",
       "5          1  toy story (1995)  Animation|Children's|Comedy       18       4   \n",
       "6          1  toy story (1995)  Animation|Children's|Comedy       19       5   \n",
       "7          1  toy story (1995)  Animation|Children's|Comedy       21       3   \n",
       "8          1  toy story (1995)  Animation|Children's|Comedy       23       4   \n",
       "9          1  toy story (1995)  Animation|Children's|Comedy       26       3   \n",
       "10         1  toy story (1995)  Animation|Children's|Comedy       28       3   \n",
       "11         1  toy story (1995)  Animation|Children's|Comedy       34       5   \n",
       "12         1  toy story (1995)  Animation|Children's|Comedy       36       5   \n",
       "13         1  toy story (1995)  Animation|Children's|Comedy       38       5   \n",
       "14         1  toy story (1995)  Animation|Children's|Comedy       44       5   \n",
       "15         1  toy story (1995)  Animation|Children's|Comedy       45       4   \n",
       "16         1  toy story (1995)  Animation|Children's|Comedy       48       4   \n",
       "17         1  toy story (1995)  Animation|Children's|Comedy       49       5   \n",
       "18         1  toy story (1995)  Animation|Children's|Comedy       51       5   \n",
       "19         1  toy story (1995)  Animation|Children's|Comedy       56       5   \n",
       "\n",
       "    timestamp  \n",
       "0   978824268  \n",
       "1   978237008  \n",
       "2   978233496  \n",
       "3   978225952  \n",
       "4   978226474  \n",
       "5   978154768  \n",
       "6   978555994  \n",
       "7   978139347  \n",
       "8   978463614  \n",
       "9   978130703  \n",
       "10  978985309  \n",
       "11  978102970  \n",
       "12  978061285  \n",
       "13  978046225  \n",
       "14  978019369  \n",
       "15  977990044  \n",
       "16  977975909  \n",
       "17  977972501  \n",
       "18  977947828  \n",
       "19  977938855  "
      ]
     },
     "execution_count": 9,
     "metadata": {},
     "output_type": "execute_result"
    }
   ],
   "source": [
    "union_data['title'] = union_data['title'].str.lower() # 검색을 쉽게 하기 위해 영화 제목을 소문자로 바꿔주기\n",
    "union_data.head(20)"
   ]
  },
  {
   "cell_type": "code",
   "execution_count": 10,
   "id": "78e1d598",
   "metadata": {},
   "outputs": [
    {
     "data": {
      "text/plain": [
       "3628"
      ]
     },
     "execution_count": 10,
     "metadata": {},
     "output_type": "execute_result"
    }
   ],
   "source": [
    "# ratings에 있는 유니크한 영화 개수\n",
    "ratings['movie_id'].nunique()"
   ]
  },
  {
   "cell_type": "code",
   "execution_count": 11,
   "id": "d7b64b5d",
   "metadata": {},
   "outputs": [
    {
     "data": {
      "text/plain": [
       "6039"
      ]
     },
     "execution_count": 11,
     "metadata": {},
     "output_type": "execute_result"
    }
   ],
   "source": [
    "# ratings에 있는 유니크한 사용자 수\n",
    "ratings['user_id'].nunique()"
   ]
  },
  {
   "cell_type": "code",
   "execution_count": 12,
   "id": "dc52d33b",
   "metadata": {},
   "outputs": [
    {
     "data": {
      "text/plain": [
       "title\n",
       "american beauty (1999)                                   3211\n",
       "star wars: episode iv - a new hope (1977)                2910\n",
       "star wars: episode v - the empire strikes back (1980)    2885\n",
       "star wars: episode vi - return of the jedi (1983)        2716\n",
       "saving private ryan (1998)                               2561\n",
       "terminator 2: judgment day (1991)                        2509\n",
       "silence of the lambs, the (1991)                         2498\n",
       "raiders of the lost ark (1981)                           2473\n",
       "back to the future (1985)                                2460\n",
       "matrix, the (1999)                                       2434\n",
       "jurassic park (1993)                                     2413\n",
       "sixth sense, the (1999)                                  2385\n",
       "fargo (1996)                                             2371\n",
       "braveheart (1995)                                        2314\n",
       "men in black (1997)                                      2297\n",
       "schindler's list (1993)                                  2257\n",
       "princess bride, the (1987)                               2252\n",
       "shakespeare in love (1998)                               2213\n",
       "l.a. confidential (1997)                                 2210\n",
       "shawshank redemption, the (1994)                         2194\n",
       "godfather, the (1972)                                    2167\n",
       "groundhog day (1993)                                     2121\n",
       "e.t. the extra-terrestrial (1982)                        2102\n",
       "being john malkovich (1999)                              2066\n",
       "ghostbusters (1984)                                      2051\n",
       "pulp fiction (1994)                                      2030\n",
       "forrest gump (1994)                                      2022\n",
       "terminator, the (1984)                                   2019\n",
       "toy story (1995)                                         2000\n",
       "fugitive, the (1993)                                     1941\n",
       "Name: user_id, dtype: int64"
      ]
     },
     "execution_count": 12,
     "metadata": {},
     "output_type": "execute_result"
    }
   ],
   "source": [
    "# 가장 인기 있는 영화 30개 (인기순) ---> 이 부분을 진행하기 위해 column을 병합하였다.\n",
    "\n",
    "movies_count = union_data.groupby('title')['user_id'].count()\n",
    "movies_count.sort_values(ascending=False).head(30)\n"
   ]
  },
  {
   "cell_type": "code",
   "execution_count": 13,
   "id": "b9b5cab4",
   "metadata": {},
   "outputs": [
    {
     "data": {
      "text/html": [
       "<div>\n",
       "<style scoped>\n",
       "    .dataframe tbody tr th:only-of-type {\n",
       "        vertical-align: middle;\n",
       "    }\n",
       "\n",
       "    .dataframe tbody tr th {\n",
       "        vertical-align: top;\n",
       "    }\n",
       "\n",
       "    .dataframe thead th {\n",
       "        text-align: right;\n",
       "    }\n",
       "</style>\n",
       "<table border=\"1\" class=\"dataframe\">\n",
       "  <thead>\n",
       "    <tr style=\"text-align: right;\">\n",
       "      <th></th>\n",
       "      <th>movie_id</th>\n",
       "      <th>title</th>\n",
       "      <th>genre</th>\n",
       "      <th>user_id</th>\n",
       "      <th>counts</th>\n",
       "      <th>timestamp</th>\n",
       "    </tr>\n",
       "  </thead>\n",
       "  <tbody>\n",
       "    <tr>\n",
       "      <th>836473</th>\n",
       "      <td>3952.0</td>\n",
       "      <td>contender, the (2000)</td>\n",
       "      <td>Drama|Thriller</td>\n",
       "      <td>5682</td>\n",
       "      <td>3</td>\n",
       "      <td>1.029458e+09</td>\n",
       "    </tr>\n",
       "    <tr>\n",
       "      <th>836474</th>\n",
       "      <td>3952.0</td>\n",
       "      <td>contender, the (2000)</td>\n",
       "      <td>Drama|Thriller</td>\n",
       "      <td>5812</td>\n",
       "      <td>4</td>\n",
       "      <td>9.920721e+08</td>\n",
       "    </tr>\n",
       "    <tr>\n",
       "      <th>836475</th>\n",
       "      <td>3952.0</td>\n",
       "      <td>contender, the (2000)</td>\n",
       "      <td>Drama|Thriller</td>\n",
       "      <td>5831</td>\n",
       "      <td>3</td>\n",
       "      <td>9.862231e+08</td>\n",
       "    </tr>\n",
       "    <tr>\n",
       "      <th>836476</th>\n",
       "      <td>3952.0</td>\n",
       "      <td>contender, the (2000)</td>\n",
       "      <td>Drama|Thriller</td>\n",
       "      <td>5837</td>\n",
       "      <td>4</td>\n",
       "      <td>1.011903e+09</td>\n",
       "    </tr>\n",
       "    <tr>\n",
       "      <th>836477</th>\n",
       "      <td>3952.0</td>\n",
       "      <td>contender, the (2000)</td>\n",
       "      <td>Drama|Thriller</td>\n",
       "      <td>5998</td>\n",
       "      <td>4</td>\n",
       "      <td>1.001781e+09</td>\n",
       "    </tr>\n",
       "    <tr>\n",
       "      <th>0</th>\n",
       "      <td>NaN</td>\n",
       "      <td>men in black (1997)</td>\n",
       "      <td>NaN</td>\n",
       "      <td>yeonsu</td>\n",
       "      <td>5</td>\n",
       "      <td>NaN</td>\n",
       "    </tr>\n",
       "    <tr>\n",
       "      <th>1</th>\n",
       "      <td>NaN</td>\n",
       "      <td>toy story (1995)</td>\n",
       "      <td>NaN</td>\n",
       "      <td>yeonsu</td>\n",
       "      <td>5</td>\n",
       "      <td>NaN</td>\n",
       "    </tr>\n",
       "    <tr>\n",
       "      <th>2</th>\n",
       "      <td>NaN</td>\n",
       "      <td>matrix, the (1999)</td>\n",
       "      <td>NaN</td>\n",
       "      <td>yeonsu</td>\n",
       "      <td>5</td>\n",
       "      <td>NaN</td>\n",
       "    </tr>\n",
       "    <tr>\n",
       "      <th>3</th>\n",
       "      <td>NaN</td>\n",
       "      <td>terminator 2: judgment day (1991)</td>\n",
       "      <td>NaN</td>\n",
       "      <td>yeonsu</td>\n",
       "      <td>5</td>\n",
       "      <td>NaN</td>\n",
       "    </tr>\n",
       "    <tr>\n",
       "      <th>4</th>\n",
       "      <td>NaN</td>\n",
       "      <td>terminator, the (1984)</td>\n",
       "      <td>NaN</td>\n",
       "      <td>yeonsu</td>\n",
       "      <td>5</td>\n",
       "      <td>NaN</td>\n",
       "    </tr>\n",
       "  </tbody>\n",
       "</table>\n",
       "</div>"
      ],
      "text/plain": [
       "        movie_id                              title           genre user_id  \\\n",
       "836473    3952.0              contender, the (2000)  Drama|Thriller    5682   \n",
       "836474    3952.0              contender, the (2000)  Drama|Thriller    5812   \n",
       "836475    3952.0              contender, the (2000)  Drama|Thriller    5831   \n",
       "836476    3952.0              contender, the (2000)  Drama|Thriller    5837   \n",
       "836477    3952.0              contender, the (2000)  Drama|Thriller    5998   \n",
       "0            NaN                men in black (1997)             NaN  yeonsu   \n",
       "1            NaN                   toy story (1995)             NaN  yeonsu   \n",
       "2            NaN                 matrix, the (1999)             NaN  yeonsu   \n",
       "3            NaN  terminator 2: judgment day (1991)             NaN  yeonsu   \n",
       "4            NaN             terminator, the (1984)             NaN  yeonsu   \n",
       "\n",
       "        counts     timestamp  \n",
       "836473       3  1.029458e+09  \n",
       "836474       4  9.920721e+08  \n",
       "836475       3  9.862231e+08  \n",
       "836476       4  1.011903e+09  \n",
       "836477       4  1.001781e+09  \n",
       "0            5           NaN  \n",
       "1            5           NaN  \n",
       "2            5           NaN  \n",
       "3            5           NaN  \n",
       "4            5           NaN  "
      ]
     },
     "execution_count": 13,
     "metadata": {},
     "output_type": "execute_result"
    }
   ],
   "source": [
    "# 좋아하는 영화 5가지 선정.. 단, 이름은 꼭 데이터 셋에 있는 것과 동일하게 맞춰야한다.\n",
    "my_favorite = ['men in black (1997)' , 'toy story (1995)' ,'matrix, the (1999)' ,'terminator 2: judgment day (1991)' ,'terminator, the (1984)']\n",
    "\n",
    "# 내 user_id를 추가\n",
    "my_playlist = pd.DataFrame({'user_id': ['yeonsu'] * 5, 'title': my_favorite, 'counts':[5]*5})\n",
    "\n",
    "if not union_data.isin({'user_id': ['yeonsu']})['user_id'].any(): #user_id에 yeonsu 라는 데이터가 없다면, 위에 임으로 만든 my_favorite 데이터를 추가해준다.\n",
    "    union_data = union_data.append(my_playlist)\n",
    "    \n",
    "union_data.tail(10)"
   ]
  },
  {
   "cell_type": "code",
   "execution_count": 14,
   "id": "2d39a9e4",
   "metadata": {},
   "outputs": [],
   "source": [
    "# 고유한 유저, 아티스트를 찾아내는 코드\n",
    "user_unique = union_data['user_id'].unique()\n",
    "artist_unique = union_data['title'].unique()\n",
    "\n",
    "\n",
    "# 유저, 아티스트 indexing 하는 코드 idx는 index의 약자다.\n",
    "\n",
    "user_to_idx = {v:k for k,v in enumerate(user_unique)}\n",
    "title_to_idx = {v:k for k,v in enumerate(artist_unique)}"
   ]
  },
  {
   "cell_type": "code",
   "execution_count": 15,
   "id": "6045a441",
   "metadata": {},
   "outputs": [
    {
     "name": "stdout",
     "output_type": "stream",
     "text": [
      "6039\n",
      "1122\n"
     ]
    }
   ],
   "source": [
    "#인덱싱이 잘 되었는지 확인해 보자\n",
    "print(user_to_idx['yeonsu']) \n",
    "print(title_to_idx['terminator, the (1984)'])"
   ]
  },
  {
   "cell_type": "code",
   "execution_count": 16,
   "id": "1645a126",
   "metadata": {},
   "outputs": [
    {
     "name": "stdout",
     "output_type": "stream",
     "text": [
      "user_id column indexing OK!!\n",
      "title column indexing OK!!\n"
     ]
    },
    {
     "data": {
      "text/html": [
       "<div>\n",
       "<style scoped>\n",
       "    .dataframe tbody tr th:only-of-type {\n",
       "        vertical-align: middle;\n",
       "    }\n",
       "\n",
       "    .dataframe tbody tr th {\n",
       "        vertical-align: top;\n",
       "    }\n",
       "\n",
       "    .dataframe thead th {\n",
       "        text-align: right;\n",
       "    }\n",
       "</style>\n",
       "<table border=\"1\" class=\"dataframe\">\n",
       "  <thead>\n",
       "    <tr style=\"text-align: right;\">\n",
       "      <th></th>\n",
       "      <th>movie_id</th>\n",
       "      <th>title</th>\n",
       "      <th>genre</th>\n",
       "      <th>user_id</th>\n",
       "      <th>counts</th>\n",
       "      <th>timestamp</th>\n",
       "    </tr>\n",
       "  </thead>\n",
       "  <tbody>\n",
       "    <tr>\n",
       "      <th>0</th>\n",
       "      <td>1.0</td>\n",
       "      <td>0</td>\n",
       "      <td>Animation|Children's|Comedy</td>\n",
       "      <td>0</td>\n",
       "      <td>5</td>\n",
       "      <td>978824268.0</td>\n",
       "    </tr>\n",
       "    <tr>\n",
       "      <th>1</th>\n",
       "      <td>1.0</td>\n",
       "      <td>0</td>\n",
       "      <td>Animation|Children's|Comedy</td>\n",
       "      <td>1</td>\n",
       "      <td>4</td>\n",
       "      <td>978237008.0</td>\n",
       "    </tr>\n",
       "    <tr>\n",
       "      <th>2</th>\n",
       "      <td>1.0</td>\n",
       "      <td>0</td>\n",
       "      <td>Animation|Children's|Comedy</td>\n",
       "      <td>2</td>\n",
       "      <td>4</td>\n",
       "      <td>978233496.0</td>\n",
       "    </tr>\n",
       "    <tr>\n",
       "      <th>3</th>\n",
       "      <td>1.0</td>\n",
       "      <td>0</td>\n",
       "      <td>Animation|Children's|Comedy</td>\n",
       "      <td>3</td>\n",
       "      <td>5</td>\n",
       "      <td>978225952.0</td>\n",
       "    </tr>\n",
       "    <tr>\n",
       "      <th>4</th>\n",
       "      <td>1.0</td>\n",
       "      <td>0</td>\n",
       "      <td>Animation|Children's|Comedy</td>\n",
       "      <td>4</td>\n",
       "      <td>5</td>\n",
       "      <td>978226474.0</td>\n",
       "    </tr>\n",
       "    <tr>\n",
       "      <th>...</th>\n",
       "      <td>...</td>\n",
       "      <td>...</td>\n",
       "      <td>...</td>\n",
       "      <td>...</td>\n",
       "      <td>...</td>\n",
       "      <td>...</td>\n",
       "    </tr>\n",
       "    <tr>\n",
       "      <th>0</th>\n",
       "      <td>NaN</td>\n",
       "      <td>1419</td>\n",
       "      <td>NaN</td>\n",
       "      <td>6039</td>\n",
       "      <td>5</td>\n",
       "      <td>NaN</td>\n",
       "    </tr>\n",
       "    <tr>\n",
       "      <th>1</th>\n",
       "      <td>NaN</td>\n",
       "      <td>0</td>\n",
       "      <td>NaN</td>\n",
       "      <td>6039</td>\n",
       "      <td>5</td>\n",
       "      <td>NaN</td>\n",
       "    </tr>\n",
       "    <tr>\n",
       "      <th>2</th>\n",
       "      <td>NaN</td>\n",
       "      <td>2325</td>\n",
       "      <td>NaN</td>\n",
       "      <td>6039</td>\n",
       "      <td>5</td>\n",
       "      <td>NaN</td>\n",
       "    </tr>\n",
       "    <tr>\n",
       "      <th>3</th>\n",
       "      <td>NaN</td>\n",
       "      <td>569</td>\n",
       "      <td>NaN</td>\n",
       "      <td>6039</td>\n",
       "      <td>5</td>\n",
       "      <td>NaN</td>\n",
       "    </tr>\n",
       "    <tr>\n",
       "      <th>4</th>\n",
       "      <td>NaN</td>\n",
       "      <td>1122</td>\n",
       "      <td>NaN</td>\n",
       "      <td>6039</td>\n",
       "      <td>5</td>\n",
       "      <td>NaN</td>\n",
       "    </tr>\n",
       "  </tbody>\n",
       "</table>\n",
       "<p>836483 rows × 6 columns</p>\n",
       "</div>"
      ],
      "text/plain": [
       "    movie_id  title                        genre  user_id  counts    timestamp\n",
       "0        1.0      0  Animation|Children's|Comedy        0       5  978824268.0\n",
       "1        1.0      0  Animation|Children's|Comedy        1       4  978237008.0\n",
       "2        1.0      0  Animation|Children's|Comedy        2       4  978233496.0\n",
       "3        1.0      0  Animation|Children's|Comedy        3       5  978225952.0\n",
       "4        1.0      0  Animation|Children's|Comedy        4       5  978226474.0\n",
       "..       ...    ...                          ...      ...     ...          ...\n",
       "0        NaN   1419                          NaN     6039       5          NaN\n",
       "1        NaN      0                          NaN     6039       5          NaN\n",
       "2        NaN   2325                          NaN     6039       5          NaN\n",
       "3        NaN    569                          NaN     6039       5          NaN\n",
       "4        NaN   1122                          NaN     6039       5          NaN\n",
       "\n",
       "[836483 rows x 6 columns]"
      ]
     },
     "execution_count": 16,
     "metadata": {},
     "output_type": "execute_result"
    }
   ],
   "source": [
    "# indexing을 통해 데이터 컬럼 내 값을 바꾸는 코드\n",
    "# dictionary 자료형의 get 함수는 https://wikidocs.net/16 을 참고하세요.\n",
    "\n",
    "# user_to_idx.get을 통해 user_id 컬럼의 모든 값을 인덱싱한 Series를 구해 봅시다. \n",
    "# 혹시 정상적으로 인덱싱되지 않은 row가 있다면 인덱스가 NaN이 될 테니 dropna()로 제거합니다. \n",
    "temp_user_data = union_data['user_id'].map(user_to_idx.get).dropna()\n",
    "if len(temp_user_data) == len(union_data): #모든 row가 정상적으로 인덱싱 되었ㄷ면 \n",
    "    print('user_id column indexing OK!!')\n",
    "    union_data['user_id'] = temp_user_data #data['user_id']을 인덱싱된 Series로 교체해준다\n",
    "else:\n",
    "    print('user_id column indexing Fail')\n",
    "    \n",
    "#title_to_idx를 통해 title 컬럼도 동일한 방식으로 인덱싱해준다.\n",
    "temp_title_data = union_data['title'].map(title_to_idx.get).dropna()\n",
    "if len(temp_title_data) == len(union_data):\n",
    "    print('title column indexing OK!!')\n",
    "    union_data['title'] = temp_title_data\n",
    "else:\n",
    "    print('title column indexing Fail!!')\n",
    "\n",
    "union_data"
   ]
  },
  {
   "cell_type": "code",
   "execution_count": 17,
   "id": "a45bc273",
   "metadata": {},
   "outputs": [],
   "source": [
    "import scipy"
   ]
  },
  {
   "cell_type": "code",
   "execution_count": 18,
   "id": "4606b421",
   "metadata": {},
   "outputs": [
    {
     "data": {
      "text/plain": [
       "'1.7.1'"
      ]
     },
     "execution_count": 18,
     "metadata": {},
     "output_type": "execute_result"
    }
   ],
   "source": [
    "scipy.__version__"
   ]
  },
  {
   "cell_type": "code",
   "execution_count": 19,
   "id": "97231af1",
   "metadata": {},
   "outputs": [
    {
     "data": {
      "text/plain": [
       "<6040x3628 sparse matrix of type '<class 'numpy.int64'>'\n",
       "\twith 836483 stored elements in Compressed Sparse Row format>"
      ]
     },
     "execution_count": 19,
     "metadata": {},
     "output_type": "execute_result"
    }
   ],
   "source": [
    "from scipy.sparse import csr_matrix\n",
    "\n",
    "num_user = union_data['user_id'].nunique()\n",
    "num_title = union_data['title'].nunique()\n",
    "\n",
    "csr_data = csr_matrix((union_data.counts, (union_data.user_id, union_data.title)), shape= (num_user, num_title))\n",
    "csr_data"
   ]
  },
  {
   "cell_type": "code",
   "execution_count": 20,
   "id": "0f44fa3b",
   "metadata": {},
   "outputs": [],
   "source": [
    "from implicit.als import AlternatingLeastSquares\n",
    "import numpy as np\n",
    "import os\n",
    "#implicit 라이브러리에서 권장하고 있는 부분이다. 학습내용과는 무관하다.\n",
    "os.environ['OPENBLAS_NUM_THREADS']='1'\n",
    "os.environ['KMP_DUPLICATE_LIB_OK']='True'\n",
    "os.environ['MKL_NUM_THREADS']='1'\n",
    "\n",
    "\n",
    "# Implicit AlternatingLeastSquares 모델의 선언\n",
    "als_model = AlternatingLeastSquares(factors=100, regularization=0.01, use_gpu=False, iterations=15, dtype=np.float32)"
   ]
  },
  {
   "cell_type": "code",
   "execution_count": 21,
   "id": "108bcfed",
   "metadata": {},
   "outputs": [
    {
     "data": {
      "text/plain": [
       "<3628x6040 sparse matrix of type '<class 'numpy.int64'>'\n",
       "\twith 836483 stored elements in Compressed Sparse Column format>"
      ]
     },
     "execution_count": 21,
     "metadata": {},
     "output_type": "execute_result"
    }
   ],
   "source": [
    "# als 모델은 input으로 (item X user 꼴의 matrix를 받기 때문에 Transpose해줍니다.)\n",
    "csr_data_transpose = csr_data.T\n",
    "csr_data_transpose"
   ]
  },
  {
   "cell_type": "code",
   "execution_count": 22,
   "id": "06808d5c",
   "metadata": {},
   "outputs": [
    {
     "data": {
      "application/vnd.jupyter.widget-view+json": {
       "model_id": "b3b20a5f94114440b8040b291e2ecbfd",
       "version_major": 2,
       "version_minor": 0
      },
      "text/plain": [
       "  0%|          | 0/15 [00:00<?, ?it/s]"
      ]
     },
     "metadata": {},
     "output_type": "display_data"
    }
   ],
   "source": [
    "# 모델 훈련\n",
    "als_model.fit(csr_data_transpose)"
   ]
  },
  {
   "cell_type": "code",
   "execution_count": 23,
   "id": "0293f443",
   "metadata": {},
   "outputs": [],
   "source": [
    "yeonsu, matrix   = user_to_idx['yeonsu'], title_to_idx['matrix, the (1999)']\n",
    "yeonsu_vector, matrix_vector = als_model.user_factors[yeonsu], als_model.item_factors[matrix]\n"
   ]
  },
  {
   "cell_type": "code",
   "execution_count": 24,
   "id": "d6837da9",
   "metadata": {},
   "outputs": [
    {
     "data": {
      "text/plain": [
       "array([-0.83619446, -0.00592301, -0.22873536,  0.21235475, -0.08240253,\n",
       "        0.1872797 , -0.10469506, -0.06310552,  0.40383846,  0.12561573,\n",
       "        1.0061638 , -0.41752762, -0.40242803,  0.8860083 , -0.39607662,\n",
       "        0.36821517, -0.338462  , -0.6996171 ,  0.53031516,  0.08612081,\n",
       "       -0.91118777, -0.17217857, -0.8221992 , -0.8835346 , -0.03253492,\n",
       "       -0.45109472, -0.7932447 , -0.43381885,  0.35849968,  0.17750579,\n",
       "        0.37914234,  0.7090151 ,  0.08397509,  0.3766881 ,  0.14187458,\n",
       "       -0.10648315,  0.12186001,  0.04489665, -0.13221616, -0.39203006,\n",
       "       -0.9713708 , -0.12476172,  0.2863571 ,  0.44975287,  0.6912726 ,\n",
       "        0.24567169, -0.19406724,  0.07652192, -0.20346987,  0.25425628,\n",
       "       -0.5205283 ,  0.24084017, -0.20751087,  0.6597895 ,  1.1810089 ,\n",
       "        1.8119426 ,  0.54806656, -0.6865691 , -1.1957948 ,  0.7399651 ,\n",
       "       -0.155961  ,  0.17304513,  0.15918419,  0.46019077,  0.0104661 ,\n",
       "       -0.2687146 , -0.3178629 , -0.05468739, -0.00937359, -0.47372693,\n",
       "       -0.21152435, -0.51472986,  0.36098793, -0.42590958, -0.3800876 ,\n",
       "       -0.46884117, -0.14472234,  0.37725937,  0.68410814, -0.02408304,\n",
       "        0.2003    ,  0.6731713 , -0.03962429,  0.4417895 ,  0.9769481 ,\n",
       "        0.72409683, -0.66480845, -0.5009011 ,  0.07660452,  0.2047966 ,\n",
       "        0.6358577 ,  0.01485426, -0.3733104 ,  0.65172344, -0.98387855,\n",
       "       -0.1591977 , -0.8543446 , -0.02491646,  0.39750963,  1.162531  ],\n",
       "      dtype=float32)"
      ]
     },
     "execution_count": 24,
     "metadata": {},
     "output_type": "execute_result"
    }
   ],
   "source": [
    "yeonsu_vector"
   ]
  },
  {
   "cell_type": "code",
   "execution_count": 25,
   "id": "2685af6d",
   "metadata": {},
   "outputs": [
    {
     "data": {
      "text/plain": [
       "array([-0.01296792,  0.00343929, -0.00791688,  0.00821754, -0.0080648 ,\n",
       "        0.00602434,  0.02444973,  0.0100858 ,  0.00727845, -0.00387721,\n",
       "        0.02206686,  0.00285752, -0.00418482,  0.03612285,  0.00080069,\n",
       "        0.02978816,  0.0061532 , -0.0024142 ,  0.01767204,  0.00784709,\n",
       "       -0.02062538,  0.00712714, -0.00103647, -0.01295213,  0.02091905,\n",
       "       -0.01067985, -0.03710958,  0.00848242, -0.00310594,  0.00313232,\n",
       "        0.01591389,  0.01444577,  0.01796309,  0.0300127 , -0.00107474,\n",
       "       -0.01080802,  0.00931126,  0.0093155 ,  0.0076676 ,  0.01031529,\n",
       "       -0.02017689,  0.01120362,  0.00824194,  0.00378462,  0.01588929,\n",
       "        0.01390376,  0.02438606, -0.01708982, -0.01230957,  0.01686902,\n",
       "       -0.00792046,  0.01465435, -0.00594111,  0.03778413,  0.04147772,\n",
       "        0.04813602,  0.0163599 , -0.01122039, -0.02627104,  0.0237455 ,\n",
       "        0.0064544 ,  0.01777681,  0.009486  ,  0.00826781,  0.00326336,\n",
       "       -0.00554169, -0.01981619,  0.01307553, -0.01492207, -0.00544875,\n",
       "       -0.00609477,  0.00134388,  0.00636118, -0.00728416, -0.01541544,\n",
       "       -0.0041493 , -0.01850114,  0.02690519,  0.01609472, -0.00507291,\n",
       "        0.01822298,  0.01839824,  0.00444821,  0.01277523,  0.02615933,\n",
       "        0.03702348, -0.02299095, -0.01990443,  0.00562731,  0.01561865,\n",
       "        0.02238589,  0.01216833,  0.00315001,  0.01995528, -0.04203269,\n",
       "       -0.00847748, -0.00835173,  0.02270347,  0.01155969,  0.02693364],\n",
       "      dtype=float32)"
      ]
     },
     "execution_count": 25,
     "metadata": {},
     "output_type": "execute_result"
    }
   ],
   "source": [
    "matrix_vector"
   ]
  },
  {
   "cell_type": "markdown",
   "id": "4db76758",
   "metadata": {},
   "source": [
    "# colab에서 연결되는 부분"
   ]
  },
  {
   "cell_type": "markdown",
   "id": "01e4c2ad",
   "metadata": {},
   "source": [
    "## 6) 내가 선호하는 5가지 영화 중 하나와 그 외의 영화 하나를 골라 훈련된 모델이 예측한 나의 선호도를 파악."
   ]
  },
  {
   "cell_type": "code",
   "execution_count": 27,
   "id": "b8aae1ea",
   "metadata": {},
   "outputs": [
    {
     "data": {
      "text/plain": [
       "0.7184577"
      ]
     },
     "execution_count": 27,
     "metadata": {},
     "output_type": "execute_result"
    }
   ],
   "source": [
    "# yeonsu_vector, matrix을 내적하는 코드\n",
    "np.dot(yeonsu_vector, matrix_vector)"
   ]
  },
  {
   "cell_type": "code",
   "execution_count": 28,
   "id": "b982702c",
   "metadata": {},
   "outputs": [
    {
     "data": {
      "text/plain": [
       "0.23786177"
      ]
     },
     "execution_count": 28,
     "metadata": {},
     "output_type": "execute_result"
    }
   ],
   "source": [
    "gump = title_to_idx['forrest gump (1994)']\n",
    "gump_vector = als_model.item_factors[gump]\n",
    "np.dot(yeonsu_vector, gump_vector)"
   ]
  },
  {
   "cell_type": "code",
   "execution_count": 34,
   "id": "51227788",
   "metadata": {},
   "outputs": [
    {
     "data": {
      "text/plain": [
       "0.03144258"
      ]
     },
     "execution_count": 34,
     "metadata": {},
     "output_type": "execute_result"
    }
   ],
   "source": [
    "gump = title_to_idx['ghostbusters (1984)']\n",
    "gump_vector = als_model.item_factors[gump]\n",
    "np.dot(yeonsu_vector, gump_vector)"
   ]
  },
  {
   "cell_type": "code",
   "execution_count": 35,
   "id": "f13106d3",
   "metadata": {},
   "outputs": [
    {
     "data": {
      "text/plain": [
       "0.15865277"
      ]
     },
     "execution_count": 35,
     "metadata": {},
     "output_type": "execute_result"
    }
   ],
   "source": [
    "gump = title_to_idx['saving private ryan (1998)']\n",
    "gump_vector = als_model.item_factors[gump]\n",
    "np.dot(yeonsu_vector, gump_vector)"
   ]
  },
  {
   "cell_type": "markdown",
   "id": "068f7d5f",
   "metadata": {},
   "source": [
    "주로 SF나 액션영화를 선택했는데, 포레스트 검프와 특히 고스트버스터즈 같은 경우에는 값이 매우 낮게 나왔다.\n",
    "라이언 일병 구하기는 액션임에도 SF 요소가 없어서 일치도가 비교적 낮게 나온거 같다."
   ]
  },
  {
   "cell_type": "markdown",
   "id": "489b75fc",
   "metadata": {},
   "source": [
    "## 7) 내가 좋아하는 영화와 비슷한 영화를 추천받아 보자.\n"
   ]
  },
  {
   "cell_type": "code",
   "execution_count": 29,
   "id": "50a9669f",
   "metadata": {},
   "outputs": [
    {
     "data": {
      "text/plain": [
       "[(569, 0.9999999),\n",
       " (2325, 0.77794725),\n",
       " (2657, 0.70244336),\n",
       " (462, 0.6901187),\n",
       " (1419, 0.61840945),\n",
       " (1122, 0.6077932),\n",
       " (439, 0.5041743),\n",
       " (106, 0.46311197),\n",
       " (904, 0.4193884),\n",
       " (1448, 0.4169301),\n",
       " (1098, 0.4073129),\n",
       " (1415, 0.4056991),\n",
       " (1084, 0.39465168),\n",
       " (249, 0.38633657),\n",
       " (1131, 0.37129077)]"
      ]
     },
     "execution_count": 29,
     "metadata": {},
     "output_type": "execute_result"
    }
   ],
   "source": [
    "favorite_title = 'terminator 2: judgment day (1991)'\n",
    "title_id = title_to_idx[favorite_title]\n",
    "similar_title = als_model.similar_items(title_id, N = 15)\n",
    "similar_title"
   ]
  },
  {
   "cell_type": "code",
   "execution_count": 30,
   "id": "318bd184",
   "metadata": {},
   "outputs": [
    {
     "data": {
      "text/plain": [
       "['terminator 2: judgment day (1991)',\n",
       " 'matrix, the (1999)',\n",
       " 'total recall (1990)',\n",
       " 'jurassic park (1993)',\n",
       " 'men in black (1997)',\n",
       " 'terminator, the (1984)',\n",
       " 'fugitive, the (1993)',\n",
       " 'braveheart (1995)',\n",
       " 'schlafes bruder (brother of sleep) (1995)',\n",
       " 'hunt for red october, the (1990)',\n",
       " 'alien (1979)',\n",
       " 'face/off (1997)',\n",
       " 'aliens (1986)',\n",
       " 'star wars: episode iv - a new hope (1977)',\n",
       " 'nikita (la femme nikita) (1990)']"
      ]
     },
     "execution_count": 30,
     "metadata": {},
     "output_type": "execute_result"
    }
   ],
   "source": [
    "#title_to_idx를 뒤집어, index로부터 title 이름을 얻는 dict를 생성한다.\n",
    "idx_to_title = {v:k for k, v in title_to_idx.items()}\n",
    "[idx_to_title[i[0]] for i in similar_title]"
   ]
  },
  {
   "cell_type": "code",
   "execution_count": 31,
   "id": "90db05e8",
   "metadata": {},
   "outputs": [],
   "source": [
    "#위의 코드를 함수로 만들고 확인\n",
    "def get_similar_title(title_name:str):\n",
    "    title_id = title_to_idx[title_name]\n",
    "    similar_title = als_model.similar_items(title_id)\n",
    "    similar_title = [idx_to_title[i[0]] for i in similar_title]\n",
    "    return similar_title"
   ]
  },
  {
   "cell_type": "markdown",
   "id": "b241ffce",
   "metadata": {},
   "source": [
    "## 8) 내가 가장 좋아할 만한 영화들을 추천받아 보자.\n"
   ]
  },
  {
   "cell_type": "code",
   "execution_count": 32,
   "id": "1b56ab79",
   "metadata": {},
   "outputs": [
    {
     "data": {
      "text/plain": [
       "[(2657, 0.5367706),\n",
       " (462, 0.5215192),\n",
       " (2845, 0.35801315),\n",
       " (1098, 0.31787598),\n",
       " (439, 0.31567848),\n",
       " (1084, 0.30326647),\n",
       " (249, 0.29530704),\n",
       " (1147, 0.2856869),\n",
       " (2114, 0.28505215),\n",
       " (1080, 0.2726769),\n",
       " (31, 0.27201974),\n",
       " (1377, 0.2692039),\n",
       " (722, 0.25938198),\n",
       " (1094, 0.25197184),\n",
       " (2377, 0.24404532),\n",
       " (342, 0.23786178),\n",
       " (568, 0.22474256),\n",
       " (1152, 0.2241033),\n",
       " (3224, 0.2192921),\n",
       " (1415, 0.2186794)]"
      ]
     },
     "execution_count": 32,
     "metadata": {},
     "output_type": "execute_result"
    }
   ],
   "source": [
    "user = user_to_idx['yeonsu']\n",
    "# recommend에서는 user*item CSR Matrix를 받는다.\n",
    "title_recommended = als_model.recommend(user, csr_data, N = 20, filter_already_liked_items = True)\n",
    "title_recommended"
   ]
  },
  {
   "cell_type": "code",
   "execution_count": 33,
   "id": "a99d21cd",
   "metadata": {},
   "outputs": [
    {
     "data": {
      "text/plain": [
       "['total recall (1990)',\n",
       " 'jurassic park (1993)',\n",
       " 'toy story 2 (1999)',\n",
       " 'alien (1979)',\n",
       " 'fugitive, the (1993)',\n",
       " 'aliens (1986)',\n",
       " 'star wars: episode iv - a new hope (1977)',\n",
       " 'groundhog day (1993)',\n",
       " \"bug's life, a (1998)\",\n",
       " 'star wars: episode v - the empire strikes back (1980)',\n",
       " 'twelve monkeys (1995)',\n",
       " 'fifth element, the (1997)',\n",
       " 'independence day (id4) (1996)',\n",
       " 'star wars: episode vi - return of the jedi (1983)',\n",
       " 'star wars: episode i - the phantom menace (1999)',\n",
       " 'forrest gump (1994)',\n",
       " 'aladdin (1992)',\n",
       " 'back to the future (1985)',\n",
       " 'predator (1987)',\n",
       " 'face/off (1997)']"
      ]
     },
     "execution_count": 33,
     "metadata": {},
     "output_type": "execute_result"
    }
   ],
   "source": [
    "[idx_to_title[i[0]] for i in title_recommended]\n"
   ]
  },
  {
   "attachments": {
    "image.png": {
     "image/png": "[encoded data removed]"
    }
   },
   "cell_type": "markdown",
   "id": "3a5e5961",
   "metadata": {},
   "source": [
    "![image.png](attachment:image.png)"
   ]
  },
  {
   "attachments": {},
   "cell_type": "markdown",
   "id": "b1815a47",
   "metadata": {},
   "source": [
    "평가 및 고찰 :\n",
    "\n",
    "모든 문항에 대해서 얼추 맞게? 나온거 같다.\n",
    "가령 정확히 수치적으로 0.7 이상이면 추천도가 좋다. 이렇게 평가할만한 지표를 만들면 좋겠으나, 퍼센트로 환산해서 본다면 괜찮게 나온듯 하다. \n",
    "\n",
    "ㅡㅡㅡㅡㅡㅡㅡㅡㅡㅡㅡㅡㅡㅡㅡㅡㅡㅡㅡㅡㅡㅡㅡㅡㅡㅡㅡㅡㅡㅡㅡㅡㅡㅡㅡㅡㅡㅡㅡㅡㅡ"
   ]
  },
  {
   "attachments": {
    "image.png": {
     "image/png": "[encoded data removed]"
    }
   },
   "cell_type": "markdown",
   "id": "7f3c2850",
   "metadata": {},
   "source": [
    "![image.png](attachment:image.png)"
   ]
  },
  {
   "cell_type": "markdown",
   "id": "39f5b0e5",
   "metadata": {},
   "source": [
    "이전 fund29에서 나온 내용인데, 고교 수학2 과정에서 배웠던 내용이 현 생활에서 이렇게 사용될지는 몰랐다. 사실 넷플릭스나 스포티파이를 써본 입장에서 항상 추천시스템이 궁금하였는데, 선형대수적인 원리로 동작하는게 신기하였다.\n",
    "\n",
    "\n",
    "\n"
   ]
  },
  {
   "attachments": {
    "image.png": {
     "image/png": "[encoded data removed]"
    }
   },
   "cell_type": "markdown",
   "id": "b179e726",
   "metadata": {},
   "source": [
    "![image.png](attachment:image.png)"
   ]
  },
  {
   "cell_type": "markdown",
   "id": "01d48a73",
   "metadata": {},
   "source": [
    "현재 프로젝트로 학습한 부분은 협업 필터링 부분인데, 사실 딥러닝을 적용하거나 하이브리드 방식으로 각각의 필터링의 장점만 탑재한 부분에 대한 학습을 못한것은 아쉽다.\n"
   ]
  },
  {
   "attachments": {
    "image.png": {
     "image/png": "[encoded data removed]"
    }
   },
   "cell_type": "markdown",
   "id": "02822305",
   "metadata": {},
   "source": [
    "![image.png](attachment:image.png)"
   ]
  },
  {
   "cell_type": "markdown",
   "id": "d26ff630",
   "metadata": {},
   "source": [
    "fund에서 봤던 특잇값 분해(SVD)와 더불어 (ALS)->한국어로 제대로 번역된 부분이 없음\n",
    "을 학습하였는데, 한번 정리를 하여야 될거 같다."
   ]
  },
  {
   "cell_type": "markdown",
   "id": "764d9a16",
   "metadata": {},
   "source": [
    "colab에서의 오류로 인해 엄청나게 시간을 허비하였는데, 이 에러도 왜 발생했는지 조금더 서치가 필요할꺼 같다."
   ]
  },
  {
   "cell_type": "code",
   "execution_count": null,
   "id": "3902a334",
   "metadata": {},
   "outputs": [],
   "source": []
  }
 ],
 "metadata": {
  "kernelspec": {
   "display_name": "Python 3 (ipykernel)",
   "language": "python",
   "name": "python3"
  },
  "language_info": {
   "codemirror_mode": {
    "name": "ipython",
    "version": 3
   },
   "file_extension": ".py",
   "mimetype": "text/x-python",
   "name": "python",
   "nbconvert_exporter": "python",
   "pygments_lexer": "ipython3",
   "version": "3.9.7"
  }
 },
 "nbformat": 4,
 "nbformat_minor": 5
}
