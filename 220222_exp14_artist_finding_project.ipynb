{
  "nbformat": 4,
  "nbformat_minor": 0,
  "metadata": {
    "colab": {
      "name": "220222_exp14_artist_finding_project.ipynb",
      "provenance": [],
      "mount_file_id": "1HTJ0LawVryADBYhf7XQAXtvlBQ4OPdVj",
      "authorship_tag": "ABX9TyNGVo2jZ28SzjuPO8PbjMz3",
      "include_colab_link": true
    },
    "kernelspec": {
      "name": "python3",
      "display_name": "Python 3"
    },
    "language_info": {
      "name": "python"
    },
    "widgets": {
      "application/vnd.jupyter.widget-state+json": {
        "707b9054ae8a476688158daeee897302": {
          "model_module": "@jupyter-widgets/controls",
          "model_name": "HBoxModel",
          "model_module_version": "1.5.0",
          "state": {
            "_view_name": "HBoxView",
            "_dom_classes": [],
            "_model_name": "HBoxModel",
            "_view_module": "@jupyter-widgets/controls",
            "_model_module_version": "1.5.0",
            "_view_count": null,
            "_view_module_version": "1.5.0",
            "box_style": "",
            "layout": "IPY_MODEL_cddf5e304773451091dcdbf51f242ef9",
            "_model_module": "@jupyter-widgets/controls",
            "children": [
              "IPY_MODEL_dd2b7e5e1c57406da97c46339e15ad08",
              "IPY_MODEL_d898e19063bd4568a554576e04e72292",
              "IPY_MODEL_0f0ef9a2f23f4a418dd60adea268a7c4"
            ]
          }
        },
        "cddf5e304773451091dcdbf51f242ef9": {
          "model_module": "@jupyter-widgets/base",
          "model_name": "LayoutModel",
          "model_module_version": "1.2.0",
          "state": {
            "_view_name": "LayoutView",
            "grid_template_rows": null,
            "right": null,
            "justify_content": null,
            "_view_module": "@jupyter-widgets/base",
            "overflow": null,
            "_model_module_version": "1.2.0",
            "_view_count": null,
            "flex_flow": null,
            "width": null,
            "min_width": null,
            "border": null,
            "align_items": null,
            "bottom": null,
            "_model_module": "@jupyter-widgets/base",
            "top": null,
            "grid_column": null,
            "overflow_y": null,
            "overflow_x": null,
            "grid_auto_flow": null,
            "grid_area": null,
            "grid_template_columns": null,
            "flex": null,
            "_model_name": "LayoutModel",
            "justify_items": null,
            "grid_row": null,
            "max_height": null,
            "align_content": null,
            "visibility": null,
            "align_self": null,
            "height": null,
            "min_height": null,
            "padding": null,
            "grid_auto_rows": null,
            "grid_gap": null,
            "max_width": null,
            "order": null,
            "_view_module_version": "1.2.0",
            "grid_template_areas": null,
            "object_position": null,
            "object_fit": null,
            "grid_auto_columns": null,
            "margin": null,
            "display": null,
            "left": null
          }
        },
        "dd2b7e5e1c57406da97c46339e15ad08": {
          "model_module": "@jupyter-widgets/controls",
          "model_name": "HTMLModel",
          "model_module_version": "1.5.0",
          "state": {
            "_view_name": "HTMLView",
            "style": "IPY_MODEL_43a8aa9768b149d4bea5d2f594b30240",
            "_dom_classes": [],
            "description": "",
            "_model_name": "HTMLModel",
            "placeholder": "​",
            "_view_module": "@jupyter-widgets/controls",
            "_model_module_version": "1.5.0",
            "value": "100%",
            "_view_count": null,
            "_view_module_version": "1.5.0",
            "description_tooltip": null,
            "_model_module": "@jupyter-widgets/controls",
            "layout": "IPY_MODEL_c4bb10d11e2b4553871634ab94c9957c"
          }
        },
        "d898e19063bd4568a554576e04e72292": {
          "model_module": "@jupyter-widgets/controls",
          "model_name": "FloatProgressModel",
          "model_module_version": "1.5.0",
          "state": {
            "_view_name": "ProgressView",
            "style": "IPY_MODEL_a3ad5363d4e942f7984b02b7dac8af6e",
            "_dom_classes": [],
            "description": "",
            "_model_name": "FloatProgressModel",
            "bar_style": "success",
            "max": 15,
            "_view_module": "@jupyter-widgets/controls",
            "_model_module_version": "1.5.0",
            "value": 15,
            "_view_count": null,
            "_view_module_version": "1.5.0",
            "orientation": "horizontal",
            "min": 0,
            "description_tooltip": null,
            "_model_module": "@jupyter-widgets/controls",
            "layout": "IPY_MODEL_93c4585a4292466db73bfa42a583ec7c"
          }
        },
        "0f0ef9a2f23f4a418dd60adea268a7c4": {
          "model_module": "@jupyter-widgets/controls",
          "model_name": "HTMLModel",
          "model_module_version": "1.5.0",
          "state": {
            "_view_name": "HTMLView",
            "style": "IPY_MODEL_7560e4b4a9564d28b08fc6ecfd5df882",
            "_dom_classes": [],
            "description": "",
            "_model_name": "HTMLModel",
            "placeholder": "​",
            "_view_module": "@jupyter-widgets/controls",
            "_model_module_version": "1.5.0",
            "value": " 15/15 [00:31&lt;00:00,  1.85s/it]",
            "_view_count": null,
            "_view_module_version": "1.5.0",
            "description_tooltip": null,
            "_model_module": "@jupyter-widgets/controls",
            "layout": "IPY_MODEL_1941fe95ae884d27b8d38ac9a5cc6476"
          }
        },
        "43a8aa9768b149d4bea5d2f594b30240": {
          "model_module": "@jupyter-widgets/controls",
          "model_name": "DescriptionStyleModel",
          "model_module_version": "1.5.0",
          "state": {
            "_view_name": "StyleView",
            "_model_name": "DescriptionStyleModel",
            "description_width": "",
            "_view_module": "@jupyter-widgets/base",
            "_model_module_version": "1.5.0",
            "_view_count": null,
            "_view_module_version": "1.2.0",
            "_model_module": "@jupyter-widgets/controls"
          }
        },
        "c4bb10d11e2b4553871634ab94c9957c": {
          "model_module": "@jupyter-widgets/base",
          "model_name": "LayoutModel",
          "model_module_version": "1.2.0",
          "state": {
            "_view_name": "LayoutView",
            "grid_template_rows": null,
            "right": null,
            "justify_content": null,
            "_view_module": "@jupyter-widgets/base",
            "overflow": null,
            "_model_module_version": "1.2.0",
            "_view_count": null,
            "flex_flow": null,
            "width": null,
            "min_width": null,
            "border": null,
            "align_items": null,
            "bottom": null,
            "_model_module": "@jupyter-widgets/base",
            "top": null,
            "grid_column": null,
            "overflow_y": null,
            "overflow_x": null,
            "grid_auto_flow": null,
            "grid_area": null,
            "grid_template_columns": null,
            "flex": null,
            "_model_name": "LayoutModel",
            "justify_items": null,
            "grid_row": null,
            "max_height": null,
            "align_content": null,
            "visibility": null,
            "align_self": null,
            "height": null,
            "min_height": null,
            "padding": null,
            "grid_auto_rows": null,
            "grid_gap": null,
            "max_width": null,
            "order": null,
            "_view_module_version": "1.2.0",
            "grid_template_areas": null,
            "object_position": null,
            "object_fit": null,
            "grid_auto_columns": null,
            "margin": null,
            "display": null,
            "left": null
          }
        },
        "a3ad5363d4e942f7984b02b7dac8af6e": {
          "model_module": "@jupyter-widgets/controls",
          "model_name": "ProgressStyleModel",
          "model_module_version": "1.5.0",
          "state": {
            "_view_name": "StyleView",
            "_model_name": "ProgressStyleModel",
            "description_width": "",
            "_view_module": "@jupyter-widgets/base",
            "_model_module_version": "1.5.0",
            "_view_count": null,
            "_view_module_version": "1.2.0",
            "bar_color": null,
            "_model_module": "@jupyter-widgets/controls"
          }
        },
        "93c4585a4292466db73bfa42a583ec7c": {
          "model_module": "@jupyter-widgets/base",
          "model_name": "LayoutModel",
          "model_module_version": "1.2.0",
          "state": {
            "_view_name": "LayoutView",
            "grid_template_rows": null,
            "right": null,
            "justify_content": null,
            "_view_module": "@jupyter-widgets/base",
            "overflow": null,
            "_model_module_version": "1.2.0",
            "_view_count": null,
            "flex_flow": null,
            "width": null,
            "min_width": null,
            "border": null,
            "align_items": null,
            "bottom": null,
            "_model_module": "@jupyter-widgets/base",
            "top": null,
            "grid_column": null,
            "overflow_y": null,
            "overflow_x": null,
            "grid_auto_flow": null,
            "grid_area": null,
            "grid_template_columns": null,
            "flex": null,
            "_model_name": "LayoutModel",
            "justify_items": null,
            "grid_row": null,
            "max_height": null,
            "align_content": null,
            "visibility": null,
            "align_self": null,
            "height": null,
            "min_height": null,
            "padding": null,
            "grid_auto_rows": null,
            "grid_gap": null,
            "max_width": null,
            "order": null,
            "_view_module_version": "1.2.0",
            "grid_template_areas": null,
            "object_position": null,
            "object_fit": null,
            "grid_auto_columns": null,
            "margin": null,
            "display": null,
            "left": null
          }
        },
        "7560e4b4a9564d28b08fc6ecfd5df882": {
          "model_module": "@jupyter-widgets/controls",
          "model_name": "DescriptionStyleModel",
          "model_module_version": "1.5.0",
          "state": {
            "_view_name": "StyleView",
            "_model_name": "DescriptionStyleModel",
            "description_width": "",
            "_view_module": "@jupyter-widgets/base",
            "_model_module_version": "1.5.0",
            "_view_count": null,
            "_view_module_version": "1.2.0",
            "_model_module": "@jupyter-widgets/controls"
          }
        },
        "1941fe95ae884d27b8d38ac9a5cc6476": {
          "model_module": "@jupyter-widgets/base",
          "model_name": "LayoutModel",
          "model_module_version": "1.2.0",
          "state": {
            "_view_name": "LayoutView",
            "grid_template_rows": null,
            "right": null,
            "justify_content": null,
            "_view_module": "@jupyter-widgets/base",
            "overflow": null,
            "_model_module_version": "1.2.0",
            "_view_count": null,
            "flex_flow": null,
            "width": null,
            "min_width": null,
            "border": null,
            "align_items": null,
            "bottom": null,
            "_model_module": "@jupyter-widgets/base",
            "top": null,
            "grid_column": null,
            "overflow_y": null,
            "overflow_x": null,
            "grid_auto_flow": null,
            "grid_area": null,
            "grid_template_columns": null,
            "flex": null,
            "_model_name": "LayoutModel",
            "justify_items": null,
            "grid_row": null,
            "max_height": null,
            "align_content": null,
            "visibility": null,
            "align_self": null,
            "height": null,
            "min_height": null,
            "padding": null,
            "grid_auto_rows": null,
            "grid_gap": null,
            "max_width": null,
            "order": null,
            "_view_module_version": "1.2.0",
            "grid_template_areas": null,
            "object_position": null,
            "object_fit": null,
            "grid_auto_columns": null,
            "margin": null,
            "display": null,
            "left": null
          }
        }
      }
    }
  },
  "cells": [
    {
      "cell_type": "markdown",
      "metadata": {
        "id": "view-in-github",
        "colab_type": "text"
      },
      "source": [
        "<a href=\"https://colab.research.google.com/github/Yeonsu-Hong/Aiffel_Daegu_AI_project/blob/master/220222_exp14_artist_finding_project.ipynb\" target=\"_parent\"><img src=\"https://colab.research.google.com/assets/colab-badge.svg\" alt=\"Open In Colab\"/></a>"
      ]
    },
    {
      "cell_type": "code",
      "execution_count": 1,
      "metadata": {
        "id": "IWW7c1vPqeQd"
      },
      "outputs": [],
      "source": [
        "# 14-9. 프로젝트 - Movielens 영화 추천 실습"
      ]
    },
    {
      "cell_type": "markdown",
      "source": [
        "![image.png](data:image/png;base64,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)"
      ],
      "metadata": {
        "id": "0Y4IsjparArU"
      }
    },
    {
      "cell_type": "code",
      "source": [
        "!mkdir -p ~/aiffel/recommendata_iu/data/ml-1m"
      ],
      "metadata": {
        "id": "ZKv53G3ceohv"
      },
      "execution_count": 2,
      "outputs": []
    },
    {
      "cell_type": "markdown",
      "source": [
        "1) 데이터 준비와 전처리"
      ],
      "metadata": {
        "id": "vpHYBk6qfx3z"
      }
    },
    {
      "cell_type": "code",
      "source": [
        "import pandas as pd\n",
        "import os\n",
        "rating_file_path=os.getenv('HOME') + '/aiffel/recommendata_iu/data/ml-1m/ratings.dat'\n",
        "ratings_cols = ['user_id', 'movie_id', 'ratings', 'timestamp']\n",
        "ratings = pd.read_csv(rating_file_path, sep='::', names=ratings_cols, engine='python', encoding = \"ISO-8859-1\")\n",
        "orginal_data_size = len(ratings)\n",
        "ratings.head()"
      ],
      "metadata": {
        "id": "nY1Z-7tlrGPN",
        "outputId": "15ba066d-2a66-416a-9d55-61bab1cce7fe",
        "colab": {
          "base_uri": "https://localhost:8080/",
          "height": 206
        }
      },
      "execution_count": 3,
      "outputs": [
        {
          "output_type": "execute_result",
          "data": {
            "text/html": [
              "\n",
              "  <div id=\"df-fa660af0-140b-4634-bc59-9ed3648ec4f9\">\n",
              "    <div class=\"colab-df-container\">\n",
              "      <div>\n",
              "<style scoped>\n",
              "    .dataframe tbody tr th:only-of-type {\n",
              "        vertical-align: middle;\n",
              "    }\n",
              "\n",
              "    .dataframe tbody tr th {\n",
              "        vertical-align: top;\n",
              "    }\n",
              "\n",
              "    .dataframe thead th {\n",
              "        text-align: right;\n",
              "    }\n",
              "</style>\n",
              "<table border=\"1\" class=\"dataframe\">\n",
              "  <thead>\n",
              "    <tr style=\"text-align: right;\">\n",
              "      <th></th>\n",
              "      <th>user_id</th>\n",
              "      <th>movie_id</th>\n",
              "      <th>ratings</th>\n",
              "      <th>timestamp</th>\n",
              "    </tr>\n",
              "  </thead>\n",
              "  <tbody>\n",
              "    <tr>\n",
              "      <th>0</th>\n",
              "      <td>1</td>\n",
              "      <td>1193</td>\n",
              "      <td>5</td>\n",
              "      <td>978300760</td>\n",
              "    </tr>\n",
              "    <tr>\n",
              "      <th>1</th>\n",
              "      <td>1</td>\n",
              "      <td>661</td>\n",
              "      <td>3</td>\n",
              "      <td>978302109</td>\n",
              "    </tr>\n",
              "    <tr>\n",
              "      <th>2</th>\n",
              "      <td>1</td>\n",
              "      <td>914</td>\n",
              "      <td>3</td>\n",
              "      <td>978301968</td>\n",
              "    </tr>\n",
              "    <tr>\n",
              "      <th>3</th>\n",
              "      <td>1</td>\n",
              "      <td>3408</td>\n",
              "      <td>4</td>\n",
              "      <td>978300275</td>\n",
              "    </tr>\n",
              "    <tr>\n",
              "      <th>4</th>\n",
              "      <td>1</td>\n",
              "      <td>2355</td>\n",
              "      <td>5</td>\n",
              "      <td>978824291</td>\n",
              "    </tr>\n",
              "  </tbody>\n",
              "</table>\n",
              "</div>\n",
              "      <button class=\"colab-df-convert\" onclick=\"convertToInteractive('df-fa660af0-140b-4634-bc59-9ed3648ec4f9')\"\n",
              "              title=\"Convert this dataframe to an interactive table.\"\n",
              "              style=\"display:none;\">\n",
              "        \n",
              "  <svg xmlns=\"http://www.w3.org/2000/svg\" height=\"24px\"viewBox=\"0 0 24 24\"\n",
              "       width=\"24px\">\n",
              "    <path d=\"M0 0h24v24H0V0z\" fill=\"none\"/>\n",
              "    <path d=\"M18.56 5.44l.94 2.06.94-2.06 2.06-.94-2.06-.94-.94-2.06-.94 2.06-2.06.94zm-11 1L8.5 8.5l.94-2.06 2.06-.94-2.06-.94L8.5 2.5l-.94 2.06-2.06.94zm10 10l.94 2.06.94-2.06 2.06-.94-2.06-.94-.94-2.06-.94 2.06-2.06.94z\"/><path d=\"M17.41 7.96l-1.37-1.37c-.4-.4-.92-.59-1.43-.59-.52 0-1.04.2-1.43.59L10.3 9.45l-7.72 7.72c-.78.78-.78 2.05 0 2.83L4 21.41c.39.39.9.59 1.41.59.51 0 1.02-.2 1.41-.59l7.78-7.78 2.81-2.81c.8-.78.8-2.07 0-2.86zM5.41 20L4 18.59l7.72-7.72 1.47 1.35L5.41 20z\"/>\n",
              "  </svg>\n",
              "      </button>\n",
              "      \n",
              "  <style>\n",
              "    .colab-df-container {\n",
              "      display:flex;\n",
              "      flex-wrap:wrap;\n",
              "      gap: 12px;\n",
              "    }\n",
              "\n",
              "    .colab-df-convert {\n",
              "      background-color: #E8F0FE;\n",
              "      border: none;\n",
              "      border-radius: 50%;\n",
              "      cursor: pointer;\n",
              "      display: none;\n",
              "      fill: #1967D2;\n",
              "      height: 32px;\n",
              "      padding: 0 0 0 0;\n",
              "      width: 32px;\n",
              "    }\n",
              "\n",
              "    .colab-df-convert:hover {\n",
              "      background-color: #E2EBFA;\n",
              "      box-shadow: 0px 1px 2px rgba(60, 64, 67, 0.3), 0px 1px 3px 1px rgba(60, 64, 67, 0.15);\n",
              "      fill: #174EA6;\n",
              "    }\n",
              "\n",
              "    [theme=dark] .colab-df-convert {\n",
              "      background-color: #3B4455;\n",
              "      fill: #D2E3FC;\n",
              "    }\n",
              "\n",
              "    [theme=dark] .colab-df-convert:hover {\n",
              "      background-color: #434B5C;\n",
              "      box-shadow: 0px 1px 3px 1px rgba(0, 0, 0, 0.15);\n",
              "      filter: drop-shadow(0px 1px 2px rgba(0, 0, 0, 0.3));\n",
              "      fill: #FFFFFF;\n",
              "    }\n",
              "  </style>\n",
              "\n",
              "      <script>\n",
              "        const buttonEl =\n",
              "          document.querySelector('#df-fa660af0-140b-4634-bc59-9ed3648ec4f9 button.colab-df-convert');\n",
              "        buttonEl.style.display =\n",
              "          google.colab.kernel.accessAllowed ? 'block' : 'none';\n",
              "\n",
              "        async function convertToInteractive(key) {\n",
              "          const element = document.querySelector('#df-fa660af0-140b-4634-bc59-9ed3648ec4f9');\n",
              "          const dataTable =\n",
              "            await google.colab.kernel.invokeFunction('convertToInteractive',\n",
              "                                                     [key], {});\n",
              "          if (!dataTable) return;\n",
              "\n",
              "          const docLinkHtml = 'Like what you see? Visit the ' +\n",
              "            '<a target=\"_blank\" href=https://colab.research.google.com/notebooks/data_table.ipynb>data table notebook</a>'\n",
              "            + ' to learn more about interactive tables.';\n",
              "          element.innerHTML = '';\n",
              "          dataTable['output_type'] = 'display_data';\n",
              "          await google.colab.output.renderOutput(dataTable, element);\n",
              "          const docLink = document.createElement('div');\n",
              "          docLink.innerHTML = docLinkHtml;\n",
              "          element.appendChild(docLink);\n",
              "        }\n",
              "      </script>\n",
              "    </div>\n",
              "  </div>\n",
              "  "
            ],
            "text/plain": [
              "   user_id  movie_id  ratings  timestamp\n",
              "0        1      1193        5  978300760\n",
              "1        1       661        3  978302109\n",
              "2        1       914        3  978301968\n",
              "3        1      3408        4  978300275\n",
              "4        1      2355        5  978824291"
            ]
          },
          "metadata": {},
          "execution_count": 3
        }
      ]
    },
    {
      "cell_type": "code",
      "source": [
        "ratings.tail()"
      ],
      "metadata": {
        "colab": {
          "base_uri": "https://localhost:8080/",
          "height": 206
        },
        "id": "Ai48wpRIf-oG",
        "outputId": "2aafec7b-21e9-45e0-b322-02c83dabb355"
      },
      "execution_count": 4,
      "outputs": [
        {
          "output_type": "execute_result",
          "data": {
            "text/html": [
              "\n",
              "  <div id=\"df-1feef232-c304-4fdd-9515-e8a473f74e40\">\n",
              "    <div class=\"colab-df-container\">\n",
              "      <div>\n",
              "<style scoped>\n",
              "    .dataframe tbody tr th:only-of-type {\n",
              "        vertical-align: middle;\n",
              "    }\n",
              "\n",
              "    .dataframe tbody tr th {\n",
              "        vertical-align: top;\n",
              "    }\n",
              "\n",
              "    .dataframe thead th {\n",
              "        text-align: right;\n",
              "    }\n",
              "</style>\n",
              "<table border=\"1\" class=\"dataframe\">\n",
              "  <thead>\n",
              "    <tr style=\"text-align: right;\">\n",
              "      <th></th>\n",
              "      <th>user_id</th>\n",
              "      <th>movie_id</th>\n",
              "      <th>ratings</th>\n",
              "      <th>timestamp</th>\n",
              "    </tr>\n",
              "  </thead>\n",
              "  <tbody>\n",
              "    <tr>\n",
              "      <th>1000204</th>\n",
              "      <td>6040</td>\n",
              "      <td>1091</td>\n",
              "      <td>1</td>\n",
              "      <td>956716541</td>\n",
              "    </tr>\n",
              "    <tr>\n",
              "      <th>1000205</th>\n",
              "      <td>6040</td>\n",
              "      <td>1094</td>\n",
              "      <td>5</td>\n",
              "      <td>956704887</td>\n",
              "    </tr>\n",
              "    <tr>\n",
              "      <th>1000206</th>\n",
              "      <td>6040</td>\n",
              "      <td>562</td>\n",
              "      <td>5</td>\n",
              "      <td>956704746</td>\n",
              "    </tr>\n",
              "    <tr>\n",
              "      <th>1000207</th>\n",
              "      <td>6040</td>\n",
              "      <td>1096</td>\n",
              "      <td>4</td>\n",
              "      <td>956715648</td>\n",
              "    </tr>\n",
              "    <tr>\n",
              "      <th>1000208</th>\n",
              "      <td>6040</td>\n",
              "      <td>1097</td>\n",
              "      <td>4</td>\n",
              "      <td>956715569</td>\n",
              "    </tr>\n",
              "  </tbody>\n",
              "</table>\n",
              "</div>\n",
              "      <button class=\"colab-df-convert\" onclick=\"convertToInteractive('df-1feef232-c304-4fdd-9515-e8a473f74e40')\"\n",
              "              title=\"Convert this dataframe to an interactive table.\"\n",
              "              style=\"display:none;\">\n",
              "        \n",
              "  <svg xmlns=\"http://www.w3.org/2000/svg\" height=\"24px\"viewBox=\"0 0 24 24\"\n",
              "       width=\"24px\">\n",
              "    <path d=\"M0 0h24v24H0V0z\" fill=\"none\"/>\n",
              "    <path d=\"M18.56 5.44l.94 2.06.94-2.06 2.06-.94-2.06-.94-.94-2.06-.94 2.06-2.06.94zm-11 1L8.5 8.5l.94-2.06 2.06-.94-2.06-.94L8.5 2.5l-.94 2.06-2.06.94zm10 10l.94 2.06.94-2.06 2.06-.94-2.06-.94-.94-2.06-.94 2.06-2.06.94z\"/><path d=\"M17.41 7.96l-1.37-1.37c-.4-.4-.92-.59-1.43-.59-.52 0-1.04.2-1.43.59L10.3 9.45l-7.72 7.72c-.78.78-.78 2.05 0 2.83L4 21.41c.39.39.9.59 1.41.59.51 0 1.02-.2 1.41-.59l7.78-7.78 2.81-2.81c.8-.78.8-2.07 0-2.86zM5.41 20L4 18.59l7.72-7.72 1.47 1.35L5.41 20z\"/>\n",
              "  </svg>\n",
              "      </button>\n",
              "      \n",
              "  <style>\n",
              "    .colab-df-container {\n",
              "      display:flex;\n",
              "      flex-wrap:wrap;\n",
              "      gap: 12px;\n",
              "    }\n",
              "\n",
              "    .colab-df-convert {\n",
              "      background-color: #E8F0FE;\n",
              "      border: none;\n",
              "      border-radius: 50%;\n",
              "      cursor: pointer;\n",
              "      display: none;\n",
              "      fill: #1967D2;\n",
              "      height: 32px;\n",
              "      padding: 0 0 0 0;\n",
              "      width: 32px;\n",
              "    }\n",
              "\n",
              "    .colab-df-convert:hover {\n",
              "      background-color: #E2EBFA;\n",
              "      box-shadow: 0px 1px 2px rgba(60, 64, 67, 0.3), 0px 1px 3px 1px rgba(60, 64, 67, 0.15);\n",
              "      fill: #174EA6;\n",
              "    }\n",
              "\n",
              "    [theme=dark] .colab-df-convert {\n",
              "      background-color: #3B4455;\n",
              "      fill: #D2E3FC;\n",
              "    }\n",
              "\n",
              "    [theme=dark] .colab-df-convert:hover {\n",
              "      background-color: #434B5C;\n",
              "      box-shadow: 0px 1px 3px 1px rgba(0, 0, 0, 0.15);\n",
              "      filter: drop-shadow(0px 1px 2px rgba(0, 0, 0, 0.3));\n",
              "      fill: #FFFFFF;\n",
              "    }\n",
              "  </style>\n",
              "\n",
              "      <script>\n",
              "        const buttonEl =\n",
              "          document.querySelector('#df-1feef232-c304-4fdd-9515-e8a473f74e40 button.colab-df-convert');\n",
              "        buttonEl.style.display =\n",
              "          google.colab.kernel.accessAllowed ? 'block' : 'none';\n",
              "\n",
              "        async function convertToInteractive(key) {\n",
              "          const element = document.querySelector('#df-1feef232-c304-4fdd-9515-e8a473f74e40');\n",
              "          const dataTable =\n",
              "            await google.colab.kernel.invokeFunction('convertToInteractive',\n",
              "                                                     [key], {});\n",
              "          if (!dataTable) return;\n",
              "\n",
              "          const docLinkHtml = 'Like what you see? Visit the ' +\n",
              "            '<a target=\"_blank\" href=https://colab.research.google.com/notebooks/data_table.ipynb>data table notebook</a>'\n",
              "            + ' to learn more about interactive tables.';\n",
              "          element.innerHTML = '';\n",
              "          dataTable['output_type'] = 'display_data';\n",
              "          await google.colab.output.renderOutput(dataTable, element);\n",
              "          const docLink = document.createElement('div');\n",
              "          docLink.innerHTML = docLinkHtml;\n",
              "          element.appendChild(docLink);\n",
              "        }\n",
              "      </script>\n",
              "    </div>\n",
              "  </div>\n",
              "  "
            ],
            "text/plain": [
              "         user_id  movie_id  ratings  timestamp\n",
              "1000204     6040      1091        1  956716541\n",
              "1000205     6040      1094        5  956704887\n",
              "1000206     6040       562        5  956704746\n",
              "1000207     6040      1096        4  956715648\n",
              "1000208     6040      1097        4  956715569"
            ]
          },
          "metadata": {},
          "execution_count": 4
        }
      ]
    },
    {
      "cell_type": "code",
      "source": [
        "# 3점 이상만 남깁니다.\n",
        "ratings = ratings[ratings['ratings']>=3]\n",
        "filtered_data_size = len(ratings)\n",
        "\n",
        "print(f'orginal_data_size: {orginal_data_size}, filtered_data_size: {filtered_data_size}')\n",
        "print(f'Ratio of Remaining Data is {filtered_data_size / orginal_data_size:.2%}')\n"
      ],
      "metadata": {
        "id": "3r6IKQlDrGmu",
        "colab": {
          "base_uri": "https://localhost:8080/"
        },
        "outputId": "1a8af77a-8d20-4f5f-d925-cbff35c0fcd5"
      },
      "execution_count": 5,
      "outputs": [
        {
          "output_type": "stream",
          "name": "stdout",
          "text": [
            "orginal_data_size: 1000209, filtered_data_size: 836478\n",
            "Ratio of Remaining Data is 83.63%\n"
          ]
        }
      ]
    },
    {
      "cell_type": "code",
      "source": [
        "# ratings 컬럼의 이름을 counts로 바꿉니다.\n",
        "ratings.rename(columns={'ratings':'counts'}, inplace=True)"
      ],
      "metadata": {
        "colab": {
          "base_uri": "https://localhost:8080/"
        },
        "id": "1YbSm0Puf-F8",
        "outputId": "8ff140f0-43ff-42ee-d730-c394be2222a5"
      },
      "execution_count": 6,
      "outputs": [
        {
          "output_type": "stream",
          "name": "stderr",
          "text": [
            "/usr/local/lib/python3.7/dist-packages/pandas/core/frame.py:5047: SettingWithCopyWarning: \n",
            "A value is trying to be set on a copy of a slice from a DataFrame\n",
            "\n",
            "See the caveats in the documentation: https://pandas.pydata.org/pandas-docs/stable/user_guide/indexing.html#returning-a-view-versus-a-copy\n",
            "  errors=errors,\n"
          ]
        }
      ]
    },
    {
      "cell_type": "code",
      "source": [
        "ratings['counts']"
      ],
      "metadata": {
        "colab": {
          "base_uri": "https://localhost:8080/"
        },
        "id": "6efHHELRgERZ",
        "outputId": "c710e9c5-8c76-409b-907d-3fab0b857af6"
      },
      "execution_count": 7,
      "outputs": [
        {
          "output_type": "execute_result",
          "data": {
            "text/plain": [
              "0          5\n",
              "1          3\n",
              "2          3\n",
              "3          4\n",
              "4          5\n",
              "          ..\n",
              "1000203    3\n",
              "1000205    5\n",
              "1000206    5\n",
              "1000207    4\n",
              "1000208    4\n",
              "Name: counts, Length: 836478, dtype: int64"
            ]
          },
          "metadata": {},
          "execution_count": 7
        }
      ]
    },
    {
      "cell_type": "code",
      "source": [
        "# 영화 제목을 보기 위해 메타 데이터를 읽어옵니다.\n",
        "movie_file_path=os.getenv('HOME') + '/aiffel/recommendata_iu/data/ml-1m/movies.dat'\n",
        "cols = ['movie_id', 'title', 'genre'] \n",
        "movies = pd.read_csv(movie_file_path, sep='::', names=cols, engine='python', encoding='ISO-8859-1')\n",
        "movies.head()"
      ],
      "metadata": {
        "colab": {
          "base_uri": "https://localhost:8080/",
          "height": 206
        },
        "id": "BvvVQAgMgFXr",
        "outputId": "13af1c79-2c61-45c0-9dc9-6cbd0deb2f98"
      },
      "execution_count": 9,
      "outputs": [
        {
          "output_type": "execute_result",
          "data": {
            "text/html": [
              "\n",
              "  <div id=\"df-ae4ef2c2-c7d0-40b0-8fcb-28a1837c2c9f\">\n",
              "    <div class=\"colab-df-container\">\n",
              "      <div>\n",
              "<style scoped>\n",
              "    .dataframe tbody tr th:only-of-type {\n",
              "        vertical-align: middle;\n",
              "    }\n",
              "\n",
              "    .dataframe tbody tr th {\n",
              "        vertical-align: top;\n",
              "    }\n",
              "\n",
              "    .dataframe thead th {\n",
              "        text-align: right;\n",
              "    }\n",
              "</style>\n",
              "<table border=\"1\" class=\"dataframe\">\n",
              "  <thead>\n",
              "    <tr style=\"text-align: right;\">\n",
              "      <th></th>\n",
              "      <th>movie_id</th>\n",
              "      <th>title</th>\n",
              "      <th>genre</th>\n",
              "    </tr>\n",
              "  </thead>\n",
              "  <tbody>\n",
              "    <tr>\n",
              "      <th>0</th>\n",
              "      <td>1</td>\n",
              "      <td>Toy Story (1995)</td>\n",
              "      <td>Animation|Children's|Comedy</td>\n",
              "    </tr>\n",
              "    <tr>\n",
              "      <th>1</th>\n",
              "      <td>2</td>\n",
              "      <td>Jumanji (1995)</td>\n",
              "      <td>Adventure|Children's|Fantasy</td>\n",
              "    </tr>\n",
              "    <tr>\n",
              "      <th>2</th>\n",
              "      <td>3</td>\n",
              "      <td>Grumpier Old Men (1995)</td>\n",
              "      <td>Comedy|Romance</td>\n",
              "    </tr>\n",
              "    <tr>\n",
              "      <th>3</th>\n",
              "      <td>4</td>\n",
              "      <td>Waiting to Exhale (1995)</td>\n",
              "      <td>Comedy|Drama</td>\n",
              "    </tr>\n",
              "    <tr>\n",
              "      <th>4</th>\n",
              "      <td>5</td>\n",
              "      <td>Father of the Bride Part II (1995)</td>\n",
              "      <td>Comedy</td>\n",
              "    </tr>\n",
              "  </tbody>\n",
              "</table>\n",
              "</div>\n",
              "      <button class=\"colab-df-convert\" onclick=\"convertToInteractive('df-ae4ef2c2-c7d0-40b0-8fcb-28a1837c2c9f')\"\n",
              "              title=\"Convert this dataframe to an interactive table.\"\n",
              "              style=\"display:none;\">\n",
              "        \n",
              "  <svg xmlns=\"http://www.w3.org/2000/svg\" height=\"24px\"viewBox=\"0 0 24 24\"\n",
              "       width=\"24px\">\n",
              "    <path d=\"M0 0h24v24H0V0z\" fill=\"none\"/>\n",
              "    <path d=\"M18.56 5.44l.94 2.06.94-2.06 2.06-.94-2.06-.94-.94-2.06-.94 2.06-2.06.94zm-11 1L8.5 8.5l.94-2.06 2.06-.94-2.06-.94L8.5 2.5l-.94 2.06-2.06.94zm10 10l.94 2.06.94-2.06 2.06-.94-2.06-.94-.94-2.06-.94 2.06-2.06.94z\"/><path d=\"M17.41 7.96l-1.37-1.37c-.4-.4-.92-.59-1.43-.59-.52 0-1.04.2-1.43.59L10.3 9.45l-7.72 7.72c-.78.78-.78 2.05 0 2.83L4 21.41c.39.39.9.59 1.41.59.51 0 1.02-.2 1.41-.59l7.78-7.78 2.81-2.81c.8-.78.8-2.07 0-2.86zM5.41 20L4 18.59l7.72-7.72 1.47 1.35L5.41 20z\"/>\n",
              "  </svg>\n",
              "      </button>\n",
              "      \n",
              "  <style>\n",
              "    .colab-df-container {\n",
              "      display:flex;\n",
              "      flex-wrap:wrap;\n",
              "      gap: 12px;\n",
              "    }\n",
              "\n",
              "    .colab-df-convert {\n",
              "      background-color: #E8F0FE;\n",
              "      border: none;\n",
              "      border-radius: 50%;\n",
              "      cursor: pointer;\n",
              "      display: none;\n",
              "      fill: #1967D2;\n",
              "      height: 32px;\n",
              "      padding: 0 0 0 0;\n",
              "      width: 32px;\n",
              "    }\n",
              "\n",
              "    .colab-df-convert:hover {\n",
              "      background-color: #E2EBFA;\n",
              "      box-shadow: 0px 1px 2px rgba(60, 64, 67, 0.3), 0px 1px 3px 1px rgba(60, 64, 67, 0.15);\n",
              "      fill: #174EA6;\n",
              "    }\n",
              "\n",
              "    [theme=dark] .colab-df-convert {\n",
              "      background-color: #3B4455;\n",
              "      fill: #D2E3FC;\n",
              "    }\n",
              "\n",
              "    [theme=dark] .colab-df-convert:hover {\n",
              "      background-color: #434B5C;\n",
              "      box-shadow: 0px 1px 3px 1px rgba(0, 0, 0, 0.15);\n",
              "      filter: drop-shadow(0px 1px 2px rgba(0, 0, 0, 0.3));\n",
              "      fill: #FFFFFF;\n",
              "    }\n",
              "  </style>\n",
              "\n",
              "      <script>\n",
              "        const buttonEl =\n",
              "          document.querySelector('#df-ae4ef2c2-c7d0-40b0-8fcb-28a1837c2c9f button.colab-df-convert');\n",
              "        buttonEl.style.display =\n",
              "          google.colab.kernel.accessAllowed ? 'block' : 'none';\n",
              "\n",
              "        async function convertToInteractive(key) {\n",
              "          const element = document.querySelector('#df-ae4ef2c2-c7d0-40b0-8fcb-28a1837c2c9f');\n",
              "          const dataTable =\n",
              "            await google.colab.kernel.invokeFunction('convertToInteractive',\n",
              "                                                     [key], {});\n",
              "          if (!dataTable) return;\n",
              "\n",
              "          const docLinkHtml = 'Like what you see? Visit the ' +\n",
              "            '<a target=\"_blank\" href=https://colab.research.google.com/notebooks/data_table.ipynb>data table notebook</a>'\n",
              "            + ' to learn more about interactive tables.';\n",
              "          element.innerHTML = '';\n",
              "          dataTable['output_type'] = 'display_data';\n",
              "          await google.colab.output.renderOutput(dataTable, element);\n",
              "          const docLink = document.createElement('div');\n",
              "          docLink.innerHTML = docLinkHtml;\n",
              "          element.appendChild(docLink);\n",
              "        }\n",
              "      </script>\n",
              "    </div>\n",
              "  </div>\n",
              "  "
            ],
            "text/plain": [
              "   movie_id                               title                         genre\n",
              "0         1                    Toy Story (1995)   Animation|Children's|Comedy\n",
              "1         2                      Jumanji (1995)  Adventure|Children's|Fantasy\n",
              "2         3             Grumpier Old Men (1995)                Comedy|Romance\n",
              "3         4            Waiting to Exhale (1995)                  Comedy|Drama\n",
              "4         5  Father of the Bride Part II (1995)                        Comedy"
            ]
          },
          "metadata": {},
          "execution_count": 9
        }
      ]
    },
    {
      "cell_type": "markdown",
      "source": [
        "rating과 title의 데이터를 분리해서 살폈는데 다시 병합할 필요가 있다."
      ],
      "metadata": {
        "id": "93mtVC8nuamQ"
      }
    },
    {
      "cell_type": "code",
      "source": [
        "union_data = pd.merge(movies, ratings)"
      ],
      "metadata": {
        "id": "SIO8xCoIuYUs"
      },
      "execution_count": 10,
      "outputs": []
    },
    {
      "cell_type": "code",
      "source": [
        "union_data['title'] = union_data['title'].str.lower() # 검색을 쉽게 하기 위해 영화 제목을 소문자로 바꿔주기\n",
        "union_data.head(20)"
      ],
      "metadata": {
        "colab": {
          "base_uri": "https://localhost:8080/",
          "height": 677
        },
        "id": "fG_uKeoPi9MR",
        "outputId": "0465e33f-5ed4-4007-f95b-6f3bed815935"
      },
      "execution_count": 11,
      "outputs": [
        {
          "output_type": "execute_result",
          "data": {
            "text/html": [
              "\n",
              "  <div id=\"df-9f48a602-ba81-4a8f-8fa0-2b39c6f4087d\">\n",
              "    <div class=\"colab-df-container\">\n",
              "      <div>\n",
              "<style scoped>\n",
              "    .dataframe tbody tr th:only-of-type {\n",
              "        vertical-align: middle;\n",
              "    }\n",
              "\n",
              "    .dataframe tbody tr th {\n",
              "        vertical-align: top;\n",
              "    }\n",
              "\n",
              "    .dataframe thead th {\n",
              "        text-align: right;\n",
              "    }\n",
              "</style>\n",
              "<table border=\"1\" class=\"dataframe\">\n",
              "  <thead>\n",
              "    <tr style=\"text-align: right;\">\n",
              "      <th></th>\n",
              "      <th>movie_id</th>\n",
              "      <th>title</th>\n",
              "      <th>genre</th>\n",
              "      <th>user_id</th>\n",
              "      <th>counts</th>\n",
              "      <th>timestamp</th>\n",
              "    </tr>\n",
              "  </thead>\n",
              "  <tbody>\n",
              "    <tr>\n",
              "      <th>0</th>\n",
              "      <td>1</td>\n",
              "      <td>toy story (1995)</td>\n",
              "      <td>Animation|Children's|Comedy</td>\n",
              "      <td>1</td>\n",
              "      <td>5</td>\n",
              "      <td>978824268</td>\n",
              "    </tr>\n",
              "    <tr>\n",
              "      <th>1</th>\n",
              "      <td>1</td>\n",
              "      <td>toy story (1995)</td>\n",
              "      <td>Animation|Children's|Comedy</td>\n",
              "      <td>6</td>\n",
              "      <td>4</td>\n",
              "      <td>978237008</td>\n",
              "    </tr>\n",
              "    <tr>\n",
              "      <th>2</th>\n",
              "      <td>1</td>\n",
              "      <td>toy story (1995)</td>\n",
              "      <td>Animation|Children's|Comedy</td>\n",
              "      <td>8</td>\n",
              "      <td>4</td>\n",
              "      <td>978233496</td>\n",
              "    </tr>\n",
              "    <tr>\n",
              "      <th>3</th>\n",
              "      <td>1</td>\n",
              "      <td>toy story (1995)</td>\n",
              "      <td>Animation|Children's|Comedy</td>\n",
              "      <td>9</td>\n",
              "      <td>5</td>\n",
              "      <td>978225952</td>\n",
              "    </tr>\n",
              "    <tr>\n",
              "      <th>4</th>\n",
              "      <td>1</td>\n",
              "      <td>toy story (1995)</td>\n",
              "      <td>Animation|Children's|Comedy</td>\n",
              "      <td>10</td>\n",
              "      <td>5</td>\n",
              "      <td>978226474</td>\n",
              "    </tr>\n",
              "    <tr>\n",
              "      <th>5</th>\n",
              "      <td>1</td>\n",
              "      <td>toy story (1995)</td>\n",
              "      <td>Animation|Children's|Comedy</td>\n",
              "      <td>18</td>\n",
              "      <td>4</td>\n",
              "      <td>978154768</td>\n",
              "    </tr>\n",
              "    <tr>\n",
              "      <th>6</th>\n",
              "      <td>1</td>\n",
              "      <td>toy story (1995)</td>\n",
              "      <td>Animation|Children's|Comedy</td>\n",
              "      <td>19</td>\n",
              "      <td>5</td>\n",
              "      <td>978555994</td>\n",
              "    </tr>\n",
              "    <tr>\n",
              "      <th>7</th>\n",
              "      <td>1</td>\n",
              "      <td>toy story (1995)</td>\n",
              "      <td>Animation|Children's|Comedy</td>\n",
              "      <td>21</td>\n",
              "      <td>3</td>\n",
              "      <td>978139347</td>\n",
              "    </tr>\n",
              "    <tr>\n",
              "      <th>8</th>\n",
              "      <td>1</td>\n",
              "      <td>toy story (1995)</td>\n",
              "      <td>Animation|Children's|Comedy</td>\n",
              "      <td>23</td>\n",
              "      <td>4</td>\n",
              "      <td>978463614</td>\n",
              "    </tr>\n",
              "    <tr>\n",
              "      <th>9</th>\n",
              "      <td>1</td>\n",
              "      <td>toy story (1995)</td>\n",
              "      <td>Animation|Children's|Comedy</td>\n",
              "      <td>26</td>\n",
              "      <td>3</td>\n",
              "      <td>978130703</td>\n",
              "    </tr>\n",
              "    <tr>\n",
              "      <th>10</th>\n",
              "      <td>1</td>\n",
              "      <td>toy story (1995)</td>\n",
              "      <td>Animation|Children's|Comedy</td>\n",
              "      <td>28</td>\n",
              "      <td>3</td>\n",
              "      <td>978985309</td>\n",
              "    </tr>\n",
              "    <tr>\n",
              "      <th>11</th>\n",
              "      <td>1</td>\n",
              "      <td>toy story (1995)</td>\n",
              "      <td>Animation|Children's|Comedy</td>\n",
              "      <td>34</td>\n",
              "      <td>5</td>\n",
              "      <td>978102970</td>\n",
              "    </tr>\n",
              "    <tr>\n",
              "      <th>12</th>\n",
              "      <td>1</td>\n",
              "      <td>toy story (1995)</td>\n",
              "      <td>Animation|Children's|Comedy</td>\n",
              "      <td>36</td>\n",
              "      <td>5</td>\n",
              "      <td>978061285</td>\n",
              "    </tr>\n",
              "    <tr>\n",
              "      <th>13</th>\n",
              "      <td>1</td>\n",
              "      <td>toy story (1995)</td>\n",
              "      <td>Animation|Children's|Comedy</td>\n",
              "      <td>38</td>\n",
              "      <td>5</td>\n",
              "      <td>978046225</td>\n",
              "    </tr>\n",
              "    <tr>\n",
              "      <th>14</th>\n",
              "      <td>1</td>\n",
              "      <td>toy story (1995)</td>\n",
              "      <td>Animation|Children's|Comedy</td>\n",
              "      <td>44</td>\n",
              "      <td>5</td>\n",
              "      <td>978019369</td>\n",
              "    </tr>\n",
              "    <tr>\n",
              "      <th>15</th>\n",
              "      <td>1</td>\n",
              "      <td>toy story (1995)</td>\n",
              "      <td>Animation|Children's|Comedy</td>\n",
              "      <td>45</td>\n",
              "      <td>4</td>\n",
              "      <td>977990044</td>\n",
              "    </tr>\n",
              "    <tr>\n",
              "      <th>16</th>\n",
              "      <td>1</td>\n",
              "      <td>toy story (1995)</td>\n",
              "      <td>Animation|Children's|Comedy</td>\n",
              "      <td>48</td>\n",
              "      <td>4</td>\n",
              "      <td>977975909</td>\n",
              "    </tr>\n",
              "    <tr>\n",
              "      <th>17</th>\n",
              "      <td>1</td>\n",
              "      <td>toy story (1995)</td>\n",
              "      <td>Animation|Children's|Comedy</td>\n",
              "      <td>49</td>\n",
              "      <td>5</td>\n",
              "      <td>977972501</td>\n",
              "    </tr>\n",
              "    <tr>\n",
              "      <th>18</th>\n",
              "      <td>1</td>\n",
              "      <td>toy story (1995)</td>\n",
              "      <td>Animation|Children's|Comedy</td>\n",
              "      <td>51</td>\n",
              "      <td>5</td>\n",
              "      <td>977947828</td>\n",
              "    </tr>\n",
              "    <tr>\n",
              "      <th>19</th>\n",
              "      <td>1</td>\n",
              "      <td>toy story (1995)</td>\n",
              "      <td>Animation|Children's|Comedy</td>\n",
              "      <td>56</td>\n",
              "      <td>5</td>\n",
              "      <td>977938855</td>\n",
              "    </tr>\n",
              "  </tbody>\n",
              "</table>\n",
              "</div>\n",
              "      <button class=\"colab-df-convert\" onclick=\"convertToInteractive('df-9f48a602-ba81-4a8f-8fa0-2b39c6f4087d')\"\n",
              "              title=\"Convert this dataframe to an interactive table.\"\n",
              "              style=\"display:none;\">\n",
              "        \n",
              "  <svg xmlns=\"http://www.w3.org/2000/svg\" height=\"24px\"viewBox=\"0 0 24 24\"\n",
              "       width=\"24px\">\n",
              "    <path d=\"M0 0h24v24H0V0z\" fill=\"none\"/>\n",
              "    <path d=\"M18.56 5.44l.94 2.06.94-2.06 2.06-.94-2.06-.94-.94-2.06-.94 2.06-2.06.94zm-11 1L8.5 8.5l.94-2.06 2.06-.94-2.06-.94L8.5 2.5l-.94 2.06-2.06.94zm10 10l.94 2.06.94-2.06 2.06-.94-2.06-.94-.94-2.06-.94 2.06-2.06.94z\"/><path d=\"M17.41 7.96l-1.37-1.37c-.4-.4-.92-.59-1.43-.59-.52 0-1.04.2-1.43.59L10.3 9.45l-7.72 7.72c-.78.78-.78 2.05 0 2.83L4 21.41c.39.39.9.59 1.41.59.51 0 1.02-.2 1.41-.59l7.78-7.78 2.81-2.81c.8-.78.8-2.07 0-2.86zM5.41 20L4 18.59l7.72-7.72 1.47 1.35L5.41 20z\"/>\n",
              "  </svg>\n",
              "      </button>\n",
              "      \n",
              "  <style>\n",
              "    .colab-df-container {\n",
              "      display:flex;\n",
              "      flex-wrap:wrap;\n",
              "      gap: 12px;\n",
              "    }\n",
              "\n",
              "    .colab-df-convert {\n",
              "      background-color: #E8F0FE;\n",
              "      border: none;\n",
              "      border-radius: 50%;\n",
              "      cursor: pointer;\n",
              "      display: none;\n",
              "      fill: #1967D2;\n",
              "      height: 32px;\n",
              "      padding: 0 0 0 0;\n",
              "      width: 32px;\n",
              "    }\n",
              "\n",
              "    .colab-df-convert:hover {\n",
              "      background-color: #E2EBFA;\n",
              "      box-shadow: 0px 1px 2px rgba(60, 64, 67, 0.3), 0px 1px 3px 1px rgba(60, 64, 67, 0.15);\n",
              "      fill: #174EA6;\n",
              "    }\n",
              "\n",
              "    [theme=dark] .colab-df-convert {\n",
              "      background-color: #3B4455;\n",
              "      fill: #D2E3FC;\n",
              "    }\n",
              "\n",
              "    [theme=dark] .colab-df-convert:hover {\n",
              "      background-color: #434B5C;\n",
              "      box-shadow: 0px 1px 3px 1px rgba(0, 0, 0, 0.15);\n",
              "      filter: drop-shadow(0px 1px 2px rgba(0, 0, 0, 0.3));\n",
              "      fill: #FFFFFF;\n",
              "    }\n",
              "  </style>\n",
              "\n",
              "      <script>\n",
              "        const buttonEl =\n",
              "          document.querySelector('#df-9f48a602-ba81-4a8f-8fa0-2b39c6f4087d button.colab-df-convert');\n",
              "        buttonEl.style.display =\n",
              "          google.colab.kernel.accessAllowed ? 'block' : 'none';\n",
              "\n",
              "        async function convertToInteractive(key) {\n",
              "          const element = document.querySelector('#df-9f48a602-ba81-4a8f-8fa0-2b39c6f4087d');\n",
              "          const dataTable =\n",
              "            await google.colab.kernel.invokeFunction('convertToInteractive',\n",
              "                                                     [key], {});\n",
              "          if (!dataTable) return;\n",
              "\n",
              "          const docLinkHtml = 'Like what you see? Visit the ' +\n",
              "            '<a target=\"_blank\" href=https://colab.research.google.com/notebooks/data_table.ipynb>data table notebook</a>'\n",
              "            + ' to learn more about interactive tables.';\n",
              "          element.innerHTML = '';\n",
              "          dataTable['output_type'] = 'display_data';\n",
              "          await google.colab.output.renderOutput(dataTable, element);\n",
              "          const docLink = document.createElement('div');\n",
              "          docLink.innerHTML = docLinkHtml;\n",
              "          element.appendChild(docLink);\n",
              "        }\n",
              "      </script>\n",
              "    </div>\n",
              "  </div>\n",
              "  "
            ],
            "text/plain": [
              "    movie_id             title  ... counts  timestamp\n",
              "0          1  toy story (1995)  ...      5  978824268\n",
              "1          1  toy story (1995)  ...      4  978237008\n",
              "2          1  toy story (1995)  ...      4  978233496\n",
              "3          1  toy story (1995)  ...      5  978225952\n",
              "4          1  toy story (1995)  ...      5  978226474\n",
              "5          1  toy story (1995)  ...      4  978154768\n",
              "6          1  toy story (1995)  ...      5  978555994\n",
              "7          1  toy story (1995)  ...      3  978139347\n",
              "8          1  toy story (1995)  ...      4  978463614\n",
              "9          1  toy story (1995)  ...      3  978130703\n",
              "10         1  toy story (1995)  ...      3  978985309\n",
              "11         1  toy story (1995)  ...      5  978102970\n",
              "12         1  toy story (1995)  ...      5  978061285\n",
              "13         1  toy story (1995)  ...      5  978046225\n",
              "14         1  toy story (1995)  ...      5  978019369\n",
              "15         1  toy story (1995)  ...      4  977990044\n",
              "16         1  toy story (1995)  ...      4  977975909\n",
              "17         1  toy story (1995)  ...      5  977972501\n",
              "18         1  toy story (1995)  ...      5  977947828\n",
              "19         1  toy story (1995)  ...      5  977938855\n",
              "\n",
              "[20 rows x 6 columns]"
            ]
          },
          "metadata": {},
          "execution_count": 11
        }
      ]
    },
    {
      "cell_type": "markdown",
      "source": [
        "**2) 분석해 보기**"
      ],
      "metadata": {
        "id": "xF4_aODLhxSx"
      }
    },
    {
      "cell_type": "code",
      "source": [
        "# ratings에 있는 유니크한 영화 개수\n",
        "ratings['movie_id'].nunique()"
      ],
      "metadata": {
        "colab": {
          "base_uri": "https://localhost:8080/"
        },
        "id": "eahhDdvOh2c3",
        "outputId": "e9286ef3-ee3f-44ff-9e13-9c1b10d14be9"
      },
      "execution_count": 12,
      "outputs": [
        {
          "output_type": "execute_result",
          "data": {
            "text/plain": [
              "3628"
            ]
          },
          "metadata": {},
          "execution_count": 12
        }
      ]
    },
    {
      "cell_type": "code",
      "source": [
        "# ratings에 있는 유니크한 사용자 수\n",
        "ratings['user_id'].nunique()"
      ],
      "metadata": {
        "colab": {
          "base_uri": "https://localhost:8080/"
        },
        "id": "585IIOiNiWbB",
        "outputId": "0eb95fb6-6a4d-4847-a963-36054ed03c59"
      },
      "execution_count": 13,
      "outputs": [
        {
          "output_type": "execute_result",
          "data": {
            "text/plain": [
              "6039"
            ]
          },
          "metadata": {},
          "execution_count": 13
        }
      ]
    },
    {
      "cell_type": "code",
      "source": [
        "# 가장 인기 있는 영화 30개 (인기순) ---> 이 부분을 진행하기 위해 column을 병합하였다.\n",
        "\n",
        "movies_count = union_data.groupby('title')['user_id'].count()\n",
        "movies_count.sort_values(ascending=False).head(30)\n"
      ],
      "metadata": {
        "colab": {
          "base_uri": "https://localhost:8080/"
        },
        "id": "PJP0vEWCihXN",
        "outputId": "f38d7736-7e7e-48be-8d12-9c4197267ca8"
      },
      "execution_count": 14,
      "outputs": [
        {
          "output_type": "execute_result",
          "data": {
            "text/plain": [
              "title\n",
              "american beauty (1999)                                   3211\n",
              "star wars: episode iv - a new hope (1977)                2910\n",
              "star wars: episode v - the empire strikes back (1980)    2885\n",
              "star wars: episode vi - return of the jedi (1983)        2716\n",
              "saving private ryan (1998)                               2561\n",
              "terminator 2: judgment day (1991)                        2509\n",
              "silence of the lambs, the (1991)                         2498\n",
              "raiders of the lost ark (1981)                           2473\n",
              "back to the future (1985)                                2460\n",
              "matrix, the (1999)                                       2434\n",
              "jurassic park (1993)                                     2413\n",
              "sixth sense, the (1999)                                  2385\n",
              "fargo (1996)                                             2371\n",
              "braveheart (1995)                                        2314\n",
              "men in black (1997)                                      2297\n",
              "schindler's list (1993)                                  2257\n",
              "princess bride, the (1987)                               2252\n",
              "shakespeare in love (1998)                               2213\n",
              "l.a. confidential (1997)                                 2210\n",
              "shawshank redemption, the (1994)                         2194\n",
              "godfather, the (1972)                                    2167\n",
              "groundhog day (1993)                                     2121\n",
              "e.t. the extra-terrestrial (1982)                        2102\n",
              "being john malkovich (1999)                              2066\n",
              "ghostbusters (1984)                                      2051\n",
              "pulp fiction (1994)                                      2030\n",
              "forrest gump (1994)                                      2022\n",
              "terminator, the (1984)                                   2019\n",
              "toy story (1995)                                         2000\n",
              "fugitive, the (1993)                                     1941\n",
              "Name: user_id, dtype: int64"
            ]
          },
          "metadata": {},
          "execution_count": 14
        }
      ]
    },
    {
      "cell_type": "markdown",
      "source": [
        "3) 내가 선호하는 영화를 5가지 골라서 ratings에 추가하자"
      ],
      "metadata": {
        "id": "_uQOVivLnTHi"
      }
    },
    {
      "cell_type": "code",
      "source": [
        "# 좋아하는 영화 5가지 선정.. 단, 이름은 꼭 데이터 셋에 있는 것과 동일하게 맞춰야한다.\n",
        "my_favorite = ['men in black (1997)' , 'toy story (1995)' ,'matrix, the (1999)' ,'terminator 2: judgment day (1991)' ,'terminator, the (1984)']\n",
        "\n",
        "# 내 user_id를 추가\n",
        "my_playlist = pd.DataFrame({'user_id': ['yeonsu'] * 5, 'title': my_favorite, 'counts':[5]*5})\n",
        "\n",
        "if not union_data.isin({'user_id': ['yeonsu']})['user_id'].any(): #user_id에 yeonsu 라는 데이터가 없다면, 위에 임으로 만든 my_favorite 데이터를 추가해준다.\n",
        "    union_data = union_data.append(my_playlist)\n",
        "    \n",
        "union_data.tail(10)"
      ],
      "metadata": {
        "colab": {
          "base_uri": "https://localhost:8080/",
          "height": 363
        },
        "id": "8RXJfHBFncQw",
        "outputId": "aa567183-82bf-4894-ebad-cc1e2de89b7f"
      },
      "execution_count": 15,
      "outputs": [
        {
          "output_type": "execute_result",
          "data": {
            "text/html": [
              "\n",
              "  <div id=\"df-aed7a53a-4b7f-4684-a95d-eb2299c8fbd6\">\n",
              "    <div class=\"colab-df-container\">\n",
              "      <div>\n",
              "<style scoped>\n",
              "    .dataframe tbody tr th:only-of-type {\n",
              "        vertical-align: middle;\n",
              "    }\n",
              "\n",
              "    .dataframe tbody tr th {\n",
              "        vertical-align: top;\n",
              "    }\n",
              "\n",
              "    .dataframe thead th {\n",
              "        text-align: right;\n",
              "    }\n",
              "</style>\n",
              "<table border=\"1\" class=\"dataframe\">\n",
              "  <thead>\n",
              "    <tr style=\"text-align: right;\">\n",
              "      <th></th>\n",
              "      <th>movie_id</th>\n",
              "      <th>title</th>\n",
              "      <th>genre</th>\n",
              "      <th>user_id</th>\n",
              "      <th>counts</th>\n",
              "      <th>timestamp</th>\n",
              "    </tr>\n",
              "  </thead>\n",
              "  <tbody>\n",
              "    <tr>\n",
              "      <th>836473</th>\n",
              "      <td>3952.0</td>\n",
              "      <td>contender, the (2000)</td>\n",
              "      <td>Drama|Thriller</td>\n",
              "      <td>5682</td>\n",
              "      <td>3</td>\n",
              "      <td>1.029458e+09</td>\n",
              "    </tr>\n",
              "    <tr>\n",
              "      <th>836474</th>\n",
              "      <td>3952.0</td>\n",
              "      <td>contender, the (2000)</td>\n",
              "      <td>Drama|Thriller</td>\n",
              "      <td>5812</td>\n",
              "      <td>4</td>\n",
              "      <td>9.920721e+08</td>\n",
              "    </tr>\n",
              "    <tr>\n",
              "      <th>836475</th>\n",
              "      <td>3952.0</td>\n",
              "      <td>contender, the (2000)</td>\n",
              "      <td>Drama|Thriller</td>\n",
              "      <td>5831</td>\n",
              "      <td>3</td>\n",
              "      <td>9.862231e+08</td>\n",
              "    </tr>\n",
              "    <tr>\n",
              "      <th>836476</th>\n",
              "      <td>3952.0</td>\n",
              "      <td>contender, the (2000)</td>\n",
              "      <td>Drama|Thriller</td>\n",
              "      <td>5837</td>\n",
              "      <td>4</td>\n",
              "      <td>1.011903e+09</td>\n",
              "    </tr>\n",
              "    <tr>\n",
              "      <th>836477</th>\n",
              "      <td>3952.0</td>\n",
              "      <td>contender, the (2000)</td>\n",
              "      <td>Drama|Thriller</td>\n",
              "      <td>5998</td>\n",
              "      <td>4</td>\n",
              "      <td>1.001781e+09</td>\n",
              "    </tr>\n",
              "    <tr>\n",
              "      <th>0</th>\n",
              "      <td>NaN</td>\n",
              "      <td>men in black (1997)</td>\n",
              "      <td>NaN</td>\n",
              "      <td>yeonsu</td>\n",
              "      <td>5</td>\n",
              "      <td>NaN</td>\n",
              "    </tr>\n",
              "    <tr>\n",
              "      <th>1</th>\n",
              "      <td>NaN</td>\n",
              "      <td>toy story (1995)</td>\n",
              "      <td>NaN</td>\n",
              "      <td>yeonsu</td>\n",
              "      <td>5</td>\n",
              "      <td>NaN</td>\n",
              "    </tr>\n",
              "    <tr>\n",
              "      <th>2</th>\n",
              "      <td>NaN</td>\n",
              "      <td>matrix, the (1999)</td>\n",
              "      <td>NaN</td>\n",
              "      <td>yeonsu</td>\n",
              "      <td>5</td>\n",
              "      <td>NaN</td>\n",
              "    </tr>\n",
              "    <tr>\n",
              "      <th>3</th>\n",
              "      <td>NaN</td>\n",
              "      <td>terminator 2: judgment day (1991)</td>\n",
              "      <td>NaN</td>\n",
              "      <td>yeonsu</td>\n",
              "      <td>5</td>\n",
              "      <td>NaN</td>\n",
              "    </tr>\n",
              "    <tr>\n",
              "      <th>4</th>\n",
              "      <td>NaN</td>\n",
              "      <td>terminator, the (1984)</td>\n",
              "      <td>NaN</td>\n",
              "      <td>yeonsu</td>\n",
              "      <td>5</td>\n",
              "      <td>NaN</td>\n",
              "    </tr>\n",
              "  </tbody>\n",
              "</table>\n",
              "</div>\n",
              "      <button class=\"colab-df-convert\" onclick=\"convertToInteractive('df-aed7a53a-4b7f-4684-a95d-eb2299c8fbd6')\"\n",
              "              title=\"Convert this dataframe to an interactive table.\"\n",
              "              style=\"display:none;\">\n",
              "        \n",
              "  <svg xmlns=\"http://www.w3.org/2000/svg\" height=\"24px\"viewBox=\"0 0 24 24\"\n",
              "       width=\"24px\">\n",
              "    <path d=\"M0 0h24v24H0V0z\" fill=\"none\"/>\n",
              "    <path d=\"M18.56 5.44l.94 2.06.94-2.06 2.06-.94-2.06-.94-.94-2.06-.94 2.06-2.06.94zm-11 1L8.5 8.5l.94-2.06 2.06-.94-2.06-.94L8.5 2.5l-.94 2.06-2.06.94zm10 10l.94 2.06.94-2.06 2.06-.94-2.06-.94-.94-2.06-.94 2.06-2.06.94z\"/><path d=\"M17.41 7.96l-1.37-1.37c-.4-.4-.92-.59-1.43-.59-.52 0-1.04.2-1.43.59L10.3 9.45l-7.72 7.72c-.78.78-.78 2.05 0 2.83L4 21.41c.39.39.9.59 1.41.59.51 0 1.02-.2 1.41-.59l7.78-7.78 2.81-2.81c.8-.78.8-2.07 0-2.86zM5.41 20L4 18.59l7.72-7.72 1.47 1.35L5.41 20z\"/>\n",
              "  </svg>\n",
              "      </button>\n",
              "      \n",
              "  <style>\n",
              "    .colab-df-container {\n",
              "      display:flex;\n",
              "      flex-wrap:wrap;\n",
              "      gap: 12px;\n",
              "    }\n",
              "\n",
              "    .colab-df-convert {\n",
              "      background-color: #E8F0FE;\n",
              "      border: none;\n",
              "      border-radius: 50%;\n",
              "      cursor: pointer;\n",
              "      display: none;\n",
              "      fill: #1967D2;\n",
              "      height: 32px;\n",
              "      padding: 0 0 0 0;\n",
              "      width: 32px;\n",
              "    }\n",
              "\n",
              "    .colab-df-convert:hover {\n",
              "      background-color: #E2EBFA;\n",
              "      box-shadow: 0px 1px 2px rgba(60, 64, 67, 0.3), 0px 1px 3px 1px rgba(60, 64, 67, 0.15);\n",
              "      fill: #174EA6;\n",
              "    }\n",
              "\n",
              "    [theme=dark] .colab-df-convert {\n",
              "      background-color: #3B4455;\n",
              "      fill: #D2E3FC;\n",
              "    }\n",
              "\n",
              "    [theme=dark] .colab-df-convert:hover {\n",
              "      background-color: #434B5C;\n",
              "      box-shadow: 0px 1px 3px 1px rgba(0, 0, 0, 0.15);\n",
              "      filter: drop-shadow(0px 1px 2px rgba(0, 0, 0, 0.3));\n",
              "      fill: #FFFFFF;\n",
              "    }\n",
              "  </style>\n",
              "\n",
              "      <script>\n",
              "        const buttonEl =\n",
              "          document.querySelector('#df-aed7a53a-4b7f-4684-a95d-eb2299c8fbd6 button.colab-df-convert');\n",
              "        buttonEl.style.display =\n",
              "          google.colab.kernel.accessAllowed ? 'block' : 'none';\n",
              "\n",
              "        async function convertToInteractive(key) {\n",
              "          const element = document.querySelector('#df-aed7a53a-4b7f-4684-a95d-eb2299c8fbd6');\n",
              "          const dataTable =\n",
              "            await google.colab.kernel.invokeFunction('convertToInteractive',\n",
              "                                                     [key], {});\n",
              "          if (!dataTable) return;\n",
              "\n",
              "          const docLinkHtml = 'Like what you see? Visit the ' +\n",
              "            '<a target=\"_blank\" href=https://colab.research.google.com/notebooks/data_table.ipynb>data table notebook</a>'\n",
              "            + ' to learn more about interactive tables.';\n",
              "          element.innerHTML = '';\n",
              "          dataTable['output_type'] = 'display_data';\n",
              "          await google.colab.output.renderOutput(dataTable, element);\n",
              "          const docLink = document.createElement('div');\n",
              "          docLink.innerHTML = docLinkHtml;\n",
              "          element.appendChild(docLink);\n",
              "        }\n",
              "      </script>\n",
              "    </div>\n",
              "  </div>\n",
              "  "
            ],
            "text/plain": [
              "        movie_id                              title  ... counts     timestamp\n",
              "836473    3952.0              contender, the (2000)  ...      3  1.029458e+09\n",
              "836474    3952.0              contender, the (2000)  ...      4  9.920721e+08\n",
              "836475    3952.0              contender, the (2000)  ...      3  9.862231e+08\n",
              "836476    3952.0              contender, the (2000)  ...      4  1.011903e+09\n",
              "836477    3952.0              contender, the (2000)  ...      4  1.001781e+09\n",
              "0            NaN                men in black (1997)  ...      5           NaN\n",
              "1            NaN                   toy story (1995)  ...      5           NaN\n",
              "2            NaN                 matrix, the (1999)  ...      5           NaN\n",
              "3            NaN  terminator 2: judgment day (1991)  ...      5           NaN\n",
              "4            NaN             terminator, the (1984)  ...      5           NaN\n",
              "\n",
              "[10 rows x 6 columns]"
            ]
          },
          "metadata": {},
          "execution_count": 15
        }
      ]
    },
    {
      "cell_type": "code",
      "source": [
        "# 고유한 유저, 아티스트를 찾아내는 코드\n",
        "user_unique = union_data['user_id'].unique()\n",
        "artist_unique = union_data['title'].unique()\n",
        "\n",
        "\n",
        "# 유저, 아티스트 indexing 하는 코드 idx는 index의 약자다.\n",
        "\n",
        "user_to_idx = {v:k for k,v in enumerate(user_unique)}\n",
        "title_to_idx = {v:k for k,v in enumerate(artist_unique)}"
      ],
      "metadata": {
        "id": "yKqUh_UropKo"
      },
      "execution_count": 16,
      "outputs": []
    },
    {
      "cell_type": "code",
      "source": [
        "#인덱싱이 잘 되었는지 확인해 보자\n",
        "print(user_to_idx['yeonsu']) \n",
        "print(title_to_idx['terminator, the (1984)'])"
      ],
      "metadata": {
        "colab": {
          "base_uri": "https://localhost:8080/"
        },
        "id": "Achf0D0Lqz7C",
        "outputId": "b9ed99f1-9484-4dbf-ff15-7fab19ee9cc7"
      },
      "execution_count": 17,
      "outputs": [
        {
          "output_type": "stream",
          "name": "stdout",
          "text": [
            "6039\n",
            "1122\n"
          ]
        }
      ]
    },
    {
      "cell_type": "code",
      "source": [
        "# indexing을 통해 데이터 컬럼 내 값을 바꾸는 코드\n",
        "# dictionary 자료형의 get 함수는 https://wikidocs.net/16 을 참고하세요.\n",
        "\n",
        "# user_to_idx.get을 통해 user_id 컬럼의 모든 값을 인덱싱한 Series를 구해 봅시다. \n",
        "# 혹시 정상적으로 인덱싱되지 않은 row가 있다면 인덱스가 NaN이 될 테니 dropna()로 제거합니다. \n",
        "temp_user_data = union_data['user_id'].map(user_to_idx.get).dropna()\n",
        "if len(temp_user_data) == len(union_data): #모든 row가 정상적으로 인덱싱 되었ㄷ면 \n",
        "    print('user_id column indexing OK!!')\n",
        "    union_data['user_id'] = temp_user_data #data['user_id']을 인덱싱된 Series로 교체해준다\n",
        "else:\n",
        "    print('user_id column indexing Fail')\n",
        "    \n",
        "#title_to_idx를 통해 title 컬럼도 동일한 방식으로 인덱싱해준다.\n",
        "temp_title_data = union_data['title'].map(title_to_idx.get).dropna()\n",
        "if len(temp_title_data) == len(union_data):\n",
        "    print('title column indexing OK!!')\n",
        "    union_data['title'] = temp_title_data\n",
        "else:\n",
        "    print('title column indexing Fail!!')\n",
        "\n",
        "union_data"
      ],
      "metadata": {
        "colab": {
          "base_uri": "https://localhost:8080/",
          "height": 460
        },
        "id": "4FZTqNuVrGej",
        "outputId": "8e536672-d7eb-4362-fd21-c9fd54d7aa95"
      },
      "execution_count": 18,
      "outputs": [
        {
          "output_type": "stream",
          "name": "stdout",
          "text": [
            "user_id column indexing OK!!\n",
            "title column indexing OK!!\n"
          ]
        },
        {
          "output_type": "execute_result",
          "data": {
            "text/html": [
              "\n",
              "  <div id=\"df-d89c89ee-9272-4d02-b26e-234e9645df8a\">\n",
              "    <div class=\"colab-df-container\">\n",
              "      <div>\n",
              "<style scoped>\n",
              "    .dataframe tbody tr th:only-of-type {\n",
              "        vertical-align: middle;\n",
              "    }\n",
              "\n",
              "    .dataframe tbody tr th {\n",
              "        vertical-align: top;\n",
              "    }\n",
              "\n",
              "    .dataframe thead th {\n",
              "        text-align: right;\n",
              "    }\n",
              "</style>\n",
              "<table border=\"1\" class=\"dataframe\">\n",
              "  <thead>\n",
              "    <tr style=\"text-align: right;\">\n",
              "      <th></th>\n",
              "      <th>movie_id</th>\n",
              "      <th>title</th>\n",
              "      <th>genre</th>\n",
              "      <th>user_id</th>\n",
              "      <th>counts</th>\n",
              "      <th>timestamp</th>\n",
              "    </tr>\n",
              "  </thead>\n",
              "  <tbody>\n",
              "    <tr>\n",
              "      <th>0</th>\n",
              "      <td>1.0</td>\n",
              "      <td>0</td>\n",
              "      <td>Animation|Children's|Comedy</td>\n",
              "      <td>0</td>\n",
              "      <td>5</td>\n",
              "      <td>978824268.0</td>\n",
              "    </tr>\n",
              "    <tr>\n",
              "      <th>1</th>\n",
              "      <td>1.0</td>\n",
              "      <td>0</td>\n",
              "      <td>Animation|Children's|Comedy</td>\n",
              "      <td>1</td>\n",
              "      <td>4</td>\n",
              "      <td>978237008.0</td>\n",
              "    </tr>\n",
              "    <tr>\n",
              "      <th>2</th>\n",
              "      <td>1.0</td>\n",
              "      <td>0</td>\n",
              "      <td>Animation|Children's|Comedy</td>\n",
              "      <td>2</td>\n",
              "      <td>4</td>\n",
              "      <td>978233496.0</td>\n",
              "    </tr>\n",
              "    <tr>\n",
              "      <th>3</th>\n",
              "      <td>1.0</td>\n",
              "      <td>0</td>\n",
              "      <td>Animation|Children's|Comedy</td>\n",
              "      <td>3</td>\n",
              "      <td>5</td>\n",
              "      <td>978225952.0</td>\n",
              "    </tr>\n",
              "    <tr>\n",
              "      <th>4</th>\n",
              "      <td>1.0</td>\n",
              "      <td>0</td>\n",
              "      <td>Animation|Children's|Comedy</td>\n",
              "      <td>4</td>\n",
              "      <td>5</td>\n",
              "      <td>978226474.0</td>\n",
              "    </tr>\n",
              "    <tr>\n",
              "      <th>...</th>\n",
              "      <td>...</td>\n",
              "      <td>...</td>\n",
              "      <td>...</td>\n",
              "      <td>...</td>\n",
              "      <td>...</td>\n",
              "      <td>...</td>\n",
              "    </tr>\n",
              "    <tr>\n",
              "      <th>0</th>\n",
              "      <td>NaN</td>\n",
              "      <td>1419</td>\n",
              "      <td>NaN</td>\n",
              "      <td>6039</td>\n",
              "      <td>5</td>\n",
              "      <td>NaN</td>\n",
              "    </tr>\n",
              "    <tr>\n",
              "      <th>1</th>\n",
              "      <td>NaN</td>\n",
              "      <td>0</td>\n",
              "      <td>NaN</td>\n",
              "      <td>6039</td>\n",
              "      <td>5</td>\n",
              "      <td>NaN</td>\n",
              "    </tr>\n",
              "    <tr>\n",
              "      <th>2</th>\n",
              "      <td>NaN</td>\n",
              "      <td>2325</td>\n",
              "      <td>NaN</td>\n",
              "      <td>6039</td>\n",
              "      <td>5</td>\n",
              "      <td>NaN</td>\n",
              "    </tr>\n",
              "    <tr>\n",
              "      <th>3</th>\n",
              "      <td>NaN</td>\n",
              "      <td>569</td>\n",
              "      <td>NaN</td>\n",
              "      <td>6039</td>\n",
              "      <td>5</td>\n",
              "      <td>NaN</td>\n",
              "    </tr>\n",
              "    <tr>\n",
              "      <th>4</th>\n",
              "      <td>NaN</td>\n",
              "      <td>1122</td>\n",
              "      <td>NaN</td>\n",
              "      <td>6039</td>\n",
              "      <td>5</td>\n",
              "      <td>NaN</td>\n",
              "    </tr>\n",
              "  </tbody>\n",
              "</table>\n",
              "<p>836483 rows × 6 columns</p>\n",
              "</div>\n",
              "      <button class=\"colab-df-convert\" onclick=\"convertToInteractive('df-d89c89ee-9272-4d02-b26e-234e9645df8a')\"\n",
              "              title=\"Convert this dataframe to an interactive table.\"\n",
              "              style=\"display:none;\">\n",
              "        \n",
              "  <svg xmlns=\"http://www.w3.org/2000/svg\" height=\"24px\"viewBox=\"0 0 24 24\"\n",
              "       width=\"24px\">\n",
              "    <path d=\"M0 0h24v24H0V0z\" fill=\"none\"/>\n",
              "    <path d=\"M18.56 5.44l.94 2.06.94-2.06 2.06-.94-2.06-.94-.94-2.06-.94 2.06-2.06.94zm-11 1L8.5 8.5l.94-2.06 2.06-.94-2.06-.94L8.5 2.5l-.94 2.06-2.06.94zm10 10l.94 2.06.94-2.06 2.06-.94-2.06-.94-.94-2.06-.94 2.06-2.06.94z\"/><path d=\"M17.41 7.96l-1.37-1.37c-.4-.4-.92-.59-1.43-.59-.52 0-1.04.2-1.43.59L10.3 9.45l-7.72 7.72c-.78.78-.78 2.05 0 2.83L4 21.41c.39.39.9.59 1.41.59.51 0 1.02-.2 1.41-.59l7.78-7.78 2.81-2.81c.8-.78.8-2.07 0-2.86zM5.41 20L4 18.59l7.72-7.72 1.47 1.35L5.41 20z\"/>\n",
              "  </svg>\n",
              "      </button>\n",
              "      \n",
              "  <style>\n",
              "    .colab-df-container {\n",
              "      display:flex;\n",
              "      flex-wrap:wrap;\n",
              "      gap: 12px;\n",
              "    }\n",
              "\n",
              "    .colab-df-convert {\n",
              "      background-color: #E8F0FE;\n",
              "      border: none;\n",
              "      border-radius: 50%;\n",
              "      cursor: pointer;\n",
              "      display: none;\n",
              "      fill: #1967D2;\n",
              "      height: 32px;\n",
              "      padding: 0 0 0 0;\n",
              "      width: 32px;\n",
              "    }\n",
              "\n",
              "    .colab-df-convert:hover {\n",
              "      background-color: #E2EBFA;\n",
              "      box-shadow: 0px 1px 2px rgba(60, 64, 67, 0.3), 0px 1px 3px 1px rgba(60, 64, 67, 0.15);\n",
              "      fill: #174EA6;\n",
              "    }\n",
              "\n",
              "    [theme=dark] .colab-df-convert {\n",
              "      background-color: #3B4455;\n",
              "      fill: #D2E3FC;\n",
              "    }\n",
              "\n",
              "    [theme=dark] .colab-df-convert:hover {\n",
              "      background-color: #434B5C;\n",
              "      box-shadow: 0px 1px 3px 1px rgba(0, 0, 0, 0.15);\n",
              "      filter: drop-shadow(0px 1px 2px rgba(0, 0, 0, 0.3));\n",
              "      fill: #FFFFFF;\n",
              "    }\n",
              "  </style>\n",
              "\n",
              "      <script>\n",
              "        const buttonEl =\n",
              "          document.querySelector('#df-d89c89ee-9272-4d02-b26e-234e9645df8a button.colab-df-convert');\n",
              "        buttonEl.style.display =\n",
              "          google.colab.kernel.accessAllowed ? 'block' : 'none';\n",
              "\n",
              "        async function convertToInteractive(key) {\n",
              "          const element = document.querySelector('#df-d89c89ee-9272-4d02-b26e-234e9645df8a');\n",
              "          const dataTable =\n",
              "            await google.colab.kernel.invokeFunction('convertToInteractive',\n",
              "                                                     [key], {});\n",
              "          if (!dataTable) return;\n",
              "\n",
              "          const docLinkHtml = 'Like what you see? Visit the ' +\n",
              "            '<a target=\"_blank\" href=https://colab.research.google.com/notebooks/data_table.ipynb>data table notebook</a>'\n",
              "            + ' to learn more about interactive tables.';\n",
              "          element.innerHTML = '';\n",
              "          dataTable['output_type'] = 'display_data';\n",
              "          await google.colab.output.renderOutput(dataTable, element);\n",
              "          const docLink = document.createElement('div');\n",
              "          docLink.innerHTML = docLinkHtml;\n",
              "          element.appendChild(docLink);\n",
              "        }\n",
              "      </script>\n",
              "    </div>\n",
              "  </div>\n",
              "  "
            ],
            "text/plain": [
              "    movie_id  title                        genre  user_id  counts    timestamp\n",
              "0        1.0      0  Animation|Children's|Comedy        0       5  978824268.0\n",
              "1        1.0      0  Animation|Children's|Comedy        1       4  978237008.0\n",
              "2        1.0      0  Animation|Children's|Comedy        2       4  978233496.0\n",
              "3        1.0      0  Animation|Children's|Comedy        3       5  978225952.0\n",
              "4        1.0      0  Animation|Children's|Comedy        4       5  978226474.0\n",
              "..       ...    ...                          ...      ...     ...          ...\n",
              "0        NaN   1419                          NaN     6039       5          NaN\n",
              "1        NaN      0                          NaN     6039       5          NaN\n",
              "2        NaN   2325                          NaN     6039       5          NaN\n",
              "3        NaN    569                          NaN     6039       5          NaN\n",
              "4        NaN   1122                          NaN     6039       5          NaN\n",
              "\n",
              "[836483 rows x 6 columns]"
            ]
          },
          "metadata": {},
          "execution_count": 18
        }
      ]
    },
    {
      "cell_type": "markdown",
      "source": [
        "union_data의 user_id와 타이틀 컬럼내 값들이 모두 정수 인덱스 값으로 잘 변경되었으니 이것으로 훈련을 위한 전처리가 완료되었다."
      ],
      "metadata": {
        "id": "vUDuxPE7rlg8"
      }
    },
    {
      "cell_type": "code",
      "source": [
        "import scipy"
      ],
      "metadata": {
        "id": "rIkhCYzKtdi_"
      },
      "execution_count": 19,
      "outputs": []
    },
    {
      "cell_type": "code",
      "source": [
        "# pip install scipy --upgrade"
      ],
      "metadata": {
        "id": "9djdulTJv53z"
      },
      "execution_count": null,
      "outputs": []
    },
    {
      "cell_type": "code",
      "source": [
        "scipy.__version__"
      ],
      "metadata": {
        "colab": {
          "base_uri": "https://localhost:8080/",
          "height": 35
        },
        "id": "vQcjweeUtVLr",
        "outputId": "53b0a155-7544-4e76-de8f-c253305608da"
      },
      "execution_count": 20,
      "outputs": [
        {
          "output_type": "execute_result",
          "data": {
            "application/vnd.google.colaboratory.intrinsic+json": {
              "type": "string"
            },
            "text/plain": [
              "'1.7.3'"
            ]
          },
          "metadata": {},
          "execution_count": 20
        }
      ]
    },
    {
      "cell_type": "code",
      "source": [
        "from scipy.sparse import csr_matrix\n",
        "\n",
        "num_user = union_data['user_id'].nunique()\n",
        "num_title = union_data['title'].nunique()\n",
        "\n",
        "csr_data = csr_matrix((union_data.counts, (union_data.user_id, union_data.title)), shape= (num_user, num_title))\n",
        "csr_data"
      ],
      "metadata": {
        "colab": {
          "base_uri": "https://localhost:8080/"
        },
        "id": "Rev2MnuqrysR",
        "outputId": "1cd69cea-35d8-4b51-f85f-4335e9bafce6"
      },
      "execution_count": 21,
      "outputs": [
        {
          "output_type": "execute_result",
          "data": {
            "text/plain": [
              "<6040x3628 sparse matrix of type '<class 'numpy.int64'>'\n",
              "\twith 836483 stored elements in Compressed Sparse Row format>"
            ]
          },
          "metadata": {},
          "execution_count": 21
        }
      ]
    },
    {
      "cell_type": "markdown",
      "source": [
        "# ** 향후 재실습하면서 주의해야할 부분..\n",
        "\n",
        "scipy가 colab에서는 1.6x 대 버전으로 설치가 되어 있다.\n",
        "이 저 버전에서는 csr_matrix를 만들어서 데이터를 보면 '<class 'numpy.longlong'>으로 되어 있는데\n",
        "\n",
        "업데이트를 하여 1.7x대 버전을 설치하면\n",
        "\n",
        "향후 <class.int64>로 뜨게 된다.\n",
        "\n",
        "\n",
        "![image.png](data:image/png;base64,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)\n"
      ],
      "metadata": {
        "id": "RJK8ge1EulKi"
      }
    },
    {
      "cell_type": "markdown",
      "source": [
        "차이점은 이러하고, 숙지하면 될꺼 같다.\n",
        "\n",
        "reference : https://www.acmicpc.net/board/view/15516"
      ],
      "metadata": {
        "id": "Ib42qGmJ1GRP"
      }
    },
    {
      "cell_type": "markdown",
      "source": [
        "5) als_model = AlternatingLeastSquares 모델을 직접 구성하여 훈련"
      ],
      "metadata": {
        "id": "Y-zkWVYowABZ"
      }
    },
    {
      "cell_type": "markdown",
      "source": [
        "implicit 설치"
      ],
      "metadata": {
        "id": "Vv0dJ3CCwa6l"
      }
    },
    {
      "cell_type": "code",
      "source": [
        "!pip install implicit"
      ],
      "metadata": {
        "colab": {
          "base_uri": "https://localhost:8080/"
        },
        "id": "8QGUMxZawm9_",
        "outputId": "a17a788a-d657-4554-bc16-328f8c06628e"
      },
      "execution_count": 23,
      "outputs": [
        {
          "output_type": "stream",
          "name": "stdout",
          "text": [
            "Collecting implicit\n",
            "  Downloading implicit-0.5.2-cp37-cp37m-manylinux2014_x86_64.whl (18.5 MB)\n",
            "\u001b[K     |████████████████████████████████| 18.5 MB 1.3 MB/s \n",
            "\u001b[?25hRequirement already satisfied: scipy>=0.16 in /usr/local/lib/python3.7/dist-packages (from implicit) (1.7.3)\n",
            "Requirement already satisfied: numpy in /usr/local/lib/python3.7/dist-packages (from implicit) (1.21.5)\n",
            "Requirement already satisfied: tqdm>=4.27 in /usr/local/lib/python3.7/dist-packages (from implicit) (4.62.3)\n",
            "Installing collected packages: implicit\n",
            "Successfully installed implicit-0.5.2\n"
          ]
        }
      ]
    },
    {
      "cell_type": "code",
      "source": [
        "from implicit.als import AlternatingLeastSquares\n",
        "import numpy as np\n",
        "import os\n",
        "#implicit 라이브러리에서 권장하고 있는 부분이다. 학습내용과는 무관하다.\n",
        "os.environ['OPENBLAS_NUM_THREADS']='1'\n",
        "os.environ['KMP_DUPLICATE_LIB_OK']='True'\n",
        "os.environ['MKL_NUM_THREADS']='1'\n",
        "\n",
        "\n",
        "# Implicit AlternatingLeastSquares 모델의 선언\n",
        "als_model = AlternatingLeastSquares(factors=100, regularization=0.01, use_gpu=False, iterations=15, dtype=np.float32)"
      ],
      "metadata": {
        "id": "bFwzPZfgwCJT"
      },
      "execution_count": 25,
      "outputs": []
    },
    {
      "cell_type": "code",
      "source": [
        "# als 모델은 input으로 (item X user 꼴의 matrix를 받기 때문에 Transpose해줍니다.)\n",
        "csr_data_transpose = csr_data.T\n",
        "csr_data_transpose"
      ],
      "metadata": {
        "colab": {
          "base_uri": "https://localhost:8080/"
        },
        "id": "p1ozRfQlwUXc",
        "outputId": "d040f83d-f705-4c20-9bcf-0c6cacdfdc42"
      },
      "execution_count": 26,
      "outputs": [
        {
          "output_type": "execute_result",
          "data": {
            "text/plain": [
              "<3628x6040 sparse matrix of type '<class 'numpy.int64'>'\n",
              "\twith 836483 stored elements in Compressed Sparse Column format>"
            ]
          },
          "metadata": {},
          "execution_count": 26
        }
      ]
    },
    {
      "cell_type": "code",
      "source": [
        "# 모델 훈련\n",
        "als_model.fit(csr_data_transpose)"
      ],
      "metadata": {
        "colab": {
          "base_uri": "https://localhost:8080/",
          "height": 49,
          "referenced_widgets": [
            "707b9054ae8a476688158daeee897302",
            "cddf5e304773451091dcdbf51f242ef9",
            "dd2b7e5e1c57406da97c46339e15ad08",
            "d898e19063bd4568a554576e04e72292",
            "0f0ef9a2f23f4a418dd60adea268a7c4",
            "43a8aa9768b149d4bea5d2f594b30240",
            "c4bb10d11e2b4553871634ab94c9957c",
            "a3ad5363d4e942f7984b02b7dac8af6e",
            "93c4585a4292466db73bfa42a583ec7c",
            "7560e4b4a9564d28b08fc6ecfd5df882",
            "1941fe95ae884d27b8d38ac9a5cc6476"
          ]
        },
        "id": "0wmppsvVwVnv",
        "outputId": "f5292d52-b037-45be-a0ad-baf915c4e4bd"
      },
      "execution_count": 27,
      "outputs": [
        {
          "output_type": "display_data",
          "data": {
            "application/vnd.jupyter.widget-view+json": {
              "model_id": "707b9054ae8a476688158daeee897302",
              "version_minor": 0,
              "version_major": 2
            },
            "text/plain": [
              "  0%|          | 0/15 [00:00<?, ?it/s]"
            ]
          },
          "metadata": {}
        }
      ]
    },
    {
      "cell_type": "markdown",
      "source": [
        "data 양이 적어서 그런지 시간이 거의 걸리지 않는다.\n",
        "\n",
        "실습은 15분 정도 소요가 되었다."
      ],
      "metadata": {
        "id": "Jly5wePCxBAP"
      }
    },
    {
      "cell_type": "markdown",
      "source": [
        "실습에서 처럼 나의 벡터와 좋아하는 원픽 벡터를 어떻게 만들고 있는지 확인하고 두 벡터를 곱하면 어떤 값이 나오는지 확인하자. \n",
        "\n",
        "벡터값에 따른 유사도는 저번 fund에서도 실습하였고 이번 exploration에서도 나온다."
      ],
      "metadata": {
        "id": "uqn-9VECxMtB"
      }
    },
    {
      "cell_type": "code",
      "source": [
        "yeonsu, matrix   = user_to_idx['yeonsu'], title_to_idx['matrix, the (1999)']\n",
        "yeonsu_vector, matrix_vector = als_model.user_factors[yeonsu], als_model.item_factors[matrix]\n"
      ],
      "metadata": {
        "colab": {
          "base_uri": "https://localhost:8080/",
          "height": 193
        },
        "id": "FsQYtdxixoto",
        "outputId": "1486bf0d-3316-4460-f17d-53b1650e2a53"
      },
      "execution_count": 28,
      "outputs": [
        {
          "output_type": "error",
          "ename": "IndexError",
          "evalue": "ignored",
          "traceback": [
            "\u001b[0;31m---------------------------------------------------------------------------\u001b[0m",
            "\u001b[0;31mIndexError\u001b[0m                                Traceback (most recent call last)",
            "\u001b[0;32m<ipython-input-28-0030b2dc8a69>\u001b[0m in \u001b[0;36m<module>\u001b[0;34m()\u001b[0m\n\u001b[1;32m      1\u001b[0m \u001b[0myeonsu\u001b[0m\u001b[0;34m,\u001b[0m \u001b[0mmatrix\u001b[0m   \u001b[0;34m=\u001b[0m \u001b[0muser_to_idx\u001b[0m\u001b[0;34m[\u001b[0m\u001b[0;34m'yeonsu'\u001b[0m\u001b[0;34m]\u001b[0m\u001b[0;34m,\u001b[0m \u001b[0mtitle_to_idx\u001b[0m\u001b[0;34m[\u001b[0m\u001b[0;34m'matrix, the (1999)'\u001b[0m\u001b[0;34m]\u001b[0m\u001b[0;34m\u001b[0m\u001b[0;34m\u001b[0m\u001b[0m\n\u001b[0;32m----> 2\u001b[0;31m \u001b[0myeonsu_vector\u001b[0m\u001b[0;34m,\u001b[0m \u001b[0mmatrix_vector\u001b[0m \u001b[0;34m=\u001b[0m \u001b[0mals_model\u001b[0m\u001b[0;34m.\u001b[0m\u001b[0muser_factors\u001b[0m\u001b[0;34m[\u001b[0m\u001b[0myeonsu\u001b[0m\u001b[0;34m]\u001b[0m\u001b[0;34m,\u001b[0m \u001b[0mals_model\u001b[0m\u001b[0;34m.\u001b[0m\u001b[0mitem_factors\u001b[0m\u001b[0;34m[\u001b[0m\u001b[0mmatrix\u001b[0m\u001b[0;34m]\u001b[0m\u001b[0;34m\u001b[0m\u001b[0;34m\u001b[0m\u001b[0m\n\u001b[0m",
            "\u001b[0;31mIndexError\u001b[0m: index 6039 is out of bounds for axis 0 with size 3628"
          ]
        }
      ]
    },
    {
      "cell_type": "markdown",
      "source": [
        "# 코랩에서는 위와 같은 에러가 계속 발생을 하는데, 혹시나 CSR matrix생성시에 transpose를 하며 벡터 곱이 되지 않게 첫번째 열과 두번째 행의 일치가 일어나지 않아서 발생하는 것이라 생각하여 계속 찾아보다가 주피터에서 실습을 하였는데 정상 동작하였다. \n",
        "# 뭐가 문제인지 당췌 알수 없으나, 코랩에서 진행이 힘들어 jupyter로 도중에 진행을 하여 과제를 제출하고자 한다."
      ],
      "metadata": {
        "id": "LyMxXkO_1M4p"
      }
    },
    {
      "cell_type": "code",
      "source": [
        "# 주피터에서 colab에서 연결되는 부분 이라고 적힌 부분에서 진행됩니다."
      ],
      "metadata": {
        "id": "MU11vb5C1pgU"
      },
      "execution_count": null,
      "outputs": []
    }
  ]
}